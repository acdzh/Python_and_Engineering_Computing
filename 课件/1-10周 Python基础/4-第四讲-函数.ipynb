{
 "cells": [
  {
   "cell_type": "markdown",
   "metadata": {},
   "source": [
    "***"
   ]
  },
  {
   "cell_type": "markdown",
   "metadata": {},
   "source": [
    "# Functions  函数\n",
    "Functions are helpful to define often use sections of code, and it makes the codes cleaner to read and easier to code.\n",
    "\n",
    "**def** defines the name and the function"
   ]
  },
  {
   "cell_type": "markdown",
   "metadata": {},
   "source": [
    "<span id=\"mulu\"><font face=\"黑体\" size=6>本章目录</font></span>\n",
    "* [第四讲 函数](#2)\n",
    "\n",
    "    * [4.1 最简单的函数](#4.1)\n",
    "    * [4.2 带参数的函数](#4.2) \n",
    "    * [4.3 函数的返回值](#4.3) \n",
    "    * [4.4 函数注解](#4.4) \n",
    "    * [4.5 匿名函数](#4.5) \n",
    "    * [4.6 变量作用域](#4.6) \n",
    "    * [4.7 内嵌函数和闭包](#4.7) \n",
    "    * [4.8 递归函数](#4.8) \n",
    "    * [4.9 函数例子](#4.9) \n"
   ]
  },
  {
   "cell_type": "markdown",
   "metadata": {},
   "source": [
    "___"
   ]
  },
  {
   "cell_type": "markdown",
   "metadata": {},
   "source": [
    "# <font size=6><span id=\"4.1\"> 4.1 最简单的函数</span></font>"
   ]
  },
  {
   "cell_type": "code",
   "execution_count": null,
   "metadata": {},
   "outputs": [],
   "source": [
    "def print_function():\n",
    "    print(\"Print\")\n",
    "\n",
    "print_function()"
   ]
  },
  {
   "cell_type": "markdown",
   "metadata": {},
   "source": [
    "## Documentation 文档说明\n",
    "A literal string at the start of module, class or function that is not assigned to a variable is treated as documentation and is displayed as part of the built-in help() output for that object."
   ]
  },
  {
   "cell_type": "code",
   "execution_count": null,
   "metadata": {},
   "outputs": [],
   "source": [
    "def print_function():\n",
    "    \"\"\"\n",
    "    This function prints something.\n",
    "    Second line of help.\n",
    "    \"\"\"\n",
    "    print(\"something\")\n",
    "\n",
    "help(print_function)"
   ]
  },
  {
   "cell_type": "markdown",
   "metadata": {},
   "source": [
    "[返回目录](#mulu)"
   ]
  },
  {
   "cell_type": "markdown",
   "metadata": {},
   "source": [
    "# <font size=6><span id=\"4.2\"> 4.2 带参数的函数 Function with parameter</span></font>"
   ]
  },
  {
   "cell_type": "code",
   "execution_count": null,
   "metadata": {},
   "outputs": [],
   "source": [
    "def print_function(str):\n",
    "    print(str)\n",
    "\n",
    "print_function(\"I want to print this.\")"
   ]
  },
  {
   "cell_type": "markdown",
   "metadata": {},
   "source": [
    "### 带默认参数的函数  Parameter with default values"
   ]
  },
  {
   "cell_type": "code",
   "execution_count": 3,
   "metadata": {},
   "outputs": [
    {
     "name": "stdout",
     "output_type": "stream",
     "text": [
      "I want to print this.\n",
      "No string passed.\n"
     ]
    }
   ],
   "source": [
    "def print_function(str=\"No string passed.\"):\n",
    "    print(str)\n",
    "    \n",
    "\n",
    "print_function(\"I want to print this.\")\n",
    "print_function()"
   ]
  },
  {
   "cell_type": "code",
   "execution_count": null,
   "metadata": {},
   "outputs": [],
   "source": []
  },
  {
   "cell_type": "code",
   "execution_count": 4,
   "metadata": {},
   "outputs": [
    {
     "name": "stdout",
     "output_type": "stream",
     "text": [
      "Print first line.\n",
      "Print 2nd line.\n"
     ]
    }
   ],
   "source": [
    "def print_function(str1, str2):\n",
    "    print(str1)\n",
    "    print(str2)\n",
    "\n",
    "print_function(\"Print first line.\", \"Print 2nd line.\")"
   ]
  },
  {
   "cell_type": "markdown",
   "metadata": {},
   "source": [
    "## 关键字参数 Keyword arguments"
   ]
  },
  {
   "cell_type": "code",
   "execution_count": null,
   "metadata": {},
   "outputs": [],
   "source": [
    "def print_function(str1, str2, str3=\"3rd line.\", str4=\"4th Line.\"):\n",
    "    print(str1)\n",
    "    print(str2)\n",
    "    print(str3)\n",
    "    print(str4)\n",
    "\n",
    "print_function(\"Print first line.\", \"Print 2nd line.\", str4 = \"Print 4th line.\")"
   ]
  },
  {
   "cell_type": "markdown",
   "metadata": {},
   "source": [
    "## 收集参数 Arbitrary argument list\n",
    "\n",
    "### 这个函数机制的动机是，函数的作者，有时候也不知道有几个参数\n",
    "#### 这种事情经常会发生"
   ]
  },
  {
   "cell_type": "code",
   "execution_count": null,
   "metadata": {},
   "outputs": [],
   "source": [
    "def print_function(*strs):\n",
    "    print(strs[0])\n",
    "    print(strs[1])\n",
    "    print(strs[2])\n",
    "\n",
    "print_function(\"Print 1st line.\", \"Print 2nd line.\", \"Print 3rd line.\")"
   ]
  },
  {
   "cell_type": "code",
   "execution_count": null,
   "metadata": {},
   "outputs": [],
   "source": [
    "def test(*param):\n",
    "    print(\"有%d个参数\" % len(param))\n",
    "    \n",
    "    for i in range(len(param)):\n",
    "        print('第',i,'个参数是：',param[i])\n",
    "\n",
    "test('F','a','m','i','l','y')"
   ]
  },
  {
   "cell_type": "code",
   "execution_count": null,
   "metadata": {},
   "outputs": [],
   "source": [
    "# 编一个程序"
   ]
  },
  {
   "cell_type": "markdown",
   "metadata": {},
   "source": [
    "### 相当于把所有参数打包带走\n",
    "### 有的时候，收集参数后面还有参数，这个时候就需要关键参数来指定"
   ]
  },
  {
   "cell_type": "code",
   "execution_count": 7,
   "metadata": {},
   "outputs": [],
   "source": [
    "def test(*param, extra):\n",
    "    print(\"有%d个参数\" % len(param))\n",
    "    \n",
    "    for i in range(len(param)):\n",
    "        print('第',i,'个参数是：',param[i])   \n",
    "    \n",
    "    #print(type(param[0]))\n",
    "    \n",
    "    print('特别参数extra=',extra)"
   ]
  },
  {
   "cell_type": "code",
   "execution_count": 9,
   "metadata": {},
   "outputs": [
    {
     "ename": "TypeError",
     "evalue": "test() missing 1 required keyword-only argument: 'extra'",
     "output_type": "error",
     "traceback": [
      "\u001b[1;31m---------------------------------------------------------------------------\u001b[0m",
      "\u001b[1;31mTypeError\u001b[0m                                 Traceback (most recent call last)",
      "\u001b[1;32m<ipython-input-9-5b198a6a6b38>\u001b[0m in \u001b[0;36m<module>\u001b[1;34m()\u001b[0m\n\u001b[1;32m----> 1\u001b[1;33m \u001b[0mtest\u001b[0m\u001b[1;33m(\u001b[0m\u001b[1;36m1\u001b[0m\u001b[1;33m,\u001b[0m\u001b[1;36m2\u001b[0m\u001b[1;33m,\u001b[0m\u001b[1;36m3\u001b[0m\u001b[1;33m,\u001b[0m\u001b[1;36m4\u001b[0m\u001b[1;33m,\u001b[0m\u001b[1;36m5\u001b[0m\u001b[1;33m,\u001b[0m\u001b[1;36m8\u001b[0m\u001b[1;33m)\u001b[0m\u001b[1;33m\u001b[0m\u001b[0m\n\u001b[0m\u001b[0;32m      2\u001b[0m \u001b[1;31m#test(1,2,3,4,5,extra=8)\u001b[0m\u001b[1;33m\u001b[0m\u001b[1;33m\u001b[0m\u001b[0m\n",
      "\u001b[1;31mTypeError\u001b[0m: test() missing 1 required keyword-only argument: 'extra'"
     ]
    }
   ],
   "source": [
    "test(1,2,3,4,5,8) \n",
    "#test(1,2,3,4,5,extra=8)"
   ]
  },
  {
   "cell_type": "markdown",
   "metadata": {},
   "source": [
    "### z这个特别的关键参数，建议做成 默认参数"
   ]
  },
  {
   "cell_type": "code",
   "execution_count": 5,
   "metadata": {},
   "outputs": [],
   "source": [
    "def test(*param, extra=8):\n",
    "    print(\"有%d个参数\" % len(param))\n",
    "    \n",
    "    for i in range(len(param)):\n",
    "        print('第',i,'个参数是：',param[i])   \n",
    "    \n",
    "    print('特别参数extra=',extra)"
   ]
  },
  {
   "cell_type": "code",
   "execution_count": 6,
   "metadata": {},
   "outputs": [
    {
     "name": "stdout",
     "output_type": "stream",
     "text": [
      "有6个参数\n",
      "第 0 个参数是： 1\n",
      "第 1 个参数是： 2\n",
      "第 2 个参数是： 3\n",
      "第 3 个参数是： 4\n",
      "第 4 个参数是： 5\n",
      "第 5 个参数是： 8\n",
      "特别参数extra= 8\n"
     ]
    }
   ],
   "source": [
    "test(1,2,3,4,5,8) "
   ]
  },
  {
   "cell_type": "markdown",
   "metadata": {},
   "source": [
    "### (*) 即可是打包，又可以是解包\n",
    "### 加入参数传入的是一个列表a  给到*param，那么使用的时候就会出乎意料，如"
   ]
  },
  {
   "cell_type": "code",
   "execution_count": null,
   "metadata": {},
   "outputs": [],
   "source": [
    "a = [1,2,3,4,5,6,7]\n",
    "test(a)\n",
    "### 这里讲列表作为整个参数了"
   ]
  },
  {
   "cell_type": "code",
   "execution_count": null,
   "metadata": {},
   "outputs": [],
   "source": [
    "test(*a,extra=10)\n",
    "### 这里讲列表解包，作为参数了"
   ]
  },
  {
   "cell_type": "code",
   "execution_count": null,
   "metadata": {},
   "outputs": [],
   "source": []
  },
  {
   "cell_type": "markdown",
   "metadata": {},
   "source": [
    "\n",
    "## 收集关键字参数 Arbitrary keyword argument dictionary\n",
    "### 用两个星号(**)将参数打包成字典的形式，这里给一个示例"
   ]
  },
  {
   "cell_type": "code",
   "execution_count": null,
   "metadata": {},
   "outputs": [],
   "source": [
    "def print_function(**kwstrs):\n",
    "    print(kwstrs.get('str1'))\n",
    "    print(kwstrs.get('str2'))\n",
    "    print(kwstrs.get('str3'))\n",
    "\n",
    "print_function(str2=\"Print 2nd line.\", str3=\"Print 3rd line.\", str1=\"Print 1st line.\")"
   ]
  },
  {
   "cell_type": "code",
   "execution_count": null,
   "metadata": {},
   "outputs": [],
   "source": []
  },
  {
   "cell_type": "markdown",
   "metadata": {},
   "source": [
    "[返回目录](#mulu)"
   ]
  },
  {
   "cell_type": "markdown",
   "metadata": {},
   "source": [
    "# <font size=6><span id=\"4.3\"> 4.3 函数的返回值 Function with parameter</span></font>"
   ]
  },
  {
   "cell_type": "code",
   "execution_count": null,
   "metadata": {},
   "outputs": [],
   "source": [
    "def double(str):\n",
    "    return(str*2)\n",
    "\n",
    "retVal = double(\"Double this string. \")\n",
    "retVal"
   ]
  },
  {
   "cell_type": "markdown",
   "metadata": {},
   "source": [
    "### 返回多个返回值  Return multiple values\n",
    "Python function returns multiple statements.  \n",
    "This is also called unpacking"
   ]
  },
  {
   "cell_type": "code",
   "execution_count": null,
   "metadata": {},
   "outputs": [],
   "source": [
    "def title_upper_case(str1, str2):\n",
    "    ret_str1 = str1.title()\n",
    "    ret_str2 = str2.upper()\n",
    "    return ret_str1, ret_str2\n",
    "\n",
    "retStr1, retStr2 = title_upper_case(\"hello\", \"world!\")\n",
    "print(retStr1 + ' ' + retStr2)\n",
    "\n",
    "retStrs = title_upper_case(\"hello\", \"world!\")\n",
    "print(retStrs[0] + ' ' + retStrs[1])"
   ]
  },
  {
   "cell_type": "markdown",
   "metadata": {},
   "source": [
    "### Multiple return statements"
   ]
  },
  {
   "cell_type": "code",
   "execution_count": null,
   "metadata": {},
   "outputs": [],
   "source": [
    "def title_upper_case(title_str=None, upper_str=None):\n",
    "    \"\"\"    title_str:首字母大写\n",
    "    upper_str:全部大写     \"\"\"\n",
    "    # Title case  如果有字符串\n",
    "    if title_str is not None:\n",
    "        titled_str = title_str.title()  #title()首字母大写\n",
    "        if upper_str == None:   #如果后一个是空，直接退出函数\n",
    "            return titled_str\n",
    "    \n",
    "    # Upper case\n",
    "    uppered_str = upper_str.upper()\n",
    "    \n",
    "    if title_str is None:\n",
    "        return uppered_str\n",
    "    \n",
    "    return titled_str, uppered_str\n",
    "\n",
    "retStr1 = title_upper_case(\"title this\")\n",
    "retStr2 = title_upper_case(upper_str=\"upper this\")\n",
    "retStr3 = title_upper_case(\"title this\", \"upper this\")\n",
    "print(retStr1)\n",
    "print(retStr2)\n",
    "print(retStr3)"
   ]
  },
  {
   "cell_type": "code",
   "execution_count": null,
   "metadata": {},
   "outputs": [],
   "source": []
  },
  {
   "cell_type": "markdown",
   "metadata": {},
   "source": [
    "### Ignore return variable  忽略一些返回值"
   ]
  },
  {
   "cell_type": "code",
   "execution_count": null,
   "metadata": {},
   "outputs": [],
   "source": [
    "filename = 'foobar.txt'\n",
    "basename, __, ext = filename.rpartition('.') #第二个输出，不需要\n",
    "print(\"basename: \" + basename)\n",
    "print(\"extension: \" + ext)\n",
    "\n",
    "#说明：rpartition() 方法类似于 partition() 方法，只是该方法是从目标字符串的末尾也就是右边开始搜索分割符。。\n",
    "#    如果字符串包含指定的分隔符，则返回一个3元的元组，第一个为分隔符左边的子串，第二个为分隔符本身，第三个为分隔符右边的子串\n",
    "# 返回一个3元的元组，第一个为分隔符左边的子串，第二个为分隔符本身，第三个为分隔符右边的子串。"
   ]
  },
  {
   "cell_type": "code",
   "execution_count": null,
   "metadata": {},
   "outputs": [],
   "source": [
    "## 复数求模和角度\n",
    "def amp_ang(real=10,imag=10):\n",
    "    import math\n",
    "    amp = math.sqrt(real**2+imag**2)\n",
    "    ang = math.atan(real/imag)\n",
    "    ang = math.degrees(ang)\n",
    "    return(amp,ang)\n",
    "    \n",
    "amp,ang=amp_ang(3,4)\n",
    "print(amp,ang)"
   ]
  },
  {
   "cell_type": "code",
   "execution_count": null,
   "metadata": {},
   "outputs": [],
   "source": [
    "amp1,__=amp_ang(3,4)\n",
    "amp1"
   ]
  },
  {
   "cell_type": "code",
   "execution_count": null,
   "metadata": {},
   "outputs": [],
   "source": [
    "__,ang1=amp_ang(3,4)\n",
    "ang1"
   ]
  },
  {
   "cell_type": "markdown",
   "metadata": {},
   "source": [
    "[返回目录](#mulu)"
   ]
  },
  {
   "cell_type": "markdown",
   "metadata": {},
   "source": [
    "# <font size=6><span id=\"4.4\"> 4.4 函数注解 Function Annotations</span></font>\n",
    "Annotations are stored in the \\__annotations\\__ attribute of the function as a dictionary.  \n",
    "Parameter annotations are defined by a colon after the parameter name, followed by an expression evaluating to the value of the annotation.  \n",
    "Return annotations are defined by a literal ->, followed by an expression, between the parameter list and the colon denoting the end of the def statement."
   ]
  },
  {
   "cell_type": "code",
   "execution_count": null,
   "metadata": {},
   "outputs": [],
   "source": [
    "def f(ham: str, eggs: str = 'eggs') -> str:\n",
    "    print(\"Annotations:\", f.__annotations__)\n",
    "    return ham + ' and ' + eggs"
   ]
  },
  {
   "cell_type": "code",
   "execution_count": null,
   "metadata": {},
   "outputs": [],
   "source": [
    "f('spam')"
   ]
  },
  {
   "cell_type": "code",
   "execution_count": null,
   "metadata": {},
   "outputs": [],
   "source": [
    "f.__annotations__\n"
   ]
  },
  {
   "cell_type": "code",
   "execution_count": null,
   "metadata": {},
   "outputs": [],
   "source": [
    "type(f.__annotations__)"
   ]
  },
  {
   "cell_type": "code",
   "execution_count": null,
   "metadata": {},
   "outputs": [],
   "source": [
    "def sum(a, b: int, c: 'The default value is 5' = 5) -> float:\n",
    "    return a + b + c"
   ]
  },
  {
   "cell_type": "code",
   "execution_count": null,
   "metadata": {},
   "outputs": [],
   "source": [
    "sum(1, 2, 3)"
   ]
  },
  {
   "cell_type": "code",
   "execution_count": null,
   "metadata": {},
   "outputs": [],
   "source": [
    "sum(1, 2)"
   ]
  },
  {
   "cell_type": "code",
   "execution_count": null,
   "metadata": {},
   "outputs": [],
   "source": [
    "# 第一个参数 a 没有注释，\n",
    "# 第二个参数 b 带有类型为 int 的注释，\n",
    "# 第三个参数 c 带有一个帮助字符串注释并且拥有默认值，\n",
    "# 返回值用类型 float 来注释。"
   ]
  },
  {
   "cell_type": "code",
   "execution_count": null,
   "metadata": {},
   "outputs": [],
   "source": [
    "sum('I love ', 'Tongji', 'Univ.')"
   ]
  },
  {
   "cell_type": "code",
   "execution_count": null,
   "metadata": {},
   "outputs": [],
   "source": [
    "# 显然，注释对函数的执行没有任何影响。在这两种情况下，sum() 都做了正确的事情，只不过注释被忽略了而已。"
   ]
  },
  {
   "cell_type": "code",
   "execution_count": null,
   "metadata": {},
   "outputs": [],
   "source": [
    "type(sum.__annotations__)"
   ]
  },
  {
   "cell_type": "code",
   "execution_count": null,
   "metadata": {},
   "outputs": [],
   "source": [
    "# 函数对象有一个名为 __annotations__ 的属性，它是一个映射（dict），用于将每个参数名（key）映射到其相关的注释（value）。\n",
    "\n",
    "# 注意： 映射中有一个特殊的 key，叫做“return”，仅当为函数的返回值提供注释时，才会显示该 key。"
   ]
  },
  {
   "cell_type": "code",
   "execution_count": null,
   "metadata": {},
   "outputs": [],
   "source": [
    "sum.__annotations__"
   ]
  },
  {
   "cell_type": "code",
   "execution_count": null,
   "metadata": {},
   "outputs": [],
   "source": []
  },
  {
   "cell_type": "markdown",
   "metadata": {},
   "source": [
    "[返回目录](#mulu)"
   ]
  },
  {
   "cell_type": "markdown",
   "metadata": {},
   "source": [
    "# <font size=6><span id=\"4.6\"> 4.6 变量作用域</span></font>\n",
    "一个程序的所有的变量并不是在哪个位置都可以访问的。访问权限决定于这个变量是在哪里赋值的。\n",
    "\n",
    "变量的作用域决定了在哪一部分程序你可以访问哪个特定的变量名称。两种最基本的变量作用域如下：  \n",
    "* 全局变量  \n",
    "* 局部变量  \n",
    "\n",
    "## 全局变量和局部变量  \n",
    "定义在函数内部的变量拥有一个局部作用域，定义在函数外的拥有全局作用域。  \n",
    "\n",
    "局部变量只能在其被声明的函数内部访问，而全局变量可以在整个程序范围内访问。调用函数时，所有在函数内声明的变量名称都将被加入到作用域中。如下实例："
   ]
  },
  {
   "cell_type": "code",
   "execution_count": null,
   "metadata": {},
   "outputs": [],
   "source": [
    "total = 0; # 这是一个全局变量\n",
    "# 可写函数说明\n",
    "def sum( arg1, arg2 ):\n",
    "   #返回2个参数的和.\"\n",
    "   total = arg1 + arg2; # total在这里是局部变量.\n",
    "   print(\"函数内是局部变量 : \", total)\n",
    "   return total;\n",
    "\n",
    "#调用sum函数\n",
    "sum( 10, 20 );\n",
    "print(\"函数外是全局变量 : \", total)"
   ]
  },
  {
   "cell_type": "markdown",
   "metadata": {},
   "source": [
    "[返回目录](#mulu)"
   ]
  },
  {
   "cell_type": "markdown",
   "metadata": {},
   "source": [
    "# <font size=6><span id=\"4.7\"> 4.7 内嵌函数和闭包</span></font>"
   ]
  },
  {
   "cell_type": "markdown",
   "metadata": {},
   "source": [
    "## global 关键字\n",
    "### 全局变量想作用于函数内，需加 global\n",
    "### 全局变量的作用域是整个模块，也就是代码段内的所有函数都可以访问到全局变量\n",
    "### 注意：函数内部仅仅去访问就好，尽量不要去修改。\n",
    "###            一旦修改，函数内部会创建一个名字一模一样的局部变量，这样会影响不到全局变量"
   ]
  },
  {
   "cell_type": "code",
   "execution_count": null,
   "metadata": {},
   "outputs": [],
   "source": [
    "count = 5\n",
    "\n",
    "def myFun():\n",
    "#    global count\n",
    "#    count = 10\n",
    "    print(count)\n",
    "\n",
    "print(count)\n",
    "myFun()\n",
    "print(count)\n"
   ]
  },
  {
   "cell_type": "code",
   "execution_count": null,
   "metadata": {},
   "outputs": [],
   "source": [
    "globvar = 0\n",
    "print(globvar)\n",
    "\n",
    "def set_globvar_to_one():\n",
    "    global globvar    # 使用 global 声明全局变量\n",
    "    globvar = 1\n",
    "\n",
    "def print_globvar():\n",
    "    print(globvar)     # 没有使用 global\n",
    "\n",
    "set_globvar_to_one()\n",
    "print(globvar)        # 输出 1\n",
    "print_globvar()       # 输出 1，函数内的 globvar 已经是全局变量"
   ]
  },
  {
   "cell_type": "markdown",
   "metadata": {},
   "source": [
    "1、global---将变量定义为全局变量。可以通过定义为全局变量，实现在函数内部改变变量值。\n",
    "\n",
    "2、一个global语句可以同时定义多个变量，如 global x, y, z。"
   ]
  },
  {
   "cell_type": "markdown",
   "metadata": {},
   "source": [
    "## 内嵌函数\n",
    "函数的定义可以嵌套，允许在函数内创建另外一个函数，这种函数叫内嵌函数或者内部函数\n",
    "\n",
    "## 本部班级第3周讲到这里！！！！！！！！！！！！！！！！！！！！"
   ]
  },
  {
   "cell_type": "code",
   "execution_count": null,
   "metadata": {},
   "outputs": [],
   "source": [
    "def fun1():\n",
    "    print(\"fun1()正在被调用......\")\n",
    "    \n",
    "    def fun2():\n",
    "        print(\"fun2()正在被调用......\")\n",
    "    \n",
    "    fun2()\n",
    "    "
   ]
  },
  {
   "cell_type": "code",
   "execution_count": null,
   "metadata": {},
   "outputs": [],
   "source": [
    "fun1()"
   ]
  },
  {
   "cell_type": "code",
   "execution_count": null,
   "metadata": {},
   "outputs": [],
   "source": [
    "fun2()\n",
    "# fun2()除了在函数fun1内部可以使用，除了fun1，外部试图调研，都会出错"
   ]
  },
  {
   "cell_type": "markdown",
   "metadata": {},
   "source": [
    "## 闭包\n",
    "闭包(closure)是函数式编程中一个重要的语法结构，函数式编程是一种编程范式。  \n",
    "如果一个内部函数里，对外部作用域的变量进行应用，那么内部函数就被认为是闭包  \n",
    "换言之：出现在嵌套函数中，指的是内层函数引用到了外层函数的自由变量，就行成了闭包\n"
   ]
  },
  {
   "cell_type": "code",
   "execution_count": null,
   "metadata": {},
   "outputs": [],
   "source": [
    "# ????\n",
    "def funX(x):\n",
    "    def funY(y):\n",
    "        return x*y\n",
    "    \n",
    "    return funY"
   ]
  },
  {
   "cell_type": "code",
   "execution_count": null,
   "metadata": {},
   "outputs": [],
   "source": [
    "i=funX(8)\n",
    "print(i)"
   ]
  },
  {
   "cell_type": "code",
   "execution_count": null,
   "metadata": {},
   "outputs": [],
   "source": [
    "i(5)"
   ]
  },
  {
   "cell_type": "markdown",
   "metadata": {},
   "source": [
    "### 也可以这么写"
   ]
  },
  {
   "cell_type": "code",
   "execution_count": null,
   "metadata": {},
   "outputs": [],
   "source": [
    "funX(8)(5)"
   ]
  },
  {
   "cell_type": "markdown",
   "metadata": {},
   "source": [
    "概念：如果一个内部函数（如funY()就是这个内部函数），对外部作用于（但不是全局作用域）的变量进行引用（x就是被引用的变量，x在外部作用域funX函数里面，但不在全局作用域里面），那么这个函数（funY）就是一个闭包  \n",
    "说明：闭包的概念是由内部函数的概念而来，不能再外部函数以外的地方对内部函数进行调用，即："
   ]
  },
  {
   "cell_type": "code",
   "execution_count": null,
   "metadata": {},
   "outputs": [],
   "source": [
    "funY(5)"
   ]
  },
  {
   "cell_type": "markdown",
   "metadata": {},
   "source": [
    "### 内部函数中，只能对外部函数的局部变量进行访问，但不能进行修改。"
   ]
  },
  {
   "cell_type": "code",
   "execution_count": null,
   "metadata": {},
   "outputs": [],
   "source": [
    "def funX():\n",
    "    x = 5\n",
    "    def funY():\n",
    "        x *= x\n",
    "        return x\n",
    "    return funY"
   ]
  },
  {
   "cell_type": "code",
   "execution_count": null,
   "metadata": {},
   "outputs": [],
   "source": [
    "funX()()"
   ]
  },
  {
   "cell_type": "code",
   "execution_count": null,
   "metadata": {},
   "outputs": [],
   "source": [
    "def funX():\n",
    "    x = 5\n",
    "    def funY():\n",
    "        x = 5\n",
    "        return x\n",
    "    return funY\n",
    "funX()()"
   ]
  },
  {
   "cell_type": "code",
   "execution_count": null,
   "metadata": {},
   "outputs": [],
   "source": [
    "# why 又可以了呢？"
   ]
  },
  {
   "cell_type": "markdown",
   "metadata": {},
   "source": [
    "### 报错原因：x是局部变量的时候，外部函数的x就会被屏蔽，所以 x *= x时候，右边找不到x来计算，所以报错\n",
    "### 可以改进一下，用关键字nonlocal，方式与global一样"
   ]
  },
  {
   "cell_type": "code",
   "execution_count": null,
   "metadata": {},
   "outputs": [],
   "source": [
    "def funX():\n",
    "    x = 5\n",
    "    def funY():\n",
    "        nonlocal x\n",
    "        x *= x\n",
    "        return x\n",
    "    return funY"
   ]
  },
  {
   "cell_type": "code",
   "execution_count": null,
   "metadata": {},
   "outputs": [],
   "source": [
    "funX()()"
   ]
  },
  {
   "cell_type": "markdown",
   "metadata": {},
   "source": [
    "## nonlocal , global 的比较"
   ]
  },
  {
   "cell_type": "markdown",
   "metadata": {},
   "source": [
    "### 在Python中，当引用一个变量的时候，对这个变量的搜索是按找本地作用域(Local)、嵌套作用域(Enclosing function locals)、全局作用域(Global)、内置作用域(builtins模块)的顺序来进行的，即所谓的LEGB规则。    \n",
    "### 然而当在一个函数内部为一个变量赋值时，并不是按照上面所说LEGB规则来首先找到变量，之后为该变量赋值。  \n",
    "### 在Python中，在函数中为一个变量赋值时，有下面这样一条规则:\n",
    "### “当在函数中给一个变量名赋值是(而不是在一个表达式中对其进行引用)，Python总是创建或改变本地作用域的变量名，除非它已经在那个函数中被声明为全局变量. ”"
   ]
  },
  {
   "cell_type": "code",
   "execution_count": null,
   "metadata": {},
   "outputs": [],
   "source": [
    "x = 99\n",
    "def func():\n",
    "    x = 88\n",
    "func()\n",
    "print(x)     #输出99\n"
   ]
  },
  {
   "cell_type": "code",
   "execution_count": null,
   "metadata": {},
   "outputs": [],
   "source": [
    "# 上面的程序在func函数中为x赋值为88,按照上述规则，因为func函数中并没有变量x，\n",
    "# 因此Python会在func函数的本地作用域创建一个变量x，也就是说此x并非x = 99中的x，\n",
    "# 这样也就能够理解为什么最后程序输出依然为99了。   \n",
    "# 若想要在函数中修改全局变量x，而不是在函数中新建一个变量，此时便要用到关键字global了，示例如下:"
   ]
  },
  {
   "cell_type": "code",
   "execution_count": null,
   "metadata": {},
   "outputs": [],
   "source": [
    "x = 99\n",
    "def func()\n",
    "    global x\n",
    "    x = 88\n",
    "func()\n",
    "print(x)    #输出88\n"
   ]
  },
  {
   "cell_type": "code",
   "execution_count": null,
   "metadata": {},
   "outputs": [],
   "source": [
    "# 上述程序中的global x语句告诉Python在func的本地作用域内，要使用全局作用域中的变量x，因此在下面的x = 88语句中，\n",
    "# Python不会再在本地作用域中新建一个变量，而是直接引用全局作用域中的变量x，这样程序最后输出88也就不难理解了。   \n",
    "\n",
    "# 关键子nonlocal的作用与关键字global类似，使用nonlocal关键字可以在一个嵌套的函数中修改嵌套作用域中的变量，示例如下\n"
   ]
  },
  {
   "cell_type": "code",
   "execution_count": null,
   "metadata": {},
   "outputs": [],
   "source": [
    "def func():\n",
    "    count = 1\n",
    "    def foo():\n",
    "        count = 12\n",
    "    foo()\n",
    "    print(count)\n",
    "func()    #输出1\n"
   ]
  },
  {
   "cell_type": "code",
   "execution_count": null,
   "metadata": {},
   "outputs": [],
   "source": [
    "# 上面的程序中，在嵌套的foo函数中，对变量count赋值，同样会创建一个新的变量，\n",
    "# 而非使用count = 1语句中的count，\n",
    "# 如果要修改嵌套作用域中的count，就要使用nonlocal关键字了:"
   ]
  },
  {
   "cell_type": "code",
   "execution_count": null,
   "metadata": {},
   "outputs": [],
   "source": [
    "def func():\n",
    "    count = 1\n",
    "    def foo():\n",
    "        nonlocal count\n",
    "        count = 12\n",
    "    foo()\n",
    "    print(count)\n",
    "func()     #输出12\n"
   ]
  },
  {
   "cell_type": "code",
   "execution_count": null,
   "metadata": {},
   "outputs": [],
   "source": [
    "# 上面的程序中，在foo函数中使用了nonlocal关键字，就会告诉Python在foo函数中使用嵌套作用域中的变量count，\n",
    "# 因此对变量count进行修改时，会直接影响到嵌套作用域中的count变量，程序最后也就输出12了. "
   ]
  },
  {
   "cell_type": "markdown",
   "metadata": {},
   "source": [
    "### 注意:使用global关键字修饰的变量之前可以并不存在，  \n",
    "### 而使用nonlocal关键字修饰的变量在嵌套作用域中必须已经存在。"
   ]
  },
  {
   "cell_type": "code",
   "execution_count": null,
   "metadata": {},
   "outputs": [],
   "source": []
  },
  {
   "cell_type": "code",
   "execution_count": null,
   "metadata": {},
   "outputs": [],
   "source": []
  },
  {
   "cell_type": "markdown",
   "metadata": {},
   "source": [
    "[返回目录](#mulu)"
   ]
  },
  {
   "cell_type": "code",
   "execution_count": null,
   "metadata": {},
   "outputs": [],
   "source": [
    "# 实例1\n",
    "# -----------------判断一个数是否是素数------------------"
   ]
  },
  {
   "cell_type": "code",
   "execution_count": null,
   "metadata": {},
   "outputs": [],
   "source": [
    "import math\n",
    "\n",
    "def sushu(a):\n",
    "    i=1\n",
    "    for i in range(2,a):  #how  to improve speed\n",
    "        if a%i==0:\n",
    "            print(i)\n",
    "            break\n",
    "    if i==a-1:\n",
    "        print('素数')\n",
    "    else:\n",
    "        print('不是素数')\n",
    "    # return;\n",
    "\n"
   ]
  },
  {
   "cell_type": "code",
   "execution_count": null,
   "metadata": {},
   "outputs": [],
   "source": [
    "\n",
    "sushu(25)"
   ]
  },
  {
   "cell_type": "code",
   "execution_count": null,
   "metadata": {},
   "outputs": [],
   "source": [
    "sushu(23)"
   ]
  },
  {
   "cell_type": "code",
   "execution_count": null,
   "metadata": {},
   "outputs": [],
   "source": []
  },
  {
   "cell_type": "code",
   "execution_count": null,
   "metadata": {},
   "outputs": [],
   "source": [
    "import math\n",
    "\n",
    "def sushu1(a):\n",
    "    i=1\n",
    "    for i in range(2,int(a**0.5)+1):  #how  to improve speed\n",
    "        if a%i==0:\n",
    "            print(i)\n",
    "            print('不是素数')\n",
    "            break\n",
    "    else:\n",
    "        print('素数')\n"
   ]
  },
  {
   "cell_type": "code",
   "execution_count": null,
   "metadata": {},
   "outputs": [],
   "source": [
    "sushu1(25)"
   ]
  },
  {
   "cell_type": "code",
   "execution_count": null,
   "metadata": {},
   "outputs": [],
   "source": [
    "# sushu1 vs sushu2\n",
    "bigsushu=104729   #37975227936943673922808872755445627854565536638199\n",
    "import datetime\n",
    "starttime = datetime.datetime.now()\n",
    "\n",
    "sushu(bigsushu)\n",
    "sushu(bigsushu)\n",
    "sushu(bigsushu)\n",
    "sushu(bigsushu)\n",
    "sushu(bigsushu)\n",
    "sushu(bigsushu)\n",
    "sushu(bigsushu)\n",
    "sushu(bigsushu)\n",
    "sushu(bigsushu)\n",
    "sushu(bigsushu)\n",
    "\n",
    "\n",
    "endtime = datetime.datetime.now()\n",
    "\n",
    "print ((endtime - starttime))"
   ]
  },
  {
   "cell_type": "code",
   "execution_count": null,
   "metadata": {},
   "outputs": [],
   "source": [
    "# sushu1 vs sushu2\n",
    "bigsushu=104729   #37975227936943673922808872755445627854565536638199\n",
    "import datetime\n",
    "starttime = datetime.datetime.now()\n",
    "\n",
    "sushu1(bigsushu)\n",
    "sushu1(bigsushu)\n",
    "sushu1(bigsushu)\n",
    "sushu1(bigsushu)\n",
    "sushu1(bigsushu)\n",
    "sushu1(bigsushu)\n",
    "sushu1(bigsushu)\n",
    "sushu1(bigsushu)\n",
    "sushu1(bigsushu)\n",
    "sushu1(bigsushu)\n",
    "\n",
    "\n",
    "endtime = datetime.datetime.now()\n",
    "\n",
    "print ((endtime - starttime))"
   ]
  },
  {
   "cell_type": "code",
   "execution_count": null,
   "metadata": {},
   "outputs": [],
   "source": [
    "## 编写函数，输出某两个数之间所有的素数\n",
    "def sushu2(a,b):\n",
    "    \"\"\"输出a，b两个数之间的所有素数\"\"\"\n",
    "    print(\"===test===\")\n",
    "    \n",
    "\n",
    "## 我们常常会把某一个程序和以下代码放在一个py文件中\n",
    "## 下面的代码是测试函数的代码，单独运行这个py文件会有输出\n",
    "## 但别的文件如果import这个py文件，则不会运行main里面的代码\n",
    "def main():\n",
    "    print(\"======测试函数的调试代码=======\")\n",
    "    sushu2(1,2)\n",
    "    sushu2(3,4)\n",
    "    \n",
    "if __name__ == '__main__':\n",
    "    main()\n"
   ]
  },
  {
   "cell_type": "code",
   "execution_count": null,
   "metadata": {},
   "outputs": [],
   "source": [
    "# 单独运行函数\n",
    "\n",
    "sushu2(2,3)"
   ]
  },
  {
   "cell_type": "code",
   "execution_count": null,
   "metadata": {},
   "outputs": [],
   "source": [
    "import math\n",
    "\n",
    "def isprime(a):\n",
    "    i=1\n",
    "    for i in range(2,a):  #how  to improve speed\n",
    "        if a%i==0:\n",
    "            #print(i)\n",
    "            #print('不是素数')\n",
    "            return 0\n",
    "            break\n",
    "    else:\n",
    "        #print('素数')\n",
    "        return 1\n",
    "\n",
    "def main():\n",
    "    print(\"======测试函数的调试代码=======\")\n",
    "    a = eval(input('input a number: '))\n",
    "    if isprime(a):\n",
    "        print('素数')\n",
    "    else:\n",
    "        print('不是素数')\n",
    "    \n",
    "if __name__ == '__main__':\n",
    "    main()"
   ]
  },
  {
   "cell_type": "code",
   "execution_count": null,
   "metadata": {},
   "outputs": [],
   "source": [
    "import math\n",
    "\n",
    "def isprime1(a):\n",
    "    i=1\n",
    "    for i in range(2,int(a**0.5)+1):  #how  to improve speed\n",
    "        if a%i==0:\n",
    "            #print(i)\n",
    "            #print('不是素数')\n",
    "            return 0\n",
    "            break\n",
    "    else:\n",
    "        #print('素数')\n",
    "        return 1\n",
    "\n",
    "def main():\n",
    "    print(\"======测试函数的调试代码=======\")\n",
    "    a = eval(input('input a number: '))\n",
    "    if isprime1(a):\n",
    "        print('素数')\n",
    "    else:\n",
    "        print('不是素数')\n",
    "    \n",
    "if __name__ == '__main__':\n",
    "    main()"
   ]
  },
  {
   "cell_type": "code",
   "execution_count": null,
   "metadata": {},
   "outputs": [],
   "source": [
    "def isprimerange(a:int = 2, b:int = 10000, step:int = 1):\n",
    "    \"\"\"输出a，b两个数之间的所有素数\"\"\"\n",
    "\n",
    "    import datetime\n",
    "    starttime = datetime.datetime.now()\n",
    "\n",
    "    print('\\n在数字{0}和数字{1}，步长{2}的所有数字中，共有素数列表如下：\\n'.format(a, b, step),end = ' ')\n",
    "    count = 0\n",
    "    for i in range(a,b,step):\n",
    "        if isprime(i):   # 换成isprime1试试看\n",
    "            count += 1\n",
    "            print('{0:5d}'.format(i),end = ' ')\n",
    "            if count % 10 == 0:\n",
    "                print('\\n',end = ' ')\n",
    "    print('\\n总共有素数{0}个'.format(count))\n",
    "    \n",
    "    endtime = datetime.datetime.now()\n",
    "\n",
    "    print ('总共用时{0}秒'.format(endtime - starttime))\n",
    "\n",
    "def main():\n",
    "    print(\"======测试函数的调试代码=======\")\n",
    "    isprimerange(5, 10000, 2)\n",
    "    \n",
    "if __name__ == '__main__':\n",
    "    main()"
   ]
  },
  {
   "cell_type": "code",
   "execution_count": null,
   "metadata": {},
   "outputs": [],
   "source": [
    "## 计算字符串中大小写个数，等。\n",
    "\n",
    "def deal_char(li):\n",
    "    \"\"\"\n",
    "    \n",
    "    \"\"\"\n",
    "    list=[]\n",
    "\n",
    "    # list.append(float(max(li)))\n",
    "    # list.append(float(min(li)))\n",
    "    upper=0\n",
    "    lower=0\n",
    "    num=0\n",
    "    other=0\n",
    "    # str.__len__()\n",
    "    for i in  range(len(li)):\n",
    "        if li[i].isupper():\n",
    "            upper+=1\n",
    "        elif li[i].islower():\n",
    "            lower+=1\n",
    "        elif li[i].isnumeric():\n",
    "            num+=1\n",
    "        else:\n",
    "            other+=1\n",
    "    list.append(upper)\n",
    "    list.append(lower)\n",
    "    list.append(num)\n",
    "    list.append(other)\n",
    "\n",
    "    print(\"list:\",list)\n",
    "    return tuple(list)\n",
    "\n",
    "\n",
    "ll=input(\"please input some char(or a string):\",)\n",
    "deal=deal_char(ll)\n",
    "print(\"tuple contain count with upper char,lower char ,number and others:\",deal)"
   ]
  },
  {
   "cell_type": "code",
   "execution_count": null,
   "metadata": {},
   "outputs": [],
   "source": []
  },
  {
   "cell_type": "code",
   "execution_count": null,
   "metadata": {},
   "outputs": [],
   "source": [
    "# 判断一个数，是不是回文数，如\n",
    "# 12321  \n",
    "def huiwen(n):\n",
    "    n0 = n\n",
    "    m = 0\n",
    "    while(n):\n",
    "        m = m * 10 + n % 10\n",
    "        n = n // 10\n",
    "    else:\n",
    "        print(m)\n",
    "    if(m==n):\n",
    "        print(\"{0}是一个回文数\".format(n0))\n",
    "    else:\n",
    "        print(\"{0}不是一个回文数\".format(n0))\n",
    "\n",
    "huiwen(2)"
   ]
  },
  {
   "cell_type": "code",
   "execution_count": null,
   "metadata": {},
   "outputs": [],
   "source": [
    "# 参数会不会在函数里面被改动\n",
    "def aaa(n):\n",
    "    n = 3\n",
    "    #return n\n",
    "\n",
    "b = 5\n",
    "aaa(b)\n",
    "b\n",
    "\n",
    "# 将n改成b试试\n"
   ]
  },
  {
   "cell_type": "code",
   "execution_count": null,
   "metadata": {},
   "outputs": [],
   "source": [
    "# 参数会不会在函数里面被改动\n",
    "def aaa(n):\n",
    "    n[2] = 0\n",
    "    #return n\n",
    "\n",
    "b = [5, 4, 3, 2, 1]\n",
    "aaa(b)\n",
    "b"
   ]
  },
  {
   "cell_type": "code",
   "execution_count": null,
   "metadata": {},
   "outputs": [],
   "source": []
  },
  {
   "cell_type": "code",
   "execution_count": null,
   "metadata": {},
   "outputs": [],
   "source": [
    "## 练习，试编写一个函数，判断3个参数作为长度是否构成一个三角形\n",
    "## 四平班级已经完成过\n",
    "def triangle(a,b,c):\n",
    "    ## 请编写代码，如可以输出“可以构成三角形”\n",
    "    ## 否则输出“不可以构成三角形”\n",
    "    pass\n",
    "    \n",
    "    \n",
    "a = 3\n",
    "b = 4\n",
    "c = 5\n",
    "triangle(a,b,c)"
   ]
  },
  {
   "cell_type": "markdown",
   "metadata": {},
   "source": [
    "# <font size=6><span id=\"4.5\"> 4.5 匿名函数（lambda表达式） </span></font>"
   ]
  },
  {
   "cell_type": "markdown",
   "metadata": {},
   "source": [
    "python 使用 lambda 来创建匿名函数。  \n",
    "lambda只是一个表达式，函数体比def简单很多。    \n",
    "lambda的主体是一个表达式，而不是一个代码块。仅仅能在lambda表达式中封装有限的逻辑进去。  \n",
    "lambda函数拥有自己的命名空间，且不能访问自有参数列表之外或全局命名空间里的参数。   \n",
    "虽然lambda函数看起来只能写一行，却不等同于C或C++的内联函数，后者的目的是调用小函数时不占用栈内存从而增加运行效率。 \n",
    "\n",
    "### 语法  \n",
    "lambda函数的语法只包含一个语句，如下：\n",
    "\n",
    "lambda [arg1 [,arg2,.....argn]]:expression"
   ]
  },
  {
   "cell_type": "code",
   "execution_count": null,
   "metadata": {},
   "outputs": [],
   "source": [
    "# 可写函数说明\n",
    "sum = lambda arg1, arg2: arg1 + arg2\n",
    "\n",
    "# 调用sum函数\n",
    "print(\"相加后的值为 : \", sum( 10, 20 ))\n",
    "print(\"相加后的值为 : \", sum( 20, 20 ))"
   ]
  },
  {
   "cell_type": "markdown",
   "metadata": {},
   "source": [
    "lambda表达式的作用\n",
    "* lambda函数可以省下定义函数的过程  \n",
    "* 有时候只需要调用一两次的函数，起名字头疼\n",
    "* 简化代码的可读性"
   ]
  },
  {
   "cell_type": "markdown",
   "metadata": {},
   "source": [
    "## 两个特殊的内置函数filter() 和 map()"
   ]
  },
  {
   "cell_type": "markdown",
   "metadata": {},
   "source": [
    "# 1. filter()\n",
    "### 过滤器：保留关注的信息，不感兴趣的去掉，看看filter()的注释"
   ]
  },
  {
   "cell_type": "code",
   "execution_count": null,
   "metadata": {},
   "outputs": [],
   "source": [
    "help(filter)"
   ]
  },
  {
   "cell_type": "markdown",
   "metadata": {},
   "source": [
    "### filter()有两个参数\n",
    "### * 第一个参数，可以是None \n",
    "### * 如果是一个函数的话，则将第二个可迭代数据的每一个元素作为函数的参数进行计算，并把返回值True值筛选出来。    \n",
    "### * 如果第一个是None，则将第二个参数中True的值筛选出来。 \n",
    "<img src = \"images\\chapter04\\input_figure.png\">\n"
   ]
  },
  {
   "cell_type": "code",
   "execution_count": null,
   "metadata": {},
   "outputs": [],
   "source": [
    "temp = filter(None,[1, 0, False, True])\n",
    "list(temp)"
   ]
  },
  {
   "cell_type": "code",
   "execution_count": null,
   "metadata": {},
   "outputs": [],
   "source": []
  },
  {
   "cell_type": "code",
   "execution_count": null,
   "metadata": {},
   "outputs": [],
   "source": [
    "### 设计一个筛选奇数的过滤器\n",
    "def odd(x):\n",
    "    return x%2\n",
    "\n",
    "temp = filter(odd,range(0,10))\n",
    "list(temp)"
   ]
  },
  {
   "cell_type": "code",
   "execution_count": null,
   "metadata": {},
   "outputs": [],
   "source": [
    "# 刚刚有一个素数程序，我们试试看\n",
    "temp = filter(isprime, range(3,100))\n"
   ]
  },
  {
   "cell_type": "code",
   "execution_count": null,
   "metadata": {},
   "outputs": [],
   "source": [
    "list(temp)"
   ]
  },
  {
   "cell_type": "code",
   "execution_count": null,
   "metadata": {},
   "outputs": [],
   "source": [
    "#如果利用lambda函数\n",
    "list(filter(lambda x:x%2, range(10)))"
   ]
  },
  {
   "cell_type": "code",
   "execution_count": null,
   "metadata": {},
   "outputs": [],
   "source": [
    "list1 = [3,5,-4,-1,0,-2,-6]\n",
    "sorted(list1, key=lambda x: abs(x))\n",
    "#猜一下，这个语句什么意思"
   ]
  },
  {
   "cell_type": "code",
   "execution_count": null,
   "metadata": {},
   "outputs": [],
   "source": [
    "str = ['a', 'b','c', 'd']\n",
    "\n",
    "def fun1(s): return s if s != 'a' else None\n",
    "\n",
    "ret = filter(fun1, str)\n",
    "\n",
    "print( list(ret))"
   ]
  },
  {
   "cell_type": "code",
   "execution_count": 30,
   "metadata": {},
   "outputs": [
    {
     "name": "stdout",
     "output_type": "stream",
     "text": [
      "I   good oy, I love Chi!\n"
     ]
    }
   ],
   "source": [
    "# 猜猜此句什么功能\n",
    "print(\"\".join(filter(lambda x: x not in 'abmn','I am a good boy, I love China!')))"
   ]
  },
  {
   "cell_type": "code",
   "execution_count": 29,
   "metadata": {},
   "outputs": [
    {
     "name": "stdout",
     "output_type": "stream",
     "text": [
      "I   good oy, I love Chi!\n"
     ]
    }
   ],
   "source": [
    "# 猜猜此句什么功能\n",
    "str1 = 'I am a good boy, I love China!'\n",
    "ret = filter(lambda x: x not in 'abmn', str1)\n",
    "print(\"\".join(ret))"
   ]
  },
  {
   "cell_type": "markdown",
   "metadata": {},
   "source": [
    "## map()函数\n",
    "\n",
    "### 映射，两个参数，一个是函数，另一个是可迭代序列\n",
    "### 将每一个元素作为函数的参数进行计算，并且返回加工之后的新序列\n",
    "<img src = \"images\\chapter04\\map_figure.png\">"
   ]
  },
  {
   "cell_type": "code",
   "execution_count": 31,
   "metadata": {},
   "outputs": [
    {
     "data": {
      "text/plain": [
       "[0, 1, 4, 9, 16, 25, 36, 49, 64, 81]"
      ]
     },
     "execution_count": 31,
     "metadata": {},
     "output_type": "execute_result"
    }
   ],
   "source": [
    "list(map(lambda x:x**2,range(10)))"
   ]
  },
  {
   "cell_type": "code",
   "execution_count": 55,
   "metadata": {},
   "outputs": [
    {
     "name": "stdout",
     "output_type": "stream",
     "text": [
      "a.txt\n",
      "b.txt\n",
      "c.txt\n",
      "d.txt\n"
     ]
    }
   ],
   "source": [
    "str = ['a', 'b', 'c', 'd'] \n",
    "\n",
    "ret = map(lambda s: s + \".txt\", str)\n",
    "\n",
    "#print(list(ret)) ?\n",
    "\n",
    "for i in ret:\n",
    "    print(i)"
   ]
  },
  {
   "cell_type": "code",
   "execution_count": 67,
   "metadata": {},
   "outputs": [
    {
     "name": "stdout",
     "output_type": "stream",
     "text": [
      "(12, 11, 1)\n",
      "(24, 22, 2)\n",
      "(36, 33, 3)\n"
     ]
    }
   ],
   "source": [
    "li = [11, 22, 33]\n",
    "sl = [1, 2, 3]\n",
    "new_list = map(lambda a, b: a + b, li, sl)\n",
    "#print(type(new_list))\n",
    "for each in list(zip(new_list,li,sl)):\n",
    "    print(each)"
   ]
  },
  {
   "cell_type": "code",
   "execution_count": 89,
   "metadata": {},
   "outputs": [
    {
     "data": {
      "image/png": "[encoded data removed]",
      "text/plain": [
       "<Figure size 432x288 with 1 Axes>"
      ]
     },
     "metadata": {},
     "output_type": "display_data"
    }
   ],
   "source": [
    "# 画出一个曲线\n",
    "\n",
    "import matplotlib.pyplot as plt\n",
    "\n",
    "x_axix = list(range(-10, 10, 1))\n",
    "\n",
    "sub_axix = map(lambda x:x**3-2*x**2+4*x-6, x_axix)\n",
    "sub_axix = list(sub_axix)\n",
    "\n",
    "#print(x_axix)\n",
    "#开始画图\n",
    "plt.plot(x_axix, sub_axix)\n",
    "plt.show()\n",
    "\n"
   ]
  },
  {
   "cell_type": "markdown",
   "metadata": {},
   "source": [
    "## reduce()函数\n",
    "## reduce用法：先把sequence中第一个值和第二个值当参数传给function，再把function的返回值和第三个值当参数传给fuction,最终返回一个结果值\n",
    "## 接收的入参个数只能为2\n",
    "<img src = \"images\\chapter04\\reduce_figure.png\">"
   ]
  },
  {
   "cell_type": "code",
   "execution_count": 97,
   "metadata": {},
   "outputs": [
    {
     "data": {
      "text/plain": [
       "-40"
      ]
     },
     "execution_count": 97,
     "metadata": {},
     "output_type": "execute_result"
    }
   ],
   "source": [
    "from functools import reduce  #在python3之前，reduce是自带的函数；3之后，就需要import了\n",
    "reduce(lambda x,y:x*y-4,range(4))"
   ]
  },
  {
   "cell_type": "markdown",
   "metadata": {},
   "source": [
    "<img src=\"images\\chapter04\\reduce02.jpg\">"
   ]
  },
  {
   "cell_type": "code",
   "execution_count": 99,
   "metadata": {},
   "outputs": [
    {
     "data": {
      "text/plain": [
       "-4"
      ]
     },
     "execution_count": 99,
     "metadata": {},
     "output_type": "execute_result"
    }
   ],
   "source": [
    "0 * 1-4\n"
   ]
  },
  {
   "cell_type": "code",
   "execution_count": 100,
   "metadata": {},
   "outputs": [
    {
     "data": {
      "text/plain": [
       "-12"
      ]
     },
     "execution_count": 100,
     "metadata": {},
     "output_type": "execute_result"
    }
   ],
   "source": [
    "-4 * 2 -4"
   ]
  },
  {
   "cell_type": "code",
   "execution_count": 101,
   "metadata": {},
   "outputs": [
    {
     "data": {
      "text/plain": [
       "-40"
      ]
     },
     "execution_count": 101,
     "metadata": {},
     "output_type": "execute_result"
    }
   ],
   "source": [
    "-12 * 3 -4"
   ]
  },
  {
   "cell_type": "code",
   "execution_count": 103,
   "metadata": {},
   "outputs": [
    {
     "data": {
      "text/plain": [
       "12345"
      ]
     },
     "execution_count": 103,
     "metadata": {},
     "output_type": "execute_result"
    }
   ],
   "source": [
    "reduce(lambda x, y: x * 10 + y, [1, 2, 3, 4, 5])\n",
    "# 这句话啥意思呢？"
   ]
  },
  {
   "cell_type": "code",
   "execution_count": 108,
   "metadata": {},
   "outputs": [
    {
     "name": "stdout",
     "output_type": "stream",
     "text": [
      "49.25\n"
     ]
    }
   ],
   "source": [
    "from functools import reduce\n",
    "scientists =({'name':'Alan Turing', 'age':55, 'gender':'male'},\n",
    "    {'name':'Dennis Ritchie', 'age':76, 'gender':'male'},\n",
    "    {'name':'Ada Lovelace', 'age':22, 'gender':'female'},\n",
    "    {'name':'Frances E. Allen', 'age':44, 'gender':'female'})\n",
    "def reducer(accumulator , value):\n",
    "    sum = accumulator + value['age']\n",
    "    return sum\n",
    "total_age = reduce(reducer, scientists, 0)\n",
    "print(total_age/len(scientists))"
   ]
  },
  {
   "cell_type": "markdown",
   "metadata": {},
   "source": [
    "[返回目录](#mulu)"
   ]
  },
  {
   "cell_type": "code",
   "execution_count": null,
   "metadata": {},
   "outputs": [],
   "source": []
  },
  {
   "cell_type": "markdown",
   "metadata": {},
   "source": [
    "# <font size=6><span id=\"4.8\"> 4.8 递归函数</span></font>"
   ]
  },
  {
   "cell_type": "markdown",
   "metadata": {},
   "source": [
    "## 什么是递归？"
   ]
  },
  {
   "cell_type": "markdown",
   "metadata": {},
   "source": [
    "### 函数直接或者间接的调用自己"
   ]
  },
  {
   "cell_type": "code",
   "execution_count": null,
   "metadata": {},
   "outputs": [],
   "source": [
    "time = 0\n",
    "def recursion():\n",
    "    global time\n",
    "    time += 1\n",
    "    print(time)\n",
    "    recursion()\n",
    "#这是最简单的例子，一个无线调用自己的函数，会死机的"
   ]
  },
  {
   "cell_type": "code",
   "execution_count": null,
   "metadata": {},
   "outputs": [],
   "source": [
    "recursion()\n",
    "# 死机了吗？\n",
    "# 网络爬虫，有时候会爬很深，所以要设置一个最大的深度限制\n"
   ]
  },
  {
   "cell_type": "code",
   "execution_count": null,
   "metadata": {},
   "outputs": [],
   "source": [
    "import sys\n",
    "sys.setrecursionlimit(500) #比如设置500层\n",
    "recursion()"
   ]
  },
  {
   "cell_type": "code",
   "execution_count": null,
   "metadata": {},
   "outputs": [],
   "source": [
    "## 求阶乘的递归程序"
   ]
  },
  {
   "cell_type": "code",
   "execution_count": null,
   "metadata": {},
   "outputs": [],
   "source": [
    "def jiecheng(n):\n",
    "    result = n\n",
    "    for i in range(1,n):\n",
    "        result *= i\n",
    "    return result\n",
    "\n",
    "number = int(input('请输入一个整数：'))\n",
    "result = jiecheng(number)\n",
    "print(\"%d的阶乘是:%d\" %(number,result))"
   ]
  },
  {
   "cell_type": "code",
   "execution_count": null,
   "metadata": {},
   "outputs": [],
   "source": [
    "## 求阶乘的递归程序(递归版本)"
   ]
  },
  {
   "cell_type": "code",
   "execution_count": null,
   "metadata": {},
   "outputs": [],
   "source": [
    "def jiecheng(n):\n",
    "    if n == 1:\n",
    "        return 1\n",
    "    else:\n",
    "        return n*jiecheng(n-1)\n",
    "\n",
    "number = int(input('请输入一个整数：'))\n",
    "result = jiecheng(number)\n",
    "print(\"%d的阶乘是:%d\" %(number,result))"
   ]
  },
  {
   "cell_type": "markdown",
   "metadata": {},
   "source": [
    "<img src=\"images/chapter03/jiecheng01.jpg\">"
   ]
  },
  {
   "cell_type": "markdown",
   "metadata": {},
   "source": [
    "<img src=\"images/chapter03/jiecheng02.jpg\">"
   ]
  },
  {
   "cell_type": "markdown",
   "metadata": {},
   "source": [
    "### 斐波那契数列"
   ]
  },
  {
   "cell_type": "markdown",
   "metadata": {},
   "source": [
    "$ \n",
    "F(n)=\\left\\{\\begin{matrix}\n",
    "1& when&  n=1\\\\ \n",
    "1 & when&  n=2\\\\ \n",
    "F(n-1)+F(n-2) &when&  n>2 \n",
    "\\end{matrix}\\right.\n",
    "$"
   ]
  },
  {
   "cell_type": "markdown",
   "metadata": {},
   "source": [
    "<img src=\"images/chapter03/rabbit.jpg\">"
   ]
  },
  {
   "cell_type": "code",
   "execution_count": null,
   "metadata": {},
   "outputs": [],
   "source": [
    "## 迭代实现\n",
    "def fab(n):\n",
    "    a1 = 1\n",
    "    a2 = 1\n",
    "    a3 = 1\n",
    "    if n<1 :\n",
    "        print(\"input error\")\n",
    "        return -1\n",
    "    while (n-2)>0:\n",
    "        a3=a1+a2\n",
    "        a1=a2\n",
    "        a2=a3\n",
    "        n -= 1\n",
    "    return a3\n",
    "\n",
    "result = fab(20)\n",
    "if result != -1:\n",
    "    print('Total result= ',result)"
   ]
  },
  {
   "cell_type": "markdown",
   "metadata": {},
   "source": [
    "<img src=\"images/chapter03/rabbit2.jpg\">"
   ]
  },
  {
   "cell_type": "code",
   "execution_count": null,
   "metadata": {},
   "outputs": [],
   "source": [
    "# 递归实现\n",
    "def fab(n):\n",
    "    if (n<1):\n",
    "        print('input error')\n",
    "        return -1\n",
    "    if n == 1 or n == 2:\n",
    "        return 1\n",
    "    else:\n",
    "        return fab(n-1)+fab(n-2)\n",
    "\n",
    "result = fab(20)\n",
    "if result != -1:\n",
    "    print('Total result= ',result)"
   ]
  },
  {
   "cell_type": "markdown",
   "metadata": {},
   "source": [
    "### 汉诺塔"
   ]
  },
  {
   "cell_type": "markdown",
   "metadata": {},
   "source": [
    "<img src=\"images/chapter03/hannuota.gif\">\n",
    "# <font size=12> X            Y        Z</font>"
   ]
  },
  {
   "cell_type": "markdown",
   "metadata": {},
   "source": [
    "<img src=\"images/chapter03/hanoi.jpg\">"
   ]
  },
  {
   "cell_type": "code",
   "execution_count": 109,
   "metadata": {},
   "outputs": [],
   "source": [
    "def hanoi(n,x,y,z):\n",
    "    if n == 1:\n",
    "        print(x,'--->',z) #如果只有一层，直接从X移到\n",
    "    else:\n",
    "        hanoi(n-1,x,z,y) #将前n-1个盘子从X移到Y上去\n",
    "        print(x,'--->',z) #将最底下的盘子，从X移动到Z上去\n",
    "        hanoi(n-1,y,x,z) #将Y上的移动到Z上\n",
    "        "
   ]
  },
  {
   "cell_type": "code",
   "execution_count": 110,
   "metadata": {},
   "outputs": [
    {
     "name": "stdout",
     "output_type": "stream",
     "text": [
      "请输入汉诺塔层数：5\n",
      "X ---> Z\n",
      "X ---> Y\n",
      "Z ---> Y\n",
      "X ---> Z\n",
      "Y ---> X\n",
      "Y ---> Z\n",
      "X ---> Z\n",
      "X ---> Y\n",
      "Z ---> Y\n",
      "Z ---> X\n",
      "Y ---> X\n",
      "Z ---> Y\n",
      "X ---> Z\n",
      "X ---> Y\n",
      "Z ---> Y\n",
      "X ---> Z\n",
      "Y ---> X\n",
      "Y ---> Z\n",
      "X ---> Z\n",
      "Y ---> X\n",
      "Z ---> Y\n",
      "Z ---> X\n",
      "Y ---> X\n",
      "Y ---> Z\n",
      "X ---> Z\n",
      "X ---> Y\n",
      "Z ---> Y\n",
      "X ---> Z\n",
      "Y ---> X\n",
      "Y ---> Z\n",
      "X ---> Z\n"
     ]
    }
   ],
   "source": [
    "n = int(input('请输入汉诺塔层数：'))\n",
    "hanoi(n,'X','Y','Z')"
   ]
  },
  {
   "cell_type": "markdown",
   "metadata": {},
   "source": [
    "### 递归的一些用处"
   ]
  },
  {
   "cell_type": "markdown",
   "metadata": {},
   "source": [
    "<img src=\"images/chapter03/digui01.png\">"
   ]
  },
  {
   "cell_type": "markdown",
   "metadata": {},
   "source": [
    "<img src=\"images/chapter03/digui02.png\">"
   ]
  },
  {
   "cell_type": "markdown",
   "metadata": {},
   "source": [
    "<img src=\"images/chapter03/digui03.png\">"
   ]
  },
  {
   "cell_type": "code",
   "execution_count": null,
   "metadata": {},
   "outputs": [],
   "source": [
    "import turtle\n",
    "def main():\n",
    "    t = turtle.Turtle()\n",
    "    t.hideturtle()\n",
    "    t.speed(10)\n",
    "    level = 3\n",
    "    fract(t,-80,60,80,60,level)\n",
    "def fract(t,x1,y1,x2,y2,level):\n",
    "    newX = 0\n",
    "    newY = 0\n",
    "    if level == 0:\n",
    "        drawLine(t,x1,y1,x2,y2)\n",
    "    else:\n",
    "        newX = (x1+x2)/2 + (y2-y1)/2\n",
    "        newY = (y1+y2)/2 - (x2-x1)/2\n",
    "        fract(t,x1,y1,newX,newY,level-1)\n",
    "        fract(t,newX,newY,x2,y2,level-1)\n",
    "def drawLine(t,x1,y1,x2,y2):\n",
    "    t.up()\n",
    "    t.goto(x1,y1)\n",
    "    t.down()\n",
    "    t.goto(x2,y2)\n",
    "main()\n",
    "\n",
    "# IDLE运行"
   ]
  },
  {
   "cell_type": "markdown",
   "metadata": {},
   "source": [
    "<img src=\"images/chapter03/fenxing.png\">"
   ]
  },
  {
   "cell_type": "code",
   "execution_count": null,
   "metadata": {},
   "outputs": [],
   "source": []
  },
  {
   "cell_type": "code",
   "execution_count": null,
   "metadata": {},
   "outputs": [],
   "source": []
  },
  {
   "cell_type": "code",
   "execution_count": null,
   "metadata": {},
   "outputs": [],
   "source": []
  },
  {
   "cell_type": "code",
   "execution_count": null,
   "metadata": {},
   "outputs": [],
   "source": []
  },
  {
   "cell_type": "code",
   "execution_count": null,
   "metadata": {},
   "outputs": [],
   "source": []
  },
  {
   "cell_type": "markdown",
   "metadata": {},
   "source": [
    "[返回目录](#mulu)"
   ]
  },
  {
   "cell_type": "markdown",
   "metadata": {},
   "source": [
    "# <font size=6><span id=\"4.9\"> 4.9 函数案例</span></font>"
   ]
  },
  {
   "cell_type": "code",
   "execution_count": null,
   "metadata": {},
   "outputs": [],
   "source": [
    "# 列表反转\n",
    "def reverse(li):\n",
    "    for i in range(0, int(len(li) / 2)):\n",
    "        temp = li[i]\n",
    "        li[i] = li[-i-1]\n",
    "        li[-i-1] = temp\n",
    "\n",
    "l = [1, 2, 3, 4, 5]\n",
    "reverse(l)\n",
    "print(l)"
   ]
  },
  {
   "cell_type": "code",
   "execution_count": null,
   "metadata": {},
   "outputs": [],
   "source": []
  },
  {
   "cell_type": "markdown",
   "metadata": {},
   "source": [
    "## 求函数的根"
   ]
  },
  {
   "cell_type": "code",
   "execution_count": 1,
   "metadata": {},
   "outputs": [
    {
     "data": {
      "text/plain": [
       "-1.3981609516295066"
      ]
     },
     "execution_count": 1,
     "metadata": {},
     "output_type": "execute_result"
    }
   ],
   "source": [
    "import math\n",
    "f=lambda x : 2*x**3+3*x**2+1*x+1\n",
    "\n",
    "def root(x1 , x2, EPS=1e-12):\n",
    "    xm=x1/2+x2/2\n",
    "    #count = 0\n",
    "    while math.fabs(f(xm)) > EPS:\n",
    "        xm=x1/2+x2/2\n",
    "        if(f(xm)*f(x1) > 0): x1=xm\n",
    "        if(f(xm)*f(x2) > 0): x2=xm\n",
    "        #count=count+1\n",
    "        #print(count,\"   \",x1,\"   \",x2)\n",
    "    else:\n",
    "        return xm\n",
    "    \n",
    "root(-2, 5)"
   ]
  },
  {
   "cell_type": "markdown",
   "metadata": {},
   "source": [
    "[返回目录](#mulu)"
   ]
  },
  {
   "cell_type": "code",
   "execution_count": null,
   "metadata": {},
   "outputs": [],
   "source": []
  },
  {
   "cell_type": "code",
   "execution_count": null,
   "metadata": {},
   "outputs": [],
   "source": []
  },
  {
   "cell_type": "code",
   "execution_count": null,
   "metadata": {},
   "outputs": [],
   "source": []
  },
  {
   "cell_type": "markdown",
   "metadata": {},
   "source": [
    "# Built-in functions\n",
    "List of built-in functions:\n",
    "\n",
    "    abs()    dict()    help()    min()    setattr()  \n",
    "    all()    dir()    hex()    next()    slice()  \n",
    "    any()    divmod()    id()    object()    sorted()  \n",
    "    ascii()    enumerate()    input()    oct()    staticmethod()  \n",
    "    bin()    eval()    int()    open()    str()  \n",
    "    bool()    exec()    isinstance()    ord()    sum()  \n",
    "    bytearray()    filter()    issubclass()    pow()    super()  \n",
    "    bytes()    float()    iter()    print()    tuple()  \n",
    "    callable()    format()    len()    property()    type()  \n",
    "    chr()    frozenset()    list()    range()    vars()  \n",
    "    classmethod()    getattr()    locals()    repr()    zip()  \n",
    "    compile()    globals()    map()    reversed()    \\__import\\__()  \n",
    "    complex()    hasattr()    max()    round()   \n",
    "    delattr()    hash()    memoryview()    set()  "
   ]
  },
  {
   "cell_type": "markdown",
   "metadata": {},
   "source": [
    "#### References:\n",
    "https://www.learnpython.org/en/Functions  \n",
    "http://docs.python-guide.org/en/latest/writing/style/  \n",
    "https://docs.python.org/3/library/functions.html#built-in-funcs  "
   ]
  },
  {
   "cell_type": "markdown",
   "metadata": {},
   "source": [
    "# =====================END==========================="
   ]
  },
  {
   "cell_type": "code",
   "execution_count": null,
   "metadata": {},
   "outputs": [],
   "source": []
  },
  {
   "cell_type": "markdown",
   "metadata": {},
   "source": [
    "[返回目录](#mulu)"
   ]
  },
  {
   "cell_type": "code",
   "execution_count": null,
   "metadata": {},
   "outputs": [],
   "source": []
  }
 ],
 "metadata": {
  "celltoolbar": "Raw Cell Format",
  "kernelspec": {
   "display_name": "Python 3",
   "language": "python",
   "name": "python3"
  },
  "language_info": {
   "codemirror_mode": {
    "name": "ipython",
    "version": 3
   },
   "file_extension": ".py",
   "mimetype": "text/x-python",
   "name": "python",
   "nbconvert_exporter": "python",
   "pygments_lexer": "ipython3",
   "version": "3.6.5"
  }
 },
 "nbformat": 4,
 "nbformat_minor": 2
}
