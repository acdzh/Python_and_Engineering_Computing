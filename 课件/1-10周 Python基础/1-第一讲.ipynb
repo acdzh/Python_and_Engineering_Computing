{
 "cells": [
  {
   "cell_type": "markdown",
   "metadata": {},
   "source": [
    "# 第一讲 前言"
   ]
  },
  {
   "cell_type": "markdown",
   "metadata": {},
   "source": [
    "***"
   ]
  },
  {
   "cell_type": "markdown",
   "metadata": {},
   "source": [
    "<span id=\"mulu\"><font face=\"黑体\" size=6>本章目录</font></span>\n",
    "* [1 第一讲 前言](#1)\n",
    "    \n",
    "    * [1.1 Python 的前世今生](#1.1)\n",
    "        * [1.1.1 Python的热度](#1.1.1)\n",
    "        * [1.1.2 为什么 Python 会继续获得程序员的青睐呢？](#1.1.2)\n",
    "        * [1.1.3 历史](#1.1.3)\n",
    "        * [1.1.4 Python的特点](#1.1.4)\n",
    "\n",
    "    * [1.2 Python环境安装与Jupyter Notebook 使用](#1.2)\n",
    "        * [1.2.1 环境安装](#1.2.1)\n",
    "        * [1.2.2 Jupyter Notebook](#1.2.2)\n",
    "        * [1.2.3 Latex](#1.2.3)\n",
    "        \n",
    "    * [1.3 语法](#1.3)\n",
    "        * [1.3.1 行结构](#1.3.1)\n",
    "        * [1.3.2 Empty lines](#1.3.2)\n",
    "        * [1.3.3 Joining two lines](#1.3.3)\n",
    "        * [1.3.4 Multiple statements on a Single line](#1.3.4)\n",
    "        * [1.3.5 Indentation](#1.3.5)\n",
    "        * [1.3.6 Style Guide](#1.3.6)\n",
    "        * [1.3.7 Reserve Words](#1.3.7)\n",
    "        * [1.3.8 build-in helper functions](#1.3.8)\n",
    "        * [1.3.9 Zen](#1.3.9)\n",
    "        \n",
    "    * [1.4 Data Types and Structures 数据类型和数据结构](#1.4)        \n",
    "        * [1.4.1 Data Types](#1.4.1)\n",
    "        * [1.4.2 Collection types](#1.4.2)\n",
    "        \n",
    "    * [1.5 Conditions and Operators](#1.5)        \n",
    "        * [1.5.1 Arithmetic Operations](#1.5.1)\n",
    "        * [1.5.2 Boolean Operators or Comparison Operators](#1.5.2) \n",
    "        * [1.5.3 Assignment Operators](#1.5.3)\n",
    "        * [1.5.4 Bitwise Operators](#1.5.4)\n",
    "        * [1.5.5 Logical Operators](#1.5.5)\n",
    "        * [1.5.6 Comparing null value](#1.5.6)\n",
    "        * [1.5.7 Collection type operations](#1.5.7)\n",
    "        * [1.5.8 三元操作符](#1.5.8)\n",
    "\n",
    "    * [1.6 Conditional Statements](#1.6)        \n",
    "        * [1.6.1 if-elif-else Statement](#1.6.1)\n",
    "        * [1.6.1 try-except-raise Statements](#1.6.2)\n"
   ]
  },
  {
   "cell_type": "markdown",
   "metadata": {},
   "source": [
    "***"
   ]
  },
  {
   "cell_type": "markdown",
   "metadata": {},
   "source": [
    "# <font size=6><span id=\"1.1\"> 1.1 Python 的前世今生</span></font>"
   ]
  },
  {
   "cell_type": "markdown",
   "metadata": {},
   "source": [
    "## <font size=5><span id=\"1.1.1\"> 1.1.1 Python的热度</span></font>"
   ]
  },
  {
   "cell_type": "markdown",
   "metadata": {},
   "source": [
    "<img src=\"images/chapter01/Pythonredu.jpg\">"
   ]
  },
  {
   "cell_type": "markdown",
   "metadata": {},
   "source": [
    "### 再来一个榜单！\n",
    "#### IEEE 的榜单结合 9 个数据来源的 11 个衡量指标（去年的排行榜有 12 个指标，今年少了 Dice job 网站信息，因其关闭了 API），权衡并发布了 47 种语言的排行榜，少于去年的 48 种。该排行榜允许读者根据自己的喜好或需求设定权重，如语言趋势或员工最关注的语言等。读者可以查看 Trending、Jobs、Open 等不同维度的编程语言排行数据。\n",
    "<img src=\"images/chapter01/IEEErank.jpg\">\n",
    "##### https://spectrum.ieee.org/static/interactive-the-top-programming-languages-2018\n",
    "\n",
    "#### Python 的排名从 2016 年开始就持续上升，去年顺利登顶，仅以 0.3 分的优势超越第二名 C 语言险夺第一。而今年，Python 依然高居榜首，且与第二名拉开差距。但是，今年的第二却不再是 C 语言，而是 C++ 了。C++ 的异军突起，使得 C 语言和 Java 都不得不「退位让贤」，分别降至第三和第四（去年它们分别位至第二和第三）。"
   ]
  },
  {
   "cell_type": "markdown",
   "metadata": {},
   "source": [
    "## <font size=5><span id=\"1.1.2\"> 1.1.2为什么 Python 会继续获得程序员的青睐呢？</span></font>\n",
    "### 优点： \n",
    "### (1) python非常简单，非常适合人类阅读\n",
    "### (2) 易学。python虽然是用c语言写的，但是它摈弃了c中非常复杂的指针，简化了python的语法。\n",
    "### (3) Python是FLOSS（自由/开放源码软件）之一。简单地说，你可以自由地发布这个软件的拷贝、阅读它的源代码、对它做改动、把它的一部分用于新的自由软件中。Python希望看到一个更加优秀的人创造并经常改进。\n",
    "### (4) 可移植性————由于它的开源本质，Python已经被移植在许多平台上\n",
    "### (5) 在计算机内部，Python解释器把源代码转换成称为字节码的中间形式，然后再把它翻译成计算机使用的机器语言并运行。\n",
    "### (6) Python既支持面向过程的函数编程也支持面向对象的抽象编程。在面向过程的语言中，程序是由过程或仅仅是可重用代码的函数构建起来的。在面向对象的语言中，程序是由数据和功能组合而成的对象构建起来的。与其他主要的语言如C++和Java相比，Python以一种非常强大又简单的方式实现面向对象编程。\n",
    "### (7)  可扩展性和可嵌入性。如果你需要你的一段关键代码运行得更快或者希望某些算法不公开，你可以把你的部分程序用C或C++编写，然后在你的Python程序中使用它们。你可以把Python嵌入你的C/C++程序，从而向你的程序用户提供脚本功能。\n",
    "### (8) 丰富的库。Python标准库确实很庞大。\n",
    "### (9) Python确实是一种十分精彩又强大的语言。它合理地结合了高性能与使得编写程序简单有趣的特色。\n",
    "### (10) 规范的代码。Python采用强制缩进的方式使得代码具有极佳的可读性。\n",
    "\n",
    "## 缺点：\n",
    "### (1) 运行速度，有速度要求的话，用C++改写关键部分吧。不过对于用户而言，机器上运行速度是可以忽略的。因为用户根本感觉不出来这种速度的差异。\n",
    "### (2) 既是优点也是缺点，python的开源性是的Python语言不能加密，但是目前国内市场纯粹靠编写软件卖给客户的越来越少，网站和移动应用不需要给客户源代码，所以这个问题就是问题了。国随着时间的推移，很多国内软件公司，尤其是游戏公司，也开始规模使用他。\n",
    "### (3) 构架选择太多（没有像C#这样的官方.net构架，也没有像ruby由于历史较短，构架开发的相对集中。Ruby on Rails 构架开发中小型web程序天下无敌）。不过这也从另一个侧面说明，python比较优秀，吸引的人才多，项目也多。"
   ]
  },
  {
   "cell_type": "markdown",
   "metadata": {},
   "source": [
    "## <font size=5><span id=\"1.1.3\"> 1.1.3 历史</span></font>\n",
    "\n",
    "### Python的创始人为Guido van Rossum(吉多·范罗苏姆)。\n",
    "<img src=\"https://gss3.bdstatic.com/7Po3dSag_xI4khGkpoWK1HF6hhy/baike/c0%3Dbaike272%2C5%2C5%2C272%2C90/sign=c0d38aab9d16fdfacc61cebcd5e6e731/d058ccbf6c81800a7ee4f88eb13533fa828b4728.jpg\" width = 350>\n",
    "### 1989年圣诞节期间，在阿姆斯特丹，Guido为了打发圣诞节的无趣，决心开发一个新的脚本解释程序，做为ABC语言的一种继承。之所以 选中Python（大蟒蛇的意思）作为程序的名字，是因为他是一个Monty 大蟒蛇飞行马戏团的爱好者。\n",
    "\n",
    "### ABC是由Guido参加设计的一种教学语言（没听说过）。就Guido本人看来，ABC这种语言非常优美和强大，是专门为非专业程序员设计的。 但是ABC语言并没有成功，究其原因，Guido认为是非开放造成的。Guido决心在Python中避免这一错误（的确如此，Python与其它的语言 如C,C++和Java结合的非常好）。同时，他还想实现在ABC中闪现过但未曾实现的东西。\n",
    "\n"
   ]
  },
  {
   "cell_type": "markdown",
   "metadata": {},
   "source": [
    "## <font size=5><span id=\"1.1.4\"> 1.1.4 Python的特点</span></font>\n",
    "\n",
    "### Python是一种脚本语言，它的语法表达优美易读。它具有很多优秀的脚本语言的特点：解释的，面向对象的，内建的高级数据结构，支持模块和包，支持多种平台，可扩展。而且它还支持交互式方式运行，图形方式运行。它的语法有很多与众不同的特性。\n",
    "### 下面我分别说明一下：\n",
    "### 1.1.4.1 运行方式\n",
    "#### Python可以以命令行方式运行，也可以交互式方式运行，还具有图形集成环境，这样开发Python就相当方便。现在已经出现了许多用Python编写的可视化编程软件，用于实现象Delphi一样的功能。\n",
    "### 1.1.4.2 面向对象\n",
    "#### Python是一个真正的面向对象语言。它甚至支持异常的处理。如果学过Java，应该对这个不陌生。但其它的脚本语言，如PHP，好象就没有。这使得程序的编写更加清晰，而不需要许多的错误检查了。\n",
    "### 1.1.4.3 模块和包\n",
    "#### 这一点更象是Java。对于Java的支持，大家可以了解JPython。JPython是用Java写的Python，它完全支持Java，在这个环境下使用Python可以随意地使用Java的类库。\n",
    "### 1.1.4.4 语言扩展\n",
    "#### 可以用C、C++或Java为Python编写新的新言模块，如函数。或者与Python直接编译在一起，或者采用动态库装入方式实现。也专门有人编写了一个工具，可以实现为Python自动实现函数接口封装，这就是SWIG（Simplified Wrapper and Interface Generator)，或称做简单封装和接口生成器。\n",
    "### 1.1.4.5 有趣的语法\n",
    "#### Guido认为Python的语法是非常优美的。其中一点就是，块语句的表示不是C语言常用的{}对，或其它符号对，而是采用缩近表示法！有趣 吧。就这一点来说，Guido的解释是：首先，使用缩近表示法减少了视觉上的混乱，并且使程序变短，这样就减少了需要对基本代码单元注意的范围；其次，它 减少了程序员的自由度，更有利于统一风格，使得阅读别人的程序更容易。感觉还是不错的，就C语言来说，在if语句后面大括号的写法就好几种，不同的人喜欢 不同的样子，还不如统一起来，都不会看得别扭。\n",
    "#### 在每个类或函数的定义后面，第一行可以是说明语句，根本不需要注释符标记。对于后面跟块语句的语句，后面应跟上一个冒号(:)。一行语句不能太长，因为没有行结束符，如果超长则要使用续行符(/)。还有一些有趣的比如说，象下面的一个比较处理，用C语言为：\n",
    "#### if (2<a && a<5)\n",
    "#### 用Python可以表示为\n",
    "#### if (2<a<5) :\n",
    "#### 当然不一定会有什么好处，但是它所宣称的优美的语言毕竟不是虚的。其它的大家可以通过学习自行了解。\n",
    "### 1.1.4.6 Python可以做什么？\n",
    "#### 如果在Windows下，如果想做一个图形界面程序，那么Python可以胜任。可以去wxPython.org看一下，它是一个Python的扩展库，可以用来实现跨平台的图形编程，它支持windows和unix/linux。在那个网 站上有一些演示，可以学习一下。Python可以做CGI。有些主页提供了对Python的CGI支持。现在还有一些用Python做的游戏。如果想了解 更多的Python可以做什么，可以去SourceForge上查找有关Python的项目，上面有很多东西。"
   ]
  },
  {
   "cell_type": "markdown",
   "metadata": {},
   "source": [
    "[返回目录](#mulu)"
   ]
  },
  {
   "cell_type": "markdown",
   "metadata": {},
   "source": [
    "___"
   ]
  },
  {
   "cell_type": "markdown",
   "metadata": {},
   "source": [
    "# <font size=6><span id='1.2'> 1.2 Python环境安装与Jupyter Notebook 使用</span></font>"
   ]
  },
  {
   "cell_type": "markdown",
   "metadata": {},
   "source": [
    "# 1.2.1 环境安装：https://www.anaconda.com/download/\n",
    "<font size=5><span id=\"1.1.1\"> 1.1.1 Python的热度</span></font>"
   ]
  },
  {
   "cell_type": "markdown",
   "metadata": {},
   "source": [
    "<img src=\"images/chapter01/anaconda.jpg\">\n",
    "#                    Windows 系统     苹果mac操作系统   Linux操作系统\n",
    "\n"
   ]
  },
  {
   "cell_type": "markdown",
   "metadata": {},
   "source": [
    "___"
   ]
  },
  {
   "cell_type": "markdown",
   "metadata": {},
   "source": [
    "## <font size=5><span id=\"1.2.2\"> 1.2.2 Jupyter Notebook </span></font>"
   ]
  },
  {
   "cell_type": "markdown",
   "metadata": {},
   "source": [
    "## 1.2.2.1 什么是Jupyter Notebook\n",
    "\n",
    "Jupyter Notebook（此前被称为 IPython notebook）是一个交互式笔记本，支持运行 40 多种编程语言。\n",
    "\n",
    "Jupyter Notebook 的本质是一个 Web 应用程序，便于创建和共享文学化程序文档，支持实时代码，数学方程，可视化和 markdown。\n",
    "用途包括：数据清理和转换，数值模拟，统计建模，机器学习等等"
   ]
  },
  {
   "cell_type": "markdown",
   "metadata": {},
   "source": [
    "## 1.2.2.2 Notebook Name\n",
    "The notebook name (filename) can be changed by double clicking on the name at the top  of the page, next to the jupyter logo.\n",
    "\n",
    "可以在FILE下面改变文件名字,后缀ipynb\n",
    "\n",
    "<img src=\"images\\chapter01\\notebook文件名.jpg\" width=\"800\" height=\"600\">\n"
   ]
  },
  {
   "cell_type": "markdown",
   "metadata": {},
   "source": [
    "## 1.2.2.3 This is a cell\n",
    "Each cell could be changed to different supported format by selecting from the drop down list above. Or hit **m-key** for Markdown, **y-key** for Code and **r-key** to Raw.\n",
    "### 用快捷键ESC+M 改变成markdown模式；ESC+Y 改变成code程序代码模式；用ESC+R改变成raw模式\n",
    "This cell is of Markdown format\n",
    "\n",
    "### markdown是啥?\n",
    "Markdown是一种可以使用普通文本编辑器编写的标记语言，通过简单的标记语法，它可以使普通文本内容具有一定的格式。\n",
    "\n",
    "Markdown的语法简洁明了、学习容易，而且功能比纯文本更强，因此有很多人用它写博客。\n",
    "\n",
    "除此之外，现在由于我们有了RStudio这样的神级编辑器，我们还可以快速将Markdown转化为演讲PPT、Word产品文档、LaTex论文甚至是用非常少量的代码完成最小可用原型。在数据科学领域，Markdown已经广泛使用，极大地推进了动态可重复性研究的历史进程"
   ]
  },
  {
   "cell_type": "code",
   "execution_count": 1,
   "metadata": {},
   "outputs": [],
   "source": [
    "# This cell is of Code format"
   ]
  },
  {
   "cell_type": "raw",
   "metadata": {},
   "source": [
    "# This cell is of Raw NBConvert format"
   ]
  },
  {
   "cell_type": "markdown",
   "metadata": {},
   "source": [
    "## Run a cell\n",
    "To run a cell, just hit **shift-enter** or click on the **play** button in the toolbar or the **Cell:Run** menu item. \n",
    "\n",
    "To unrender the selected cell, double click on the cell."
   ]
  },
  {
   "cell_type": "code",
   "execution_count": 2,
   "metadata": {},
   "outputs": [],
   "source": [
    "x = 1\n",
    "#print(x)"
   ]
  },
  {
   "cell_type": "markdown",
   "metadata": {},
   "source": [
    "When running a code cell, there will be a [ \\* ] symbol next to the cell, when it is done, the sequence (order number) of the cell that was run will be displayed. \n",
    "## Output\n",
    "Any output to console will be shown beneath the code cell"
   ]
  },
  {
   "cell_type": "code",
   "execution_count": 3,
   "metadata": {},
   "outputs": [],
   "source": [
    "# helle world\n",
    "print(\"Hello World!\")"
   ]
  },
  {
   "cell_type": "markdown",
   "metadata": {},
   "source": [
    "## Inspect Data\n",
    "If the variable / data is on the last line of the cell, it will be printed as it as output."
   ]
  },
  {
   "cell_type": "code",
   "execution_count": 4,
   "metadata": {},
   "outputs": [],
   "source": [
    "x"
   ]
  },
  {
   "cell_type": "code",
   "execution_count": 5,
   "metadata": {},
   "outputs": [],
   "source": [
    "type(x)"
   ]
  },
  {
   "cell_type": "code",
   "execution_count": 6,
   "metadata": {},
   "outputs": [],
   "source": [
    "y = \"String\"\n",
    "z = y + ' ' + str(x)\n",
    "z"
   ]
  },
  {
   "cell_type": "markdown",
   "metadata": {},
   "source": [
    "# Session\n",
    "Each time a notebook is run, it is run on a new session. \n",
    "\n",
    "A session can be restarted by clicking on **Kernel:Restart** from the menu."
   ]
  },
  {
   "cell_type": "markdown",
   "metadata": {},
   "source": [
    "## Kernel\n",
    "Jupyter notebook supports various kernels other than python and each cell's kernel may be changed be selecting the kernel from **Kernel:Change kernel:..**\n",
    "\n",
    "The changed kernel is reflected on the right hand side of the menu bar."
   ]
  },
  {
   "cell_type": "markdown",
   "metadata": {},
   "source": [
    "# I LOVE YOU\n",
    "## LOVE\n",
    "###LOVE\n",
    "####LOVE"
   ]
  },
  {
   "cell_type": "markdown",
   "metadata": {},
   "source": [
    "***"
   ]
  },
  {
   "cell_type": "markdown",
   "metadata": {},
   "source": [
    "## 1.2.2.4 Jupyter Notebook常用操作\n",
    "### H：查看快捷键\n",
    "\n",
    "## Esc：进入命令模式\n",
    "### Enter：进入编辑模式\n",
    "### M：markdown\n",
    "### s：save保存\n",
    "### x：删除\n",
    "### a：above插入\n",
    "### b：below插入\n",
    "### Ctrl+Enter：运行cell\n",
    "### shift+Enter：运行cell并进入下一个cell\n",
    "\n",
    "### Alt+Enter : 运行本单元，在其下插入新单元"
   ]
  },
  {
   "cell_type": "markdown",
   "metadata": {},
   "source": [
    "### X : 剪切选中的单元\n",
    "### C : 复制选中的单元\n",
    "### Shift-V : 粘贴到上方单元\n",
    "### V : 粘贴到下方单元\n",
    "### L：显示行号，在命令模式中的代码单元格按 `L` 打开数字。\n",
    "\n",
    "### Esc + F   在代码中查找、替换，忽略输出。\n",
    "### Esc + O   在 cell 和输出结果间切换。 (字母o)\n",
    "\n",
    "### 选择多个 cell:  \n",
    "#### Esc +Shift + J   或  Esc +Shift + Down   选择下一个 cell。\n",
    "#### Esc +Shift + K   或  Esc + Shift + Up    选择上一个 cell。\n",
    "\n",
    "#### 一旦选定 cell，可以批量删除 / 拷贝 / 剪切 / 粘贴 / 运行。当你需要移动 notebook 的一部分时这个很有用。\n",
    "\n",
    "### Esc +Shift + M   合并 cell. "
   ]
  },
  {
   "cell_type": "code",
   "execution_count": 7,
   "metadata": {},
   "outputs": [],
   "source": [
    "i = 10\n",
    "print(i)\n",
    "\n",
    "j = 20\n",
    "\n",
    "k = 30\n",
    "print(i,j,k)"
   ]
  },
  {
   "cell_type": "code",
   "execution_count": null,
   "metadata": {},
   "outputs": [],
   "source": []
  },
  {
   "cell_type": "code",
   "execution_count": null,
   "metadata": {},
   "outputs": [],
   "source": []
  },
  {
   "cell_type": "markdown",
   "metadata": {},
   "source": [
    "## <font size=5><span id=\"1.2.3\"> 1.2.3 LaTex是什么？</span></font>\n",
    "\n",
    "### LaTeX（LATEX是一种基于ΤΕΧ的排版系统，由美国计算机学家莱斯利·兰伯特（Leslie Lamport）在20世纪80年代初期开发，利用这种格式，即使使用者没有排版和程序设计的知识也可以充分发挥由TeX所提供的强大功能，能在几天，甚至几小时内生成很多具有书籍质量的印刷品。对于生成复杂表格和数学公式，这一点表现得尤为突出。因此它非常适用于生成高印刷质量的科技和数学类文档。这个系统同样适用于生成从简单的信件到完整书籍的所有其他种类的文档。\n",
    "\n",
    "## 简单的规则：\n",
    "\n",
    "### (1) 空格：LaTeX中空格用来隔开单词(英语一类字母文字)，多个空格等效于一个空格；对中文没有作用。 \n",
    "### (2) 换行：用控制命令“\\”,或“ \\newline”. \n",
    "### (3) 分段：用控制命令“\\par” 或空出一行。 \n",
    "### (4) 换页：用控制命令“\\newpage”或“\\clearpage” \n",
    "### (5) 特殊控制字符：#，$, %, &, - ,{, }, ^, ~ \n",
    "\n",
    "### 要想输出这些控制符用下列命令：\n",
    "\\\\# \\\\$ \\\\% \\\\& \\\\- \\\\{ \\\\} \\\\^{} \\\\~{} $\\backslash$表示 \"\\\".。\n",
    "\n",
    "\n",
    "## 常用数学符号的 LaTeX 表示方法\n",
    "\n",
    "### １、指数和下标可以用^和_后加相应字符来实现。比如：\n",
    "\n",
    "#### 1     $a_{1}$   $x^{2}$  \n",
    "#### 2     $e^{-\\alpha t}$ \n",
    "#### 3     $a^{3}_{ij}$ \n",
    "#### 4     $e^{x^2} \\neq {e^x}^2$\n",
    "\n",
    "### 2、平方根（square root）的输入命令为：\\sqrt，n 次方根相应地为:\\sqrt[n]。方根符号的大小由 LATEX自动加以调整。也可用 \\surd 仅给出符号,\\quad表示退格，\\qquad表示退两格。比如：\n",
    "\n",
    "$$\\sqrt{x}\\qquad\n",
    "\\sqrt{ x^{2}+\\sqrt{y} }\\qquad \\sqrt[3]{2}$$\n",
    "$\\surd[x^2 + y^2]$生成根号上没有横线的表示方式\n",
    "\n",
    "### 3、命令\\overline 和\\underline 在表达式的上、下方画出水平线。比如：\n",
    "\n",
    "$\\overline{m+n} \\qquad\n",
    "\\underline{m+n}$\n",
    "\n",
    "#### 呈现效果： \n",
    "m+n¯¯¯¯¯¯¯¯¯¯¯¯¯m+n¯ \\qquad \n",
    "m+n––––––m+n_ \n",
    "### 4、命令\\overbrace 和\\underbrace 在表达式的上、下方给出一水平的大括号。\n",
    "\n",
    "$\\underbrace{ a+b+\\cdots+z }_{26}$\n",
    "\n",
    "https://blog.csdn.net/testcs_dn/article/details/44229085"
   ]
  },
  {
   "cell_type": "markdown",
   "metadata": {},
   "source": [
    "[返回目录](#mulu)"
   ]
  },
  {
   "cell_type": "markdown",
   "metadata": {},
   "source": [
    "___"
   ]
  },
  {
   "cell_type": "markdown",
   "metadata": {},
   "source": [
    "# <font size=6> <span id=\"1.3\"> 1.3 语法</span></font>\n",
    "## 语法解释器\n",
    "## Python是一种脚本语言，即它是由解析器解释"
   ]
  },
  {
   "cell_type": "markdown",
   "metadata": {},
   "source": [
    "## <font size=5><span id=\"1.3.1\"> 1.3.1 行结构</span></font>\n",
    "#### Python是基于行的语法形式\n",
    "#### 当遇到换行符表示一句逻辑上结束了"
   ]
  },
  {
   "cell_type": "code",
   "execution_count": 8,
   "metadata": {},
   "outputs": [],
   "source": [
    "x = 1\n"
   ]
  },
  {
   "cell_type": "markdown",
   "metadata": {},
   "source": [
    "## <font size=5><span id=\"1.3.2\"> 1.3.2 空白行</span></font>\n",
    "### Python解释器忽略那种只有一些空格、tabs，注释的一行，均认为是空白行\n"
   ]
  },
  {
   "cell_type": "code",
   "execution_count": 9,
   "metadata": {},
   "outputs": [],
   "source": [
    "# comment\n",
    "    \n",
    "    # more comments\n",
    "\t\n",
    "        "
   ]
  },
  {
   "cell_type": "markdown",
   "metadata": {},
   "source": [
    "### 注释从哈希字符#开始。所有的字符在行结束后都是注释的一部分，而Python解释器忽略了它们。\n",
    "### 请注意，Python没有多行或块注释。"
   ]
  },
  {
   "cell_type": "markdown",
   "metadata": {},
   "source": [
    "## <font size=5><span id=\"1.3.3\"> 1.3.3 多行连接</span></font>\n",
    "\n",
    "When a single line of codes is too long, it can be broken into two or more physical lines using the backslash (\\) character.  \n",
    "有时候遇到一行代码太长（打印和显示方便），会将一行用\\符号隔开，表示下一行是接着的"
   ]
  },
  {
   "cell_type": "code",
   "execution_count": 10,
   "metadata": {},
   "outputs": [],
   "source": [
    "variable_number_one   = 1\n",
    "variable_number_two   = '2'\n",
    "if variable_number_one == 1 \\\n",
    "    and variable_number_one < 2 \\\n",
    "    and variable_number_two == '2':\n",
    "    print( \"This is an example of line joining\" )"
   ]
  },
  {
   "cell_type": "code",
   "execution_count": 11,
   "metadata": {},
   "outputs": [],
   "source": [
    "a = 1\n",
    "b = 2\n",
    "if (a == 1 \\\n",
    "   && b ==2):\n",
    "    print(a,b)"
   ]
  },
  {
   "cell_type": "markdown",
   "metadata": {},
   "source": [
    "Line breaks are ignored inside pairs of [], {} or ().\n",
    "行分割的做法，当遇到括弧的时候，就失效了"
   ]
  },
  {
   "cell_type": "markdown",
   "metadata": {},
   "source": [
    "## <font size=5><span id=\"1.3.4\"> 1.3.4 多个语句一行</span></font>\n",
    "\n",
    "You can join two statements in a singale line by using a semicolon (;) to differentiate the two.\n",
    "可以将多个语句写到一行，此时用分号隔开"
   ]
  },
  {
   "cell_type": "code",
   "execution_count": 12,
   "metadata": {},
   "outputs": [
    {
     "name": "stdout",
     "output_type": "stream",
     "text": [
      "Statement 1\n",
      "Statement 2\n"
     ]
    }
   ],
   "source": [
    "str1 = \"Statement 1\"; str2 = \"Statement 2\"; print(str1); print(str2)"
   ]
  },
  {
   "cell_type": "code",
   "execution_count": 13,
   "metadata": {},
   "outputs": [],
   "source": [
    "# 等同于。。。。。。"
   ]
  },
  {
   "cell_type": "markdown",
   "metadata": {},
   "source": [
    "## <font size=5><span id=\"1.3.5\"> 1.3.5 缩进</span></font>\n",
    "\n",
    "Whitespaces (spaces and tabs) are used to define blocks of codes. Where in other languages such as R or C/C++ curly braces ( { } ) are used.\n",
    "用空格或者tab缩进一行代码；缩进的代码表示是一个块，从属于上面一句\n",
    "### 严格的缩进是的python代码非常精简而且有层次\n",
    "### 如果在正确的位置输入冒号，按下回车后，第二行代码会自动缩进"
   ]
  },
  {
   "cell_type": "code",
   "execution_count": 15,
   "metadata": {},
   "outputs": [
    {
     "name": "stdout",
     "output_type": "stream",
     "text": [
      "This statement\n",
      "and this has the same indentation\n"
     ]
    }
   ],
   "source": [
    "if x > 0:\n",
    "    print(\"This statement\")\n",
    "    print(\"and this has the same indentation\")"
   ]
  },
  {
   "cell_type": "markdown",
   "metadata": {},
   "source": [
    "The number of whitespaces is not fixed. But all statements whithin the block must be indented the same amount of spaces or tabls or spaces and tabs.  \n",
    "缩进的空格数量不是固定的；但是在一个块内，要保持同样的缩进量"
   ]
  },
  {
   "cell_type": "code",
   "execution_count": 16,
   "metadata": {},
   "outputs": [
    {
     "name": "stdout",
     "output_type": "stream",
     "text": [
      "x is greater than zero\n",
      "x is single digit\n",
      "This statement has 4 spaces and a single tab indentation\n"
     ]
    }
   ],
   "source": [
    "x = 5\n",
    "if x > 0:\n",
    "    print(\"x is greater than zero\") #缩进了4个空格\n",
    "    if x < 10:\n",
    "     print (\"x is single digit\")  #缩进了1个空格\n",
    "     print (\"This statement has 4 spaces and a single tab indentation\")"
   ]
  },
  {
   "cell_type": "code",
   "execution_count": 17,
   "metadata": {},
   "outputs": [
    {
     "name": "stdout",
     "output_type": "stream",
     "text": [
      "x is greater than zero\n",
      "x is single digit\n",
      "This statement has 4 spaces and a single tab indentation\n"
     ]
    }
   ],
   "source": [
    "x = 5\n",
    "if x > 0:\n",
    "    print(\"x is greater than zero\") #缩进了4个空格\n",
    "    if x < 10:\n",
    "        print (\"x is single digit\")  #缩进了1个空格\n",
    "        print (\"This statement has 4 spaces and a single tab indentation\")"
   ]
  },
  {
   "cell_type": "markdown",
   "metadata": {},
   "source": [
    "## <font size=5><span id=\"1.3.6\"> 1.3.6 代码风格指南</span></font>\n",
    " * Use 4 spaces per indentation and no tabs.使用4个空格，不要用tabs\n",
    " * Do not mix tabs and spaces. Tabs create confusion and it is recommended to use only spaces. 不要混合tab和空格\n",
    " * Maximum line length : 79 characters which help users with a small display. 最多79个字符一行\n",
    " * Use blank lines to separate top-level function and class definitions and single blank line to separate methods definitions inside a class and larger blocks of code inside functions. 用空行区分不同程序块\n",
    " * When possible, put inline comments (should be complete sentences).  尽可能的注释\n",
    " * Use spaces around expressions and statements. 在表达式和语句中多用空格"
   ]
  },
  {
   "cell_type": "code",
   "execution_count": 18,
   "metadata": {},
   "outputs": [],
   "source": [
    "# 求方程根的代码\n",
    "# 同学们现场编写一下"
   ]
  },
  {
   "cell_type": "markdown",
   "metadata": {},
   "source": [
    "## <font size=5><span id=\"1.3.7\"> 1.3.7 Reserve Words保留字</span></font>\n",
    "The following identifiers are used as reserved words of the language, and cannot be used as ordinary identifiers.\n",
    "一些关键字是系统自带的保留字，即不能用作为标识符"
   ]
  },
  {
   "cell_type": "code",
   "execution_count": 19,
   "metadata": {},
   "outputs": [
    {
     "data": {
      "text/plain": [
       "['False',\n",
       " 'None',\n",
       " 'True',\n",
       " 'and',\n",
       " 'as',\n",
       " 'assert',\n",
       " 'break',\n",
       " 'class',\n",
       " 'continue',\n",
       " 'def',\n",
       " 'del',\n",
       " 'elif',\n",
       " 'else',\n",
       " 'except',\n",
       " 'finally',\n",
       " 'for',\n",
       " 'from',\n",
       " 'global',\n",
       " 'if',\n",
       " 'import',\n",
       " 'in',\n",
       " 'is',\n",
       " 'lambda',\n",
       " 'nonlocal',\n",
       " 'not',\n",
       " 'or',\n",
       " 'pass',\n",
       " 'raise',\n",
       " 'return',\n",
       " 'try',\n",
       " 'while',\n",
       " 'with',\n",
       " 'yield']"
      ]
     },
     "execution_count": 19,
     "metadata": {},
     "output_type": "execute_result"
    }
   ],
   "source": [
    "import keyword\n",
    "keyword.kwlist"
   ]
  },
  {
   "cell_type": "markdown",
   "metadata": {},
   "source": [
    "## <font size=5><span id=\"1.3.8\"> 1.3.8 build-in functions内置函数</span></font>\n",
    "### 如：print() input() \n",
    "### dir(\\__builtins__)可以看到内置函数列表"
   ]
  },
  {
   "cell_type": "code",
   "execution_count": 20,
   "metadata": {},
   "outputs": [
    {
     "data": {
      "text/plain": [
       "['ArithmeticError',\n",
       " 'AssertionError',\n",
       " 'AttributeError',\n",
       " 'BaseException',\n",
       " 'BlockingIOError',\n",
       " 'BrokenPipeError',\n",
       " 'BufferError',\n",
       " 'BytesWarning',\n",
       " 'ChildProcessError',\n",
       " 'ConnectionAbortedError',\n",
       " 'ConnectionError',\n",
       " 'ConnectionRefusedError',\n",
       " 'ConnectionResetError',\n",
       " 'DeprecationWarning',\n",
       " 'EOFError',\n",
       " 'Ellipsis',\n",
       " 'EnvironmentError',\n",
       " 'Exception',\n",
       " 'False',\n",
       " 'FileExistsError',\n",
       " 'FileNotFoundError',\n",
       " 'FloatingPointError',\n",
       " 'FutureWarning',\n",
       " 'GeneratorExit',\n",
       " 'IOError',\n",
       " 'ImportError',\n",
       " 'ImportWarning',\n",
       " 'IndentationError',\n",
       " 'IndexError',\n",
       " 'InterruptedError',\n",
       " 'IsADirectoryError',\n",
       " 'KeyError',\n",
       " 'KeyboardInterrupt',\n",
       " 'LookupError',\n",
       " 'MemoryError',\n",
       " 'ModuleNotFoundError',\n",
       " 'NameError',\n",
       " 'None',\n",
       " 'NotADirectoryError',\n",
       " 'NotImplemented',\n",
       " 'NotImplementedError',\n",
       " 'OSError',\n",
       " 'OverflowError',\n",
       " 'PendingDeprecationWarning',\n",
       " 'PermissionError',\n",
       " 'ProcessLookupError',\n",
       " 'RecursionError',\n",
       " 'ReferenceError',\n",
       " 'ResourceWarning',\n",
       " 'RuntimeError',\n",
       " 'RuntimeWarning',\n",
       " 'StopAsyncIteration',\n",
       " 'StopIteration',\n",
       " 'SyntaxError',\n",
       " 'SyntaxWarning',\n",
       " 'SystemError',\n",
       " 'SystemExit',\n",
       " 'TabError',\n",
       " 'TimeoutError',\n",
       " 'True',\n",
       " 'TypeError',\n",
       " 'UnboundLocalError',\n",
       " 'UnicodeDecodeError',\n",
       " 'UnicodeEncodeError',\n",
       " 'UnicodeError',\n",
       " 'UnicodeTranslateError',\n",
       " 'UnicodeWarning',\n",
       " 'UserWarning',\n",
       " 'ValueError',\n",
       " 'Warning',\n",
       " 'WindowsError',\n",
       " 'ZeroDivisionError',\n",
       " '__IPYTHON__',\n",
       " '__build_class__',\n",
       " '__debug__',\n",
       " '__doc__',\n",
       " '__import__',\n",
       " '__loader__',\n",
       " '__name__',\n",
       " '__package__',\n",
       " '__spec__',\n",
       " 'abs',\n",
       " 'all',\n",
       " 'any',\n",
       " 'ascii',\n",
       " 'bin',\n",
       " 'bool',\n",
       " 'bytearray',\n",
       " 'bytes',\n",
       " 'callable',\n",
       " 'chr',\n",
       " 'classmethod',\n",
       " 'compile',\n",
       " 'complex',\n",
       " 'copyright',\n",
       " 'credits',\n",
       " 'delattr',\n",
       " 'dict',\n",
       " 'dir',\n",
       " 'display',\n",
       " 'divmod',\n",
       " 'enumerate',\n",
       " 'eval',\n",
       " 'exec',\n",
       " 'filter',\n",
       " 'float',\n",
       " 'format',\n",
       " 'frozenset',\n",
       " 'get_ipython',\n",
       " 'getattr',\n",
       " 'globals',\n",
       " 'hasattr',\n",
       " 'hash',\n",
       " 'help',\n",
       " 'hex',\n",
       " 'id',\n",
       " 'input',\n",
       " 'int',\n",
       " 'isinstance',\n",
       " 'issubclass',\n",
       " 'iter',\n",
       " 'len',\n",
       " 'license',\n",
       " 'list',\n",
       " 'locals',\n",
       " 'map',\n",
       " 'max',\n",
       " 'memoryview',\n",
       " 'min',\n",
       " 'next',\n",
       " 'object',\n",
       " 'oct',\n",
       " 'open',\n",
       " 'ord',\n",
       " 'pow',\n",
       " 'print',\n",
       " 'property',\n",
       " 'range',\n",
       " 'repr',\n",
       " 'reversed',\n",
       " 'round',\n",
       " 'set',\n",
       " 'setattr',\n",
       " 'slice',\n",
       " 'sorted',\n",
       " 'staticmethod',\n",
       " 'str',\n",
       " 'sum',\n",
       " 'super',\n",
       " 'tuple',\n",
       " 'type',\n",
       " 'vars',\n",
       " 'zip']"
      ]
     },
     "execution_count": 20,
     "metadata": {},
     "output_type": "execute_result"
    }
   ],
   "source": [
    "dir(__builtins__)"
   ]
  },
  {
   "cell_type": "code",
   "execution_count": 21,
   "metadata": {},
   "outputs": [
    {
     "data": {
      "text/plain": [
       "['In',\n",
       " 'Out',\n",
       " '_',\n",
       " '_19',\n",
       " '_20',\n",
       " '_4',\n",
       " '_5',\n",
       " '_6',\n",
       " '__',\n",
       " '___',\n",
       " '__builtin__',\n",
       " '__builtins__',\n",
       " '__doc__',\n",
       " '__loader__',\n",
       " '__name__',\n",
       " '__package__',\n",
       " '__spec__',\n",
       " '_dh',\n",
       " '_i',\n",
       " '_i1',\n",
       " '_i10',\n",
       " '_i11',\n",
       " '_i12',\n",
       " '_i13',\n",
       " '_i14',\n",
       " '_i15',\n",
       " '_i16',\n",
       " '_i17',\n",
       " '_i18',\n",
       " '_i19',\n",
       " '_i2',\n",
       " '_i20',\n",
       " '_i21',\n",
       " '_i3',\n",
       " '_i4',\n",
       " '_i5',\n",
       " '_i6',\n",
       " '_i7',\n",
       " '_i8',\n",
       " '_i9',\n",
       " '_ih',\n",
       " '_ii',\n",
       " '_iii',\n",
       " '_oh',\n",
       " 'aa',\n",
       " 'aaaa',\n",
       " 'exit',\n",
       " 'get_ipython',\n",
       " 'i',\n",
       " 'j',\n",
       " 'k',\n",
       " 'keyword',\n",
       " 'quit',\n",
       " 'str1',\n",
       " 'str2',\n",
       " 'variable_number_one',\n",
       " 'variable_number_two',\n",
       " 'x',\n",
       " 'y',\n",
       " 'z']"
      ]
     },
     "execution_count": 21,
     "metadata": {},
     "output_type": "execute_result"
    }
   ],
   "source": [
    "aa = 3\n",
    "aaaa = 5\n",
    "dir()  #python内置函数；不带参数时，返回当前范围内的变量、方法和定义的类型列表\n",
    "        #带参数是，返回参数的属性、方法列表\n",
    "\n"
   ]
  },
  {
   "cell_type": "code",
   "execution_count": 22,
   "metadata": {},
   "outputs": [
    {
     "name": "stdout",
     "output_type": "stream",
     "text": [
      "Help on built-in function dir in module builtins:\n",
      "\n",
      "dir(...)\n",
      "    dir([object]) -> list of strings\n",
      "    \n",
      "    If called without an argument, return the names in the current scope.\n",
      "    Else, return an alphabetized list of names comprising (some of) the attributes\n",
      "    of the given object, and of attributes reachable from it.\n",
      "    If the object supplies a method named __dir__, it will be used; otherwise\n",
      "    the default dir() logic is used and returns:\n",
      "      for a module object: the module's attributes.\n",
      "      for a class object:  its attributes, and recursively the attributes\n",
      "        of its bases.\n",
      "      for any other object: its attributes, its class's attributes, and\n",
      "        recursively the attributes of its class's base classes.\n",
      "\n"
     ]
    }
   ],
   "source": [
    "help(dir)"
   ]
  },
  {
   "cell_type": "code",
   "execution_count": 23,
   "metadata": {},
   "outputs": [
    {
     "name": "stdout",
     "output_type": "stream",
     "text": [
      "Help on built-in function print in module builtins:\n",
      "\n",
      "print(...)\n",
      "    print(value, ..., sep=' ', end='\\n', file=sys.stdout, flush=False)\n",
      "    \n",
      "    Prints the values to a stream, or to sys.stdout by default.\n",
      "    Optional keyword arguments:\n",
      "    file:  a file-like object (stream); defaults to the current sys.stdout.\n",
      "    sep:   string inserted between values, default a space.\n",
      "    end:   string appended after the last value, default a newline.\n",
      "    flush: whether to forcibly flush the stream.\n",
      "\n"
     ]
    }
   ],
   "source": [
    "help(print)   # 内置函数，查看函数或模块用途的详细说明"
   ]
  },
  {
   "cell_type": "markdown",
   "metadata": {},
   "source": [
    "Hit the **STOP** square button in the button ribbons/bar on top to continue to next cell."
   ]
  },
  {
   "cell_type": "code",
   "execution_count": 24,
   "metadata": {},
   "outputs": [
    {
     "name": "stdout",
     "output_type": "stream",
     "text": [
      "Help on function copy in module copy:\n",
      "\n",
      "copy(x)\n",
      "    Shallow copy operation on arbitrary Python objects.\n",
      "    \n",
      "    See the module's __doc__ string for more info.\n",
      "\n"
     ]
    }
   ],
   "source": [
    "#help(str)\n",
    "import copy\n",
    "help(copy.copy)"
   ]
  },
  {
   "cell_type": "markdown",
   "metadata": {},
   "source": [
    "## <font size=5><span id=\"1.3.9\"> 1.3.9 The Zen of Python 禅</span></font>"
   ]
  },
  {
   "cell_type": "code",
   "execution_count": 25,
   "metadata": {},
   "outputs": [
    {
     "name": "stdout",
     "output_type": "stream",
     "text": [
      "The Zen of Python, by Tim Peters\n",
      "\n",
      "Beautiful is better than ugly.\n",
      "Explicit is better than implicit.\n",
      "Simple is better than complex.\n",
      "Complex is better than complicated.\n",
      "Flat is better than nested.\n",
      "Sparse is better than dense.\n",
      "Readability counts.\n",
      "Special cases aren't special enough to break the rules.\n",
      "Although practicality beats purity.\n",
      "Errors should never pass silently.\n",
      "Unless explicitly silenced.\n",
      "In the face of ambiguity, refuse the temptation to guess.\n",
      "There should be one-- and preferably only one --obvious way to do it.\n",
      "Although that way may not be obvious at first unless you're Dutch.\n",
      "Now is better than never.\n",
      "Although never is often better than *right* now.\n",
      "If the implementation is hard to explain, it's a bad idea.\n",
      "If the implementation is easy to explain, it may be a good idea.\n",
      "Namespaces are one honking great idea -- let's do more of those!\n"
     ]
    }
   ],
   "source": [
    "import this"
   ]
  },
  {
   "cell_type": "markdown",
   "metadata": {},
   "source": [
    "#### References\n",
    "https://www.w3resource.com/python/python-syntax.php"
   ]
  },
  {
   "cell_type": "markdown",
   "metadata": {},
   "source": [
    "[返回目录](#mulu)"
   ]
  },
  {
   "cell_type": "markdown",
   "metadata": {},
   "source": [
    "___"
   ]
  },
  {
   "cell_type": "markdown",
   "metadata": {},
   "source": [
    "# <font size=6> <span id=\"1.4\"> 1.4 数据类型和结构</span></font>"
   ]
  },
  {
   "cell_type": "markdown",
   "metadata": {},
   "source": [
    "## <font size=5><span id=\"1.4.1\"> 1.4.1 数据类型</span></font>\n"
   ]
  },
  {
   "cell_type": "markdown",
   "metadata": {},
   "source": [
    "Everything in Python is an object.任何数据在python中都是一个对象  \n",
    "Python objects do not need explicit declaration 最大的特点是，python对象不需要公开声明"
   ]
  },
  {
   "cell_type": "markdown",
   "metadata": {},
   "source": [
    "### 整型"
   ]
  },
  {
   "cell_type": "code",
   "execution_count": 26,
   "metadata": {},
   "outputs": [
    {
     "data": {
      "text/plain": [
       "int"
      ]
     },
     "execution_count": 26,
     "metadata": {},
     "output_type": "execute_result"
    }
   ],
   "source": [
    "count =  5\n",
    "type(count)"
   ]
  },
  {
   "cell_type": "markdown",
   "metadata": {},
   "source": [
    "  \n",
    "#### type() 函数如果你只有第一个参数则返回对象的类型"
   ]
  },
  {
   "cell_type": "code",
   "execution_count": 27,
   "metadata": {},
   "outputs": [
    {
     "name": "stdout",
     "output_type": "stream",
     "text": [
      "500000000000000000000000000000000000000000000000000000000000000000\n"
     ]
    }
   ],
   "source": [
    "ii=500000000000000000000000000000000000000000000000000000000000000000\n",
    "print(ii)\n",
    "### python3已经对长整型无缝结合，即长度不受限制\n",
    "### 如果说有限制，那也是计算机虚拟内存综述\n",
    "### 所以python3可以进行大数计算"
   ]
  },
  {
   "cell_type": "code",
   "execution_count": 28,
   "metadata": {},
   "outputs": [
    {
     "data": {
      "text/plain": [
       "93326215443944152681699238856266700490715968264381621468592963895217599993229915608941463976156518286253697920827223758251185210916864000000000000000000000000"
      ]
     },
     "execution_count": 28,
     "metadata": {},
     "output_type": "execute_result"
    }
   ],
   "source": [
    "sum = 1\n",
    "for i in range(1,101,1):\n",
    "    sum *= i  # sum = sum + i\n",
    "sum    \n",
    "##此大数在其它语言是不太可能实现的！"
   ]
  },
  {
   "cell_type": "code",
   "execution_count": 29,
   "metadata": {},
   "outputs": [
    {
     "data": {
      "text/plain": [
       "1.6666666666666667"
      ]
     },
     "execution_count": 29,
     "metadata": {},
     "output_type": "execute_result"
    }
   ],
   "source": [
    "5 / 3"
   ]
  },
  {
   "cell_type": "code",
   "execution_count": 30,
   "metadata": {},
   "outputs": [
    {
     "data": {
      "text/plain": [
       "2"
      ]
     },
     "execution_count": 30,
     "metadata": {},
     "output_type": "execute_result"
    }
   ],
   "source": [
    "round(5/3)  #四舍五入"
   ]
  },
  {
   "cell_type": "code",
   "execution_count": 31,
   "metadata": {},
   "outputs": [
    {
     "data": {
      "text/plain": [
       "1.667"
      ]
     },
     "execution_count": 31,
     "metadata": {},
     "output_type": "execute_result"
    }
   ],
   "source": [
    "round(5/3,3) #round函数的用法"
   ]
  },
  {
   "cell_type": "markdown",
   "metadata": {},
   "source": [
    "### 1. /是精确除法，//是向下取整除法，%是求模\n",
    "### 2. %求模是基于向下取整除法规则的\n",
    "### 3. 四舍五入取整round, 向零取整int, 向下和向上取整函数math.floor, math.ceil\n",
    "### 4. //和math.floor在CPython中的不同\n",
    "### 5. /在python 2 中是向下取整运算\n",
    "### 6. C中%是向零取整求模。"
   ]
  },
  {
   "cell_type": "code",
   "execution_count": 32,
   "metadata": {},
   "outputs": [
    {
     "data": {
      "text/plain": [
       "1"
      ]
     },
     "execution_count": 32,
     "metadata": {},
     "output_type": "execute_result"
    }
   ],
   "source": [
    "5 // 3"
   ]
  },
  {
   "cell_type": "code",
   "execution_count": 33,
   "metadata": {},
   "outputs": [
    {
     "data": {
      "text/plain": [
       "1.6666666666666667"
      ]
     },
     "execution_count": 33,
     "metadata": {},
     "output_type": "execute_result"
    }
   ],
   "source": [
    "5/3"
   ]
  },
  {
   "cell_type": "code",
   "execution_count": 34,
   "metadata": {},
   "outputs": [
    {
     "data": {
      "text/plain": [
       "1"
      ]
     },
     "execution_count": 34,
     "metadata": {},
     "output_type": "execute_result"
    }
   ],
   "source": [
    "9 % 2"
   ]
  },
  {
   "cell_type": "markdown",
   "metadata": {},
   "source": [
    "### 浮点型\n",
    "#### python区分浮点型与整型的区别，就是有没有小数点"
   ]
  },
  {
   "cell_type": "code",
   "execution_count": 35,
   "metadata": {},
   "outputs": [
    {
     "data": {
      "text/plain": [
       "float"
      ]
     },
     "execution_count": 35,
     "metadata": {},
     "output_type": "execute_result"
    }
   ],
   "source": [
    "meters = 1.2\n",
    "type(meters)"
   ]
  },
  {
   "cell_type": "code",
   "execution_count": 36,
   "metadata": {},
   "outputs": [
    {
     "name": "stdout",
     "output_type": "stream",
     "text": [
      "1200000000000.0\n"
     ]
    }
   ],
   "source": [
    "a = 1.2e12  # 1.2E12  E,e both are ok\n",
    "print(a)"
   ]
  },
  {
   "cell_type": "code",
   "execution_count": 37,
   "metadata": {},
   "outputs": [
    {
     "data": {
      "text/plain": [
       "float"
      ]
     },
     "execution_count": 37,
     "metadata": {},
     "output_type": "execute_result"
    }
   ],
   "source": [
    "a = 12e12\n",
    "type(a)"
   ]
  },
  {
   "cell_type": "code",
   "execution_count": 38,
   "metadata": {},
   "outputs": [
    {
     "name": "stdout",
     "output_type": "stream",
     "text": [
      "3.141592653589793\n"
     ]
    }
   ],
   "source": [
    "import math\n",
    "\n",
    "pi = math.pi\n",
    "print(pi)"
   ]
  },
  {
   "cell_type": "code",
   "execution_count": 39,
   "metadata": {},
   "outputs": [
    {
     "data": {
      "text/plain": [
       "2.718281828459045"
      ]
     },
     "execution_count": 39,
     "metadata": {},
     "output_type": "execute_result"
    }
   ],
   "source": [
    "math.e"
   ]
  },
  {
   "cell_type": "markdown",
   "metadata": {},
   "source": [
    "### 布尔类型"
   ]
  },
  {
   "cell_type": "code",
   "execution_count": 40,
   "metadata": {},
   "outputs": [
    {
     "data": {
      "text/plain": [
       "bool"
      ]
     },
     "execution_count": 40,
     "metadata": {},
     "output_type": "execute_result"
    }
   ],
   "source": [
    "WWCodeRocks = True\n",
    "type(WWCodeRocks)"
   ]
  },
  {
   "cell_type": "code",
   "execution_count": 41,
   "metadata": {},
   "outputs": [
    {
     "ename": "NameError",
     "evalue": "name 'true' is not defined",
     "output_type": "error",
     "traceback": [
      "\u001b[1;31m---------------------------------------------------------------------------\u001b[0m",
      "\u001b[1;31mNameError\u001b[0m                                 Traceback (most recent call last)",
      "\u001b[1;32m<ipython-input-41-6b4d92e0d625>\u001b[0m in \u001b[0;36m<module>\u001b[1;34m()\u001b[0m\n\u001b[1;32m----> 1\u001b[1;33m \u001b[0mww\u001b[0m \u001b[1;33m=\u001b[0m \u001b[0mtrue\u001b[0m\u001b[1;33m\u001b[0m\u001b[0m\n\u001b[0m",
      "\u001b[1;31mNameError\u001b[0m: name 'true' is not defined"
     ]
    }
   ],
   "source": [
    "ww = true"
   ]
  },
  {
   "cell_type": "code",
   "execution_count": 42,
   "metadata": {},
   "outputs": [
    {
     "data": {
      "text/plain": [
       "2"
      ]
     },
     "execution_count": 42,
     "metadata": {},
     "output_type": "execute_result"
    }
   ],
   "source": [
    "True + True"
   ]
  },
  {
   "cell_type": "code",
   "execution_count": null,
   "metadata": {},
   "outputs": [],
   "source": []
  },
  {
   "cell_type": "code",
   "execution_count": 43,
   "metadata": {},
   "outputs": [
    {
     "data": {
      "text/plain": [
       "0"
      ]
     },
     "execution_count": 43,
     "metadata": {},
     "output_type": "execute_result"
    }
   ],
   "source": [
    "True * False"
   ]
  },
  {
   "cell_type": "code",
   "execution_count": 44,
   "metadata": {},
   "outputs": [
    {
     "ename": "ZeroDivisionError",
     "evalue": "division by zero",
     "output_type": "error",
     "traceback": [
      "\u001b[1;31m---------------------------------------------------------------------------\u001b[0m",
      "\u001b[1;31mZeroDivisionError\u001b[0m                         Traceback (most recent call last)",
      "\u001b[1;32m<ipython-input-44-f8487d9d0863>\u001b[0m in \u001b[0;36m<module>\u001b[1;34m()\u001b[0m\n\u001b[1;32m----> 1\u001b[1;33m \u001b[1;32mTrue\u001b[0m \u001b[1;33m/\u001b[0m \u001b[1;32mFalse\u001b[0m\u001b[1;33m\u001b[0m\u001b[0m\n\u001b[0m",
      "\u001b[1;31mZeroDivisionError\u001b[0m: division by zero"
     ]
    }
   ],
   "source": [
    "True / False"
   ]
  },
  {
   "cell_type": "code",
   "execution_count": null,
   "metadata": {},
   "outputs": [],
   "source": []
  },
  {
   "cell_type": "markdown",
   "metadata": {},
   "source": [
    "#### True 相当于整型值1  False 0"
   ]
  },
  {
   "cell_type": "markdown",
   "metadata": {},
   "source": [
    "### 复数"
   ]
  },
  {
   "cell_type": "code",
   "execution_count": 45,
   "metadata": {},
   "outputs": [
    {
     "name": "stdout",
     "output_type": "stream",
     "text": [
      "3.14j\n"
     ]
    },
    {
     "data": {
      "text/plain": [
       "complex"
      ]
     },
     "execution_count": 45,
     "metadata": {},
     "output_type": "execute_result"
    }
   ],
   "source": [
    "pi = 3.14J\n",
    "print(pi)\n",
    "type(pi)"
   ]
  },
  {
   "cell_type": "code",
   "execution_count": 46,
   "metadata": {},
   "outputs": [
    {
     "data": {
      "text/plain": [
       "complex"
      ]
     },
     "execution_count": 46,
     "metadata": {},
     "output_type": "execute_result"
    }
   ],
   "source": [
    "a = 3 + 4j\n",
    "type(a)"
   ]
  },
  {
   "cell_type": "code",
   "execution_count": 47,
   "metadata": {},
   "outputs": [
    {
     "name": "stdout",
     "output_type": "stream",
     "text": [
      "(8+10j)\n"
     ]
    }
   ],
   "source": [
    "b = 5 + 6J\n",
    "print(a + b)"
   ]
  },
  {
   "cell_type": "code",
   "execution_count": null,
   "metadata": {},
   "outputs": [],
   "source": []
  },
  {
   "cell_type": "markdown",
   "metadata": {},
   "source": [
    "## 变量\n",
    "### 当把一个值赋给一个名字的时候，它会存储在内存之中，把这块内存称之为“变量variable”\n",
    "### Python有些特殊，它并不是把值存储在变量之中，更像把名字贴在“值”的上面。"
   ]
  },
  {
   "cell_type": "code",
   "execution_count": 48,
   "metadata": {},
   "outputs": [
    {
     "data": {
      "text/plain": [
       "2285150452616"
      ]
     },
     "execution_count": 48,
     "metadata": {},
     "output_type": "execute_result"
    }
   ],
   "source": [
    "student = \"张三\"\n",
    "id(student)"
   ]
  },
  {
   "cell_type": "code",
   "execution_count": 49,
   "metadata": {},
   "outputs": [
    {
     "data": {
      "text/plain": [
       "2285151203240"
      ]
     },
     "execution_count": 49,
     "metadata": {},
     "output_type": "execute_result"
    }
   ],
   "source": [
    "student = \"李四\"\n",
    "id(student)"
   ]
  },
  {
   "cell_type": "code",
   "execution_count": 50,
   "metadata": {},
   "outputs": [
    {
     "data": {
      "text/plain": [
       "1666149568"
      ]
     },
     "execution_count": 50,
     "metadata": {},
     "output_type": "execute_result"
    }
   ],
   "source": [
    "x = 5\n",
    "id(x)"
   ]
  },
  {
   "cell_type": "code",
   "execution_count": 51,
   "metadata": {},
   "outputs": [
    {
     "data": {
      "text/plain": [
       "1666149664"
      ]
     },
     "execution_count": 51,
     "metadata": {},
     "output_type": "execute_result"
    }
   ],
   "source": [
    "x = 8\n",
    "id(x)"
   ]
  },
  {
   "cell_type": "code",
   "execution_count": 52,
   "metadata": {},
   "outputs": [],
   "source": [
    "y = 8\n"
   ]
  },
  {
   "cell_type": "code",
   "execution_count": 53,
   "metadata": {},
   "outputs": [
    {
     "data": {
      "text/plain": [
       "1666149664"
      ]
     },
     "execution_count": 53,
     "metadata": {},
     "output_type": "execute_result"
    }
   ],
   "source": [
    "id(y)"
   ]
  },
  {
   "cell_type": "markdown",
   "metadata": {},
   "source": [
    "## 关于变量的注意事项\n",
    "### * 使用变量前，需要对其进行赋值\n",
    "### * 变量名可以使用字母、数字、下划线命名，不能以数字开头（跟C语言 一样）\n",
    "### * 大小写区分，即：Abc  abc 不同\n",
    "### * 等于号=是赋值的意思，左边是名字，右边是值\n",
    "### * 变量的命名虽说可以任意，还是要有范\n",
    "#### 错误的名字：举例说明\n",
    "#### 正确的方式：Num  \\__abc__ _2b\n"
   ]
  },
  {
   "cell_type": "code",
   "execution_count": null,
   "metadata": {},
   "outputs": [],
   "source": []
  },
  {
   "cell_type": "markdown",
   "metadata": {},
   "source": [
    "### None Type\n",
    "The None type represents a null object.  \n",
    "None is the default return value of a Python function"
   ]
  },
  {
   "cell_type": "code",
   "execution_count": 54,
   "metadata": {},
   "outputs": [
    {
     "name": "stdout",
     "output_type": "stream",
     "text": [
      "None returned\n"
     ]
    },
    {
     "data": {
      "text/plain": [
       "NoneType"
      ]
     },
     "execution_count": 54,
     "metadata": {},
     "output_type": "execute_result"
    }
   ],
   "source": [
    "ret = print('None returned')\n",
    "type(ret)"
   ]
  },
  {
   "cell_type": "markdown",
   "metadata": {},
   "source": [
    "## Change data type 数据类型转换"
   ]
  },
  {
   "cell_type": "code",
   "execution_count": 55,
   "metadata": {},
   "outputs": [
    {
     "name": "stdout",
     "output_type": "stream",
     "text": [
      "43981\n"
     ]
    },
    {
     "data": {
      "text/plain": [
       "int"
      ]
     },
     "execution_count": 55,
     "metadata": {},
     "output_type": "execute_result"
    }
   ],
   "source": [
    "X = int('ABCD', 16)\n",
    "print(X)\n",
    "type(X)"
   ]
  },
  {
   "cell_type": "code",
   "execution_count": 56,
   "metadata": {},
   "outputs": [
    {
     "data": {
      "text/plain": [
       "('520', 520)"
      ]
     },
     "execution_count": 56,
     "metadata": {},
     "output_type": "execute_result"
    }
   ],
   "source": [
    "a = '520'\n",
    "b = int(a)\n",
    "a, b\n",
    "# c = 5.99\n",
    "# d = int(c)\n",
    "# c, d"
   ]
  },
  {
   "cell_type": "code",
   "execution_count": 57,
   "metadata": {},
   "outputs": [
    {
     "name": "stdout",
     "output_type": "stream",
     "text": [
      "Help on class int in module builtins:\n",
      "\n",
      "class int(object)\n",
      " |  int(x=0) -> integer\n",
      " |  int(x, base=10) -> integer\n",
      " |  \n",
      " |  Convert a number or string to an integer, or return 0 if no arguments\n",
      " |  are given.  If x is a number, return x.__int__().  For floating point\n",
      " |  numbers, this truncates towards zero.\n",
      " |  \n",
      " |  If x is not a number or if base is given, then x must be a string,\n",
      " |  bytes, or bytearray instance representing an integer literal in the\n",
      " |  given base.  The literal can be preceded by '+' or '-' and be surrounded\n",
      " |  by whitespace.  The base defaults to 10.  Valid bases are 0 and 2-36.\n",
      " |  Base 0 means to interpret the base from the string as an integer literal.\n",
      " |  >>> int('0b100', base=0)\n",
      " |  4\n",
      " |  \n",
      " |  Methods defined here:\n",
      " |  \n",
      " |  __abs__(self, /)\n",
      " |      abs(self)\n",
      " |  \n",
      " |  __add__(self, value, /)\n",
      " |      Return self+value.\n",
      " |  \n",
      " |  __and__(self, value, /)\n",
      " |      Return self&value.\n",
      " |  \n",
      " |  __bool__(self, /)\n",
      " |      self != 0\n",
      " |  \n",
      " |  __ceil__(...)\n",
      " |      Ceiling of an Integral returns itself.\n",
      " |  \n",
      " |  __divmod__(self, value, /)\n",
      " |      Return divmod(self, value).\n",
      " |  \n",
      " |  __eq__(self, value, /)\n",
      " |      Return self==value.\n",
      " |  \n",
      " |  __float__(self, /)\n",
      " |      float(self)\n",
      " |  \n",
      " |  __floor__(...)\n",
      " |      Flooring an Integral returns itself.\n",
      " |  \n",
      " |  __floordiv__(self, value, /)\n",
      " |      Return self//value.\n",
      " |  \n",
      " |  __format__(...)\n",
      " |      default object formatter\n",
      " |  \n",
      " |  __ge__(self, value, /)\n",
      " |      Return self>=value.\n",
      " |  \n",
      " |  __getattribute__(self, name, /)\n",
      " |      Return getattr(self, name).\n",
      " |  \n",
      " |  __getnewargs__(...)\n",
      " |  \n",
      " |  __gt__(self, value, /)\n",
      " |      Return self>value.\n",
      " |  \n",
      " |  __hash__(self, /)\n",
      " |      Return hash(self).\n",
      " |  \n",
      " |  __index__(self, /)\n",
      " |      Return self converted to an integer, if self is suitable for use as an index into a list.\n",
      " |  \n",
      " |  __int__(self, /)\n",
      " |      int(self)\n",
      " |  \n",
      " |  __invert__(self, /)\n",
      " |      ~self\n",
      " |  \n",
      " |  __le__(self, value, /)\n",
      " |      Return self<=value.\n",
      " |  \n",
      " |  __lshift__(self, value, /)\n",
      " |      Return self<<value.\n",
      " |  \n",
      " |  __lt__(self, value, /)\n",
      " |      Return self<value.\n",
      " |  \n",
      " |  __mod__(self, value, /)\n",
      " |      Return self%value.\n",
      " |  \n",
      " |  __mul__(self, value, /)\n",
      " |      Return self*value.\n",
      " |  \n",
      " |  __ne__(self, value, /)\n",
      " |      Return self!=value.\n",
      " |  \n",
      " |  __neg__(self, /)\n",
      " |      -self\n",
      " |  \n",
      " |  __new__(*args, **kwargs) from builtins.type\n",
      " |      Create and return a new object.  See help(type) for accurate signature.\n",
      " |  \n",
      " |  __or__(self, value, /)\n",
      " |      Return self|value.\n",
      " |  \n",
      " |  __pos__(self, /)\n",
      " |      +self\n",
      " |  \n",
      " |  __pow__(self, value, mod=None, /)\n",
      " |      Return pow(self, value, mod).\n",
      " |  \n",
      " |  __radd__(self, value, /)\n",
      " |      Return value+self.\n",
      " |  \n",
      " |  __rand__(self, value, /)\n",
      " |      Return value&self.\n",
      " |  \n",
      " |  __rdivmod__(self, value, /)\n",
      " |      Return divmod(value, self).\n",
      " |  \n",
      " |  __repr__(self, /)\n",
      " |      Return repr(self).\n",
      " |  \n",
      " |  __rfloordiv__(self, value, /)\n",
      " |      Return value//self.\n",
      " |  \n",
      " |  __rlshift__(self, value, /)\n",
      " |      Return value<<self.\n",
      " |  \n",
      " |  __rmod__(self, value, /)\n",
      " |      Return value%self.\n",
      " |  \n",
      " |  __rmul__(self, value, /)\n",
      " |      Return value*self.\n",
      " |  \n",
      " |  __ror__(self, value, /)\n",
      " |      Return value|self.\n",
      " |  \n",
      " |  __round__(...)\n",
      " |      Rounding an Integral returns itself.\n",
      " |      Rounding with an ndigits argument also returns an integer.\n",
      " |  \n",
      " |  __rpow__(self, value, mod=None, /)\n",
      " |      Return pow(value, self, mod).\n",
      " |  \n",
      " |  __rrshift__(self, value, /)\n",
      " |      Return value>>self.\n",
      " |  \n",
      " |  __rshift__(self, value, /)\n",
      " |      Return self>>value.\n",
      " |  \n",
      " |  __rsub__(self, value, /)\n",
      " |      Return value-self.\n",
      " |  \n",
      " |  __rtruediv__(self, value, /)\n",
      " |      Return value/self.\n",
      " |  \n",
      " |  __rxor__(self, value, /)\n",
      " |      Return value^self.\n",
      " |  \n",
      " |  __sizeof__(...)\n",
      " |      Returns size in memory, in bytes\n",
      " |  \n",
      " |  __str__(self, /)\n",
      " |      Return str(self).\n",
      " |  \n",
      " |  __sub__(self, value, /)\n",
      " |      Return self-value.\n",
      " |  \n",
      " |  __truediv__(self, value, /)\n",
      " |      Return self/value.\n",
      " |  \n",
      " |  __trunc__(...)\n",
      " |      Truncating an Integral returns itself.\n",
      " |  \n",
      " |  __xor__(self, value, /)\n",
      " |      Return self^value.\n",
      " |  \n",
      " |  bit_length(...)\n",
      " |      int.bit_length() -> int\n",
      " |      \n",
      " |      Number of bits necessary to represent self in binary.\n",
      " |      >>> bin(37)\n",
      " |      '0b100101'\n",
      " |      >>> (37).bit_length()\n",
      " |      6\n",
      " |  \n",
      " |  conjugate(...)\n",
      " |      Returns self, the complex conjugate of any int.\n",
      " |  \n",
      " |  from_bytes(...) from builtins.type\n",
      " |      int.from_bytes(bytes, byteorder, *, signed=False) -> int\n",
      " |      \n",
      " |      Return the integer represented by the given array of bytes.\n",
      " |      \n",
      " |      The bytes argument must be a bytes-like object (e.g. bytes or bytearray).\n",
      " |      \n",
      " |      The byteorder argument determines the byte order used to represent the\n",
      " |      integer.  If byteorder is 'big', the most significant byte is at the\n",
      " |      beginning of the byte array.  If byteorder is 'little', the most\n",
      " |      significant byte is at the end of the byte array.  To request the native\n",
      " |      byte order of the host system, use `sys.byteorder' as the byte order value.\n",
      " |      \n",
      " |      The signed keyword-only argument indicates whether two's complement is\n",
      " |      used to represent the integer.\n",
      " |  \n",
      " |  to_bytes(...)\n",
      " |      int.to_bytes(length, byteorder, *, signed=False) -> bytes\n",
      " |      \n",
      " |      Return an array of bytes representing an integer.\n",
      " |      \n",
      " |      The integer is represented using length bytes.  An OverflowError is\n",
      " |      raised if the integer is not representable with the given number of\n",
      " |      bytes.\n",
      " |      \n",
      " |      The byteorder argument determines the byte order used to represent the\n",
      " |      integer.  If byteorder is 'big', the most significant byte is at the\n",
      " |      beginning of the byte array.  If byteorder is 'little', the most\n",
      " |      significant byte is at the end of the byte array.  To request the native\n",
      " |      byte order of the host system, use `sys.byteorder' as the byte order value.\n",
      " |      \n",
      " |      The signed keyword-only argument determines whether two's complement is\n",
      " |      used to represent the integer.  If signed is False and a negative integer\n",
      " |      is given, an OverflowError is raised.\n",
      " |  \n",
      " |  ----------------------------------------------------------------------\n",
      " |  Data descriptors defined here:\n",
      " |  \n",
      " |  denominator\n",
      " |      the denominator of a rational number in lowest terms\n",
      " |  \n",
      " |  imag\n",
      " |      the imaginary part of a complex number\n",
      " |  \n",
      " |  numerator\n",
      " |      the numerator of a rational number in lowest terms\n",
      " |  \n",
      " |  real\n",
      " |      the real part of a complex number\n",
      "\n"
     ]
    }
   ],
   "source": [
    "help(int)"
   ]
  },
  {
   "cell_type": "code",
   "execution_count": 58,
   "metadata": {},
   "outputs": [
    {
     "data": {
      "text/plain": [
       "4"
      ]
     },
     "execution_count": 58,
     "metadata": {},
     "output_type": "execute_result"
    }
   ],
   "source": [
    "int('0b100', base=0)"
   ]
  },
  {
   "cell_type": "code",
   "execution_count": 59,
   "metadata": {},
   "outputs": [
    {
     "data": {
      "text/plain": [
       "0.0"
      ]
     },
     "execution_count": 59,
     "metadata": {},
     "output_type": "execute_result"
    }
   ],
   "source": [
    "float() #转成小数"
   ]
  },
  {
   "cell_type": "code",
   "execution_count": 60,
   "metadata": {},
   "outputs": [
    {
     "data": {
      "text/plain": [
       "('520', 520.0)"
      ]
     },
     "execution_count": 60,
     "metadata": {},
     "output_type": "execute_result"
    }
   ],
   "source": [
    "a = '520'\n",
    "b = float(a)\n",
    "a, b"
   ]
  },
  {
   "cell_type": "code",
   "execution_count": 61,
   "metadata": {},
   "outputs": [
    {
     "data": {
      "text/plain": [
       "(520, 520.0)"
      ]
     },
     "execution_count": 61,
     "metadata": {},
     "output_type": "execute_result"
    }
   ],
   "source": [
    "c = 520\n",
    "d = float(c)\n",
    "c, d"
   ]
  },
  {
   "cell_type": "code",
   "execution_count": 62,
   "metadata": {},
   "outputs": [
    {
     "data": {
      "text/plain": [
       "''"
      ]
     },
     "execution_count": 62,
     "metadata": {},
     "output_type": "execute_result"
    }
   ],
   "source": [
    "str()  #将一个数或其他类型的书转换成字符串"
   ]
  },
  {
   "cell_type": "code",
   "execution_count": 63,
   "metadata": {},
   "outputs": [
    {
     "data": {
      "text/plain": [
       "'5.99'"
      ]
     },
     "execution_count": 63,
     "metadata": {},
     "output_type": "execute_result"
    }
   ],
   "source": [
    "a = 5.99\n",
    "b = str(a)\n",
    "b"
   ]
  },
  {
   "cell_type": "code",
   "execution_count": 64,
   "metadata": {},
   "outputs": [
    {
     "data": {
      "text/plain": [
       "'5000000000000000.0'"
      ]
     },
     "execution_count": 64,
     "metadata": {},
     "output_type": "execute_result"
    }
   ],
   "source": [
    "c = str(5e15)\n",
    "c"
   ]
  },
  {
   "cell_type": "markdown",
   "metadata": {},
   "source": [
    "## Multiple Assignment 同时赋值"
   ]
  },
  {
   "cell_type": "markdown",
   "metadata": {},
   "source": [
    "Python allows assigning a single value to several variables simultaneously."
   ]
  },
  {
   "cell_type": "code",
   "execution_count": 65,
   "metadata": {},
   "outputs": [
    {
     "name": "stdout",
     "output_type": "stream",
     "text": [
      "All three variables: I luv U are\n",
      "True\n"
     ]
    }
   ],
   "source": [
    "I = luv = U = True\n",
    "print(\"All three variables: I luv U are\")\n",
    "print(I and luv and U)"
   ]
  },
  {
   "cell_type": "code",
   "execution_count": 66,
   "metadata": {},
   "outputs": [
    {
     "name": "stdout",
     "output_type": "stream",
     "text": [
      "True Singapore\n"
     ]
    },
    {
     "data": {
      "text/plain": [
       "2.0"
      ]
     },
     "execution_count": 66,
     "metadata": {},
     "output_type": "execute_result"
    }
   ],
   "source": [
    "b, f, country = True, 2.0, \"Singapore\"\n",
    "print(str(b) + ' ' + country)\n",
    "f"
   ]
  },
  {
   "cell_type": "markdown",
   "metadata": {},
   "source": [
    "## Delete assignment清除变量\n",
    "As Python allows manual 'garbage collection' to delete a variable"
   ]
  },
  {
   "cell_type": "code",
   "execution_count": 67,
   "metadata": {},
   "outputs": [
    {
     "ename": "NameError",
     "evalue": "name 'f' is not defined",
     "output_type": "error",
     "traceback": [
      "\u001b[1;31m---------------------------------------------------------------------------\u001b[0m",
      "\u001b[1;31mNameError\u001b[0m                                 Traceback (most recent call last)",
      "\u001b[1;32m<ipython-input-67-f6927ed28129>\u001b[0m in \u001b[0;36m<module>\u001b[1;34m()\u001b[0m\n\u001b[0;32m      1\u001b[0m \u001b[1;32mdel\u001b[0m \u001b[0mf\u001b[0m\u001b[1;33m\u001b[0m\u001b[0m\n\u001b[1;32m----> 2\u001b[1;33m \u001b[0mprint\u001b[0m\u001b[1;33m(\u001b[0m\u001b[0mf\u001b[0m\u001b[1;33m)\u001b[0m\u001b[1;33m\u001b[0m\u001b[0m\n\u001b[0m",
      "\u001b[1;31mNameError\u001b[0m: name 'f' is not defined"
     ]
    }
   ],
   "source": [
    "del f\n",
    "print(f)"
   ]
  },
  {
   "cell_type": "markdown",
   "metadata": {},
   "source": [
    "[返回目录](#mulu)"
   ]
  },
  {
   "cell_type": "markdown",
   "metadata": {},
   "source": [
    "## <font size=5><span id=\"1.4.2\"> 1.4.2 Collection types -- Collection类型</span></font>\n",
    "There's also a standard library module called collections that provides more specialized collection types other than the built-in types below  \n",
    "collection这里指：各种数据的集合"
   ]
  },
  {
   "cell_type": "markdown",
   "metadata": {},
   "source": [
    "## Strings  字符串\n",
    "Strings are a continuous set of characters represented by quotation marks."
   ]
  },
  {
   "cell_type": "code",
   "execution_count": 68,
   "metadata": {},
   "outputs": [
    {
     "data": {
      "text/plain": [
       "str"
      ]
     },
     "execution_count": 68,
     "metadata": {},
     "output_type": "execute_result"
    }
   ],
   "source": [
    "name = \"Women Who Code\"\n",
    "type(name)"
   ]
  },
  {
   "cell_type": "code",
   "execution_count": 69,
   "metadata": {},
   "outputs": [
    {
     "data": {
      "text/plain": [
       "'5'"
      ]
     },
     "execution_count": 69,
     "metadata": {},
     "output_type": "execute_result"
    }
   ],
   "source": [
    "'5'"
   ]
  },
  {
   "cell_type": "code",
   "execution_count": 70,
   "metadata": {},
   "outputs": [
    {
     "name": "stdout",
     "output_type": "stream",
     "text": [
      "Hello Women Who Code!\n",
      "str[0]  :H\n",
      "str[2:5]:llo\n",
      "str[2:] :llo Women Who Code!\n",
      "Triple quotes can\n",
      "span multiple lines\n"
     ]
    }
   ],
   "source": [
    "a_string = 'Hello' + ' ' + \"Women Who Code!\"\n",
    "print(a_string)\n",
    "print(\"str[0]  :\" + a_string[0])\n",
    "print(\"str[2:5]:\" + a_string[2:5]) # Python speak: slicing\n",
    "print(\"str[2:] :\" + a_string[2:])\n",
    "print('''Triple quotes can\n",
    "span multiple lines''')"
   ]
  },
  {
   "cell_type": "code",
   "execution_count": 71,
   "metadata": {},
   "outputs": [
    {
     "ename": "SyntaxError",
     "evalue": "invalid syntax (<ipython-input-71-e2906f04b32e>, line 1)",
     "output_type": "error",
     "traceback": [
      "\u001b[1;36m  File \u001b[1;32m\"<ipython-input-71-e2906f04b32e>\"\u001b[1;36m, line \u001b[1;32m1\u001b[0m\n\u001b[1;33m    'Let's go'\u001b[0m\n\u001b[1;37m         ^\u001b[0m\n\u001b[1;31mSyntaxError\u001b[0m\u001b[1;31m:\u001b[0m invalid syntax\n"
     ]
    }
   ],
   "source": [
    "'Let's go'"
   ]
  },
  {
   "cell_type": "code",
   "execution_count": 72,
   "metadata": {},
   "outputs": [
    {
     "data": {
      "text/plain": [
       "\"Let's go\""
      ]
     },
     "execution_count": 72,
     "metadata": {},
     "output_type": "execute_result"
    }
   ],
   "source": [
    "'Let\\'s go'"
   ]
  },
  {
   "cell_type": "code",
   "execution_count": 73,
   "metadata": {},
   "outputs": [
    {
     "name": "stdout",
     "output_type": "stream",
     "text": [
      "Let's go\n"
     ]
    }
   ],
   "source": [
    "print('Let\\'s go')"
   ]
  },
  {
   "cell_type": "markdown",
   "metadata": {},
   "source": [
    "## 字符串可以看做引号内的一切东西，也叫做文本，与数字截然不同"
   ]
  },
  {
   "cell_type": "code",
   "execution_count": 74,
   "metadata": {},
   "outputs": [
    {
     "data": {
      "text/plain": [
       "13"
      ]
     },
     "execution_count": 74,
     "metadata": {},
     "output_type": "execute_result"
    }
   ],
   "source": [
    "5 + 8"
   ]
  },
  {
   "cell_type": "code",
   "execution_count": 75,
   "metadata": {},
   "outputs": [
    {
     "data": {
      "text/plain": [
       "'58'"
      ]
     },
     "execution_count": 75,
     "metadata": {},
     "output_type": "execute_result"
    }
   ],
   "source": [
    "#str类型可以进行加法运算\n",
    "'5'+'8'"
   ]
  },
  {
   "cell_type": "code",
   "execution_count": 76,
   "metadata": {},
   "outputs": [
    {
     "data": {
      "text/plain": [
       "'I love youI love youI love you'"
      ]
     },
     "execution_count": 76,
     "metadata": {},
     "output_type": "execute_result"
    }
   ],
   "source": [
    "# str 乘法\n",
    "'I love you' * 3"
   ]
  },
  {
   "cell_type": "code",
   "execution_count": 77,
   "metadata": {},
   "outputs": [
    {
     "name": "stdout",
     "output_type": "stream",
     "text": [
      "ADSFDSAa\n"
     ]
    }
   ],
   "source": [
    "bb = '1234ADSFDSAadf'\n",
    "cc = bb[4:12]\n",
    "print(cc)"
   ]
  },
  {
   "cell_type": "markdown",
   "metadata": {},
   "source": [
    "## 单引号、双引号，Python不挑剔，但必须成对出现"
   ]
  },
  {
   "cell_type": "code",
   "execution_count": 78,
   "metadata": {},
   "outputs": [
    {
     "name": "stdout",
     "output_type": "stream",
     "text": [
      "I Love Python\n"
     ]
    }
   ],
   "source": [
    "stringa = \"I Love Python\"\n",
    "print(stringa)"
   ]
  },
  {
   "cell_type": "code",
   "execution_count": 79,
   "metadata": {},
   "outputs": [
    {
     "ename": "SyntaxError",
     "evalue": "EOL while scanning string literal (<ipython-input-79-3118343e6093>, line 1)",
     "output_type": "error",
     "traceback": [
      "\u001b[1;36m  File \u001b[1;32m\"<ipython-input-79-3118343e6093>\"\u001b[1;36m, line \u001b[1;32m1\u001b[0m\n\u001b[1;33m    stringa = \"I Love Python'\u001b[0m\n\u001b[1;37m                             ^\u001b[0m\n\u001b[1;31mSyntaxError\u001b[0m\u001b[1;31m:\u001b[0m EOL while scanning string literal\n"
     ]
    }
   ],
   "source": [
    "stringa = \"I Love Python'\n",
    "print(stringa)"
   ]
  },
  {
   "cell_type": "markdown",
   "metadata": {},
   "source": [
    "## 如果希望文本里面有单引号或者双引号怎么办？"
   ]
  },
  {
   "cell_type": "code",
   "execution_count": 80,
   "metadata": {},
   "outputs": [
    {
     "ename": "SyntaxError",
     "evalue": "invalid syntax (<ipython-input-80-e2906f04b32e>, line 1)",
     "output_type": "error",
     "traceback": [
      "\u001b[1;36m  File \u001b[1;32m\"<ipython-input-80-e2906f04b32e>\"\u001b[1;36m, line \u001b[1;32m1\u001b[0m\n\u001b[1;33m    'Let's go'\u001b[0m\n\u001b[1;37m         ^\u001b[0m\n\u001b[1;31mSyntaxError\u001b[0m\u001b[1;31m:\u001b[0m invalid syntax\n"
     ]
    }
   ],
   "source": [
    "'Let's go'"
   ]
  },
  {
   "cell_type": "code",
   "execution_count": 81,
   "metadata": {},
   "outputs": [
    {
     "data": {
      "text/plain": [
       "\"Let's go\""
      ]
     },
     "execution_count": 81,
     "metadata": {},
     "output_type": "execute_result"
    }
   ],
   "source": [
    "'Let\\'s go'   #用转义字符\\进行转义"
   ]
  },
  {
   "cell_type": "code",
   "execution_count": 82,
   "metadata": {},
   "outputs": [
    {
     "data": {
      "text/plain": [
       "\"Let's go\""
      ]
     },
     "execution_count": 82,
     "metadata": {},
     "output_type": "execute_result"
    }
   ],
   "source": [
    "\"Let's go\"   #用双引号来也可以"
   ]
  },
  {
   "cell_type": "markdown",
   "metadata": {},
   "source": [
    "## 转义字符"
   ]
  },
  {
   "cell_type": "code",
   "execution_count": 83,
   "metadata": {},
   "outputs": [
    {
     "data": {
      "text/plain": [
       "'C:\\now'"
      ]
     },
     "execution_count": 83,
     "metadata": {},
     "output_type": "execute_result"
    }
   ],
   "source": [
    "string = 'C:\\now'  #打印试试看\n",
    "string"
   ]
  },
  {
   "cell_type": "code",
   "execution_count": 84,
   "metadata": {},
   "outputs": [
    {
     "name": "stdout",
     "output_type": "stream",
     "text": [
      "C:\n",
      "ow\n"
     ]
    }
   ],
   "source": [
    "print(string)   #看看打印的效果"
   ]
  },
  {
   "cell_type": "code",
   "execution_count": 85,
   "metadata": {},
   "outputs": [
    {
     "data": {
      "text/plain": [
       "'c:\\now'"
      ]
     },
     "execution_count": 85,
     "metadata": {},
     "output_type": "execute_result"
    }
   ],
   "source": [
    "'c:\\now'"
   ]
  },
  {
   "cell_type": "code",
   "execution_count": 86,
   "metadata": {},
   "outputs": [
    {
     "name": "stdout",
     "output_type": "stream",
     "text": [
      "c:\n",
      "ow\n"
     ]
    }
   ],
   "source": [
    "print('c:\\now')  # \\n转义字符"
   ]
  },
  {
   "cell_type": "markdown",
   "metadata": {},
   "source": [
    "### 说明原因在于 \\n 构成了回车换行"
   ]
  },
  {
   "cell_type": "markdown",
   "metadata": {},
   "source": [
    "| 转义字符    | 描述                                         |\n",
    "| ----------- | -------------------------------------------- |\n",
    "| \\(在行尾时) | 续行符                                       |\n",
    "| \\\\          | 反斜杠符号                                   |\n",
    "| \\'          | 单引号                                       |\n",
    "| \\\"          | 双引号                                       |\n",
    "| \\a          | 响铃                                         |\n",
    "| \\b          | 退格(Backspace)                              |\n",
    "| \\e          | 转义                                         |\n",
    "| \\000        | 空                                           |\n",
    "| \\n          | 换行                                         |\n",
    "| \\v          | 纵向制表符                                   |\n",
    "| \\t          | 横向制表符                                   |\n",
    "| \\r          | 回车                                         |\n",
    "| \\f          | 换页                                         |\n",
    "| \\oyy        | 八进制数，yy代表的字符，例如：\\o12代表换行   |\n",
    "| \\xyy        | 十六进制数，yy代表的字符，例如：\\x0a代表换行 |\n",
    "| \\other      | 其它的字符以普通格式输出                     |"
   ]
  },
  {
   "cell_type": "code",
   "execution_count": 87,
   "metadata": {},
   "outputs": [
    {
     "data": {
      "text/plain": [
       "'C:\\\\now'"
      ]
     },
     "execution_count": 87,
     "metadata": {},
     "output_type": "execute_result"
    }
   ],
   "source": [
    "string = 'C:\\\\now'\n",
    "string"
   ]
  },
  {
   "cell_type": "code",
   "execution_count": 88,
   "metadata": {},
   "outputs": [
    {
     "name": "stdout",
     "output_type": "stream",
     "text": [
      "C:\\now\n"
     ]
    }
   ],
   "source": [
    "print(string)"
   ]
  },
  {
   "cell_type": "code",
   "execution_count": 89,
   "metadata": {},
   "outputs": [
    {
     "name": "stdout",
     "output_type": "stream",
     "text": [
      "D:\\MARUJIN\u00018-TEACH-PYTHON\\sound\n"
     ]
    }
   ],
   "source": [
    "string='D:\\MARUJIN\\18-TEACH-PYTHON\\sound'  #不是我们想要的\n",
    "print(string)"
   ]
  },
  {
   "cell_type": "code",
   "execution_count": 90,
   "metadata": {},
   "outputs": [
    {
     "name": "stdout",
     "output_type": "stream",
     "text": [
      "D:\\MARUJIN\\18-TEACH-PYTHON\\sound\n"
     ]
    }
   ],
   "source": [
    "string='D:\\\\MARUJIN\\\\18-TEACH-PYTHON\\\\sound'  #心太累\n",
    "print(string)"
   ]
  },
  {
   "cell_type": "code",
   "execution_count": 91,
   "metadata": {},
   "outputs": [
    {
     "data": {
      "text/plain": [
       "'D:\\\\MARUJIN\\\\18-TEACH-PYTHON\\\\sound'"
      ]
     },
     "execution_count": 91,
     "metadata": {},
     "output_type": "execute_result"
    }
   ],
   "source": [
    "string=r'D:\\MARUJIN\\18-TEACH-PYTHON\\sound'  #加一个英文字母r\n",
    "string"
   ]
  },
  {
   "cell_type": "code",
   "execution_count": 92,
   "metadata": {},
   "outputs": [
    {
     "name": "stdout",
     "output_type": "stream",
     "text": [
      "D:\\MARUJIN\\18-TEACH-PYTHON\\sound\n"
     ]
    }
   ],
   "source": [
    "print(string)"
   ]
  },
  {
   "cell_type": "markdown",
   "metadata": {},
   "source": [
    "### 无论是否是原始字符串，都不能以反斜杠作为结尾\n",
    "### 反斜杠置于文末，表示该字符串还没结束"
   ]
  },
  {
   "cell_type": "code",
   "execution_count": 93,
   "metadata": {},
   "outputs": [
    {
     "ename": "SyntaxError",
     "evalue": "EOL while scanning string literal (<ipython-input-93-fa8ff4f56444>, line 1)",
     "output_type": "error",
     "traceback": [
      "\u001b[1;36m  File \u001b[1;32m\"<ipython-input-93-fa8ff4f56444>\"\u001b[1;36m, line \u001b[1;32m1\u001b[0m\n\u001b[1;33m    string = 'I Love\\'\u001b[0m\n\u001b[1;37m                      ^\u001b[0m\n\u001b[1;31mSyntaxError\u001b[0m\u001b[1;31m:\u001b[0m EOL while scanning string literal\n"
     ]
    }
   ],
   "source": [
    "string = 'I Love\\'"
   ]
  },
  {
   "cell_type": "code",
   "execution_count": 94,
   "metadata": {},
   "outputs": [
    {
     "ename": "SyntaxError",
     "evalue": "EOL while scanning string literal (<ipython-input-94-caa731b516c5>, line 1)",
     "output_type": "error",
     "traceback": [
      "\u001b[1;36m  File \u001b[1;32m\"<ipython-input-94-caa731b516c5>\"\u001b[1;36m, line \u001b[1;32m1\u001b[0m\n\u001b[1;33m    string = r'I Love\\'\u001b[0m\n\u001b[1;37m                       ^\u001b[0m\n\u001b[1;31mSyntaxError\u001b[0m\u001b[1;31m:\u001b[0m EOL while scanning string literal\n"
     ]
    }
   ],
   "source": [
    "string = r'I Love\\'"
   ]
  },
  {
   "cell_type": "markdown",
   "metadata": {},
   "source": [
    "### 思考：非要在文末加一个反斜杠，怎么实现？"
   ]
  },
  {
   "cell_type": "code",
   "execution_count": 95,
   "metadata": {},
   "outputs": [],
   "source": [
    "pass"
   ]
  },
  {
   "cell_type": "markdown",
   "metadata": {},
   "source": [
    "## 长字符串"
   ]
  },
  {
   "cell_type": "markdown",
   "metadata": {},
   "source": [
    "卜算子·我住长江头\n",
    "\n",
    "宋代：李之仪\n",
    "\n",
    "我住长江头，  \n",
    "君住长江尾。  \n",
    "日日思君不见君，  \n",
    "共饮长江水。 \n",
    "  \n",
    "此水几时休，  \n",
    "此恨何时已。  \n",
    "只愿君心似我心，  \n",
    "定不负相思意。"
   ]
  },
  {
   "cell_type": "markdown",
   "metadata": {},
   "source": [
    "### 打印试试"
   ]
  },
  {
   "cell_type": "code",
   "execution_count": 96,
   "metadata": {},
   "outputs": [
    {
     "name": "stdout",
     "output_type": "stream",
     "text": [
      "卜算子·我住长江头\n",
      "\n",
      "宋代：李之仪\n",
      "\n",
      "我住长江头，\n",
      "君住长江尾。\n",
      "日日思君不见君，\n",
      "共饮长江水。\n",
      "\n",
      "此水几时休，\n",
      "此恨何时已。\n",
      "只愿君心似我心，\n",
      "定不负相思意\n"
     ]
    }
   ],
   "source": [
    "print(\"卜算子·我住长江头\\n\\n宋代：李之仪\\n\\n我住长江头，\\n君住长江尾。\\n日日思君不见君，\\n共饮长江水。\\n\\n此水几时休，\\n此恨何时已。\\n只愿君心似我心，\\n定不负相思意\")"
   ]
  },
  {
   "cell_type": "markdown",
   "metadata": {},
   "source": [
    "### 行数太多，太麻烦\n",
    "### Python有办法"
   ]
  },
  {
   "cell_type": "markdown",
   "metadata": {},
   "source": [
    "### 长字符串"
   ]
  },
  {
   "cell_type": "markdown",
   "metadata": {},
   "source": [
    "### 用三重引号\"\"\"内容\"\"\""
   ]
  },
  {
   "cell_type": "code",
   "execution_count": 97,
   "metadata": {},
   "outputs": [],
   "source": [
    "aa = \"\"\"曾经有一份真诚的爱摆在我的面前，\n",
    "但是我没有珍惜，\n",
    "等到失去的时候才后悔莫及，\n",
    "尘世间最痛苦的事莫过于此。\n",
    "\n",
    "如果上天可以给我个机会再来一次的话，\n",
    "我会对这个女孩说我爱她，\n",
    "如果非要在这份爱加上一个期限，\n",
    "我希望是一万年！\"\"\""
   ]
  },
  {
   "cell_type": "code",
   "execution_count": 98,
   "metadata": {},
   "outputs": [
    {
     "name": "stdout",
     "output_type": "stream",
     "text": [
      "曾经有一份真诚的爱摆在我的面前，\n",
      "但是我没有珍惜，\n",
      "等到失去的时候才后悔莫及，\n",
      "尘世间最痛苦的事莫过于此。\n",
      "\n",
      "如果上天可以给我个机会再来一次的话，\n",
      "我会对这个女孩说我爱她，\n",
      "如果非要在这份爱加上一个期限，\n",
      "我希望是一万年！\n"
     ]
    }
   ],
   "source": [
    "print(aa)"
   ]
  },
  {
   "cell_type": "code",
   "execution_count": 99,
   "metadata": {},
   "outputs": [
    {
     "name": "stdout",
     "output_type": "stream",
     "text": [
      "   悯农\n",
      "锄禾日当午\n",
      "汗滴禾下土\n",
      "谁知盘中餐\n",
      "粒粒皆辛苦\n"
     ]
    }
   ],
   "source": [
    "bb = '''   悯农\n",
    "锄禾日当午\n",
    "汗滴禾下土\n",
    "谁知盘中餐\n",
    "粒粒皆辛苦'''\n",
    "print(bb)"
   ]
  },
  {
   "cell_type": "markdown",
   "metadata": {},
   "source": [
    "[返回目录](#mulu)"
   ]
  },
  {
   "cell_type": "code",
   "execution_count": null,
   "metadata": {},
   "outputs": [],
   "source": []
  },
  {
   "cell_type": "code",
   "execution_count": null,
   "metadata": {},
   "outputs": [],
   "source": []
  },
  {
   "cell_type": "markdown",
   "metadata": {},
   "source": [
    "## Tuples 元组\n",
    "Tuples are collection of arbitrary objects. Equivalent to records or structs in other languages.  \n",
    "Tuples are enclosed in parentheses ( ( ) ) and cannot be updated.\n",
    "* 元组用圆括弧构成的一些数据的集合\n",
    "* 元组里面的元素不可以修改"
   ]
  },
  {
   "cell_type": "code",
   "execution_count": 100,
   "metadata": {},
   "outputs": [
    {
     "name": "stdout",
     "output_type": "stream",
     "text": [
      "<class 'tuple'>\n",
      "<class 'tuple'>\n",
      "('We',)\n"
     ]
    },
    {
     "data": {
      "text/plain": [
       "tuple"
      ]
     },
     "execution_count": 100,
     "metadata": {},
     "output_type": "execute_result"
    }
   ],
   "source": [
    "t1 = ( \"WWCode\", 100000 , 0.5 ) # org name, members, proportion of engineers\n",
    "t2 = 'Singapore', 1160.5\n",
    "t_singleton = ('We',) # singleton\n",
    "t_empty = ()\n",
    "print(type(t1)); print(type(t2))\n",
    "print(t_singleton);\n",
    "type(t_empty)"
   ]
  },
  {
   "cell_type": "markdown",
   "metadata": {},
   "source": [
    "Except for the case of the empty tuple, it is really the commas, not the parentheses, that tell Python it is a tuple."
   ]
  },
  {
   "cell_type": "code",
   "execution_count": 101,
   "metadata": {},
   "outputs": [],
   "source": [
    "t = ('a')\n"
   ]
  },
  {
   "cell_type": "markdown",
   "metadata": {},
   "source": [
    "## Mutable object types: 可变对象类型\n",
    "Some collection classes are mutable. The methods that add, subtract, or rearrange their members in place, and don’t return a specific item, never return the collection instance itself but **None**.\n",
    "* 可变表示这个对象可以增加，删除，重新排列  \n",
    "\n",
    "## Lists 列表  \n",
    "* Lists in Python contains items separated by commans and enclosed within square brackets, '[' ']'.   \n",
    "* 列表用方括弧来表示\n",
    "* Lists are highly flexible, and are like mutable tuples.  \n",
    "* 列表是可变的，就好像可变的元组\n",
    "* Values stored in a list can be accessed using the slice operator ([] and [:])\n",
    "* 元组可以用下标方式获取"
   ]
  },
  {
   "cell_type": "code",
   "execution_count": 102,
   "metadata": {},
   "outputs": [
    {
     "name": "stdout",
     "output_type": "stream",
     "text": [
      "['WWCode', 786, 2.23]\n"
     ]
    },
    {
     "data": {
      "text/plain": [
       "list"
      ]
     },
     "execution_count": 102,
     "metadata": {},
     "output_type": "execute_result"
    }
   ],
   "source": [
    "list = [ \"WWCode\", 786 , 2.23, 'singapore', 70.2 ]\n",
    "print(list[0:3])\n",
    "type(list)"
   ]
  },
  {
   "cell_type": "code",
   "execution_count": 103,
   "metadata": {},
   "outputs": [
    {
     "data": {
      "text/plain": [
       "'Code'"
      ]
     },
     "execution_count": 103,
     "metadata": {},
     "output_type": "execute_result"
    }
   ],
   "source": [
    "list[0][2:]"
   ]
  },
  {
   "cell_type": "markdown",
   "metadata": {},
   "source": [
    "### List comprehension\n",
    "List comprehension or Listcomp for short, is a powerful way of buildling lists."
   ]
  },
  {
   "cell_type": "code",
   "execution_count": 104,
   "metadata": {},
   "outputs": [
    {
     "data": {
      "text/plain": [
       "[36, 162, 163, 165, 8364, 164]"
      ]
     },
     "execution_count": 104,
     "metadata": {},
     "output_type": "execute_result"
    }
   ],
   "source": [
    "symbols = '$¢£¥€¤'\n",
    "codes = [ord(symbol) for symbol in symbols]\n",
    "codes"
   ]
  },
  {
   "cell_type": "code",
   "execution_count": 105,
   "metadata": {},
   "outputs": [
    {
     "ename": "SyntaxError",
     "evalue": "invalid syntax (<ipython-input-105-561a2de2f53d>, line 1)",
     "output_type": "error",
     "traceback": [
      "\u001b[1;36m  File \u001b[1;32m\"<ipython-input-105-561a2de2f53d>\"\u001b[1;36m, line \u001b[1;32m1\u001b[0m\n\u001b[1;33m    help(ord) 返回符号的unicode编码\u001b[0m\n\u001b[1;37m                           ^\u001b[0m\n\u001b[1;31mSyntaxError\u001b[0m\u001b[1;31m:\u001b[0m invalid syntax\n"
     ]
    }
   ],
   "source": [
    "help(ord) 返回符号的unicode编码"
   ]
  },
  {
   "cell_type": "markdown",
   "metadata": {},
   "source": [
    "## dictionary 字典\n",
    "Python's dictionaries are hash tables, and consists of key-value pairs.  \n",
    "Dictionaries are enclosed by curly braces '{' '}' and values can be assigned and accessed like a dictionary/hash table.  \n",
    "Order of the elements is not maintained in a dictionary. "
   ]
  },
  {
   "cell_type": "code",
   "execution_count": 106,
   "metadata": {},
   "outputs": [
    {
     "name": "stdout",
     "output_type": "stream",
     "text": [
      "WWCode\n"
     ]
    },
    {
     "data": {
      "text/plain": [
       "dict"
      ]
     },
     "execution_count": 106,
     "metadata": {},
     "output_type": "execute_result"
    }
   ],
   "source": [
    "dict1 = {'name':'Women Who Code Singapore', \n",
    "        'org':'WWCode', \n",
    "        'city':'Singapore',\n",
    "        'members':1260}\n",
    "print(dict1['org'])\n",
    "type(dict1)"
   ]
  },
  {
   "cell_type": "code",
   "execution_count": 107,
   "metadata": {},
   "outputs": [],
   "source": [
    "dict2 = {'赵':1, \n",
    "        '钱':2,\n",
    "        '孙':3,\n",
    "        '李':4,\n",
    "        '周':5,\n",
    "        '吴':6,\n",
    "        '郑':7,\n",
    "        '王':8,\n",
    "        '冯':9,\n",
    "        '陈':10,\n",
    "        '褚':11,\n",
    "        '卫':12,\n",
    "        }"
   ]
  },
  {
   "cell_type": "code",
   "execution_count": 108,
   "metadata": {},
   "outputs": [
    {
     "name": "stdout",
     "output_type": "stream",
     "text": [
      "{'赵': 1, '钱': 2, '孙': 3, '李': 4, '周': 5, '吴': 6, '郑': 7, '王': 8, '冯': 9, '陈': 10, '褚': 11, '卫': 12}\n"
     ]
    }
   ],
   "source": [
    "print(dict2)"
   ]
  },
  {
   "cell_type": "code",
   "execution_count": 109,
   "metadata": {},
   "outputs": [
    {
     "data": {
      "text/plain": [
       "8"
      ]
     },
     "execution_count": 109,
     "metadata": {},
     "output_type": "execute_result"
    }
   ],
   "source": [
    "dict2['王']"
   ]
  },
  {
   "cell_type": "markdown",
   "metadata": {},
   "source": [
    "## Sets 集合  \n",
    "* Sets are a methematical concept, they are a lot like dictionaries with keys but no corresponding values. \n",
    "* 跟数学的概念很相似，类似于字典的键，但没有对应的值\n",
    "* Sets are enclosed by curly braces, elements seperated by comma, '{','}'.  \n",
    "* 用花括弧\n",
    "* Sets do not support indexing or slicing, and do not have inherent order.  \n",
    "* 不支持下标应用和切片"
   ]
  },
  {
   "cell_type": "code",
   "execution_count": 110,
   "metadata": {},
   "outputs": [
    {
     "data": {
      "text/plain": [
       "set"
      ]
     },
     "execution_count": 110,
     "metadata": {},
     "output_type": "execute_result"
    }
   ],
   "source": [
    "wwcode_asia_networks = {'Bangalore','Beijing','Chennai','Delhi','Gujarat','Hong Kong','Kuala Lumpur','Manila','Pune','Rajasthan','Shanghai','Singapore','Taipei','Tel-Aviv','Tokyo'}\n",
    "type(wwcode_asia_networks)"
   ]
  },
  {
   "cell_type": "code",
   "execution_count": 111,
   "metadata": {},
   "outputs": [
    {
     "name": "stdout",
     "output_type": "stream",
     "text": [
      "{'Delhi', 'Rajasthan', 'Chennai', 'Singapore', 'Pune', 'Bangalore', 'Kuala Lumpur', 'Shanghai', 'Tel-Aviv', 'Hong Kong', 'Taipei', 'Beijing', 'Gujarat', 'Manila', 'Tokyo'}\n"
     ]
    }
   ],
   "source": [
    "print(wwcode_asia_networks)"
   ]
  },
  {
   "cell_type": "code",
   "execution_count": 112,
   "metadata": {},
   "outputs": [
    {
     "ename": "TypeError",
     "evalue": "'set' object does not support indexing",
     "output_type": "error",
     "traceback": [
      "\u001b[1;31m---------------------------------------------------------------------------\u001b[0m",
      "\u001b[1;31mTypeError\u001b[0m                                 Traceback (most recent call last)",
      "\u001b[1;32m<ipython-input-112-639c637d60e2>\u001b[0m in \u001b[0;36m<module>\u001b[1;34m()\u001b[0m\n\u001b[1;32m----> 1\u001b[1;33m \u001b[0mwwcode_asia_networks\u001b[0m\u001b[1;33m[\u001b[0m\u001b[1;36m1\u001b[0m\u001b[1;33m]\u001b[0m\u001b[1;33m\u001b[0m\u001b[0m\n\u001b[0m",
      "\u001b[1;31mTypeError\u001b[0m: 'set' object does not support indexing"
     ]
    }
   ],
   "source": [
    "wwcode_asia_networks[1]"
   ]
  },
  {
   "cell_type": "markdown",
   "metadata": {},
   "source": [
    "#### Reference\n",
    "https://www.tutorialspoint.com/python/python_variable_types.htm"
   ]
  },
  {
   "cell_type": "markdown",
   "metadata": {},
   "source": [
    "[返回目录](#mulu)"
   ]
  },
  {
   "cell_type": "markdown",
   "metadata": {},
   "source": [
    "# <font size=6> <span id=\"1.5\"> 1.5 Conditions and Operators</span></font>"
   ]
  },
  {
   "cell_type": "markdown",
   "metadata": {},
   "source": [
    "## <font size=5><span id=\"1.5.1\"> 1.5.1 算术运算符</span></font>\n"
   ]
  },
  {
   "cell_type": "code",
   "execution_count": 113,
   "metadata": {},
   "outputs": [
    {
     "name": "stdout",
     "output_type": "stream",
     "text": [
      "x:3 y:-1 z:30 a:-30.0 b:0 c:-1 d:-1\n"
     ]
    }
   ],
   "source": [
    "x = 1 + 2 # Addition\n",
    "y = 3 - 4 # Subtraction\n",
    "z = 5 * 6 # Multiplication\n",
    "a = z / y # Division\n",
    "b = z % x # Modulus\n",
    "c = y ** x # Exponent\n",
    "d = c // x # Floor Division\n",
    "print(\"x:\" + str(x) + \" y:\" + str(y) + \" z:\" + str(z) + \n",
    "      \" a:\" + str(a) + \" b:\" + str(b) + \" c:\" + str(c) + \" d:\" + str(d))"
   ]
  },
  {
   "cell_type": "markdown",
   "metadata": {},
   "source": [
    "运算符|\t描述|\t实例\n",
    "-| :-: | -\n",
    "=\t|简单的赋值运算符\t|c = a + b 将 a + b 的运算结果赋值为 c\n",
    "+=\t|加法赋值运算符\t|c += a 等效于 c = c + a\n",
    "-=\t|减法赋值运算符\t|c -= a 等效于 c = c - a\n",
    "*=\t|乘法赋值运算符\t|c *= a 等效于 c = c * a\n",
    "/=\t|除法赋值运算符\t|c /= a 等效于 c = c / a\n",
    "%=\t|取模赋值运算符\t|c %= a 等效于 c = c % a\n",
    "**=\t|幂赋值运算符\t|c \\*\\*= a 等效于 c = c \\*\\* a\n",
    "//=\t|取整除赋值运算符\t|c //= a 等效于 c = c // a"
   ]
  },
  {
   "cell_type": "markdown",
   "metadata": {},
   "source": [
    "### 优先级\n",
    "#### 先乘除，后加减，有括号先计算括号\n"
   ]
  },
  {
   "cell_type": "code",
   "execution_count": 114,
   "metadata": {},
   "outputs": [
    {
     "data": {
      "text/plain": [
       "-12.5"
      ]
     },
     "execution_count": 114,
     "metadata": {},
     "output_type": "execute_result"
    }
   ],
   "source": [
    "-3 * 2 + 5 / -2 -4"
   ]
  },
  {
   "cell_type": "markdown",
   "metadata": {},
   "source": [
    "## <font size=5><span id=\"1.5.2\"> 1.5.2 布尔运算和比较运算</span></font>\n"
   ]
  },
  {
   "cell_type": "code",
   "execution_count": 115,
   "metadata": {},
   "outputs": [
    {
     "name": "stdout",
     "output_type": "stream",
     "text": [
      "False\n",
      "True\n",
      "False\n",
      "True\n",
      "False\n",
      "True\n"
     ]
    }
   ],
   "source": [
    "print(a == b) # equals\n",
    "print(a != b) # not equals\n",
    "print(a > b)  # greater than\n",
    "print(a < b)  # lesser than\n",
    "print(a >= b) # greater than or equal\n",
    "print(a <= b) # lesser than or equal"
   ]
  },
  {
   "cell_type": "markdown",
   "metadata": {},
   "source": [
    "运算符|描述|实例\n",
    ":- | :-: | -: \n",
    "    ==      |等于 - 比较对象是否相等|    10 == 20 输出结果 ：False \n",
    "||[1, 2, 3] == [1, 2, 3] 输出结果：True\n",
    "!=|\t不等于 - 比较两个对象是否不相等\t|“abc” != “abc” 输出结果：Flase \n",
    "||[1, 2, 3] != [1, 3, 2] 输出结果：True\n",
    ">\t|大于 - 返回x是否大于y\t|5 > 8 输出结果：Flase\n",
    "<\t|小于 - 返回x是否小于y\t|4 < 9 输出结果：True\n",
    ">=|\t大于等于 - 返回x是否大于等于y\t|5 >= 3 输出结果：True\n",
    "<=\t|小于等于 - 返回x是否小于等于y\t|7 <= 4 输出结果：Flase"
   ]
  },
  {
   "cell_type": "markdown",
   "metadata": {},
   "source": [
    "## <font size=5><span id=\"1.5.2\"> 1.5.3 Assignment Operators赋值运算符</span></font>\n"
   ]
  },
  {
   "cell_type": "code",
   "execution_count": 116,
   "metadata": {},
   "outputs": [
    {
     "name": "stdout",
     "output_type": "stream",
     "text": [
      "100\n",
      "102\n",
      "99\n",
      "396\n",
      "79.2\n",
      "1.2000000000000028\n",
      "3.5831808000000596\n",
      "1.0\n"
     ]
    }
   ],
   "source": [
    "i = 100;  print(i)\n",
    "i += 2; print(i)\n",
    "i -= 3; print(i)\n",
    "i *= 4; print(i)\n",
    "i /= 5; print(i)\n",
    "i %= 6; print(i)\n",
    "i **= 7; print(i)\n",
    "i //= 2; print(i)"
   ]
  },
  {
   "cell_type": "markdown",
   "metadata": {},
   "source": [
    "## <font size=5><span id=\"1.5.4\"> 1.5.4 Bitwise Operators 位运算符 </span></font>\n"
   ]
  },
  {
   "cell_type": "code",
   "execution_count": 117,
   "metadata": {},
   "outputs": [
    {
     "name": "stdout",
     "output_type": "stream",
     "text": [
      "j = 00111100 k = 00111100\n",
      "j = 00001100 12\n",
      "j = 00111101 61\n",
      "j = 00110001 49\n",
      "j =  -111101 -61\n",
      "j = 11110000 240\n",
      "j = 00001111 15\n"
     ]
    }
   ],
   "source": [
    "j = 60; k = 13; \n",
    "print(\"j = 00{0:b} k = 00{0:b}\".format(j,k))\n",
    "print(\"j = 0000{0:b} \".format(j & k) + str(j & k)) # AND\n",
    "print(\"j = 00{0:b} \".format(j | k) + str(j | k))   # OR\n",
    "print(\"j = 00{0:b} \".format(j ^ k) + str(j ^ k))   # XOR\n",
    "print(\"j =  {0:b} \".format( ~j ) + str( ~j ))      # Ones complement, i.e. flipping every bit\n",
    "print(\"j = {0:b} \".format(j<<2) + str( j<<2 ))     # Left Shift\n",
    "print(\"j = 0000{0:b} \".format(j>>2) + str( j>>2 )) # Right Shift"
   ]
  },
  {
   "cell_type": "markdown",
   "metadata": {},
   "source": [
    "| 运算符 | 描述                                                         | 实例                                                         |\n",
    "| ------ | ------------------------------------------------------------ | ------------------------------------------------------------ |\n",
    "| & | 按位与运算符：参与运算的两个值,如果两个相应位都为1,则该位的结果为1,否则为0 | (a & b) 输出结果 12 ，二进制解释： 0000 1100     |\n",
    "|｜|      按位或运算符：只要对应的二个二进位有一个为1时，结果位就为1。 | (a｜b) 输出结果 61 ，二进制解释： 0011 1101         |\n",
    "| ^      | 按位异或运算符：当两对应的二进位相异时，结果为1              | (a ^ b) 输出结果 49 ，二进制解释： 0011 0001 |\n",
    "| ~      | 按位取反运算符：对数据的每个二进制位取反,即把1变为0,把0变为1 。~x 类似于 -x-1 | (~a ) 输出结果 -61 ，二进制解释： 1100 0011，在一个有符号二进制数的补码形式。 |\n",
    "| <<     | 左移动运算符：运算数的各二进位全部左移若干位，由 << 右边的数字指定了移动的位数，高位丢弃，低位补0。 | a << 2 输出结果 240 ，二进制解释： 1111 0000                 |\n",
    "| >>     | 右移动运算符：把\">>\"左边的运算数的各二进位全部右移若干位，>> 右边的数字指定了移动的位数 | a >> 2 输出结果 15 ，二进制解释： 0000 1111                  |"
   ]
  },
  {
   "cell_type": "markdown",
   "metadata": {},
   "source": [
    "## <font size=5><span id=\"1.5.5\"> 1.5.5 Logical Operators 逻辑运算符</span></font>\n",
    "## and or not"
   ]
  },
  {
   "cell_type": "code",
   "execution_count": 118,
   "metadata": {},
   "outputs": [
    {
     "data": {
      "text/plain": [
       "False"
      ]
     },
     "execution_count": 118,
     "metadata": {},
     "output_type": "execute_result"
    }
   ],
   "source": [
    "not True"
   ]
  },
  {
   "cell_type": "code",
   "execution_count": 119,
   "metadata": {},
   "outputs": [
    {
     "data": {
      "text/plain": [
       "True"
      ]
     },
     "execution_count": 119,
     "metadata": {},
     "output_type": "execute_result"
    }
   ],
   "source": [
    "not 0"
   ]
  },
  {
   "cell_type": "code",
   "execution_count": 120,
   "metadata": {},
   "outputs": [
    {
     "data": {
      "text/plain": [
       "False"
      ]
     },
     "execution_count": 120,
     "metadata": {},
     "output_type": "execute_result"
    }
   ],
   "source": [
    "not 4"
   ]
  },
  {
   "cell_type": "code",
   "execution_count": 121,
   "metadata": {},
   "outputs": [
    {
     "data": {
      "text/plain": [
       "True"
      ]
     },
     "execution_count": 121,
     "metadata": {},
     "output_type": "execute_result"
    }
   ],
   "source": [
    "3 < 4 < 5"
   ]
  },
  {
   "cell_type": "code",
   "execution_count": 122,
   "metadata": {},
   "outputs": [
    {
     "data": {
      "text/plain": [
       "False"
      ]
     },
     "execution_count": 122,
     "metadata": {},
     "output_type": "execute_result"
    }
   ],
   "source": [
    "3 < 4 < 2"
   ]
  },
  {
   "cell_type": "code",
   "execution_count": 123,
   "metadata": {},
   "outputs": [
    {
     "data": {
      "text/plain": [
       "True"
      ]
     },
     "execution_count": 123,
     "metadata": {},
     "output_type": "execute_result"
    }
   ],
   "source": [
    "3 < 4 and 4 < 5"
   ]
  },
  {
   "cell_type": "code",
   "execution_count": 124,
   "metadata": {},
   "outputs": [
    {
     "data": {
      "text/plain": [
       "True"
      ]
     },
     "execution_count": 124,
     "metadata": {},
     "output_type": "execute_result"
    }
   ],
   "source": [
    "3 < 5 or 8 > 5"
   ]
  },
  {
   "cell_type": "code",
   "execution_count": 125,
   "metadata": {},
   "outputs": [
    {
     "name": "stdout",
     "output_type": "stream",
     "text": [
      "True\n",
      "True\n",
      "True\n",
      "True\n"
     ]
    }
   ],
   "source": [
    "a_string = \"Women Who Code\"\n",
    "print(\"Women\" in a_string)\n",
    "print(\"Men\" not in a_string)\n",
    "print(len(\"Women Who Code\") is len(a_string))\n",
    "print(len(\"Hello World!\") is not len(a_string))"
   ]
  },
  {
   "cell_type": "code",
   "execution_count": 126,
   "metadata": {},
   "outputs": [],
   "source": [
    "# 判断闰年怎么判断呢\n",
    "year = 2100  # eval(input('输入年份（四位数）'))\n",
    "# 大家来试试\n"
   ]
  },
  {
   "cell_type": "markdown",
   "metadata": {},
   "source": [
    "## is 和  is not 运算符\n",
    "## 与==以及!=的区别"
   ]
  },
  {
   "cell_type": "markdown",
   "metadata": {},
   "source": [
    "### is 用于判断两个变量引用对象是否为同一个， == 用于判断引用变量的值是否相等。"
   ]
  },
  {
   "cell_type": "code",
   "execution_count": 127,
   "metadata": {},
   "outputs": [
    {
     "name": "stdout",
     "output_type": "stream",
     "text": [
      "True\n",
      "True\n",
      "1666149568\n",
      "1666149568\n"
     ]
    }
   ],
   "source": [
    "x = 5\n",
    "y = 5\n",
    "print(x == y)\n",
    "print(x is y)\n",
    "print(id(x))\n",
    "print(id(y))"
   ]
  },
  {
   "cell_type": "code",
   "execution_count": 128,
   "metadata": {},
   "outputs": [
    {
     "name": "stdout",
     "output_type": "stream",
     "text": [
      "Help on built-in function id in module builtins:\n",
      "\n",
      "id(obj, /)\n",
      "    Return the identity of an object.\n",
      "    \n",
      "    This is guaranteed to be unique among simultaneously existing objects.\n",
      "    (CPython uses the object's memory address.)\n",
      "\n"
     ]
    }
   ],
   "source": [
    "help(id)"
   ]
  },
  {
   "cell_type": "code",
   "execution_count": 129,
   "metadata": {},
   "outputs": [
    {
     "data": {
      "text/plain": [
       "1666149440"
      ]
     },
     "execution_count": 129,
     "metadata": {},
     "output_type": "execute_result"
    }
   ],
   "source": [
    "id(1)"
   ]
  },
  {
   "cell_type": "code",
   "execution_count": 130,
   "metadata": {},
   "outputs": [
    {
     "data": {
      "text/plain": [
       "2285102648712"
      ]
     },
     "execution_count": 130,
     "metadata": {},
     "output_type": "execute_result"
    }
   ],
   "source": [
    "id(\"abc\")"
   ]
  },
  {
   "cell_type": "code",
   "execution_count": 131,
   "metadata": {},
   "outputs": [
    {
     "data": {
      "text/plain": [
       "2285151353672"
      ]
     },
     "execution_count": 131,
     "metadata": {},
     "output_type": "execute_result"
    }
   ],
   "source": [
    "id([1, 2, 3])"
   ]
  },
  {
   "cell_type": "code",
   "execution_count": 132,
   "metadata": {},
   "outputs": [
    {
     "name": "stdout",
     "output_type": "stream",
     "text": [
      "True\n",
      "True\n",
      "2285151494832\n",
      "2285151494832\n"
     ]
    }
   ],
   "source": [
    "x = \"abcabcabcabcabcabcabcabcabcabc\"\n",
    "y = \"abcabcabcabcabcabcabcabcabcabc\"\n",
    "print(x == y)\n",
    "print(x is y)\n",
    "print(id(x))\n",
    "print(id(y))"
   ]
  },
  {
   "cell_type": "code",
   "execution_count": 133,
   "metadata": {},
   "outputs": [
    {
     "name": "stdout",
     "output_type": "stream",
     "text": [
      "True\n",
      "False\n",
      "2285151352712\n",
      "2285150525960\n"
     ]
    }
   ],
   "source": [
    "# 数组比较\n",
    "x = [1, 2, 3]\n",
    "y = [1, 2, 3]\n",
    "print(x == y)\n",
    "print(x is y)\n",
    "print(id(x))\n",
    "print(id(y))"
   ]
  },
  {
   "cell_type": "code",
   "execution_count": 134,
   "metadata": {},
   "outputs": [
    {
     "name": "stdout",
     "output_type": "stream",
     "text": [
      "True\n",
      "False\n",
      "2285151422432\n",
      "2285151420992\n"
     ]
    }
   ],
   "source": [
    "# 元组比较\n",
    "x = (1, 2, 3)\n",
    "y = (1, 2, 3)\n",
    "print(x == y)\n",
    "print(x is y)\n",
    "print(id(x))\n",
    "print(id(y))"
   ]
  },
  {
   "cell_type": "code",
   "execution_count": 135,
   "metadata": {},
   "outputs": [
    {
     "name": "stdout",
     "output_type": "stream",
     "text": [
      "True\n",
      "False\n",
      "2285151275048\n",
      "2285151099496\n"
     ]
    }
   ],
   "source": [
    "# 字典比较\n",
    "x = {\"id\": 1, \"name\": \"Tom\", \"age\": 18}\n",
    "y = {\"id\": 1, \"name\": \"Tom\", \"age\": 18}\n",
    "print(x == y)\n",
    "print(x is y)\n",
    "print(id(x))\n",
    "print(id(y))"
   ]
  },
  {
   "cell_type": "code",
   "execution_count": 136,
   "metadata": {},
   "outputs": [
    {
     "name": "stdout",
     "output_type": "stream",
     "text": [
      "True\n",
      "False\n",
      "2285149876008\n",
      "2285149875784\n"
     ]
    }
   ],
   "source": [
    "# 集合比较\n",
    "x = set([1, 2, 3])\n",
    "y = set([1, 2, 3])\n",
    "print(x == y)\n",
    "print(x is y)\n",
    "print(id(x))\n",
    "print(id(y))"
   ]
  },
  {
   "cell_type": "code",
   "execution_count": 137,
   "metadata": {},
   "outputs": [
    {
     "name": "stdout",
     "output_type": "stream",
     "text": [
      "True\n",
      "True\n",
      "2285151352712\n",
      "2285151352712\n"
     ]
    }
   ],
   "source": [
    "# 赋值后比较\n",
    "x = [1, 2, 3]\n",
    "y = x\n",
    "print(x == y)\n",
    "print(x is y)\n",
    "print(id(x))\n",
    "print(id(y))"
   ]
  },
  {
   "cell_type": "markdown",
   "metadata": {},
   "source": [
    "## <font size=5><span id=\"1.5.6\"> 1.5.6 Comparing null value 空值比较</span></font>\n"
   ]
  },
  {
   "cell_type": "code",
   "execution_count": 138,
   "metadata": {},
   "outputs": [
    {
     "data": {
      "text/plain": [
       "True"
      ]
     },
     "execution_count": 138,
     "metadata": {},
     "output_type": "execute_result"
    }
   ],
   "source": [
    "none_type = None\n",
    "none_type is None"
   ]
  },
  {
   "cell_type": "markdown",
   "metadata": {},
   "source": [
    "## <font size=5><span id=\"1.5.7\"> 1.5.7 Collection type operations</span></font>"
   ]
  },
  {
   "cell_type": "code",
   "execution_count": 139,
   "metadata": {},
   "outputs": [
    {
     "data": {
      "text/plain": [
       "'g a s'"
      ]
     },
     "execution_count": 139,
     "metadata": {},
     "output_type": "execute_result"
    }
   ],
   "source": [
    "'Slicing a string'[6:11]"
   ]
  },
  {
   "cell_type": "code",
   "execution_count": 140,
   "metadata": {},
   "outputs": [
    {
     "data": {
      "text/plain": [
       "'357'"
      ]
     },
     "execution_count": 140,
     "metadata": {},
     "output_type": "execute_result"
    }
   ],
   "source": [
    "# Slice position 3 to 9 every 2 step\n",
    "'0123456789'[3:9:2]"
   ]
  },
  {
   "cell_type": "code",
   "execution_count": 141,
   "metadata": {},
   "outputs": [
    {
     "data": {
      "text/plain": [
       "'9'"
      ]
     },
     "execution_count": 141,
     "metadata": {},
     "output_type": "execute_result"
    }
   ],
   "source": [
    "# accessing items from end of collection\n",
    "'0123456789'[-1]"
   ]
  },
  {
   "cell_type": "code",
   "execution_count": 142,
   "metadata": {},
   "outputs": [
    {
     "data": {
      "text/plain": [
       "['1', '2', '3', '4', '5', '6', '7', '8', '9']"
      ]
     },
     "execution_count": 142,
     "metadata": {},
     "output_type": "execute_result"
    }
   ],
   "source": [
    "# Most collection types could be sorted\n",
    "sorted('987654321')"
   ]
  },
  {
   "cell_type": "markdown",
   "metadata": {},
   "source": [
    "## - 动手试试看（切片试验）"
   ]
  },
  {
   "cell_type": "code",
   "execution_count": 143,
   "metadata": {},
   "outputs": [],
   "source": [
    "# try\n"
   ]
  },
  {
   "cell_type": "code",
   "execution_count": 144,
   "metadata": {},
   "outputs": [
    {
     "data": {
      "text/plain": [
       "True"
      ]
     },
     "execution_count": 144,
     "metadata": {},
     "output_type": "execute_result"
    }
   ],
   "source": [
    "# any() returns True if any member of the collection is true\n",
    "# 判断是否为空对象\n",
    "any([0,1,2])"
   ]
  },
  {
   "cell_type": "code",
   "execution_count": 145,
   "metadata": {},
   "outputs": [
    {
     "data": {
      "text/plain": [
       "False"
      ]
     },
     "execution_count": 145,
     "metadata": {},
     "output_type": "execute_result"
    }
   ],
   "source": [
    "# all() returns True if all the members are true\n",
    "all([0,1,2]) #所有元素不为0、''、False或者x为空对象，则返回True，否则返回False"
   ]
  },
  {
   "cell_type": "markdown",
   "metadata": {},
   "source": [
    "### String specific operations"
   ]
  },
  {
   "cell_type": "code",
   "execution_count": 146,
   "metadata": {},
   "outputs": [
    {
     "name": "stdout",
     "output_type": "stream",
     "text": [
      "Concatenation\n",
      "Multiplication Multiplication \n",
      "UPPER\n",
      "lower\n",
      "Capitalise\n",
      "                     center                     \n",
      "ljust                                           \n",
      "                                           rjust\n",
      "1\n",
      "0\n",
      "6\n",
      "list join of join strings\n",
      "['split', 'this', 'string', 'on', 'passed', 'space', 'separator']\n",
      "['split', 'lines']\n",
      "('part', 'i', 'tion')\n",
      "strip white  spaces\n",
      "left strip    \n",
      "    right strip\n",
      "replXce X with X\n"
     ]
    },
    {
     "ename": "TypeError",
     "evalue": "unsupported format string passed to list.__format__",
     "output_type": "error",
     "traceback": [
      "\u001b[1;31m---------------------------------------------------------------------------\u001b[0m",
      "\u001b[1;31mTypeError\u001b[0m                                 Traceback (most recent call last)",
      "\u001b[1;32m<ipython-input-146-36b18c4913c1>\u001b[0m in \u001b[0;36m<module>\u001b[1;34m()\u001b[0m\n\u001b[0;32m     19\u001b[0m \u001b[0mprint\u001b[0m\u001b[1;33m(\u001b[0m\u001b[1;34m'    right strip    '\u001b[0m\u001b[1;33m.\u001b[0m\u001b[0mrstrip\u001b[0m\u001b[1;33m(\u001b[0m\u001b[1;33m)\u001b[0m\u001b[1;33m)\u001b[0m\u001b[1;33m\u001b[0m\u001b[0m\n\u001b[0;32m     20\u001b[0m \u001b[0mprint\u001b[0m\u001b[1;33m(\u001b[0m\u001b[1;34m'replace a with X'\u001b[0m\u001b[1;33m.\u001b[0m\u001b[0mreplace\u001b[0m\u001b[1;33m(\u001b[0m\u001b[1;34m'a'\u001b[0m\u001b[1;33m,\u001b[0m\u001b[1;34m'X'\u001b[0m\u001b[1;33m)\u001b[0m\u001b[1;33m)\u001b[0m\u001b[1;33m\u001b[0m\u001b[0m\n\u001b[1;32m---> 21\u001b[1;33m \u001b[0mprint\u001b[0m\u001b[1;33m(\u001b[0m\u001b[1;34m'Formats the string, x={:d}'\u001b[0m\u001b[1;33m.\u001b[0m\u001b[0mformat\u001b[0m\u001b[1;33m(\u001b[0m\u001b[0mx\u001b[0m\u001b[1;33m)\u001b[0m\u001b[1;33m)\u001b[0m\u001b[1;33m\u001b[0m\u001b[0m\n\u001b[0m",
      "\u001b[1;31mTypeError\u001b[0m: unsupported format string passed to list.__format__"
     ]
    }
   ],
   "source": [
    "print('Concat' + 'enation')\n",
    "print('Multiplication ' * 2)\n",
    "print('upper'.upper())\n",
    "print('Lower'.lower())\n",
    "print('capitalise'.capitalize())\n",
    "print('center'.center(48))\n",
    "print('ljust'.ljust(48))\n",
    "print('rjust'.rjust(48))\n",
    "print('find i'.find('i')) # return the lowest index where the given substring is found, -1 on failure\n",
    "print('index of i'.index('i')) # raises a ValueError exception on failure\n",
    "print('rfind i'.rfind('i')) # return the highest index of the given substring\n",
    "print(' join '.join(['list','of','strings']))\n",
    "print('split this string on passed space separator'.split(' '))\n",
    "print(\"\"\"split\n",
    "lines\"\"\".splitlines())\n",
    "print('partition'.partition('i')) # returns the first string, the separator, and the remaining string\n",
    "print('strip white  spaces'.strip()) # default is whitespace, or strip passed characters\n",
    "print('    left strip    '.lstrip())\n",
    "print('    right strip    '.rstrip())\n",
    "print('replace a with X'.replace('a','X'))\n",
    "print('Formats the string, x={:d}'.format(x))"
   ]
  },
  {
   "cell_type": "code",
   "execution_count": 147,
   "metadata": {},
   "outputs": [],
   "source": [
    "# try"
   ]
  },
  {
   "cell_type": "markdown",
   "metadata": {},
   "source": [
    "### Boolean string operations 字符串判断函数"
   ]
  },
  {
   "cell_type": "code",
   "execution_count": 148,
   "metadata": {},
   "outputs": [
    {
     "name": "stdout",
     "output_type": "stream",
     "text": [
      "True\n"
     ]
    }
   ],
   "source": [
    "print('startswith'.startswith('start')) "
   ]
  },
  {
   "cell_type": "code",
   "execution_count": 149,
   "metadata": {},
   "outputs": [
    {
     "name": "stdout",
     "output_type": "stream",
     "text": [
      "True\n"
     ]
    }
   ],
   "source": [
    "print('endswith'.endswith('endswith'))"
   ]
  },
  {
   "cell_type": "code",
   "execution_count": 150,
   "metadata": {},
   "outputs": [
    {
     "name": "stdout",
     "output_type": "stream",
     "text": [
      "True\n"
     ]
    }
   ],
   "source": [
    "print('isalpha'.isalpha())  #是否有字母组成"
   ]
  },
  {
   "cell_type": "code",
   "execution_count": 151,
   "metadata": {},
   "outputs": [
    {
     "name": "stdout",
     "output_type": "stream",
     "text": [
      "False\n"
     ]
    }
   ],
   "source": [
    "print('isdigit'.isdigit()) # 是否由数值组成"
   ]
  },
  {
   "cell_type": "code",
   "execution_count": 152,
   "metadata": {},
   "outputs": [
    {
     "name": "stdout",
     "output_type": "stream",
     "text": [
      "True\n"
     ]
    }
   ],
   "source": [
    "print('isalnum'.isalnum())  #是否由字母和数字组成"
   ]
  },
  {
   "cell_type": "markdown",
   "metadata": {},
   "source": [
    "### Dictionary Operations 字典判断函数"
   ]
  },
  {
   "cell_type": "code",
   "execution_count": 153,
   "metadata": {},
   "outputs": [],
   "source": [
    "wwcodesg = {'name':'Women Who Code Singapore', \n",
    "                 'org':'WWCode', \n",
    "                 'city':'Singapore',\n",
    "                 'members':1260}"
   ]
  },
  {
   "cell_type": "code",
   "execution_count": 154,
   "metadata": {},
   "outputs": [
    {
     "name": "stdout",
     "output_type": "stream",
     "text": [
      "dict_keys(['name', 'org', 'city', 'members'])\n",
      "dict_values(['Women Who Code Singapore', 'WWCode', 'Singapore', 1260])\n",
      "dict_items([('name', 'Women Who Code Singapore'), ('org', 'WWCode'), ('city', 'Singapore'), ('members', 1260)])\n"
     ]
    }
   ],
   "source": [
    "print(wwcodesg.keys())\n",
    "print(wwcodesg.values())\n",
    "print(wwcodesg.items())"
   ]
  },
  {
   "cell_type": "code",
   "execution_count": 155,
   "metadata": {},
   "outputs": [
    {
     "name": "stdout",
     "output_type": "stream",
     "text": [
      "Women Who Code Singapore\n"
     ]
    }
   ],
   "source": [
    "print(wwcodesg.get('name'))"
   ]
  },
  {
   "cell_type": "code",
   "execution_count": 156,
   "metadata": {},
   "outputs": [
    {
     "name": "stdout",
     "output_type": "stream",
     "text": [
      "dict_items([('name', 'Women Who Code Singapore'), ('org', 'WWCode'), ('city', 'Singapore'), ('members', 1260)])\n"
     ]
    }
   ],
   "source": [
    "print(wwcodesg.items())"
   ]
  },
  {
   "cell_type": "code",
   "execution_count": 157,
   "metadata": {},
   "outputs": [
    {
     "name": "stdout",
     "output_type": "stream",
     "text": [
      "WWCode\n"
     ]
    }
   ],
   "source": [
    "print(wwcodesg.pop('org'))"
   ]
  },
  {
   "cell_type": "code",
   "execution_count": 158,
   "metadata": {},
   "outputs": [
    {
     "name": "stdout",
     "output_type": "stream",
     "text": [
      "dict_items([('name', 'Women Who Code Singapore'), ('city', 'Singapore'), ('members', 1260)])\n"
     ]
    }
   ],
   "source": [
    "print(wwcodesg.items())"
   ]
  },
  {
   "cell_type": "code",
   "execution_count": 159,
   "metadata": {},
   "outputs": [
    {
     "name": "stdout",
     "output_type": "stream",
     "text": [
      "Women Who Code\n"
     ]
    }
   ],
   "source": [
    "print(wwcodesg.setdefault('org', 'Women Who Code')) #字典 setdefault() 函数和get() 方法类似, 如果键不存在于字典中，将会添加键并将值设为默认值。"
   ]
  },
  {
   "cell_type": "code",
   "execution_count": 160,
   "metadata": {},
   "outputs": [
    {
     "name": "stdout",
     "output_type": "stream",
     "text": [
      "dict_items([('name', 'Women Who Code Singapore'), ('city', 'Singapore'), ('members', 1260), ('org', 'Women Who Code')])\n"
     ]
    }
   ],
   "source": [
    "print(wwcodesg.items())"
   ]
  },
  {
   "cell_type": "markdown",
   "metadata": {},
   "source": [
    "### Set operations 集合判断函数"
   ]
  },
  {
   "cell_type": "code",
   "execution_count": 161,
   "metadata": {},
   "outputs": [],
   "source": [
    "set1 = {'1','2','3','4','5',}"
   ]
  },
  {
   "cell_type": "code",
   "execution_count": 162,
   "metadata": {},
   "outputs": [
    {
     "name": "stdout",
     "output_type": "stream",
     "text": [
      "True\n"
     ]
    }
   ],
   "source": [
    "print('4' in set1)"
   ]
  },
  {
   "cell_type": "code",
   "execution_count": 163,
   "metadata": {},
   "outputs": [
    {
     "name": "stdout",
     "output_type": "stream",
     "text": [
      "True\n"
     ]
    }
   ],
   "source": [
    "print({'1','2','4'}.issubset(set1))"
   ]
  },
  {
   "cell_type": "code",
   "execution_count": 164,
   "metadata": {},
   "outputs": [
    {
     "name": "stdout",
     "output_type": "stream",
     "text": [
      "True\n",
      "False\n"
     ]
    }
   ],
   "source": [
    "print({'2','3','4'} <= set1 ) # subset or the same\n",
    "print({'1','2','3','4','5'} < set1 ) # is subset"
   ]
  },
  {
   "cell_type": "code",
   "execution_count": 165,
   "metadata": {},
   "outputs": [
    {
     "name": "stdout",
     "output_type": "stream",
     "text": [
      "True\n"
     ]
    }
   ],
   "source": [
    "print(set1.issuperset({'2','3','4'}))"
   ]
  },
  {
   "cell_type": "code",
   "execution_count": 166,
   "metadata": {},
   "outputs": [
    {
     "name": "stdout",
     "output_type": "stream",
     "text": [
      "True\n"
     ]
    }
   ],
   "source": [
    "print(set1 >= {'2','3','4'})"
   ]
  },
  {
   "cell_type": "code",
   "execution_count": 167,
   "metadata": {},
   "outputs": [
    {
     "name": "stdout",
     "output_type": "stream",
     "text": [
      "False\n"
     ]
    }
   ],
   "source": [
    "print(set1 > {'4','5','6'})"
   ]
  },
  {
   "cell_type": "code",
   "execution_count": 168,
   "metadata": {},
   "outputs": [
    {
     "name": "stdout",
     "output_type": "stream",
     "text": [
      "{'1', '3', '6', '4', '2', '5'}\n"
     ]
    }
   ],
   "source": [
    "print({'5','6'}.union(set1))"
   ]
  },
  {
   "cell_type": "code",
   "execution_count": 169,
   "metadata": {},
   "outputs": [
    {
     "name": "stdout",
     "output_type": "stream",
     "text": [
      "{'1'}\n"
     ]
    }
   ],
   "source": [
    "set2 = {'1', '7', '8', '9'} \n",
    "print(set1.intersection(set2)) #交集 "
   ]
  },
  {
   "cell_type": "code",
   "execution_count": 170,
   "metadata": {},
   "outputs": [
    {
     "name": "stdout",
     "output_type": "stream",
     "text": [
      "{'4', '1', '3', '2', '5'}\n",
      "{'1', '7', '9', '8'}\n",
      "{'1'}\n",
      "{'7', '9', '8'}\n"
     ]
    }
   ],
   "source": [
    "print(set1)\n",
    "print(set2)\n",
    "set3 = set1 & set2 # same as intersection 交集\n",
    "print(set3)\n",
    "print(set2.difference(set1)) # difference()差 set2里面有，set1里面没有的"
   ]
  },
  {
   "cell_type": "code",
   "execution_count": 171,
   "metadata": {},
   "outputs": [
    {
     "name": "stdout",
     "output_type": "stream",
     "text": [
      "{'7', '9', '8'}\n"
     ]
    }
   ],
   "source": [
    "print(set2 - set1) # same as difference"
   ]
  },
  {
   "cell_type": "code",
   "execution_count": 172,
   "metadata": {},
   "outputs": [
    {
     "name": "stdout",
     "output_type": "stream",
     "text": [
      "{'4', '1', '3', '2', '5'}\n",
      "{'1', '7', '9', '8'}\n",
      "{'9', '7', '8', '5', '4', '2', '3'}\n"
     ]
    }
   ],
   "source": [
    "print(set1)\n",
    "print(set2)\n",
    "print(set2.symmetric_difference(set1)) # 返回：合集-交集"
   ]
  },
  {
   "cell_type": "code",
   "execution_count": 173,
   "metadata": {},
   "outputs": [
    {
     "name": "stdout",
     "output_type": "stream",
     "text": [
      "{'4', '1', '3', '2', '5'}\n",
      "{'1', '7', '9', '8'}\n",
      "{'7', '5', '4', '9', '8', '2', '3'}\n"
     ]
    }
   ],
   "source": [
    "print(set1)\n",
    "print(set2)\n",
    "print(set1 ^ set2 )# 返回：合集-交集"
   ]
  },
  {
   "cell_type": "markdown",
   "metadata": {},
   "source": [
    "### Set Modifier Operations 集合修改运算\n",
    "Set modifiers update the set's value(s) in place"
   ]
  },
  {
   "cell_type": "code",
   "execution_count": 174,
   "metadata": {},
   "outputs": [],
   "source": [
    "set1 = {'1','2','3','4','5',}"
   ]
  },
  {
   "cell_type": "code",
   "execution_count": 175,
   "metadata": {},
   "outputs": [
    {
     "name": "stdout",
     "output_type": "stream",
     "text": [
      "{'4', '9', '1', '3', '2', '5'}\n"
     ]
    }
   ],
   "source": [
    "set1.update({'9'}); print(set1)"
   ]
  },
  {
   "cell_type": "code",
   "execution_count": 176,
   "metadata": {},
   "outputs": [
    {
     "name": "stdout",
     "output_type": "stream",
     "text": [
      "{'1', '7', '6', '8'}\n"
     ]
    }
   ],
   "source": [
    "set2 = {'6', '7', '8'}\n",
    "set2 |= {'1'}; print(set2) # same as update"
   ]
  },
  {
   "cell_type": "code",
   "execution_count": 177,
   "metadata": {},
   "outputs": [
    {
     "name": "stdout",
     "output_type": "stream",
     "text": [
      "{'1'}\n"
     ]
    }
   ],
   "source": [
    "set2.intersection_update(set1); print(set2)"
   ]
  },
  {
   "cell_type": "code",
   "execution_count": 178,
   "metadata": {},
   "outputs": [
    {
     "name": "stdout",
     "output_type": "stream",
     "text": [
      "{'1'}\n"
     ]
    }
   ],
   "source": [
    "set2 &= set1; print(set2) # same as intersection update"
   ]
  },
  {
   "cell_type": "code",
   "execution_count": 179,
   "metadata": {},
   "outputs": [
    {
     "ename": "NameError",
     "evalue": "name 'asean' is not defined",
     "output_type": "error",
     "traceback": [
      "\u001b[1;31m---------------------------------------------------------------------------\u001b[0m",
      "\u001b[1;31mNameError\u001b[0m                                 Traceback (most recent call last)",
      "\u001b[1;32m<ipython-input-179-eb58b4a15964>\u001b[0m in \u001b[0;36m<module>\u001b[1;34m()\u001b[0m\n\u001b[1;32m----> 1\u001b[1;33m \u001b[0masean\u001b[0m\u001b[1;33m.\u001b[0m\u001b[0mdifference_update\u001b[0m\u001b[1;33m(\u001b[0m\u001b[0mwwcode_asean\u001b[0m\u001b[1;33m)\u001b[0m\u001b[1;33m;\u001b[0m \u001b[0mprint\u001b[0m\u001b[1;33m(\u001b[0m\u001b[0masean\u001b[0m\u001b[1;33m)\u001b[0m\u001b[1;33m\u001b[0m\u001b[0m\n\u001b[0m\u001b[0;32m      2\u001b[0m \u001b[0mwwcode_asia\u001b[0m \u001b[1;33m-=\u001b[0m \u001b[0masean\u001b[0m\u001b[1;33m;\u001b[0m \u001b[0mprint\u001b[0m\u001b[1;33m(\u001b[0m\u001b[0mwwcode_asia\u001b[0m\u001b[1;33m)\u001b[0m \u001b[1;31m# same as difference update\u001b[0m\u001b[1;33m\u001b[0m\u001b[0m\n\u001b[0;32m      3\u001b[0m \u001b[0masean\u001b[0m\u001b[1;33m.\u001b[0m\u001b[0msymmetric_difference_update\u001b[0m\u001b[1;33m(\u001b[0m\u001b[0mwwcode_asean\u001b[0m\u001b[1;33m)\u001b[0m\u001b[1;33m;\u001b[0m \u001b[0mprint\u001b[0m\u001b[1;33m(\u001b[0m\u001b[0masean\u001b[0m\u001b[1;33m)\u001b[0m\u001b[1;33m\u001b[0m\u001b[0m\n\u001b[0;32m      4\u001b[0m \u001b[0mwwcode_asia\u001b[0m \u001b[1;33m^=\u001b[0m \u001b[0masean\u001b[0m\u001b[1;33m;\u001b[0m \u001b[0mprint\u001b[0m\u001b[1;33m(\u001b[0m\u001b[0mwwcode_asia\u001b[0m\u001b[1;33m)\u001b[0m \u001b[1;31m# same as symmetric difference update\u001b[0m\u001b[1;33m\u001b[0m\u001b[0m\n\u001b[0;32m      5\u001b[0m \u001b[0mwwcode_asean\u001b[0m\u001b[1;33m.\u001b[0m\u001b[0madd\u001b[0m\u001b[1;33m(\u001b[0m\u001b[1;34m'Jakarta'\u001b[0m\u001b[1;33m)\u001b[0m\u001b[1;33m;\u001b[0m \u001b[0mprint\u001b[0m\u001b[1;33m(\u001b[0m\u001b[0mwwcode_asean\u001b[0m\u001b[1;33m)\u001b[0m\u001b[1;33m\u001b[0m\u001b[0m\n",
      "\u001b[1;31mNameError\u001b[0m: name 'asean' is not defined"
     ]
    }
   ],
   "source": [
    "asean.difference_update(wwcode_asean); print(asean)\n",
    "wwcode_asia -= asean; print(wwcode_asia) # same as difference update\n",
    "asean.symmetric_difference_update(wwcode_asean); print(asean)\n",
    "wwcode_asia ^= asean; print(wwcode_asia) # same as symmetric difference update\n",
    "wwcode_asean.add('Jakarta'); print(wwcode_asean)\n",
    "wwcode_asean.remove('Jakarta'); print(wwcode_asean)\n",
    "wwcode_asean.discard('Jakarta'); print(wwcode_asean) # does not return KeyError if element not found\n",
    "print(wwcode_asean.pop()) # removes and returns an arbitrary member from the set.\n",
    "wwcode_asean.clear(); print(wwcode_asean) # removes all elements"
   ]
  },
  {
   "cell_type": "code",
   "execution_count": null,
   "metadata": {},
   "outputs": [],
   "source": []
  },
  {
   "cell_type": "markdown",
   "metadata": {},
   "source": [
    "## <font size=5><span id=\"1.5.8\"> 1.5.8 三元操作符</span></font>"
   ]
  },
  {
   "cell_type": "code",
   "execution_count": 180,
   "metadata": {},
   "outputs": [
    {
     "data": {
      "text/plain": [
       "5"
      ]
     },
     "execution_count": 180,
     "metadata": {},
     "output_type": "execute_result"
    }
   ],
   "source": [
    "x = 5\n",
    "y = 8\n",
    "if x < y:\n",
    "    small =  x\n",
    "else:\n",
    "    small = y\n",
    "small"
   ]
  },
  {
   "cell_type": "code",
   "execution_count": null,
   "metadata": {},
   "outputs": [],
   "source": [
    "# rewrite\n",
    "small = x if x < y else y\n",
    "small"
   ]
  },
  {
   "cell_type": "markdown",
   "metadata": {},
   "source": [
    "[返回目录](#mulu)"
   ]
  },
  {
   "cell_type": "markdown",
   "metadata": {},
   "source": [
    "# <font size=6> <span id=\"1.6\"> 1.6 Conditional Statements 条件判断语句</span></font>"
   ]
  },
  {
   "cell_type": "markdown",
   "metadata": {},
   "source": [
    "## <font size=5><span id=\"1.6.1\"> 1.6.1 if-elif-else Statement</span></font>\n"
   ]
  },
  {
   "cell_type": "code",
   "execution_count": 182,
   "metadata": {},
   "outputs": [
    {
     "name": "stdout",
     "output_type": "stream",
     "text": [
      "Happy\n"
     ]
    }
   ],
   "source": [
    "if(i==1):\n",
    "    print(\"Happy\")"
   ]
  },
  {
   "cell_type": "code",
   "execution_count": 183,
   "metadata": {},
   "outputs": [
    {
     "name": "stdout",
     "output_type": "stream",
     "text": [
      "Weekend\n"
     ]
    }
   ],
   "source": [
    "if(i<1):\n",
    "    print(\"Happy\")\n",
    "elif(i==1.0):\n",
    "    print(\"Weekend\")"
   ]
  },
  {
   "cell_type": "code",
   "execution_count": 184,
   "metadata": {},
   "outputs": [
    {
     "name": "stdout",
     "output_type": "stream",
     "text": [
      "Ahead!\n"
     ]
    }
   ],
   "source": [
    "if(i<1):\n",
    "    print(\"Happy\")\n",
    "elif(i!=1.0):\n",
    "    print(\"Weekend\")\n",
    "else:\n",
    "    print(\"Ahead!\")"
   ]
  },
  {
   "cell_type": "code",
   "execution_count": 185,
   "metadata": {},
   "outputs": [
    {
     "name": "stdout",
     "output_type": "stream",
     "text": [
      "请输入成绩：80\n",
      "B\n"
     ]
    }
   ],
   "source": [
    "## 百分制转成 五分制\n",
    "score = int(input('请输入成绩：'))\n",
    "\n",
    "if 90 <= score <= 100:\n",
    "    print('A')\n",
    "if 80 <= score < 90:\n",
    "    print('B')\n",
    "if 70 <= score < 80:\n",
    "    print('C')\n",
    "if 60 <= score < 70:\n",
    "    print('D')\n",
    "if 0 <= score < 60:\n",
    "    print('F')\n",
    "if score < 0 or score > 100:\n",
    "    print('input error')\n",
    "\n"
   ]
  },
  {
   "cell_type": "markdown",
   "metadata": {},
   "source": [
    "## Play"
   ]
  },
  {
   "cell_type": "code",
   "execution_count": null,
   "metadata": {},
   "outputs": [],
   "source": [
    "\"\"\"玩一个游戏吧\"\"\"\n",
    "temp=input(\"猜一个数字：\")\n",
    "guess=int(temp)\n",
    "if guess == 8:\n",
    "    print(\"你太厉害了，被你猜中了\")\n",
    "    print(\"不好意思，没奖品\")\n",
    "else:\n",
    "    print(\"猜错啦，正确答案是8！\")\n",
    "print(\"Game over, Bye\")"
   ]
  },
  {
   "cell_type": "code",
   "execution_count": null,
   "metadata": {},
   "outputs": [],
   "source": []
  },
  {
   "cell_type": "markdown",
   "metadata": {},
   "source": [
    "## <font size=5><span id=\"1.6.2\"> 1.6.2 try-except-raise Statements</span></font>"
   ]
  },
  {
   "cell_type": "markdown",
   "metadata": {},
   "source": [
    "Try statements are useful when you know there are possibility of an error but you want to handle these errors and not stop the program."
   ]
  },
  {
   "cell_type": "code",
   "execution_count": null,
   "metadata": {},
   "outputs": [],
   "source": [
    "while True:\n",
    "    try:\n",
    "        x = int(input(\"Please enter a number: \"))\n",
    "        break\n",
    "    except ValueError:\n",
    "        print(\"Oops!  That was not a valid number.  Try again...\")"
   ]
  },
  {
   "cell_type": "markdown",
   "metadata": {},
   "source": [
    "### pass in try statements\n",
    "Use pass to continue without performing an action.  \n",
    "An except clause may name multiple exceptions as a parenthesized tuple."
   ]
  },
  {
   "cell_type": "code",
   "execution_count": null,
   "metadata": {},
   "outputs": [],
   "source": [
    "try:\n",
    "    print(Hello)\n",
    "except (RuntimeError, TypeError, NameError):\n",
    "    pass"
   ]
  },
  {
   "cell_type": "markdown",
   "metadata": {},
   "source": [
    "### raise in try statements"
   ]
  },
  {
   "cell_type": "code",
   "execution_count": null,
   "metadata": {},
   "outputs": [],
   "source": [
    "try:\n",
    "    raise NameError('HiThere')\n",
    "except NameError:\n",
    "    print('An exception flew by!')"
   ]
  },
  {
   "cell_type": "code",
   "execution_count": null,
   "metadata": {},
   "outputs": [],
   "source": [
    "try:\n",
    "    raise NameError('HiThere')\n",
    "except NameError:\n",
    "    print('An exception flew by!')\n",
    "    raise"
   ]
  },
  {
   "cell_type": "markdown",
   "metadata": {},
   "source": [
    "### else in try statements\n",
    "The try … except statement has an optional else clause, which, when present, must follow all except clauses.  \n",
    "It is useful for code that must be executed if the try clause does not raise an exception. "
   ]
  },
  {
   "cell_type": "code",
   "execution_count": null,
   "metadata": {},
   "outputs": [],
   "source": [
    "arg = 'README.md'\n",
    "try:\n",
    "    f = open(arg, 'r')\n",
    "except OSError:\n",
    "    print('cannot open', arg)\n",
    "else:\n",
    "    print(arg, 'has', len(f.readlines()), 'lines')\n",
    "    f.close()"
   ]
  },
  {
   "cell_type": "markdown",
   "metadata": {},
   "source": [
    "### finaly in try statements\n",
    "A finally clause is always executed before leaving the try statement, whether an exception has occurred or not."
   ]
  },
  {
   "cell_type": "code",
   "execution_count": null,
   "metadata": {},
   "outputs": [],
   "source": [
    "def divide(x, y):\n",
    "    try:\n",
    "        result = x / y\n",
    "    except ZeroDivisionError:\n",
    "        print(\"division by zero!\")\n",
    "    else:\n",
    "        print(\"result is\", result)\n",
    "    finally:\n",
    "        print(\"executing finally clause\")"
   ]
  },
  {
   "cell_type": "code",
   "execution_count": null,
   "metadata": {},
   "outputs": [],
   "source": [
    "divide(2, 0)"
   ]
  },
  {
   "cell_type": "code",
   "execution_count": null,
   "metadata": {},
   "outputs": [],
   "source": [
    "divide(4,2)"
   ]
  },
  {
   "cell_type": "code",
   "execution_count": null,
   "metadata": {},
   "outputs": [],
   "source": [
    "divide(\"2\", \"1\")"
   ]
  },
  {
   "cell_type": "markdown",
   "metadata": {},
   "source": [
    "#### References\n",
    "https://www.learnpython.org/en/Conditions  \n",
    "https://www.tutorialspoint.com/python/python_basic_operators.htm  "
   ]
  },
  {
   "cell_type": "code",
   "execution_count": null,
   "metadata": {},
   "outputs": [],
   "source": []
  },
  {
   "cell_type": "markdown",
   "metadata": {},
   "source": [
    "[返回目录](#mulu)"
   ]
  },
  {
   "cell_type": "code",
   "execution_count": null,
   "metadata": {},
   "outputs": [],
   "source": []
  }
 ],
 "metadata": {
  "celltoolbar": "Raw Cell Format",
  "kernelspec": {
   "display_name": "Python 3",
   "language": "python",
   "name": "python3"
  },
  "language_info": {
   "codemirror_mode": {
    "name": "ipython",
    "version": 3
   },
   "file_extension": ".py",
   "mimetype": "text/x-python",
   "name": "python",
   "nbconvert_exporter": "python",
   "pygments_lexer": "ipython3",
   "version": "3.6.5"
  }
 },
 "nbformat": 4,
 "nbformat_minor": 2
}
