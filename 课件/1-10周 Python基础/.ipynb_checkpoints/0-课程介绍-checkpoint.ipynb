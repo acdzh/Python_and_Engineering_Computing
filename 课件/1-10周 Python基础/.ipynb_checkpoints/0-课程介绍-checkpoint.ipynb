{
 "cells": [
  {
   "cell_type": "markdown",
   "metadata": {},
   "source": [
    "***"
   ]
  },
  {
   "cell_type": "markdown",
   "metadata": {},
   "source": [
    "# WELCOME to PYTHON\n",
    "\n",
    "# 任课教师: \n",
    "\n",
    "\n",
    "\n",
    "## email:  \n",
    "## &#160;&#160;&#160;&#160;&#160;&#160;&#160;&#160;&#160;&#160;&#160;\n",
    "## 办公地址："
   ]
  },
  {
   "cell_type": "markdown",
   "metadata": {},
   "source": [
    "# 成绩评定\n",
    "## + 考勤+作业：30%\n",
    "## + 期中考试：20%\n",
    "## + 期末考试：50%"
   ]
  },
  {
   "cell_type": "markdown",
   "metadata": {},
   "source": [
    "___"
   ]
  },
  {
   "cell_type": "markdown",
   "metadata": {},
   "source": [
    "# 讲义：PYTHON 官方帮助\n",
    "## website:https://www.python.org/\n",
    "## 帮助：https://docs.python.org/3.6/tutorial/"
   ]
  },
  {
   "cell_type": "markdown",
   "metadata": {},
   "source": [
    "___"
   ]
  },
  {
   "cell_type": "markdown",
   "metadata": {},
   "source": [
    "# 教学内容安排\n",
    "## (1) 入门：简介、环境搭建、基本类型、容器与运算\n",
    "## (2) 程序控制结构\n",
    "## (3) 函数(和递归*)\n",
    "## (4) 文件操作\n",
    "## (5) 面向对象编程\n",
    "## (6) Python扩展与常用模块简介(sys、math等)\n",
    "## (7) NumPy库介绍\n",
    "## (8) SciPy库介绍\n",
    "## (9) Matplotlib(SymPy库*)介绍\n",
    "## (10) 数值计算应用实战\n",
    "## (11) 复习考试"
   ]
  },
  {
   "cell_type": "markdown",
   "metadata": {},
   "source": [
    "___"
   ]
  }
 ],
 "metadata": {
  "celltoolbar": "Raw Cell Format",
  "kernelspec": {
   "display_name": "Python 3",
   "language": "python",
   "name": "python3"
  },
  "language_info": {
   "codemirror_mode": {
    "name": "ipython",
    "version": 3
   },
   "file_extension": ".py",
   "mimetype": "text/x-python",
   "name": "python",
   "nbconvert_exporter": "python",
   "pygments_lexer": "ipython3",
   "version": "3.6.5"
  }
 },
 "nbformat": 4,
 "nbformat_minor": 2
}
