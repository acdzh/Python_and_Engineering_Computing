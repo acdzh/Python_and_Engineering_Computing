{
 "cells": [
  {
   "cell_type": "markdown",
   "metadata": {},
   "source": [
    "***"
   ]
  },
  {
   "cell_type": "markdown",
   "metadata": {},
   "source": [
    "<span id=\"mulu\"><font face=\"黑体\" size=6>本章目录</font></span>\n",
    "* [第六讲 文件及其读写](#6)\n",
    "\n",
    "    * [6.1 文件](#6.1)\n",
    "        * [6.1.1 打开文件](#6.1.1)\n",
    "        * [6.1.2 文件对象的方法](#6.1.2)\n",
    "        * [6.1.3 文件的关闭](#6.1.3)\n",
    "        * [6.1.4 文件的读取和定位](#6.1.4)\n",
    "        * [6.1.5 文件的写入](#6.1.5)\n",
    "        * [6.1.6 实例](#6.1.6)\n",
    "    * [6.2 文件系统](#6.2) \n",
    "    * [6.3 pickle](#6.3) \n"
   ]
  },
  {
   "cell_type": "markdown",
   "metadata": {},
   "source": [
    "___"
   ]
  },
  {
   "cell_type": "markdown",
   "metadata": {},
   "source": [
    "# <font size=6><span id=\"6.1\"> 6.1 文件</span></font>"
   ]
  },
  {
   "cell_type": "markdown",
   "metadata": {},
   "source": [
    "## <font size=5><span id=\"6.1.1\"> 6.1.1 打开文件</span></font>"
   ]
  },
  {
   "cell_type": "markdown",
   "metadata": {},
   "source": [
    "### open() 返回文件对象"
   ]
  },
  {
   "cell_type": "markdown",
   "metadata": {},
   "source": [
    "open(file,mode='r',buffering = -1, encoding = None, errors = None, newline = None, closefd = True, opener = None)"
   ]
  },
  {
   "cell_type": "markdown",
   "metadata": {},
   "source": [
    "<table>\n",
    "<thead>\n",
    "<tr><th style='text-align:center;' ><strong>访问模式</strong></th><th><strong>说明</strong></th></tr></thead>\n",
    "<tbody><tr><td style='text-align:center;' >r</td><td>以只读方式打开文件。文件的指针将会放在文件的开头。这是默认模式。</td></tr><tr><td style='text-align:center;' >w</td><td>打开一个文件只用于写入。如果该文件已存在则将其覆盖。如果该文件不存在，创建新文件。</td></tr><tr><td style='text-align:center;' >a</td><td>打开一个文件用于追加。如果该文件已存在，文件指针将会放在文件的结尾。也就是说，新的内容将会被写入到已有内容之后。如果该文件不存在，创建新文件进行写入。</td></tr><tr><td style='text-align:center;' >rb</td><td>以二进制格式打开一个文件用于只读。文件指针将会放在文件的开头。这是默认模式。</td></tr><tr><td style='text-align:center;' >wb</td><td>以二进制格式打开一个文件只用于写入。如果该文件已存在则将其覆盖。如果该文件不存在，创建新文件。</td></tr><tr><td style='text-align:center;' >ab</td><td>以二进制格式打开一个文件用于追加。如果该文件已存在，文件指针将会放在文件的结尾。也就是说，新的内容将会被写入到已有内容之后。如果该文件不存在，创建新文件进行写入。</td></tr><tr><td style='text-align:center;' >r+</td><td>打开一个文件用于读写。文件指针将会放在文件的开头。</td></tr><tr><td style='text-align:center;' >w+</td><td>打开一个文件用于读写。如果该文件已存在则将其覆盖。如果该文件不存在，创建新文件。</td></tr><tr><td style='text-align:center;' >a+</td><td>打开一个文件用于读写。如果该文件已存在，文件指针将会放在文件的结尾。文件打开时会是追加模式。如果该文件不存在，创建新文件用于读写。</td></tr><tr><td style='text-align:center;' >rb+</td><td>以二进制格式打开一个文件用于读写。文件指针将会放在文件的开头。</td></tr><tr><td style='text-align:center;' >wb+</td><td>以二进制格式打开一个文件用于读写。如果该文件已存在则将其覆盖。如果该文件不存在，创建新文件。</td></tr><tr><td style='text-align:center;' >ab+</td><td>以二进制格式打开一个文件用于追加。如果该文件已存在，文件指针将会放在文件的结尾。如果该文件不存在，创建新文件用于读写。</td></tr></tbody>\n",
    "</table>"
   ]
  },
  {
   "cell_type": "code",
   "execution_count": null,
   "metadata": {},
   "outputs": [],
   "source": []
  },
  {
   "cell_type": "code",
   "execution_count": 2,
   "metadata": {},
   "outputs": [
    {
     "data": {
      "text/plain": [
       "<_io.TextIOWrapper name='ch5/record.txt' mode='r' encoding='cp936'>"
      ]
     },
     "execution_count": 2,
     "metadata": {},
     "output_type": "execute_result"
    }
   ],
   "source": [
    "file = open(\"ch5/record.txt\")\n",
    "file"
   ]
  },
  {
   "cell_type": "markdown",
   "metadata": {},
   "source": [
    "## <font size=5><span id=\"6.1.2\"> 6.1.2 文件对象的方法</span></font>\n",
    "### 文件对象操作方法"
   ]
  },
  {
   "cell_type": "markdown",
   "metadata": {},
   "source": [
    "<figure><table>\n",
    "<thead>\n",
    "<tr><th>文件对象方法</th><th>执行操作</th></tr></thead>\n",
    "<tbody><tr><td>close()</td><td>关闭文件</td></tr><tr><td>read(size == -1)</td><td>从文件读取size个字符，当未给定size或给定负值的时候，读取剩余的所有字符，然后作为字符串返回</td></tr><tr><td>readline()</td><td>从文件中读取一整行字符串</td></tr><tr><td>write(str)</td><td>将字符串str写入文件</td></tr><tr><td>writeline(seq)</td><td>向文件写入字符串序列seq，seq应该是一个返回字符串的可迭代对象</td></tr><tr><td>seek(offset, from)</td><td>在文件中移动文件指针，从from(0代表文件其实位置，1代表当前位置，2代表文件末尾)偏移offset个字节</td></tr><tr><td>tell()</td><td>返回当前在文件中的位置</td></tr></tbody>\n",
    "</table></figure>\n",
    "<p>&nbsp;</p>\n"
   ]
  },
  {
   "cell_type": "markdown",
   "metadata": {},
   "source": [
    "## <font size=5><span id=\"6.1.3\"> 6.1.3 文件的关闭</span></font>"
   ]
  },
  {
   "cell_type": "code",
   "execution_count": 3,
   "metadata": {},
   "outputs": [
    {
     "name": "stdout",
     "output_type": "stream",
     "text": [
      "<_io.TextIOWrapper name='ch5/record.txt' mode='r' encoding='cp936'>\n"
     ]
    }
   ],
   "source": [
    "# close() 关闭文件\n",
    "file.close()\n",
    "print(file)\n",
    "# 养成关闭close（）文件的重要性"
   ]
  },
  {
   "cell_type": "code",
   "execution_count": 3,
   "metadata": {},
   "outputs": [
    {
     "data": {
      "text/plain": [
       "61"
      ]
     },
     "execution_count": 3,
     "metadata": {},
     "output_type": "execute_result"
    }
   ],
   "source": [
    "# 简单的例子\n",
    "myfile = open(\"myfile.txt\",'w')\n",
    "myfile.write(\"hello python by exporting to txt files\\nThe second line sample\") #look file"
   ]
  },
  {
   "cell_type": "code",
   "execution_count": 4,
   "metadata": {},
   "outputs": [],
   "source": [
    "myfile.close()"
   ]
  },
  {
   "cell_type": "code",
   "execution_count": 11,
   "metadata": {},
   "outputs": [],
   "source": [
    "myfile = open(\"myfile.txt\")  # without 'r'"
   ]
  },
  {
   "cell_type": "code",
   "execution_count": 6,
   "metadata": {},
   "outputs": [
    {
     "data": {
      "text/plain": [
       "['hello python by exporting to txt files\\n', 'The second line sample']"
      ]
     },
     "execution_count": 6,
     "metadata": {},
     "output_type": "execute_result"
    }
   ],
   "source": [
    "myfile.readlines()"
   ]
  },
  {
   "cell_type": "code",
   "execution_count": 13,
   "metadata": {},
   "outputs": [
    {
     "data": {
      "text/plain": [
       "[]"
      ]
     },
     "execution_count": 13,
     "metadata": {},
     "output_type": "execute_result"
    }
   ],
   "source": [
    "myfile.readlines() # end of file\n"
   ]
  },
  {
   "cell_type": "code",
   "execution_count": 14,
   "metadata": {},
   "outputs": [],
   "source": [
    "myfile.close()"
   ]
  },
  {
   "cell_type": "code",
   "execution_count": 15,
   "metadata": {},
   "outputs": [
    {
     "data": {
      "text/plain": [
       "'hello python by exporting to txt files\\nThe second line sample'"
      ]
     },
     "execution_count": 15,
     "metadata": {},
     "output_type": "execute_result"
    }
   ],
   "source": [
    "open(\"myfile.txt\").read()  #一次读完"
   ]
  },
  {
   "cell_type": "code",
   "execution_count": 18,
   "metadata": {},
   "outputs": [
    {
     "name": "stdout",
     "output_type": "stream",
     "text": [
      "hello python by exporting to txt files\n",
      "The second line sample\n"
     ]
    }
   ],
   "source": [
    "print(open(\"myfile.txt\").read())  #比较友好的方式"
   ]
  },
  {
   "cell_type": "code",
   "execution_count": null,
   "metadata": {},
   "outputs": [],
   "source": []
  },
  {
   "cell_type": "markdown",
   "metadata": {},
   "source": [
    "## <font size=5><span id=\"6.1.4\"> 6.1.4 文件的读取和定位</span></font>"
   ]
  },
  {
   "cell_type": "code",
   "execution_count": 14,
   "metadata": {},
   "outputs": [
    {
     "data": {
      "text/plain": [
       "<_io.TextIOWrapper name='ch5/record.txt' mode='r' encoding='cp936'>"
      ]
     },
     "execution_count": 14,
     "metadata": {},
     "output_type": "execute_result"
    }
   ],
   "source": [
    "file = open(\"ch5/record.txt\")\n",
    "file"
   ]
  },
  {
   "cell_type": "code",
   "execution_count": 15,
   "metadata": {},
   "outputs": [
    {
     "data": {
      "text/plain": [
       "'1\\t4\\n2\\t3\\n3\\t0\\n4\\t-5\\n5\\t-12\\n6\\t-21\\n7\\t-32\\n8\\t-45\\n9\\t-60\\n10\\t-77\\n11\\t-96\\n12\\t-117\\n13\\t-140\\n14\\t-165\\n15\\t-192\\n16\\t-221\\n17\\t-252\\n18\\t-285\\n19\\t-320\\n20\\t-357\\n21\\t-396\\n22\\t-437\\n23\\t-480\\n24\\t-525\\n25\\t-572\\n26\\t-621\\n27\\t-672\\n28\\t-725\\n29\\t-780\\n30\\t-837\\n31\\t-896\\n32\\t-957\\n'"
      ]
     },
     "execution_count": 15,
     "metadata": {},
     "output_type": "execute_result"
    }
   ],
   "source": [
    "file.seek(0,0) #将文件指针（书签）放在头部\n",
    "file.read() # 按字节读取，如果不设置参数，那么会全部读进来，知道文件末尾"
   ]
  },
  {
   "cell_type": "code",
   "execution_count": 16,
   "metadata": {},
   "outputs": [
    {
     "data": {
      "text/plain": [
       "261"
      ]
     },
     "execution_count": 16,
     "metadata": {},
     "output_type": "execute_result"
    }
   ],
   "source": [
    "file.tell()  #文件指针所在位置"
   ]
  },
  {
   "cell_type": "code",
   "execution_count": 17,
   "metadata": {},
   "outputs": [
    {
     "data": {
      "text/plain": [
       "'1\\t4\\n2'"
      ]
     },
     "execution_count": 17,
     "metadata": {},
     "output_type": "execute_result"
    }
   ],
   "source": [
    "file.seek(0,0) #将文件指针（书签）放在头部\n",
    "file.read(5) # 按字节读取"
   ]
  },
  {
   "cell_type": "code",
   "execution_count": 18,
   "metadata": {},
   "outputs": [
    {
     "data": {
      "text/plain": [
       "'1\\t4\\n'"
      ]
     },
     "execution_count": 18,
     "metadata": {},
     "output_type": "execute_result"
    }
   ],
   "source": [
    "file.seek(0,0)\n",
    "file.readline() #读取一整行，直到遇到\\n"
   ]
  },
  {
   "cell_type": "code",
   "execution_count": 19,
   "metadata": {},
   "outputs": [
    {
     "data": {
      "text/plain": [
       "['1\\t4\\n',\n",
       " '2\\t3\\n',\n",
       " '3\\t0\\n',\n",
       " '4\\t-5\\n',\n",
       " '5\\t-12\\n',\n",
       " '6\\t-21\\n',\n",
       " '7\\t-32\\n',\n",
       " '8\\t-45\\n',\n",
       " '9\\t-60\\n',\n",
       " '10\\t-77\\n',\n",
       " '11\\t-96\\n',\n",
       " '12\\t-117\\n',\n",
       " '13\\t-140\\n',\n",
       " '14\\t-165\\n',\n",
       " '15\\t-192\\n',\n",
       " '16\\t-221\\n',\n",
       " '17\\t-252\\n',\n",
       " '18\\t-285\\n',\n",
       " '19\\t-320\\n',\n",
       " '20\\t-357\\n',\n",
       " '21\\t-396\\n',\n",
       " '22\\t-437\\n',\n",
       " '23\\t-480\\n',\n",
       " '24\\t-525\\n',\n",
       " '25\\t-572\\n',\n",
       " '26\\t-621\\n',\n",
       " '27\\t-672\\n',\n",
       " '28\\t-725\\n',\n",
       " '29\\t-780\\n',\n",
       " '30\\t-837\\n',\n",
       " '31\\t-896\\n',\n",
       " '32\\t-957\\n']"
      ]
     },
     "execution_count": 19,
     "metadata": {},
     "output_type": "execute_result"
    }
   ],
   "source": [
    "file.seek(0,0)\n",
    "list(file)  #整个文件读进来"
   ]
  },
  {
   "cell_type": "code",
   "execution_count": 22,
   "metadata": {},
   "outputs": [
    {
     "name": "stdout",
     "output_type": "stream",
     "text": [
      "1\t4\n",
      "2\t3\n",
      "3\t0\n",
      "4\t-5\n",
      "5\t-12\n",
      "6\t-21\n",
      "7\t-32\n",
      "8\t-45\n",
      "9\t-60\n",
      "10\t-77\n",
      "11\t-96\n",
      "12\t-117\n",
      "13\t-140\n",
      "14\t-165\n",
      "15\t-192\n",
      "16\t-221\n",
      "17\t-252\n",
      "18\t-285\n",
      "19\t-320\n",
      "20\t-357\n",
      "21\t-396\n",
      "22\t-437\n",
      "23\t-480\n",
      "24\t-525\n",
      "25\t-572\n",
      "26\t-621\n",
      "27\t-672\n",
      "28\t-725\n",
      "29\t-780\n",
      "30\t-837\n",
      "31\t-896\n",
      "32\t-957\n"
     ]
    }
   ],
   "source": [
    "file.seek(0,0)\n",
    "lines = list(file)\n",
    "for each_line in lines:\n",
    "    print(each_line,end='')"
   ]
  },
  {
   "cell_type": "code",
   "execution_count": 23,
   "metadata": {},
   "outputs": [
    {
     "name": "stdout",
     "output_type": "stream",
     "text": [
      "1\t4\n",
      "2\t3\n",
      "3\t0\n",
      "4\t-5\n",
      "5\t-12\n",
      "6\t-21\n",
      "7\t-32\n",
      "8\t-45\n",
      "9\t-60\n",
      "10\t-77\n",
      "11\t-96\n",
      "12\t-117\n",
      "13\t-140\n",
      "14\t-165\n",
      "15\t-192\n",
      "16\t-221\n",
      "17\t-252\n",
      "18\t-285\n",
      "19\t-320\n",
      "20\t-357\n",
      "21\t-396\n",
      "22\t-437\n",
      "23\t-480\n",
      "24\t-525\n",
      "25\t-572\n",
      "26\t-621\n",
      "27\t-672\n",
      "28\t-725\n",
      "29\t-780\n",
      "30\t-837\n",
      "31\t-896\n",
      "32\t-957\n"
     ]
    }
   ],
   "source": [
    "file.seek(0,0)\n",
    "for each_line in file:\n",
    "    print(each_line,end='')"
   ]
  },
  {
   "cell_type": "markdown",
   "metadata": {},
   "source": [
    "## <font size=5><span id=\"6.1.5\"> 6.1.5 文件的写入</span></font>"
   ]
  },
  {
   "cell_type": "code",
   "execution_count": 19,
   "metadata": {},
   "outputs": [
    {
     "ename": "NameError",
     "evalue": "name 'file' is not defined",
     "output_type": "error",
     "traceback": [
      "\u001b[1;31m---------------------------------------------------------------------------\u001b[0m",
      "\u001b[1;31mNameError\u001b[0m                                 Traceback (most recent call last)",
      "\u001b[1;32m<ipython-input-19-9fd11adf813d>\u001b[0m in \u001b[0;36m<module>\u001b[1;34m()\u001b[0m\n\u001b[1;32m----> 1\u001b[1;33m \u001b[0mfile\u001b[0m\u001b[1;33m.\u001b[0m\u001b[0mwrite\u001b[0m\u001b[1;33m(\u001b[0m\u001b[1;34m\"33  -100\"\u001b[0m\u001b[1;33m)\u001b[0m\u001b[1;33m\u001b[0m\u001b[0m\n\u001b[0m",
      "\u001b[1;31mNameError\u001b[0m: name 'file' is not defined"
     ]
    }
   ],
   "source": [
    "file.write(\"33  -100\")"
   ]
  },
  {
   "cell_type": "code",
   "execution_count": 20,
   "metadata": {},
   "outputs": [
    {
     "ename": "NameError",
     "evalue": "name 'file' is not defined",
     "output_type": "error",
     "traceback": [
      "\u001b[1;31m---------------------------------------------------------------------------\u001b[0m",
      "\u001b[1;31mNameError\u001b[0m                                 Traceback (most recent call last)",
      "\u001b[1;32m<ipython-input-20-2f72176549a0>\u001b[0m in \u001b[0;36m<module>\u001b[1;34m()\u001b[0m\n\u001b[1;32m----> 1\u001b[1;33m \u001b[0mfile\u001b[0m\u001b[1;33m.\u001b[0m\u001b[0mclose\u001b[0m\u001b[1;33m(\u001b[0m\u001b[1;33m)\u001b[0m\u001b[1;33m\u001b[0m\u001b[0m\n\u001b[0m",
      "\u001b[1;31mNameError\u001b[0m: name 'file' is not defined"
     ]
    }
   ],
   "source": [
    "file.close()"
   ]
  },
  {
   "cell_type": "code",
   "execution_count": 26,
   "metadata": {},
   "outputs": [
    {
     "data": {
      "text/plain": [
       "<_io.TextIOWrapper name='ch5/record.txt' mode='w' encoding='cp936'>"
      ]
     },
     "execution_count": 26,
     "metadata": {},
     "output_type": "execute_result"
    }
   ],
   "source": [
    "file = open(\"ch5/record.txt\",\"w\")\n",
    "file"
   ]
  },
  {
   "cell_type": "code",
   "execution_count": 27,
   "metadata": {},
   "outputs": [],
   "source": [
    "file.write(\"33  -100\\n\")\n",
    "file.close()"
   ]
  },
  {
   "cell_type": "markdown",
   "metadata": {},
   "source": [
    "### 需要注意：使用w模式，此前文件内容会全部被删除\n",
    "### 可以使用a模式，追加模式"
   ]
  },
  {
   "cell_type": "code",
   "execution_count": 47,
   "metadata": {},
   "outputs": [],
   "source": [
    "file = open(\"ch5/record1.txt\",\"a\")\n",
    "file.write(\"33  -100\\n\")\n",
    "file.close()"
   ]
  },
  {
   "cell_type": "markdown",
   "metadata": {},
   "source": [
    "### with open as文件打开方式"
   ]
  },
  {
   "cell_type": "code",
   "execution_count": 48,
   "metadata": {},
   "outputs": [
    {
     "name": "stdout",
     "output_type": "stream",
     "text": [
      "1\t4\n",
      "2\t3\n",
      "3\t0\n",
      "4\t-5\n",
      "5\t-12\n",
      "6\t-21\n",
      "7\t-32\n",
      "8\t-45\n",
      "9\t-60\n",
      "10\t-77\n",
      "11\t-96\n",
      "12\t-117\n",
      "13\t-140\n",
      "14\t-165\n",
      "15\t-192\n",
      "16\t-221\n",
      "17\t-252\n",
      "18\t-285\n",
      "19\t-320\n",
      "20\t-357\n",
      "21\t-396\n",
      "22\t-437\n",
      "23\t-480\n",
      "24\t-525\n",
      "25\t-572\n",
      "26\t-621\n",
      "27\t-672\n",
      "28\t-725\n",
      "29\t-780\n",
      "30\t-837\n",
      "31\t-896\n",
      "32\t-957\n",
      "33  -100\n",
      "33  -100\n",
      "33  -100\n",
      "33  -100\n",
      "33  -100\n"
     ]
    }
   ],
   "source": [
    "with open(\"ch5/record1.txt\") as file:  #自动调用file.close()\n",
    "    for each_line in file:\n",
    "        print(each_line,end='')"
   ]
  },
  {
   "cell_type": "code",
   "execution_count": 5,
   "metadata": {},
   "outputs": [
    {
     "data": {
      "text/plain": [
       "True"
      ]
     },
     "execution_count": 5,
     "metadata": {},
     "output_type": "execute_result"
    }
   ],
   "source": [
    "file.closed  #测试文件是否关闭"
   ]
  },
  {
   "cell_type": "markdown",
   "metadata": {},
   "source": [
    "[返回目录](#mulu)"
   ]
  },
  {
   "cell_type": "markdown",
   "metadata": {},
   "source": [
    "## <font size=5><span id=\"6.1.6\"> 6.1.6 实例</span></font>"
   ]
  },
  {
   "cell_type": "code",
   "execution_count": 80,
   "metadata": {},
   "outputs": [
    {
     "name": "stdout",
     "output_type": "stream",
     "text": [
      "学号：1234567,姓名：段誉      ，性别：男,年龄：32，特殊技能：一阳指\n",
      "学号：1234237,姓名：乔峰      ，性别：男,年龄：43，特殊技能：降龙十八掌\n",
      "学号：1235243,姓名：令狐冲     ，性别：男,年龄：32，特殊技能：独孤九剑\n",
      "学号：1232212,姓名：成吉思汗    ，性别：男,年龄：55，特殊技能：None\n",
      "学号：1234432,姓名：韦小宝     ，性别：男,年龄：18，特殊技能：逃跑\n",
      "学号：1235278,姓名：杨过      ，性别：男,年龄：23，特殊技能：黯然销魂掌\n",
      "学号：1245328,姓名：黄蓉      ，性别：女,年龄：19，特殊技能：打狗棍法\n",
      "---------------------------------------------------------------------------\n",
      "学号      姓名        性别  年龄   特殊技能\n",
      "1234567   段誉         男    32    一阳指\n",
      "1234237   乔峰         男    43    降龙十八掌\n",
      "1235243   令狐冲        男    32    独孤九剑\n",
      "1232212   成吉思汗       男    55    None\n",
      "1234432   韦小宝        男    18    逃跑\n",
      "1235278   杨过         男    23    黯然销魂掌\n",
      "1245328   黄蓉         女    19    打狗棍法\n"
     ]
    }
   ],
   "source": [
    "import csv\n",
    "csv_file = csv.reader(open(\"heros1.csv\",'r'))   #换成heros1.csv (ansi格式)    hero.csv(utf-8格式)\n",
    "#print(csv_file)\n",
    "list=[]\n",
    "for each in csv_file:\n",
    "    list.append(each)\n",
    "for each in list:\n",
    "    print('学号：{0:6},姓名：{1:8}，性别：{2},年龄：{3}，特殊技能：{4}'.format(each[0],each[1],each[2],each[3],each[4]))\n",
    "print('---------------------------------------------------------------------------')\n",
    "print('学号      姓名        性别  年龄   特殊技能')\n",
    "for each in list:\n",
    "    print('{0:6}   {1:8}   {2}    {3}    {4}'.format(each[0],each[1],each[2],each[3],each[4]))"
   ]
  },
  {
   "cell_type": "code",
   "execution_count": 79,
   "metadata": {},
   "outputs": [
    {
     "name": "stdout",
     "output_type": "stream",
     "text": [
      " 学号    姓名        性别  年龄  特殊技能\n",
      "1234567  段誉　　　　 男    32    一阳指　　　　　　　\n",
      "1234237  乔峰　　　　 男    43    降龙十八掌　　　　　\n",
      "1235243  令狐冲　　　 男    32    独孤九剑　　　　　　\n",
      "1232212  成吉思汗　　 男    55    None　　　　　　\n",
      "1234432  韦小宝　　　 男    18    逃跑　　　　　　　　\n",
      "1235278  杨过　　　　 男    23    黯然销魂掌　　　　　\n",
      "1245328  黄蓉　　　　 女    19    打狗棍法　　　　　　\n"
     ]
    }
   ],
   "source": [
    "import csv\n",
    "csv_file = csv.reader(open(\"heros1.csv\",'r'))   #换成heros1.csv (ansi格式)    hero.csv(utf-8格式)\n",
    "#print(csv_file)\n",
    "list=[]\n",
    "for each in csv_file:\n",
    "    list.append(each)\n",
    "\n",
    "print(' 学号    姓名        性别  年龄  特殊技能')\n",
    "tplt = '{0:7}  {1:{5}<6} {2}    {3}    {4:{5}<10}'   #  < > ^ 分别表示左对齐右对齐居中\n",
    "# 采用中文字符空格填充， （utf-8编码）chr(12288) \n",
    "\n",
    "for each in list:\n",
    "    #print(tplt.format(each[0],each[1],each[2],each[3],each[4]))\n",
    "    print(tplt.format(each[0],each[1],each[2],each[3],each[4],chr(12288)))\n",
    "    # 采用中文字符空格填充， （utf-8编码）chr(12288) "
   ]
  },
  {
   "cell_type": "code",
   "execution_count": 81,
   "metadata": {},
   "outputs": [
    {
     "data": {
      "text/plain": [
       "[{'学号': '1234567', '姓名': '段誉', '性别': '男', '年龄': '32', '特殊技能': '一阳指'},\n",
       " {'学号': '1234237', '姓名': '乔峰', '性别': '男', '年龄': '43', '特殊技能': '降龙十八掌'},\n",
       " {'学号': '1235243', '姓名': '令狐冲', '性别': '男', '年龄': '32', '特殊技能': '独孤九剑'},\n",
       " {'学号': '1232212', '姓名': '成吉思汗', '性别': '男', '年龄': '55', '特殊技能': 'None'},\n",
       " {'学号': '1234432', '姓名': '韦小宝', '性别': '男', '年龄': '18', '特殊技能': '逃跑'},\n",
       " {'学号': '1235278', '姓名': '杨过', '性别': '男', '年龄': '23', '特殊技能': '黯然销魂掌'},\n",
       " {'学号': '1245328', '姓名': '黄蓉', '性别': '女', '年龄': '19', '特殊技能': '打狗棍法'}]"
      ]
     },
     "execution_count": 81,
     "metadata": {},
     "output_type": "execute_result"
    }
   ],
   "source": [
    "# another try\n",
    "#读入后存为列表中的字典\n",
    "\n",
    "\n",
    "import csv\n",
    "csv_file = csv.reader(open(\"heros1.csv\",'r'))   #换成heros1.csv (ansi格式)    hero.csv(utf-8格式)\n",
    "#print(csv_file)\n",
    "keys = ['学号', '姓名', '性别', '年龄', '特殊技能']\n",
    "list1 = []\n",
    "count = 0\n",
    "for each in csv_file:\n",
    "    list1.append({})\n",
    "    for i in range(len(each)):\n",
    "        list1[count].update({keys[i]:each[i]})\n",
    "    count += 1\n",
    "list1\n"
   ]
  },
  {
   "cell_type": "code",
   "execution_count": 132,
   "metadata": {},
   "outputs": [
    {
     "name": "stdout",
     "output_type": "stream",
     "text": [
      " 学号    姓名        性别  年龄  特殊技能\n",
      "1234567  段誉　　　　 男    32    一阳指　　　　　　　\n",
      "1234237  乔峰　　　　 男    43    降龙十八掌　　　　　\n",
      "1235243  令狐冲　　　 男    32    独孤九剑　　　　　　\n",
      "1232212  成吉思汗　　 男    55    None　　　　　　\n",
      "1234432  韦小宝　　　 男    18    逃跑　　　　　　　　\n",
      "1235278  杨过　　　　 男    23    黯然销魂掌　　　　　\n",
      "1245328  黄蓉　　　　 女    19    打狗棍法　　　　　　\n"
     ]
    }
   ],
   "source": [
    "print(' 学号    姓名         性别  年龄  特殊技能')\n",
    "tplt = '{0:7}  {1:{5}<6} {2}    {3}    {4:{5}<10}'   #  < > ^ 分别表示左对齐右对齐居中\n",
    "# 采用中文字符空格填充， （utf-8编码）chr(12288) \n",
    "\n",
    "for each in list1:\n",
    "    #print(tplt.format(each[0],each[1],each[2],each[3],each[4]))\n",
    "    print(tplt.format(each['学号'],each['姓名'],each['性别'],each['年龄'],each['特殊技能'],chr(12288)))\n",
    "    # 采用中文字符空格填充， （utf-8编码）chr(12288) "
   ]
  },
  {
   "cell_type": "code",
   "execution_count": 171,
   "metadata": {},
   "outputs": [
    {
     "name": "stdout",
     "output_type": "stream",
     "text": [
      "1234432  韦小宝　　　 男    18    逃跑　　　　　　　　\n",
      "1245328  黄蓉　　　　 女    19    打狗棍法　　　　　　\n",
      "1235278  杨过　　　　 男    23    黯然销魂掌　　　　　\n",
      "1234567  段誉　　　　 男    32    一阳指　　　　　　　\n",
      "1235243  令狐冲　　　 男    32    独孤九剑　　　　　　\n",
      "1234237  乔峰　　　　 男    43    降龙十八掌　　　　　\n",
      "1232212  成吉思汗　　 男    55    None　　　　　　\n"
     ]
    }
   ],
   "source": [
    "# 如何按照学号、年龄等排序输出？\n",
    "# 仔细想想\n",
    "\n",
    "#listid = [list1[i]['学号'] for i in range(len(list))]\n",
    "\n",
    "#print(sorted(listid))\n",
    "\n",
    "#def takeid(elem):\n",
    "#    return elem['学号']\n",
    "#list1.sort(key = takeid, reverse = True)\n",
    "\n",
    "list1.sort(key = lambda x:x['年龄'], reverse = False)\n",
    "\n",
    "#print(list1)\n",
    "\n",
    "for each in list1:\n",
    "    #print(tplt.format(each[0],each[1],each[2],each[3],each[4]))\n",
    "    print(tplt.format(each['学号'],each['姓名'],each['性别'],each['年龄'],each['特殊技能'],chr(12288)))\n",
    "    # 采用中文字符空格填充， （utf-8编码）chr(12288) "
   ]
  },
  {
   "cell_type": "code",
   "execution_count": null,
   "metadata": {},
   "outputs": [],
   "source": []
  },
  {
   "cell_type": "code",
   "execution_count": null,
   "metadata": {},
   "outputs": [],
   "source": []
  },
  {
   "cell_type": "code",
   "execution_count": 175,
   "metadata": {},
   "outputs": [
    {
     "name": "stdout",
     "output_type": "stream",
     "text": [
      "Man: Is this the right room for an argument?\n",
      "Other Man: I've told you once.\n",
      "Man: No you haven't!\n",
      "Other Man: Yes I have.\n",
      "Man: When?\n",
      "Other Man: Just Now.\n",
      "Man: No you didn't!"
     ]
    }
   ],
   "source": [
    "# 读一个剧本\n",
    "with open('script.txt','r') as fp:\n",
    "    for each_line in fp:\n",
    "        print(each_line, end='')"
   ]
  },
  {
   "cell_type": "code",
   "execution_count": 82,
   "metadata": {},
   "outputs": [
    {
     "name": "stdout",
     "output_type": "stream",
     "text": [
      "Man said:  Is this the right room for an argument?\n",
      "Other Man said:  I've told you once.\n",
      "Man said:  No you haven't!\n",
      "Other Man said:  Yes I have.\n",
      "Man said:  When?\n",
      "Other Man said:  Just Now.\n",
      "Man said:  No you didn't!"
     ]
    }
   ],
   "source": [
    "# 读一个剧本\n",
    "with open('script.txt','r') as fp:\n",
    "    for each_line in fp:\n",
    "        (role, line_spoken) = each_line.split(':')\n",
    "        print(role, end=' ')\n",
    "        print('said: ' ,end = '')\n",
    "        print(line_spoken, end= '')"
   ]
  },
  {
   "cell_type": "code",
   "execution_count": 83,
   "metadata": {},
   "outputs": [
    {
     "name": "stdout",
     "output_type": "stream",
     "text": [
      "Man said:  Is this the right room for an argument?\n",
      "Other Man said:  I've told you once.\n",
      "Man said:  No you haven't!\n",
      "Other Man said:  Yes I have.\n",
      "Man said:  When?\n",
      "Other Man said:  Just Now.\n",
      "Man said:  No you didn't!\n"
     ]
    },
    {
     "ename": "ValueError",
     "evalue": "too many values to unpack (expected 2)",
     "output_type": "error",
     "traceback": [
      "\u001b[1;31m---------------------------------------------------------------------------\u001b[0m",
      "\u001b[1;31mValueError\u001b[0m                                Traceback (most recent call last)",
      "\u001b[1;32m<ipython-input-83-27f6d0979f97>\u001b[0m in \u001b[0;36m<module>\u001b[1;34m()\u001b[0m\n\u001b[0;32m      2\u001b[0m \u001b[1;32mwith\u001b[0m \u001b[0mopen\u001b[0m\u001b[1;33m(\u001b[0m\u001b[1;34m'script2.txt'\u001b[0m\u001b[1;33m,\u001b[0m\u001b[1;34m'r'\u001b[0m\u001b[1;33m)\u001b[0m \u001b[1;32mas\u001b[0m \u001b[0mfp\u001b[0m\u001b[1;33m:\u001b[0m   \u001b[1;31m#换文件了，就不行了\u001b[0m\u001b[1;33m\u001b[0m\u001b[0m\n\u001b[0;32m      3\u001b[0m     \u001b[1;32mfor\u001b[0m \u001b[0meach_line\u001b[0m \u001b[1;32min\u001b[0m \u001b[0mfp\u001b[0m\u001b[1;33m:\u001b[0m\u001b[1;33m\u001b[0m\u001b[0m\n\u001b[1;32m----> 4\u001b[1;33m         \u001b[1;33m(\u001b[0m\u001b[0mrole\u001b[0m\u001b[1;33m,\u001b[0m \u001b[0mline_spoken\u001b[0m\u001b[1;33m)\u001b[0m \u001b[1;33m=\u001b[0m \u001b[0meach_line\u001b[0m\u001b[1;33m.\u001b[0m\u001b[0msplit\u001b[0m\u001b[1;33m(\u001b[0m\u001b[1;34m':'\u001b[0m\u001b[1;33m)\u001b[0m\u001b[1;33m\u001b[0m\u001b[0m\n\u001b[0m\u001b[0;32m      5\u001b[0m         \u001b[0mprint\u001b[0m\u001b[1;33m(\u001b[0m\u001b[0mrole\u001b[0m\u001b[1;33m,\u001b[0m \u001b[0mend\u001b[0m\u001b[1;33m=\u001b[0m\u001b[1;34m' '\u001b[0m\u001b[1;33m)\u001b[0m\u001b[1;33m\u001b[0m\u001b[0m\n\u001b[0;32m      6\u001b[0m         \u001b[0mprint\u001b[0m\u001b[1;33m(\u001b[0m\u001b[1;34m'said: '\u001b[0m \u001b[1;33m,\u001b[0m\u001b[0mend\u001b[0m \u001b[1;33m=\u001b[0m \u001b[1;34m''\u001b[0m\u001b[1;33m)\u001b[0m\u001b[1;33m\u001b[0m\u001b[0m\n",
      "\u001b[1;31mValueError\u001b[0m: too many values to unpack (expected 2)"
     ]
    }
   ],
   "source": [
    "# 读一个剧本\n",
    "with open('script2.txt','r') as fp:   #换文件了，就不行了\n",
    "    for each_line in fp:\n",
    "        (role, line_spoken) = each_line.split(':')\n",
    "        print(role, end=' ')\n",
    "        print('said: ' ,end = '')\n",
    "        print(line_spoken, end= '')"
   ]
  },
  {
   "cell_type": "code",
   "execution_count": 85,
   "metadata": {},
   "outputs": [
    {
     "name": "stdout",
     "output_type": "stream",
     "text": [
      "Man said:  Is this the right room for an argument?\n",
      "Other Man said:  I've told you once.\n",
      "Man said:  No you haven't!\n",
      "Other Man said:  Yes I have.\n",
      "Man said:  When?\n",
      "Other Man said:  Just Now.\n",
      "Man said:  No you didn't!\n",
      "Other Man said:  HaHa, Let's get one thing quite clear: I most definitly told you!\n",
      "Man said:  Oh, no you didn't!"
     ]
    }
   ],
   "source": [
    "# 读一个剧本\n",
    "with open('script2.txt','r') as fp:   #换文件了\n",
    "    for each_line in fp:\n",
    "        (role, line_spoken) = each_line.split(':',1)  #改这里,这里的1表示1次\n",
    "        print(role, end=' ')\n",
    "        print('said: ' ,end = '')\n",
    "        print(line_spoken, end= '')"
   ]
  },
  {
   "cell_type": "code",
   "execution_count": 86,
   "metadata": {},
   "outputs": [
    {
     "name": "stdout",
     "output_type": "stream",
     "text": [
      "Man said:  Is this the right room for an argument?\n",
      "Other Man said:  I've told you once.\n",
      "Man said:  No you haven't!\n",
      "Other Man said:  Yes I have.\n",
      "Man said:  When?\n",
      "Other Man said:  Just Now.\n",
      "Man said:  No you didn't!\n",
      "Other Man said:  HaHa, Let's get one thing quite clear: I most definitly told you!\n",
      "Man said:  Oh, no you didn't!"
     ]
    }
   ],
   "source": [
    "# 读一个剧本\n",
    "with open('script3.txt','r') as fp:   #又  换文件了\n",
    "    for each_line in fp:\n",
    "        if not each_line.find(':') == -1:    ## 这里修改了：如果本行没找到冒号\n",
    "            (role, line_spoken) = each_line.split(':',1)  \n",
    "            print(role, end=' ')\n",
    "            print('said: ' ,end = '')\n",
    "            print(line_spoken, end= '')"
   ]
  },
  {
   "cell_type": "code",
   "execution_count": null,
   "metadata": {},
   "outputs": [],
   "source": []
  },
  {
   "cell_type": "markdown",
   "metadata": {},
   "source": [
    "[返回目录](#mulu)"
   ]
  },
  {
   "cell_type": "markdown",
   "metadata": {},
   "source": [
    "# <font size=6><span id=\"6.2\"> 6.2 文件系统</span></font>"
   ]
  },
  {
   "cell_type": "markdown",
   "metadata": {},
   "source": [
    "## <font size=5><span id=\"6.2.1\"> 6.2.1 os模块</span></font>"
   ]
  },
  {
   "cell_type": "code",
   "execution_count": 87,
   "metadata": {},
   "outputs": [
    {
     "data": {
      "text/plain": [
       "'D:\\\\MARUJIN\\\\18-TEACH-PYTHON'"
      ]
     },
     "execution_count": 87,
     "metadata": {},
     "output_type": "execute_result"
    }
   ],
   "source": [
    "import os  #导入os模块\n",
    "filepath=os.getcwd()  #获取当前工作目录\n",
    "filepath"
   ]
  },
  {
   "cell_type": "code",
   "execution_count": 88,
   "metadata": {},
   "outputs": [],
   "source": [
    "os.chdir(\"D:\\\\\")  #改变当前工作目录"
   ]
  },
  {
   "cell_type": "code",
   "execution_count": 89,
   "metadata": {},
   "outputs": [
    {
     "data": {
      "text/plain": [
       "'D:\\\\'"
      ]
     },
     "execution_count": 89,
     "metadata": {},
     "output_type": "execute_result"
    }
   ],
   "source": [
    "os.getcwd()"
   ]
  },
  {
   "cell_type": "code",
   "execution_count": 90,
   "metadata": {},
   "outputs": [],
   "source": [
    "os.chdir(filepath)"
   ]
  },
  {
   "cell_type": "code",
   "execution_count": 91,
   "metadata": {},
   "outputs": [
    {
     "data": {
      "text/plain": [
       "'D:\\\\MARUJIN\\\\18-TEACH-PYTHON'"
      ]
     },
     "execution_count": 91,
     "metadata": {},
     "output_type": "execute_result"
    }
   ],
   "source": [
    "os.getcwd()"
   ]
  },
  {
   "cell_type": "code",
   "execution_count": 92,
   "metadata": {},
   "outputs": [
    {
     "data": {
      "text/plain": [
       "['record.txt', 'record1.txt']"
      ]
     },
     "execution_count": 92,
     "metadata": {},
     "output_type": "execute_result"
    }
   ],
   "source": [
    "os.listdir() #显示当前目录下的内容\n",
    "os.listdir(path='.')\n",
    "os.listdir(path='D:\\\\MARUJIN\\\\18-TEACH-PYTHON\\\\ch5')"
   ]
  },
  {
   "cell_type": "code",
   "execution_count": 95,
   "metadata": {},
   "outputs": [],
   "source": [
    "os.mkdir(\"testnewfold1\") #创建一个文件夹，如果文件夹已经存在，则报错\n",
    "## 运行第二次就报错了"
   ]
  },
  {
   "cell_type": "code",
   "execution_count": 96,
   "metadata": {},
   "outputs": [],
   "source": [
    "os.makedirs(r\".\\ch6\\testfold\")  #创建多层目录\n",
    "# 再试一次就报错"
   ]
  },
  {
   "cell_type": "code",
   "execution_count": 97,
   "metadata": {},
   "outputs": [
    {
     "ename": "FileNotFoundError",
     "evalue": "[WinError 2] 系统找不到指定的文件。: 'laji.txt'",
     "output_type": "error",
     "traceback": [
      "\u001b[1;31m---------------------------------------------------------------------------\u001b[0m",
      "\u001b[1;31mFileNotFoundError\u001b[0m                         Traceback (most recent call last)",
      "\u001b[1;32m<ipython-input-97-5657501fa248>\u001b[0m in \u001b[0;36m<module>\u001b[1;34m()\u001b[0m\n\u001b[1;32m----> 1\u001b[1;33m \u001b[0mos\u001b[0m\u001b[1;33m.\u001b[0m\u001b[0mremove\u001b[0m\u001b[1;33m(\u001b[0m\u001b[1;34m\"laji.txt\"\u001b[0m\u001b[1;33m)\u001b[0m  \u001b[1;31m#删除文件\u001b[0m\u001b[1;33m\u001b[0m\u001b[0m\n\u001b[0m",
      "\u001b[1;31mFileNotFoundError\u001b[0m: [WinError 2] 系统找不到指定的文件。: 'laji.txt'"
     ]
    }
   ],
   "source": [
    "os.remove(\"laji.txt\")  #删除文件"
   ]
  },
  {
   "cell_type": "code",
   "execution_count": 98,
   "metadata": {},
   "outputs": [],
   "source": [
    "os.rmdir(\"testnewfold\")"
   ]
  },
  {
   "cell_type": "code",
   "execution_count": 99,
   "metadata": {},
   "outputs": [],
   "source": [
    "os.removedirs(r\".\\ch6\\testfold\")  "
   ]
  },
  {
   "cell_type": "code",
   "execution_count": 101,
   "metadata": {},
   "outputs": [],
   "source": [
    "os.listdir()\n",
    "os.rename(\"sala.txt\",\"salary.txt\")#改名字"
   ]
  },
  {
   "cell_type": "code",
   "execution_count": 102,
   "metadata": {},
   "outputs": [
    {
     "data": {
      "text/plain": [
       "['.ipynb_checkpoints',\n",
       " '08 Classes and OOP.ipynb',\n",
       " '18-TEACH-PYTHON-current.rar',\n",
       " 'ch5',\n",
       " 'Chapter 2 - Supervised Learning - Image Recognition with Support Vector Machines.ipynb',\n",
       " 'chapter20_1.ipynb',\n",
       " 'class01.rar',\n",
       " 'data.json',\n",
       " 'dictionary.py',\n",
       " 'f1_index.ipynb',\n",
       " 'fenxing.py',\n",
       " 'fenxing1.py',\n",
       " 'fenxing2.py',\n",
       " 'fenxing3.py',\n",
       " 'fenxing4.py',\n",
       " 'fenxing5.py',\n",
       " 'fenxing6.py',\n",
       " 'fenxingleafdot.py',\n",
       " 'fenxingtreeleaf.py',\n",
       " 'fenxingtreelove.py',\n",
       " 'Games',\n",
       " 'hello.txt',\n",
       " 'heros - 副本.csv',\n",
       " 'heros.csv',\n",
       " 'heros1.csv',\n",
       " 'images',\n",
       " 'images.rar',\n",
       " 'Jiading',\n",
       " 'jieba.ipynb',\n",
       " 'lecture-6.ipynb',\n",
       " 'lesson01.rar',\n",
       " 'minuit-class.ipynb',\n",
       " 'my_list.pkl',\n",
       " 'name.txt',\n",
       " 'namelist.txt',\n",
       " 'Python 101 - Section 4 - OOP.ipynb',\n",
       " 'Python 核心编程 第二版.pdf',\n",
       " 'PYTHON-0-课程介绍.ipynb',\n",
       " 'PYTHON-第一讲-第2次上课.ipynb',\n",
       " 'PYTHON-第一讲-第2次上课.pdf',\n",
       " 'PYTHON-第一讲.ipynb',\n",
       " 'PYTHON-第一讲.pdf',\n",
       " 'PYTHON-第七讲-异常处理.ipynb',\n",
       " 'PYTHON-第三讲-列表、元组和字符串.ipynb',\n",
       " 'PYTHON-第三讲-列表、元组和字符串.pdf',\n",
       " 'PYTHON-第二讲-程序控制结构.ipynb',\n",
       " 'PYTHON-第二讲-程序控制结构.pdf',\n",
       " 'PYTHON-第五讲-字典和集合.ipynb',\n",
       " 'PYTHON-第八讲-类和对象.ipynb',\n",
       " 'PYTHON-第六讲-文件操作.ipynb',\n",
       " 'PYTHON-第四讲-函数-part1.ipynb',\n",
       " 'PYTHON-第四讲-函数.ipynb',\n",
       " 'PYTHON-第四讲-函数.pdf',\n",
       " 'README.md',\n",
       " 'README.txt',\n",
       " 'salary.txt',\n",
       " 'sanguo.txt',\n",
       " 'script.txt',\n",
       " 'script2.txt',\n",
       " 'script3.txt',\n",
       " 'shoppingcart.py',\n",
       " 'Siping',\n",
       " 'sound',\n",
       " 'student_py',\n",
       " 'testnewfold1',\n",
       " 'testread.txt',\n",
       " 'testt.md',\n",
       " 'time库.ipynb',\n",
       " 'Untitled.ipynb',\n",
       " 'untitled.txt',\n",
       " 'Untitled1.ipynb',\n",
       " 'Untitled2.ipynb',\n",
       " 'Untitled3.ipynb',\n",
       " 'Untitled4.ipynb',\n",
       " 'Untitled5.ipynb',\n",
       " 'Untitled6.ipynb',\n",
       " 'w4-python-classes.ipynb',\n",
       " 'xx.rar',\n",
       " '下载的图片',\n",
       " '函数作业.txt',\n",
       " '利用Python进行数据分析.pdf',\n",
       " '插图.pptx',\n",
       " '教学计划安排.txt',\n",
       " '新建文件夹',\n",
       " '演示文稿3.pptx',\n",
       " '第3周作业.ipynb',\n",
       " '资料']"
      ]
     },
     "execution_count": 102,
     "metadata": {},
     "output_type": "execute_result"
    }
   ],
   "source": [
    "os.listdir()"
   ]
  },
  {
   "cell_type": "code",
   "execution_count": 103,
   "metadata": {},
   "outputs": [
    {
     "data": {
      "text/plain": [
       "0"
      ]
     },
     "execution_count": 103,
     "metadata": {},
     "output_type": "execute_result"
    }
   ],
   "source": [
    "os.system(\"calc\") #气动系统自带小程序"
   ]
  },
  {
   "cell_type": "code",
   "execution_count": 104,
   "metadata": {},
   "outputs": [
    {
     "data": {
      "text/plain": [
       "0"
      ]
     },
     "execution_count": 104,
     "metadata": {},
     "output_type": "execute_result"
    }
   ],
   "source": [
    "os.system(\"notepad.exe\")"
   ]
  },
  {
   "cell_type": "code",
   "execution_count": 105,
   "metadata": {},
   "outputs": [
    {
     "name": "stdout",
     "output_type": "stream",
     "text": [
      "('images', ['chapter01', 'chapter02', 'chapter03', 'chapter04', 'chapter05', 'chapter08'], [])\n",
      "('images\\\\chapter01', [], ['anaconda.jpg', 'IEEErank.jpg', 'notebook文件名.jpg', 'Pythonredu.jpg'])\n",
      "('images\\\\chapter02', [], ['breakvscontinue.png', 'loop_architecture.jpg', 'python_for_loop.jpg', 'python_while_loop.jpg'])\n",
      "('images\\\\chapter03', [], ['digui01.png', 'digui02.png', 'digui03.png', 'fenxing.png', 'hannuota.gif', 'hanoi.jpg', 'jiecheng01.jpg', 'jiecheng02.jpg', 'rabbit.jpg', 'rabbit2.jpg', 'shunengshengqiao.png', 'stringformat.png', 'zhuanyiformat.png', '插图.pptx'])\n",
      "('images\\\\chapter04', [], ['input_figure.png', 'map_figure.png', 'reduce02.jpg', 'reduce_figure.png'])\n",
      "('images\\\\chapter05', [], ['dict01.jpg', 'xinhuadict.png'])\n",
      "('images\\\\chapter08', [], ['class01.jpg', 'class02.jpg', 'classobject.jpg'])\n"
     ]
    }
   ],
   "source": [
    "## walk()函数，便利指定路径下的所有子目录\n",
    "## 返回一个三元组（路径、包含目录、包含文件\n",
    "for i in os.walk(\"images\"):\n",
    "    print(i)"
   ]
  },
  {
   "cell_type": "markdown",
   "metadata": {},
   "source": [
    "[返回目录](#mulu)"
   ]
  },
  {
   "cell_type": "code",
   "execution_count": null,
   "metadata": {},
   "outputs": [],
   "source": [
    "####四平第8周这里开始"
   ]
  },
  {
   "cell_type": "code",
   "execution_count": null,
   "metadata": {},
   "outputs": [],
   "source": []
  },
  {
   "cell_type": "code",
   "execution_count": null,
   "metadata": {},
   "outputs": [],
   "source": []
  },
  {
   "cell_type": "code",
   "execution_count": null,
   "metadata": {},
   "outputs": [],
   "source": []
  },
  {
   "cell_type": "markdown",
   "metadata": {},
   "source": [
    "## <font size=5><span id=\"6.2.2\"> 6.2.2 os.pth模块</span></font>"
   ]
  },
  {
   "cell_type": "markdown",
   "metadata": {},
   "source": [
    "| 函数名               | 使用方法                                                 |\n",
    "| :-----------------------------------:: | ------------------------------------------------------------ |\n",
    "| os.path.abspath(path)               | 返回绝对路径                                                 |\n",
    "| os.path.basename(path)              | 返回文件名                                                   |\n",
    "| os.path.commonprefix(list)          | 返回list(多个路径)中，所有path共有的最长的路径。             |\n",
    "| os.path.dirname(path)               | 返回文件路径                                                 |\n",
    "| os.path.exists(path)                | 路径存在则返回True,路径损坏返回False                         |\n",
    "| os.path.lexists                     | 路径存在则返回True,路径损坏也返回True                        |\n",
    "| os.path.expanduser(path)            | 把path中包含的\"~\"和\"~user\"转换成用户目录                     |\n",
    "| os.path.expandvars(path)            | 根据环境变量的值替换path中包含的”name”和”name”和”{name}”     |\n",
    "| os.path.getatime(path)              | 返回最后一次进入此path的时间。                               |\n",
    "| os.path.getmtime(path)              | 返回在此path下最后一次修改的时间。                           |\n",
    "| os.path.getctime(path)              | 返回path的大小                                               |\n",
    "| os.path.getsize(path)               | 返回文件大小，如果文件不存在就返回错误                       |\n",
    "| os.path.isabs(path)                 | 判断是否为绝对路径                                           |\n",
    "| os.path.isfile(path)                | 判断路径是否为文件                                           |\n",
    "| os.path.isdir(path)                 | 判断路径是否为目录                                           |\n",
    "| os.path.islink(path)                | 判断路径是否为链接                                           |\n",
    "| os.path.ismount(path)               | 判断路径是否为挂载点（）                                     |\n",
    "| os.path.join(path1[, path2[, ...]]) | 把目录和文件名合成一个路径                                   |\n",
    "| os.path.normcase(path)              | 转换path的大小写和斜杠                                       |\n",
    "| os.path.normpath(path)              | 规范path字符串形式                                           |\n",
    "| os.path.realpath(path)              | 返回path的真实路径                                           |\n",
    "| os.path.relpath(path[, start])      | 从start开始计算相对路径                                      |\n",
    "| os.path.samefile(path1, path2)      | 判断目录或文件是否相同                                       |\n",
    "| os.path.sameopenfile(fp1, fp2)      | 判断fp1和fp2是否指向同一文件                                 |\n",
    "| os.path.samestat(stat1, stat2)      | 判断stat tuple stat1和stat2是否指向同一个文件                |\n",
    "| os.path.split(path)                 | 把路径分割成dirname和basename，返回一个元组                  |\n",
    "| os.path.splitdrive(path)            | 一般用在windows下，返回驱动器名和路径组成的元组              |\n",
    "| os.path.splitext(path)              | 分割路径，返回路径名和文件扩展名的元组                       |\n",
    "| os.path.splitunc(path)              | 把路径分割为加载点与文件                                     |\n",
    "| os.path.walk(path, visit, arg)      | 遍历path，进入每个目录都调用visit函数，visit函数必须有3个参数(arg, dirname,   names)，dirname表示当前目录的目录名，names代表当前目录下的所有文件名，args则为walk的第三个参数 |\n",
    "| os.path.supports_unicode_filename   | 设置是否支持unicode路径名                                    |"
   ]
  },
  {
   "cell_type": "markdown",
   "metadata": {},
   "source": [
    "### 介绍几个常用的函数"
   ]
  },
  {
   "cell_type": "code",
   "execution_count": null,
   "metadata": {},
   "outputs": [],
   "source": [
    "# basename  dirname分别为文件名和路径名"
   ]
  },
  {
   "cell_type": "code",
   "execution_count": 106,
   "metadata": {},
   "outputs": [],
   "source": [
    "filepath = os.path.dirname(r\"D:\\MARUJIN\\18-TEACH-PYTHON\\images\\chapter01\\anaconda.jpg\")"
   ]
  },
  {
   "cell_type": "code",
   "execution_count": 107,
   "metadata": {},
   "outputs": [],
   "source": [
    "filename = os.path.basename(r\"D:\\MARUJIN\\18-TEACH-PYTHON\\images\\chapter01\\anaconda.jpg\")"
   ]
  },
  {
   "cell_type": "code",
   "execution_count": 108,
   "metadata": {},
   "outputs": [],
   "source": [
    "# join 将路径名与文件名合成一个完整的路径\n",
    "filefullpath = os.path.join(filepath,filename)"
   ]
  },
  {
   "cell_type": "code",
   "execution_count": 109,
   "metadata": {},
   "outputs": [
    {
     "data": {
      "text/plain": [
       "('D:\\\\MARUJIN\\\\18-TEACH-PYTHON\\\\images\\\\chapter01', 'anaconda.jpg')"
      ]
     },
     "execution_count": 109,
     "metadata": {},
     "output_type": "execute_result"
    }
   ],
   "source": [
    "# split(path)  splitext(path) 分割路径\n",
    "# split分割路径和文件名，但不会判断文件是否存在\n",
    "# splitext分割文件名与扩展名\n",
    "os.path.split(filefullpath)"
   ]
  },
  {
   "cell_type": "code",
   "execution_count": 110,
   "metadata": {},
   "outputs": [
    {
     "data": {
      "text/plain": [
       "('D:\\\\MARUJIN\\\\18-TEACH-PYTHON\\\\images\\\\chapter01\\\\anaconda', '.jpg')"
      ]
     },
     "execution_count": 110,
     "metadata": {},
     "output_type": "execute_result"
    }
   ],
   "source": [
    "os.path.splitext(filefullpath)"
   ]
  },
  {
   "cell_type": "code",
   "execution_count": 111,
   "metadata": {},
   "outputs": [
    {
     "data": {
      "text/plain": [
       "192878"
      ]
     },
     "execution_count": 111,
     "metadata": {},
     "output_type": "execute_result"
    }
   ],
   "source": [
    "#getsize(file)获取文件大小，返回值为字节数\n",
    "os.path.getsize(filefullpath)"
   ]
  },
  {
   "cell_type": "code",
   "execution_count": 112,
   "metadata": {},
   "outputs": [],
   "source": [
    "  filefullpath = 'D:\\\\MARUJIN\\\\18-TEACH-PYTHON\\\\testt.md'"
   ]
  },
  {
   "cell_type": "code",
   "execution_count": 113,
   "metadata": {},
   "outputs": [
    {
     "name": "stdout",
     "output_type": "stream",
     "text": [
      "最近被访问的时间是： 29 Aug 2018 00:34:46\n"
     ]
    }
   ],
   "source": [
    "# getatime(file)  / getctime(file)  / getmtime(file)\n",
    "# 最近访问时间，创建时间，修改时间\n",
    "import time\n",
    "temp = time.localtime(os.path.getatime(filefullpath))\n",
    "print(\"最近被访问的时间是：\",time.strftime(\"%d %b %Y %H:%M:%S\", temp))"
   ]
  },
  {
   "cell_type": "code",
   "execution_count": 114,
   "metadata": {},
   "outputs": [
    {
     "name": "stdout",
     "output_type": "stream",
     "text": [
      "最近被创建的时间是： 28 Aug 2018 22:49:57\n"
     ]
    }
   ],
   "source": [
    "temp = time.localtime(os.path.getctime(filefullpath))\n",
    "print(\"最近被创建的时间是：\",time.strftime(\"%d %b %Y %H:%M:%S\", temp))"
   ]
  },
  {
   "cell_type": "code",
   "execution_count": 115,
   "metadata": {},
   "outputs": [
    {
     "name": "stdout",
     "output_type": "stream",
     "text": [
      "最近被修改的时间是： 28 Aug 2018 22:58:36\n"
     ]
    }
   ],
   "source": [
    "temp = time.localtime(os.path.getmtime(filefullpath))\n",
    "print(\"最近被修改的时间是：\",time.strftime(\"%d %b %Y %H:%M:%S\", temp))"
   ]
  },
  {
   "cell_type": "markdown",
   "metadata": {},
   "source": [
    "[返回目录](#mulu)"
   ]
  },
  {
   "cell_type": "markdown",
   "metadata": {},
   "source": [
    "# <font size=6><span id=\"6.3\"> 6.3 pickle</span></font>"
   ]
  },
  {
   "cell_type": "markdown",
   "metadata": {},
   "source": [
    "### 读文件read()或者readline()返回的都是字符串\n",
    "### 大多数情况，我们需要的是数值\n",
    "### ‘1.23’ 是字符， 1.23是数值，有区别\n",
    "### pickle模块"
   ]
  },
  {
   "cell_type": "code",
   "execution_count": 116,
   "metadata": {},
   "outputs": [
    {
     "data": {
      "text/plain": [
       "{'姓名': '马如进', '性别': '男', '本科毕业学校': '同济大学'}"
      ]
     },
     "execution_count": 116,
     "metadata": {},
     "output_type": "execute_result"
    }
   ],
   "source": [
    "import pickle\n",
    "my_list = {\"姓名\":\"马如进\", \"性别\":\"男\", \"本科毕业学校\":\"同济大学\"}\n",
    "my_list"
   ]
  },
  {
   "cell_type": "code",
   "execution_count": 117,
   "metadata": {},
   "outputs": [],
   "source": [
    "pickle_file = open(\"my_list.pkl\",'wb')\n",
    "pickle.dump(my_list, pickle_file)\n",
    "pickle_file.close()\n",
    "# 看看生成的文件"
   ]
  },
  {
   "cell_type": "code",
   "execution_count": 118,
   "metadata": {},
   "outputs": [
    {
     "name": "stdout",
     "output_type": "stream",
     "text": [
      "{'姓名': '马如进', '性别': '男', '本科毕业学校': '同济大学'}\n"
     ]
    }
   ],
   "source": [
    "import pickle\n",
    "pickle_file = open(\"my_list.pkl\",'rb')\n",
    "my_list = pickle.load(pickle_file)\n",
    "print(my_list)\n",
    "pickle_file.close()"
   ]
  },
  {
   "cell_type": "code",
   "execution_count": 26,
   "metadata": {},
   "outputs": [
    {
     "name": "stdout",
     "output_type": "stream",
     "text": [
      " 驱动器 D 中的卷是 工作\n",
      " 卷的序列号是 826C-5F57\n",
      "\n",
      " D:\\MARUJIN\\18-TEACH-PYTHON 的目录\n",
      "\n",
      "2018/10/18  18:41    <DIR>          .\n",
      "2018/10/18  18:41    <DIR>          ..\n",
      "2018/10/08  00:22    <DIR>          .ipynb_checkpoints\n",
      "2018/10/08  00:17            55,724 08 Classes and OOP.ipynb\n",
      "2018/09/04  15:19         6,244,257 18-TEACH-PYTHON-current.rar\n",
      "2018/08/29  10:06    <DIR>          ch5\n",
      "2018/09/26  23:08         2,295,689 Chapter 2 - Supervised Learning - Image Recognition with Support Vector Machines.ipynb\n",
      "2018/10/08  00:25           229,657 chapter20_1.ipynb\n",
      "2018/09/13  18:19         6,192,624 class01.rar\n",
      "2018/09/02  00:37         4,912,995 data.json\n",
      "2018/09/02  00:37               919 dictionary.py\n",
      "2018/10/08  00:29            13,408 f1_index.ipynb\n",
      "2018/08/27  21:15               526 fenxing.py\n",
      "2018/08/27  21:18             1,040 fenxing1.py\n",
      "2018/08/27  21:19               717 fenxing2.py\n",
      "2018/08/27  21:19               893 fenxing3.py\n",
      "2018/08/27  21:20               998 fenxing4.py\n",
      "2018/08/27  21:20             1,266 fenxing5.py\n",
      "2018/08/27  21:21             1,082 fenxing6.py\n",
      "2018/08/27  21:48               799 fenxingleafdot.py\n",
      "2018/08/27  21:43             1,850 fenxingtreeleaf.py\n",
      "2018/08/27  21:23             1,812 fenxingtreelove.py\n",
      "2018/09/13  15:22    <DIR>          Games\n",
      "2018/08/30  17:54                38 hello.txt\n",
      "2018/10/01  20:06               256 heros - 副本.csv\n",
      "2018/10/01  20:06               256 heros.csv\n",
      "2018/10/01  20:26               205 heros1.csv\n",
      "2018/10/01  23:52    <DIR>          images\n",
      "2018/09/17  18:36         6,170,925 images.rar\n",
      "2018/09/19  09:11    <DIR>          Jiading\n",
      "2018/09/27  21:57             2,804 jieba.ipynb\n",
      "2018/10/08  00:28            21,660 lecture-6.ipynb\n",
      "2018/09/10  21:15         6,192,624 lesson01.rar\n",
      "2018/10/08  00:27           265,781 minuit-class.ipynb\n",
      "2018/10/18  12:09                62 myfile.txt\n",
      "2018/10/11  00:36               104 my_list.pkl\n",
      "2018/08/27  22:03                 0 name.txt\n",
      "2018/08/29  14:37             1,158 namelist.txt\n",
      "2018/10/08  00:28             6,329 Python 101 - Section 4 - OOP.ipynb\n",
      "2018/09/10  22:52         5,572,725 Python 核心编程 第二版.pdf\n",
      "2018/09/10  09:32             2,994 PYTHON-0-课程介绍.ipynb\n",
      "2018/09/19  23:16            54,796 PYTHON-第一讲-第2次上课.ipynb\n",
      "2018/09/17  13:43           887,570 PYTHON-第一讲-第2次上课.pdf\n",
      "2018/09/10  15:46            87,675 PYTHON-第一讲.ipynb\n",
      "2018/09/09  23:23         2,419,628 PYTHON-第一讲.pdf\n",
      "2018/08/30  18:11            32,073 PYTHON-第七讲-异常处理.ipynb\n",
      "2018/09/27  18:46           139,586 PYTHON-第三讲-列表、元组和字符串.ipynb\n",
      "2018/09/27  08:49         1,737,869 PYTHON-第三讲-列表、元组和字符串.pdf\n",
      "2018/09/21  23:24            24,357 PYTHON-第二讲-程序控制结构.ipynb\n",
      "2018/09/17  13:25           684,253 PYTHON-第二讲-程序控制结构.pdf\n",
      "2018/10/11  14:49            49,192 PYTHON-第五讲-字典和集合.ipynb\n",
      "2018/10/11  14:48         1,614,957 PYTHON-第五讲-字典和集合.pdf\n",
      "2018/10/09  23:58            55,411 PYTHON-第八讲-类和对象.ipynb\n",
      "2018/10/18  18:41            54,782 PYTHON-第六讲-文件操作.ipynb\n",
      "2018/10/11  14:50           856,604 PYTHON-第六讲-文件操作.pdf\n",
      "2018/09/29  21:23            23,007 PYTHON-第四讲-函数-part1.ipynb\n",
      "2018/10/11  15:00            74,556 PYTHON-第四讲-函数.ipynb\n",
      "2018/09/29  13:56         4,289,795 PYTHON-第四讲-函数.pdf\n",
      "2018/08/04  11:04               352 README.md\n",
      "2018/09/17  13:34               379 README.txt\n",
      "2018/08/27  22:03                 0 salary.txt\n",
      "2018/09/03  09:11         1,214,290 sanguo.txt\n",
      "2018/10/01  23:20               177 script.txt\n",
      "2018/10/01  23:27               280 script2.txt\n",
      "2018/10/01  23:30               298 script3.txt\n",
      "2018/08/27  22:03             6,130 shoppingcart.py\n",
      "2018/09/20  00:34    <DIR>          Siping\n",
      "2018/08/03  21:42    <DIR>          sound\n",
      "2018/10/18  15:19         7,366,275 sp-wk6.rar\n",
      "2018/10/03  10:42    <DIR>          student_py\n",
      "2018/10/10  23:49    <DIR>          testnewfold1\n",
      "2018/09/17  13:39                45 testread.txt\n",
      "2018/08/28  22:58             1,816 testt.md\n",
      "2018/09/03  00:45             8,937 time库.ipynb\n",
      "2018/09/25  22:35             1,924 Untitled.ipynb\n",
      "2018/07/07  22:04                 0 untitled.txt\n",
      "2018/08/04  22:11             2,149 Untitled1.ipynb\n",
      "2018/09/09  15:57             1,049 Untitled2.ipynb\n",
      "2018/09/10  10:38               787 Untitled3.ipynb\n",
      "2018/09/10  14:44             1,211 Untitled4.ipynb\n",
      "2018/09/13  22:11               632 Untitled5.ipynb\n",
      "2018/09/15  17:09               921 Untitled6.ipynb\n",
      "2018/10/08  00:24            27,456 w4-python-classes.ipynb\n",
      "2018/10/08  15:11         7,376,899 xx.rar\n",
      "2018/09/22  00:30    <DIR>          下载的图片\n",
      "2018/09/29  21:27             1,378 函数作业.txt\n",
      "2018/09/10  22:52        82,233,792 利用Python进行数据分析.pdf\n",
      "2018/10/15  15:23         7,367,633 嘉定第4次上课.rar\n",
      "2018/09/19  21:46            41,384 插图.pptx\n",
      "2018/10/11  23:35               794 教学计划安排.txt\n",
      "2018/09/17  13:39    <DIR>          新建文件夹\n",
      "2018/10/11  23:32                 0 新建文本文档.txt\n",
      "2018/10/11  15:21         7,384,063 本部第5周.rar\n",
      "2018/10/09  23:16            36,965 演示文稿3.pptx\n",
      "2018/09/29  21:22             5,369 第3周作业.ipynb\n",
      "2018/10/10  23:07    <DIR>          资料\n",
      "              82 个文件    164,363,673 字节\n",
      "              14 个目录 16,856,989,696 可用字节\n"
     ]
    }
   ],
   "source": [
    "!dir"
   ]
  },
  {
   "cell_type": "markdown",
   "metadata": {},
   "source": [
    "[返回目录](#mulu)"
   ]
  },
  {
   "cell_type": "markdown",
   "metadata": {},
   "source": [
    "# =====================END==========================="
   ]
  }
 ],
 "metadata": {
  "celltoolbar": "Raw Cell Format",
  "kernelspec": {
   "display_name": "Python 3",
   "language": "python",
   "name": "python3"
  },
  "language_info": {
   "codemirror_mode": {
    "name": "ipython",
    "version": 3
   },
   "file_extension": ".py",
   "mimetype": "text/x-python",
   "name": "python",
   "nbconvert_exporter": "python",
   "pygments_lexer": "ipython3",
   "version": "3.6.5"
  }
 },
 "nbformat": 4,
 "nbformat_minor": 2
}
