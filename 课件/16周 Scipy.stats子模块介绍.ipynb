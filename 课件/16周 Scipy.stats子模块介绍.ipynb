{
 "cells": [
  {
   "cell_type": "markdown",
   "metadata": {},
   "source": [
    "# 6 统计分析子模块 —— [scipy.stats](https://docs.scipy.org/doc/scipy/reference/stats.html)\n",
    "\n",
    "- 子模块 scipy.stats 仍在发展中\n",
    "\n",
    "- scipy.stats 子模块包含\n",
    "\n",
    "    - 统计分析工具\n",
    "    - 随机过程的概率描述\n",
    "\n",
    "- 注意\n",
    "\n",
    "    - 不同随机过程的随机数生成器，见 numpy.random"
   ]
  },
  {
   "cell_type": "markdown",
   "metadata": {},
   "source": [
    "#### 导入基本模块"
   ]
  },
  {
   "cell_type": "code",
   "execution_count": 1,
   "metadata": {},
   "outputs": [],
   "source": [
    "%matplotlib inline\n",
    "import matplotlib as mpl\n",
    "import matplotlib.pyplot as plt"
   ]
  },
  {
   "cell_type": "code",
   "execution_count": 2,
   "metadata": {},
   "outputs": [],
   "source": [
    "import numpy as np\n",
    "import scipy as sp"
   ]
  },
  {
   "cell_type": "markdown",
   "metadata": {},
   "source": [
    "#### 导入 stats 子模块"
   ]
  },
  {
   "cell_type": "code",
   "execution_count": 3,
   "metadata": {},
   "outputs": [],
   "source": [
    "from scipy import stats"
   ]
  },
  {
   "cell_type": "markdown",
   "metadata": {},
   "source": [
    "## 6.1 引言\n",
    "\n",
    "- scipy.stats 中的随机分布主要有两类\n",
    "\n",
    "    - 连续型随机变量分布 —— 已在 stats 子模块中实现 80+ 个\n",
    "    - 离散型随机变量分布 —— 已在 stats 子模块中实现 10+ 个"
   ]
  },
  {
   "cell_type": "markdown",
   "metadata": {},
   "source": [
    "### 6.1.1 已实现的 RVs 数"
   ]
  },
  {
   "cell_type": "code",
   "execution_count": null,
   "metadata": {},
   "outputs": [],
   "source": [
    "dist_continu = [d for d in dir(stats) if isinstance(getattr(stats, d), stats.rv_continuous)]\n",
    "print('连续随机变量数目: %d' % len(dist_continu))"
   ]
  },
  {
   "cell_type": "code",
   "execution_count": null,
   "metadata": {},
   "outputs": [],
   "source": [
    "dist_discrete = [d for d in dir(stats) if isinstance(getattr(stats, d), stats.rv_discrete)]\n",
    "print('离散随机变量数目: %d' % len(dist_discrete))"
   ]
  },
  {
   "cell_type": "markdown",
   "metadata": {},
   "source": [
    "### 6.1.2 查询\n",
    "\n",
    "```python\n",
    ">>> numpy.info(scipy.stats)\n",
    "```"
   ]
  },
  {
   "cell_type": "code",
   "execution_count": 4,
   "metadata": {},
   "outputs": [
    {
     "name": "stdout",
     "output_type": "stream",
     "text": [
      "==========================================\n",
      "Statistical functions (:mod:`scipy.stats`)\n",
      "==========================================\n",
      "\n",
      ".. module:: scipy.stats\n",
      "\n",
      "This module contains a large number of probability distributions as\n",
      "well as a growing library of statistical functions.\n",
      "\n",
      "Each univariate distribution is an instance of a subclass of `rv_continuous`\n",
      "(`rv_discrete` for discrete distributions):\n",
      "\n",
      ".. autosummary::\n",
      "   :toctree: generated/\n",
      "\n",
      "   rv_continuous\n",
      "   rv_discrete\n",
      "   rv_histogram\n",
      "\n",
      "Continuous distributions\n",
      "========================\n",
      "\n",
      ".. autosummary::\n",
      "   :toctree: generated/\n",
      "\n",
      "   alpha             -- Alpha\n",
      "   anglit            -- Anglit\n",
      "   arcsine           -- Arcsine\n",
      "   argus             -- Argus\n",
      "   beta              -- Beta\n",
      "   betaprime         -- Beta Prime\n",
      "   bradford          -- Bradford\n",
      "   burr              -- Burr (Type III)\n",
      "   burr12            -- Burr (Type XII)\n",
      "   cauchy            -- Cauchy\n",
      "   chi               -- Chi\n",
      "   chi2              -- Chi-squared\n",
      "   cosine            -- Cosine\n",
      "   crystalball       -- Crystalball\n",
      "   dgamma            -- Double Gamma\n",
      "   dweibull          -- Double Weibull\n",
      "   erlang            -- Erlang\n",
      "   expon             -- Exponential\n",
      "   exponnorm         -- Exponentially Modified Normal\n",
      "   exponweib         -- Exponentiated Weibull\n",
      "   exponpow          -- Exponential Power\n",
      "   f                 -- F (Snecdor F)\n",
      "   fatiguelife       -- Fatigue Life (Birnbaum-Saunders)\n",
      "   fisk              -- Fisk\n",
      "   foldcauchy        -- Folded Cauchy\n",
      "   foldnorm          -- Folded Normal\n",
      "   frechet_r         -- Deprecated. Alias for weibull_min\n",
      "   frechet_l         -- Deprecated. Alias for weibull_max\n",
      "   genlogistic       -- Generalized Logistic\n",
      "   gennorm           -- Generalized normal\n",
      "   genpareto         -- Generalized Pareto\n",
      "   genexpon          -- Generalized Exponential\n",
      "   genextreme        -- Generalized Extreme Value\n",
      "   gausshyper        -- Gauss Hypergeometric\n",
      "   gamma             -- Gamma\n",
      "   gengamma          -- Generalized gamma\n",
      "   genhalflogistic   -- Generalized Half Logistic\n",
      "   gilbrat           -- Gilbrat\n",
      "   gompertz          -- Gompertz (Truncated Gumbel)\n",
      "   gumbel_r          -- Right Sided Gumbel, Log-Weibull, Fisher-Tippett, Extreme Value Type I\n",
      "   gumbel_l          -- Left Sided Gumbel, etc.\n",
      "   halfcauchy        -- Half Cauchy\n",
      "   halflogistic      -- Half Logistic\n",
      "   halfnorm          -- Half Normal\n",
      "   halfgennorm       -- Generalized Half Normal\n",
      "   hypsecant         -- Hyperbolic Secant\n",
      "   invgamma          -- Inverse Gamma\n",
      "   invgauss          -- Inverse Gaussian\n",
      "   invweibull        -- Inverse Weibull\n",
      "   johnsonsb         -- Johnson SB\n",
      "   johnsonsu         -- Johnson SU\n",
      "   kappa4            -- Kappa 4 parameter\n",
      "   kappa3            -- Kappa 3 parameter\n",
      "   ksone             -- Kolmogorov-Smirnov one-sided (no stats)\n",
      "   kstwobign         -- Kolmogorov-Smirnov two-sided test for Large N (no stats)\n",
      "   laplace           -- Laplace\n",
      "   levy              -- Levy\n",
      "   levy_l\n",
      "   levy_stable\n",
      "   logistic          -- Logistic\n",
      "   loggamma          -- Log-Gamma\n",
      "   loglaplace        -- Log-Laplace (Log Double Exponential)\n",
      "   lognorm           -- Log-Normal\n",
      "   lomax             -- Lomax (Pareto of the second kind)\n",
      "   maxwell           -- Maxwell\n",
      "   mielke            -- Mielke's Beta-Kappa\n",
      "   moyal             -- Moyal\n",
      "   nakagami          -- Nakagami\n",
      "   ncx2              -- Non-central chi-squared\n",
      "   ncf               -- Non-central F\n",
      "   nct               -- Non-central Student's T\n",
      "   norm              -- Normal (Gaussian)\n",
      "   norminvgauss      -- Normal Inverse Gaussian\n",
      "   pareto            -- Pareto\n",
      "   pearson3          -- Pearson type III\n",
      "   powerlaw          -- Power-function\n",
      "   powerlognorm      -- Power log normal\n",
      "   powernorm         -- Power normal\n",
      "   rdist             -- R-distribution\n",
      "   reciprocal        -- Reciprocal\n",
      "   rayleigh          -- Rayleigh\n",
      "   rice              -- Rice\n",
      "   recipinvgauss     -- Reciprocal Inverse Gaussian\n",
      "   semicircular      -- Semicircular\n",
      "   skewnorm          -- Skew normal\n",
      "   t                 -- Student's T\n",
      "   trapz              -- Trapezoidal\n",
      "   triang            -- Triangular\n",
      "   truncexpon        -- Truncated Exponential\n",
      "   truncnorm         -- Truncated Normal\n",
      "   tukeylambda       -- Tukey-Lambda\n",
      "   uniform           -- Uniform\n",
      "   vonmises          -- Von-Mises (Circular)\n",
      "   vonmises_line     -- Von-Mises (Line)\n",
      "   wald              -- Wald\n",
      "   weibull_min       -- Minimum Weibull (see Frechet)\n",
      "   weibull_max       -- Maximum Weibull (see Frechet)\n",
      "   wrapcauchy        -- Wrapped Cauchy\n",
      "\n",
      "Multivariate distributions\n",
      "==========================\n",
      "\n",
      ".. autosummary::\n",
      "   :toctree: generated/\n",
      "\n",
      "   multivariate_normal   -- Multivariate normal distribution\n",
      "   matrix_normal         -- Matrix normal distribution\n",
      "   dirichlet             -- Dirichlet\n",
      "   wishart               -- Wishart\n",
      "   invwishart            -- Inverse Wishart\n",
      "   multinomial           -- Multinomial distribution\n",
      "   special_ortho_group   -- SO(N) group\n",
      "   ortho_group           -- O(N) group\n",
      "   unitary_group         -- U(N) group\n",
      "   random_correlation    -- random correlation matrices\n",
      "\n",
      "Discrete distributions\n",
      "======================\n",
      "\n",
      ".. autosummary::\n",
      "   :toctree: generated/\n",
      "\n",
      "   bernoulli         -- Bernoulli\n",
      "   binom             -- Binomial\n",
      "   boltzmann         -- Boltzmann (Truncated Discrete Exponential)\n",
      "   dlaplace          -- Discrete Laplacian\n",
      "   geom              -- Geometric\n",
      "   hypergeom         -- Hypergeometric\n",
      "   logser            -- Logarithmic (Log-Series, Series)\n",
      "   nbinom            -- Negative Binomial\n",
      "   planck            -- Planck (Discrete Exponential)\n",
      "   poisson           -- Poisson\n",
      "   randint           -- Discrete Uniform\n",
      "   skellam           -- Skellam\n",
      "   zipf              -- Zipf\n",
      "\n",
      "Statistical functions\n",
      "=====================\n",
      "\n",
      "Several of these functions have a similar version in scipy.stats.mstats\n",
      "which work for masked arrays.\n",
      "\n",
      ".. autosummary::\n",
      "   :toctree: generated/\n",
      "\n",
      "   describe          -- Descriptive statistics\n",
      "   gmean             -- Geometric mean\n",
      "   hmean             -- Harmonic mean\n",
      "   kurtosis          -- Fisher or Pearson kurtosis\n",
      "   kurtosistest      --\n",
      "   mode              -- Modal value\n",
      "   moment            -- Central moment\n",
      "   normaltest        --\n",
      "   skew              -- Skewness\n",
      "   skewtest          --\n",
      "   kstat             --\n",
      "   kstatvar          --\n",
      "   tmean             -- Truncated arithmetic mean\n",
      "   tvar              -- Truncated variance\n",
      "   tmin              --\n",
      "   tmax              --\n",
      "   tstd              --\n",
      "   tsem              --\n",
      "   variation         -- Coefficient of variation\n",
      "   find_repeats\n",
      "   trim_mean\n",
      "\n",
      ".. autosummary::\n",
      "   :toctree: generated/\n",
      "\n",
      "   cumfreq\n",
      "   itemfreq\n",
      "   percentileofscore\n",
      "   scoreatpercentile\n",
      "   relfreq\n",
      "\n",
      ".. autosummary::\n",
      "   :toctree: generated/\n",
      "\n",
      "   binned_statistic     -- Compute a binned statistic for a set of data.\n",
      "   binned_statistic_2d  -- Compute a 2-D binned statistic for a set of data.\n",
      "   binned_statistic_dd  -- Compute a d-D binned statistic for a set of data.\n",
      "\n",
      ".. autosummary::\n",
      "   :toctree: generated/\n",
      "\n",
      "   obrientransform\n",
      "   bayes_mvs\n",
      "   mvsdist\n",
      "   sem\n",
      "   zmap\n",
      "   zscore\n",
      "   iqr\n",
      "\n",
      ".. autosummary::\n",
      "   :toctree: generated/\n",
      "\n",
      "   sigmaclip\n",
      "   trimboth\n",
      "   trim1\n",
      "\n",
      ".. autosummary::\n",
      "   :toctree: generated/\n",
      "\n",
      "   f_oneway\n",
      "   pearsonr\n",
      "   spearmanr\n",
      "   pointbiserialr\n",
      "   kendalltau\n",
      "   weightedtau\n",
      "   linregress\n",
      "   theilslopes\n",
      "\n",
      ".. autosummary::\n",
      "   :toctree: generated/\n",
      "\n",
      "   ttest_1samp\n",
      "   ttest_ind\n",
      "   ttest_ind_from_stats\n",
      "   ttest_rel\n",
      "   kstest\n",
      "   chisquare\n",
      "   power_divergence\n",
      "   ks_2samp\n",
      "   mannwhitneyu\n",
      "   tiecorrect\n",
      "   rankdata\n",
      "   ranksums\n",
      "   wilcoxon\n",
      "   kruskal\n",
      "   friedmanchisquare\n",
      "   combine_pvalues\n",
      "   jarque_bera\n",
      "\n",
      ".. autosummary::\n",
      "   :toctree: generated/\n",
      "\n",
      "   ansari\n",
      "   bartlett\n",
      "   levene\n",
      "   shapiro\n",
      "   anderson\n",
      "   anderson_ksamp\n",
      "   binom_test\n",
      "   fligner\n",
      "   median_test\n",
      "   mood\n",
      "\n",
      ".. autosummary::\n",
      "   :toctree: generated/\n",
      "\n",
      "   boxcox\n",
      "   boxcox_normmax\n",
      "   boxcox_llf\n",
      "\n",
      "   entropy\n",
      "\n",
      ".. autosummary::\n",
      "   :toctree: generated/\n",
      "\n",
      "   wasserstein_distance\n",
      "   energy_distance\n",
      "\n",
      "Circular statistical functions\n",
      "==============================\n",
      "\n",
      ".. autosummary::\n",
      "   :toctree: generated/\n",
      "\n",
      "   circmean\n",
      "   circvar\n",
      "   circstd\n",
      "\n",
      "Contingency table functions\n",
      "===========================\n",
      "\n",
      ".. autosummary::\n",
      "   :toctree: generated/\n",
      "\n",
      "   chi2_contingency\n",
      "   contingency.expected_freq\n",
      "   contingency.margins\n",
      "   fisher_exact\n",
      "\n",
      "Plot-tests\n",
      "==========\n",
      "\n",
      ".. autosummary::\n",
      "   :toctree: generated/\n",
      "\n",
      "   ppcc_max\n",
      "   ppcc_plot\n",
      "   probplot\n",
      "   boxcox_normplot\n",
      "\n",
      "\n",
      "Masked statistics functions\n",
      "===========================\n",
      "\n",
      ".. toctree::\n",
      "\n",
      "   stats.mstats\n",
      "\n",
      "\n",
      "Univariate and multivariate kernel density estimation (:mod:`scipy.stats.kde`)\n",
      "==============================================================================\n",
      "\n",
      ".. autosummary::\n",
      "   :toctree: generated/\n",
      "\n",
      "   gaussian_kde\n",
      "\n",
      "For many more stat related functions install the software R and the\n",
      "interface package rpy.\n"
     ]
    }
   ],
   "source": [
    "np.info(sp.stats)"
   ]
  },
  {
   "cell_type": "markdown",
   "metadata": {},
   "source": [
    "## 6.2 连续型随机变量 RV"
   ]
  },
  {
   "cell_type": "markdown",
   "metadata": {},
   "source": [
    "#### 导入 stats 子模块中的对象\n",
    "\n",
    "- 此处为 norm"
   ]
  },
  {
   "cell_type": "code",
   "execution_count": 5,
   "metadata": {},
   "outputs": [],
   "source": [
    "from scipy.stats import norm"
   ]
  },
  {
   "cell_type": "markdown",
   "metadata": {},
   "source": [
    "#### 获得关于 stats.norm 对象的帮助\n",
    "\n",
    "- 调用\n",
    "    - ```np.info(sp.stats.norm)```\n",
    "    \n",
    "\n",
    "- norm 正态连续 RV\n",
    "\n",
    "\n",
    "- 关键字\n",
    "    - location (loc) —— 均值 mean\n",
    "    - scale (scale) —— 标准差\n",
    "    \n",
    "    \n",
    "- 常用方法\n",
    "    - rvs(loc=0, scale=1, size=1, random_state=None)，随机变量（Random variates）\n",
    "    - pdf(x, loc=0, scale=1)，概率密度函数（Probability density function）\n",
    "    - logpdf(x, loc=0, scale=1)，概率密度函数的对数\n",
    "    - cdf(x, loc=0, scale=1)，累积分布函数（Cumulative distribution function）\n",
    "    - sf(x, loc=0, scale=1)，剩余函数、残余函数（Survival function），1-cdf\n",
    "    - ppf(q, loc=0, scale=1)，百分点函数（Percent point function，cdf的逆）\n",
    "    - isf(q, loc=0, scale=1)，剩余函数的逆（inverse of ``sf``）\n",
    "    - moment(n, loc=0, scale=1)，$n$ 阶非中心矩\n",
    "    - stats(loc=0, scale=1, moments='mv')，均值('m')、方差('v')、偏度skew('s') 和/或 峰度kurtosis('k')\n",
    "    - expect(func, args=(), loc=0, scale=1, lb=None, ub=None, conditional=False, **kwds)， 函数的期望值\n",
    "    - median(loc=0, scale=1)，分布中值\n",
    "    - mean(loc=0, scale=1)，均值\n",
    "    - var(loc=0, scale=1)，方差\n",
    "    - std(loc=0, scale=1)，标准差  "
   ]
  },
  {
   "cell_type": "code",
   "execution_count": 6,
   "metadata": {
    "scrolled": false
   },
   "outputs": [
    {
     "name": "stdout",
     "output_type": "stream",
     "text": [
      "A normal continuous random variable.\n",
      "\n",
      "The location (loc) keyword specifies the mean.\n",
      "The scale (scale) keyword specifies the standard deviation.\n",
      "\n",
      "As an instance of the `rv_continuous` class, `norm` object inherits from it\n",
      "a collection of generic methods (see below for the full list),\n",
      "and completes them with details specific for this particular distribution.\n",
      "\n",
      "Methods\n",
      "-------\n",
      "rvs(loc=0, scale=1, size=1, random_state=None)\n",
      "    Random variates.\n",
      "pdf(x, loc=0, scale=1)\n",
      "    Probability density function.\n",
      "logpdf(x, loc=0, scale=1)\n",
      "    Log of the probability density function.\n",
      "cdf(x, loc=0, scale=1)\n",
      "    Cumulative distribution function.\n",
      "logcdf(x, loc=0, scale=1)\n",
      "    Log of the cumulative distribution function.\n",
      "sf(x, loc=0, scale=1)\n",
      "    Survival function  (also defined as ``1 - cdf``, but `sf` is sometimes more accurate).\n",
      "logsf(x, loc=0, scale=1)\n",
      "    Log of the survival function.\n",
      "ppf(q, loc=0, scale=1)\n",
      "    Percent point function (inverse of ``cdf`` --- percentiles).\n",
      "isf(q, loc=0, scale=1)\n",
      "    Inverse survival function (inverse of ``sf``).\n",
      "moment(n, loc=0, scale=1)\n",
      "    Non-central moment of order n\n",
      "stats(loc=0, scale=1, moments='mv')\n",
      "    Mean('m'), variance('v'), skew('s'), and/or kurtosis('k').\n",
      "entropy(loc=0, scale=1)\n",
      "    (Differential) entropy of the RV.\n",
      "fit(data, loc=0, scale=1)\n",
      "    Parameter estimates for generic data.\n",
      "expect(func, args=(), loc=0, scale=1, lb=None, ub=None, conditional=False, **kwds)\n",
      "    Expected value of a function (of one argument) with respect to the distribution.\n",
      "median(loc=0, scale=1)\n",
      "    Median of the distribution.\n",
      "mean(loc=0, scale=1)\n",
      "    Mean of the distribution.\n",
      "var(loc=0, scale=1)\n",
      "    Variance of the distribution.\n",
      "std(loc=0, scale=1)\n",
      "    Standard deviation of the distribution.\n",
      "interval(alpha, loc=0, scale=1)\n",
      "    Endpoints of the range that contains alpha percent of the distribution\n",
      "\n",
      "Notes\n",
      "-----\n",
      "The probability density function for `norm` is:\n",
      "\n",
      ".. math::\n",
      "\n",
      "    f(x) = \\frac{\\exp(-x^2/2)}{\\sqrt{2\\pi}}\n",
      "\n",
      "The survival function, ``norm.sf``, is also referred to as the\n",
      "Q-function in some contexts (see, e.g.,\n",
      "`Wikipedia's <https://en.wikipedia.org/wiki/Q-function>`_ definition).\n",
      "\n",
      "The probability density above is defined in the \"standardized\" form. To shift\n",
      "and/or scale the distribution use the ``loc`` and ``scale`` parameters.\n",
      "Specifically, ``norm.pdf(x, loc, scale)`` is identically\n",
      "equivalent to ``norm.pdf(y) / scale`` with\n",
      "``y = (x - loc) / scale``.\n",
      "\n",
      "Examples\n",
      "--------\n",
      ">>> from scipy.stats import norm\n",
      ">>> import matplotlib.pyplot as plt\n",
      ">>> fig, ax = plt.subplots(1, 1)\n",
      "\n",
      "Calculate a few first moments:\n",
      "\n",
      "\n",
      ">>> mean, var, skew, kurt = norm.stats(moments='mvsk')\n",
      "\n",
      "Display the probability density function (``pdf``):\n",
      "\n",
      ">>> x = np.linspace(norm.ppf(0.01),\n",
      "...                 norm.ppf(0.99), 100)\n",
      ">>> ax.plot(x, norm.pdf(x),\n",
      "...        'r-', lw=5, alpha=0.6, label='norm pdf')\n",
      "\n",
      "Alternatively, the distribution object can be called (as a function)\n",
      "to fix the shape, location and scale parameters. This returns a \"frozen\"\n",
      "RV object holding the given parameters fixed.\n",
      "\n",
      "Freeze the distribution and display the frozen ``pdf``:\n",
      "\n",
      ">>> rv = norm()\n",
      ">>> ax.plot(x, rv.pdf(x), 'k-', lw=2, label='frozen pdf')\n",
      "\n",
      "Check accuracy of ``cdf`` and ``ppf``:\n",
      "\n",
      ">>> vals = norm.ppf([0.001, 0.5, 0.999])\n",
      ">>> np.allclose([0.001, 0.5, 0.999], norm.cdf(vals))\n",
      "True\n",
      "\n",
      "Generate random numbers:\n",
      "\n",
      ">>> r = norm.rvs(size=1000)\n",
      "\n",
      "And compare the histogram:\n",
      "\n",
      ">>> ax.hist(r, density=True, histtype='stepfilled', alpha=0.2)\n",
      ">>> ax.legend(loc='best', frameon=False)\n",
      ">>> plt.show()\n"
     ]
    }
   ],
   "source": [
    "np.info(sp.stats.norm)"
   ]
  },
  {
   "cell_type": "markdown",
   "metadata": {},
   "source": [
    "#### 查询自变量区间\n",
    "\n",
    "- 调用\n",
    "\n",
    "```python\n",
    ">>> print('区间下限: %s, 上限: %s' % (norm.a, norm.b))\n",
    "```"
   ]
  },
  {
   "cell_type": "code",
   "execution_count": 7,
   "metadata": {},
   "outputs": [
    {
     "name": "stdout",
     "output_type": "stream",
     "text": [
      "区间下限: -inf, 上限: inf\n"
     ]
    }
   ],
   "source": [
    "print('区间下限: %s, 上限: %s' % (norm.a, norm.b))"
   ]
  },
  {
   "cell_type": "markdown",
   "metadata": {},
   "source": [
    "### 6.2.1 正态分布 —— 统计矩\n",
    "\n",
    "- 均值\n",
    "\n",
    "$$\\mu=E\\left[X\\right]$$\n",
    "\n",
    "- 方差\n",
    "\n",
    "$$\\sigma^2 = E\\left[(X-\\mu)^2\\right]$$\n",
    "\n",
    "- 偏度\n",
    "\n",
    "$$Skew(X) = E\\left[\\left(\\dfrac{X-\\mu}{\\sigma}\\right)^3\\right]$$\n",
    "\n",
    "- 峰度\n",
    "\n",
    "$$Kurt(X) = E\\left[\\left(\\dfrac{X-\\mu}{\\sigma}\\right)^4\\right]$$"
   ]
  },
  {
   "cell_type": "code",
   "execution_count": 8,
   "metadata": {
    "scrolled": true
   },
   "outputs": [
    {
     "name": "stdout",
     "output_type": "stream",
     "text": [
      "均值：5.0\n",
      "方差：9.0\n",
      "偏度：0.0\n",
      "峰度：0.0\n"
     ]
    }
   ],
   "source": [
    "mu, sigma = 5, 3\n",
    "\n",
    "mean, var, skew, kurt = norm(mu,sigma).stats(moments='mvsk') # 获得统计信息：矩\n",
    "print(\"均值：{0}\\n方差：{1}\\n偏度：{2}\\n峰度：{3}\".format(mean, var, skew, kurt))"
   ]
  },
  {
   "cell_type": "markdown",
   "metadata": {},
   "source": [
    "### 6.2.2 正态分布 —— 概率曲线图"
   ]
  },
  {
   "cell_type": "code",
   "execution_count": 9,
   "metadata": {},
   "outputs": [
    {
     "data": {
      "text/plain": [
       "<matplotlib.legend.Legend at 0x51607f0>"
      ]
     },
     "execution_count": 9,
     "metadata": {},
     "output_type": "execute_result"
    },
    {
     "data": {
      "image/png": "[encoded data removed]",
      "text/plain": [
       "<Figure size 432x288 with 4 Axes>"
      ]
     },
     "metadata": {
      "needs_background": "light"
     },
     "output_type": "display_data"
    }
   ],
   "source": [
    "mu, sigma = 5, 3             # 均值、标准差\n",
    "rv = norm(mu,sigma)          # 正态分布 RV\n",
    "\n",
    "#x = np.linspace(mu-3*sigma, mu+3*sigma, 100)\n",
    "\n",
    "x = np.linspace(rv.ppf(0.01), rv.ppf(0.99), 100)\n",
    "\n",
    "fig, ax = plt.subplots(4, 1)\n",
    "\n",
    "ax[0].plot(x, rv.pdf(x),    'k-', lw=2, label='norm pdf')\n",
    "ax[1].plot(x, rv.cdf(x),    'b-', lw=2, label='norm cdf')\n",
    "ax[2].plot(x, rv.sf(x),     'r-', lw=2, label='norm sf')\n",
    "ax[3].plot(x, rv.logpdf(x), 'g-', lw=2, label='norm logpdf')\n",
    "\n",
    "fig.legend()"
   ]
  },
  {
   "cell_type": "markdown",
   "metadata": {},
   "source": [
    "### 6.2.3 正态分布 —— 样本直方图"
   ]
  },
  {
   "cell_type": "code",
   "execution_count": 10,
   "metadata": {},
   "outputs": [
    {
     "name": "stderr",
     "output_type": "stream",
     "text": [
      "D:\\Anaconda3\\envs\\Python37Env\\lib\\site-packages\\matplotlib\\axes\\_axes.py:6521: MatplotlibDeprecationWarning: \n",
      "The 'normed' kwarg was deprecated in Matplotlib 2.1 and will be removed in 3.1. Use 'density' instead.\n",
      "  alternative=\"'density'\", removal=\"3.1\")\n"
     ]
    },
    {
     "data": {
      "text/plain": [
       "[<matplotlib.lines.Line2D at 0x7bf3e10>]"
      ]
     },
     "execution_count": 10,
     "metadata": {},
     "output_type": "execute_result"
    },
    {
     "data": {
      "image/png": "[encoded data removed]",
      "text/plain": [
       "<Figure size 432x288 with 1 Axes>"
      ]
     },
     "metadata": {
      "needs_background": "light"
     },
     "output_type": "display_data"
    }
   ],
   "source": [
    "r = rv.rvs(size=1000)    # 1000 个随机样本值\n",
    "\n",
    "plt.hist(r, bins=30, normed=True, histtype='stepfilled', alpha=0.5)\n",
    "plt.plot(x, rv.pdf(x),'k-', lw=2)"
   ]
  },
  {
   "cell_type": "markdown",
   "metadata": {},
   "source": [
    "### 6.2.4 概率函数计算"
   ]
  },
  {
   "cell_type": "markdown",
   "metadata": {},
   "source": [
    "#### (1) 累积分布函数"
   ]
  },
  {
   "cell_type": "code",
   "execution_count": 11,
   "metadata": {},
   "outputs": [
    {
     "data": {
      "text/plain": [
       "0.5"
      ]
     },
     "execution_count": 11,
     "metadata": {},
     "output_type": "execute_result"
    }
   ],
   "source": [
    "norm.cdf(0) # 0点处的累积分布概率"
   ]
  },
  {
   "cell_type": "code",
   "execution_count": 12,
   "metadata": {},
   "outputs": [
    {
     "name": "stdout",
     "output_type": "stream",
     "text": [
      "mean = 5.0, std = 3.0\n",
      "x    = [-4. -1.  2.  5.  8. 11. 14.]\n",
      "prob = [0.0013499  0.02275013 0.15865525 0.5        0.84134475 0.97724987\n",
      " 0.9986501 ]\n"
     ]
    }
   ],
   "source": [
    "mu, sig = rv.mean(), rv.std()\n",
    "\n",
    "x    = np.linspace(mu-3*sig, mu+3*sig, 7)\n",
    "prob = rv.cdf(x)\n",
    "\n",
    "print(\"mean = {0}, std = {1}\".format(mu, sig))\n",
    "print(\"x    = {0}\".format(x))\n",
    "print(\"prob = {0}\".format(prob))"
   ]
  },
  {
   "cell_type": "markdown",
   "metadata": {},
   "source": [
    "#### (2) 生成样本序列\n",
    "\n",
    "```python\n",
    "rv.rvs(size=(3,4))\n",
    "```"
   ]
  },
  {
   "cell_type": "code",
   "execution_count": 13,
   "metadata": {},
   "outputs": [
    {
     "data": {
      "text/plain": [
       "array([[ 3.45221486,  6.57007387,  2.91722679,  4.3892872 ],\n",
       "       [ 6.24102479,  2.97552573,  6.52877078,  3.45711547],\n",
       "       [13.29585857,  7.68472452,  6.31274132,  6.06130729]])"
      ]
     },
     "execution_count": 13,
     "metadata": {},
     "output_type": "execute_result"
    }
   ],
   "source": [
    "np.random.seed(201812)  # 随机种子\n",
    "rv.rvs(size=(3,4))"
   ]
  },
  {
   "cell_type": "code",
   "execution_count": 14,
   "metadata": {},
   "outputs": [
    {
     "data": {
      "text/plain": [
       "array([[ 3.45221486,  6.57007387,  2.91722679,  4.3892872 ],\n",
       "       [ 6.24102479,  2.97552573,  6.52877078,  3.45711547],\n",
       "       [13.29585857,  7.68472452,  6.31274132,  6.06130729]])"
      ]
     },
     "execution_count": 14,
     "metadata": {},
     "output_type": "execute_result"
    }
   ],
   "source": [
    "rv.rvs(size=(3,4), random_state=201812) # 与上等价的方式"
   ]
  },
  {
   "cell_type": "markdown",
   "metadata": {},
   "source": [
    "### 6.2.5 随机变量平移与伸缩（Shifting and Scaling）变换"
   ]
  },
  {
   "cell_type": "markdown",
   "metadata": {},
   "source": [
    "设有随机变量 $X$\n",
    "\n",
    "- 平移变换的意思就是给 $X$ 加上一个常数 ``loc``\n",
    "- 伸缩变换的意思是给 $X$ 乘以一个常数 ``scale``\n",
    "\n",
    "$$Y = \\dfrac{X-loc}{scale}$$"
   ]
  },
  {
   "cell_type": "markdown",
   "metadata": {},
   "source": [
    "平移与伸缩的性质\n",
    "\n",
    "\n",
    "- 平移不改变方差\n",
    "- 伸缩会改变方差"
   ]
  },
  {
   "cell_type": "code",
   "execution_count": 15,
   "metadata": {},
   "outputs": [
    {
     "data": {
      "text/plain": [
       "(array(3.), array(16.))"
      ]
     },
     "execution_count": 15,
     "metadata": {},
     "output_type": "execute_result"
    }
   ],
   "source": [
    "norm.stats(loc=3, scale=4, moments=\"mv\")"
   ]
  },
  {
   "cell_type": "markdown",
   "metadata": {},
   "source": [
    "#### 示例 1 —— 指数分布随机变量 $X\\sim E(\\mu, \\lambda)$\n",
    "\n",
    "\n",
    "- 累积分布函数 ``cdf``\n",
    "\n",
    "$$cdf(x) = \n",
    "\\left\\{\n",
    "\\begin{array}{ll}\n",
    "1-e^{-\\lambda (x-\\mu)}, & x\\ge \\mu\\\\\n",
    "0, & x<\\mu\n",
    "\\end{array}\n",
    "\\right.\n",
    "$$\n",
    "\n",
    "\n",
    "- 概率密度函数 ``pdf``\n",
    "$$pdf(x) = \n",
    "\\left\\{\n",
    "\\begin{array}{ll}\n",
    "\\lambda e^{-\\lambda (x-\\mu)}, & x\\ge \\mu\\\\\n",
    "0, & x<\\mu\n",
    "\\end{array}\n",
    "\\right.\n",
    "$$\n",
    "\n",
    "\n",
    "- 缺省参数\n",
    "\n",
    "$$loc = \\mu = 0,\\quad scale = \\dfrac{1}{\\lambda} = 1$$"
   ]
  },
  {
   "cell_type": "code",
   "execution_count": 16,
   "metadata": {},
   "outputs": [
    {
     "name": "stdout",
     "output_type": "stream",
     "text": [
      "1.0 1.0\n",
      "5.0 3.0\n"
     ]
    }
   ],
   "source": [
    "rv_std = sp.stats.expon()               # 缺省\n",
    "rv_ss  = sp.stats.expon(loc=2, scale=3) # 平移到 2， 伸缩率 3\n",
    "\n",
    "print(rv_std.mean(), rv_std.std())\n",
    "print(rv_ss.mean(), rv_ss.std())"
   ]
  },
  {
   "cell_type": "code",
   "execution_count": 17,
   "metadata": {},
   "outputs": [
    {
     "data": {
      "text/plain": [
       "<matplotlib.legend.Legend at 0x7d4efd0>"
      ]
     },
     "execution_count": 17,
     "metadata": {},
     "output_type": "execute_result"
    },
    {
     "data": {
      "image/png": "[encoded data removed]",
      "text/plain": [
       "<Figure size 432x288 with 1 Axes>"
      ]
     },
     "metadata": {
      "needs_background": "light"
     },
     "output_type": "display_data"
    }
   ],
   "source": [
    "scale_array = np.array([0.5, 1, 2, 4, 8])\n",
    "\n",
    "x = np.linspace(0, 10, 1000)\n",
    "\n",
    "fig = plt.figure()\n",
    "ax  = plt.axes()\n",
    "\n",
    "for scale in scale_array:\n",
    "    rv = sp.stats.expon(scale=scale)\n",
    "    ax.plot(x, rv.pdf(x), '-', lw=2, label='scale={0}'.format(scale))\n",
    "\n",
    "fig.legend()"
   ]
  },
  {
   "cell_type": "markdown",
   "metadata": {},
   "source": [
    "#### 示例 2 —— $(0, 1)$ 区间均匀分布"
   ]
  },
  {
   "cell_type": "code",
   "execution_count": 18,
   "metadata": {},
   "outputs": [],
   "source": [
    "rv = sp.stats.uniform(loc=1,scale=4) # 随机变量"
   ]
  },
  {
   "cell_type": "code",
   "execution_count": 19,
   "metadata": {},
   "outputs": [
    {
     "data": {
      "text/plain": [
       "<matplotlib.legend.Legend at 0x7f5d898>"
      ]
     },
     "execution_count": 19,
     "metadata": {},
     "output_type": "execute_result"
    },
    {
     "data": {
      "image/png": "[encoded data removed]",
      "text/plain": [
       "<Figure size 432x288 with 1 Axes>"
      ]
     },
     "metadata": {
      "needs_background": "light"
     },
     "output_type": "display_data"
    }
   ],
   "source": [
    "x = np.linspace(-3,8,1000)\n",
    "\n",
    "plt.plot(x, rv.pdf(x), label=\"uniform pdf\")\n",
    "plt.plot(x, rv.cdf(x), label=\"uniform cdf\")\n",
    "\n",
    "plt.legend()"
   ]
  },
  {
   "cell_type": "code",
   "execution_count": 20,
   "metadata": {},
   "outputs": [
    {
     "data": {
      "text/plain": [
       "array([0.  , 0.  , 0.25, 0.5 , 0.75, 1.  ])"
      ]
     },
     "execution_count": 20,
     "metadata": {},
     "output_type": "execute_result"
    }
   ],
   "source": [
    "# 累积分布函数值\n",
    "rv.cdf([0, 1, 2, 3, 4, 5])"
   ]
  },
  {
   "cell_type": "code",
   "execution_count": 21,
   "metadata": {},
   "outputs": [
    {
     "data": {
      "text/plain": [
       "<matplotlib.legend.Legend at 0x7fc7ef0>"
      ]
     },
     "execution_count": 21,
     "metadata": {},
     "output_type": "execute_result"
    },
    {
     "data": {
      "image/png": "[encoded data removed]",
      "text/plain": [
       "<Figure size 432x288 with 1 Axes>"
      ]
     },
     "metadata": {
      "needs_background": "light"
     },
     "output_type": "display_data"
    }
   ],
   "source": [
    "x = np.linspace(-3,8,1000)\n",
    "\n",
    "plt.plot(x, rv.pdf(x), label=\"uniform pdf\")\n",
    "plt.plot(x, rv.cdf(x), label=\"uniform cdf\")\n",
    "\n",
    "xa = np.array([0, 1, 2, 3, 4, 5])\n",
    "plt.plot(xa,rv.cdf(xa),\"*r\", label=\"cdf array\")\n",
    "\n",
    "plt.legend()"
   ]
  },
  {
   "cell_type": "markdown",
   "metadata": {},
   "source": [
    "### 6.2.6 形状参数（Shape Parameters）\n",
    "\n",
    "- 附加参数\n",
    "- 用于描述随机分布的形状特征"
   ]
  },
  {
   "cell_type": "markdown",
   "metadata": {},
   "source": [
    "####  示例 —— $\\Gamma(\\alpha,\\beta)$ 分布的形状参数\n",
    "\n",
    "\n",
    "- 概率密度函数 ``pdf``\n",
    "$$\\gamma(x, \\alpha, \\beta) = \n",
    "\\left\\{\n",
    "\\begin{array}{ll}\n",
    "\\dfrac{\\beta^{\\alpha}}{\\Gamma(\\alpha)}(x-c)^{\\alpha-1}e^{-\\beta(x-c)}, & x\\ge c\\\\\n",
    "0, & x<c\n",
    "\\end{array}\n",
    "\\right.\n",
    "$$\n",
    "\n",
    "\n",
    "- 形状参数 $\\alpha$\n",
    "\n",
    "- 伸缩参数 $sclae = \\dfrac{1}{\\lambda}$"
   ]
  },
  {
   "cell_type": "code",
   "execution_count": null,
   "metadata": {},
   "outputs": [],
   "source": [
    "from scipy.stats import gamma\n",
    "gamma.numargs\n",
    "\n",
    "gamma.shapes"
   ]
  },
  {
   "cell_type": "code",
   "execution_count": null,
   "metadata": {},
   "outputs": [],
   "source": [
    "x = np.linspace(0,10,100)\n",
    "\n",
    "a_array = [1,2,3,4,5]\n",
    "\n",
    "for a in a_array:\n",
    "    rv = gamma(a=a)\n",
    "    plt.plot(x, rv.pdf(x), label=\"shape parameter a={0}\".format(a))\n",
    "    \n",
    "plt.legend()"
   ]
  },
  {
   "cell_type": "markdown",
   "metadata": {},
   "source": [
    "### 6.2.7 广播法则\n",
    "\n",
    "\n",
    "- 随机分布的基本函数方法遵守广播法则，如\n",
    "    - pdf\n",
    "    - cdf\n",
    "    - sf\n",
    "    - 等"
   ]
  },
  {
   "cell_type": "markdown",
   "metadata": {},
   "source": [
    "#### 示例 —— $t(n)$ 分布利用广播法则计算逆剩余函数\n",
    "\n",
    "\n",
    "\n",
    "- 概率密度函数 ``pdf``\n",
    "\n",
    "$$p(x,n) = \n",
    "\\dfrac{\\Gamma\\left(\\dfrac{n+1}{2}\\right)}\n",
    "{\\sqrt{n\\pi}\\,\\,\\Gamma\\left(\\dfrac{n}{2}\\right)}\n",
    "\\left(1+\\dfrac{x^2}{n}\\right)^{-\\dfrac{n+1}{2}}\n",
    "$$\n",
    "\n",
    "\n",
    "- 自由度参数 `df`$=n>1$ （正整数）"
   ]
  },
  {
   "cell_type": "code",
   "execution_count": null,
   "metadata": {},
   "outputs": [],
   "source": [
    "# 计算 t 分布的 isf 函数值\n",
    "\n",
    "rv10 = sp.stats.t(10)\n",
    "print(rv10.isf([0.1, 0.05, 0.01]))\n",
    "\n",
    "rv11 = sp.stats.t(11)\n",
    "print(rv11.isf([0.1, 0.05, 0.01]))"
   ]
  },
  {
   "cell_type": "code",
   "execution_count": null,
   "metadata": {},
   "outputs": [],
   "source": [
    "# 广播法则\n",
    "\n",
    "stats.t.isf([0.1, 0.05, 0.01], [[10], [11]])"
   ]
  },
  {
   "cell_type": "markdown",
   "metadata": {},
   "source": [
    "## 6.3 离散型随机变量 RV"
   ]
  },
  {
   "cell_type": "markdown",
   "metadata": {},
   "source": [
    "### 6.3.1 与连续型随机变量的异同"
   ]
  },
  {
   "cell_type": "markdown",
   "metadata": {},
   "source": [
    "#### 一般性\n",
    "\n",
    "- 离散型随机变量的基本函数与连续型随机变量的几乎一致"
   ]
  },
  {
   "cell_type": "markdown",
   "metadata": {},
   "source": [
    "#### 特殊性\n",
    "\n",
    "- 概率质量函数 ``pmf`` —— 类似于连续型随机变量的 ``pdf``\n",
    "- 没有拟合方法 ``fit``\n",
    "- 伸缩因子 scale 不再是有效的关键字\n",
    "- 平移参数 loc 仍然可用于平移分布\n",
    "\n",
    "\n",
    "#### 其它\n",
    "\n",
    "- 计算 ``cdf`` 的注意事项\n",
    "    - 连续型 RV 的 cdf 一般是严格单调上升的函数，因此有逆函数\n",
    "    - 离散型 RV 的 cdf 是不严格单调上升的阶梯函数，因此其逆函数有另外的定义\n",
    "    \n",
    "    $$ppf(q) = min\\{x : cdf(x) >= q, x integer\\}$$"
   ]
  },
  {
   "cell_type": "markdown",
   "metadata": {},
   "source": [
    "### 6.3.2 示例 —— 超几何分布 $H(n,M,N)$\n",
    "\n",
    "- 概率质量函数\n",
    "\n",
    "$$P_H(\\xi=x)\n",
    "=\\dfrac{\n",
    "\\left(\n",
    "\\begin{array}{c}\n",
    "M-N\\\\\n",
    "n-x\n",
    "\\end{array}\n",
    "\\right)\n",
    "\\left(\n",
    "\\begin{array}{c}\n",
    "N\\\\\n",
    "x\n",
    "\\end{array}\n",
    "\\right)}\n",
    "{\n",
    "\\left(\n",
    "\\begin{array}{c}\n",
    "M\\\\\n",
    "n\n",
    "\\end{array}\n",
    "\\right)\n",
    "},\n",
    "\\quad\n",
    "x=\\max\\{0,n-M+N\\},\\cdots,\\min\\{n,N\\}\n",
    "$$\n",
    "\n",
    "其中，$n,M,N$ 为正整数，满足\n",
    "\n",
    "$$0\\le N\\le M,\\quad 0\\le n\\le M$$"
   ]
  },
  {
   "cell_type": "markdown",
   "metadata": {},
   "source": [
    "#### 超几何分布 ``cdf`` 求逆"
   ]
  },
  {
   "cell_type": "code",
   "execution_count": null,
   "metadata": {},
   "outputs": [],
   "source": [
    "from scipy.stats import hypergeom\n",
    "[M, n, N] = [20, 7, 12]"
   ]
  },
  {
   "cell_type": "code",
   "execution_count": null,
   "metadata": {},
   "outputs": [],
   "source": [
    "x = np.arange(4)*2\n",
    "x"
   ]
  },
  {
   "cell_type": "code",
   "execution_count": null,
   "metadata": {},
   "outputs": [],
   "source": [
    "prb = hypergeom.cdf(x, M, n, N)\n",
    "prb"
   ]
  },
  {
   "cell_type": "code",
   "execution_count": null,
   "metadata": {},
   "outputs": [],
   "source": [
    "hypergeom.ppf(prb, M, n, N)"
   ]
  },
  {
   "cell_type": "markdown",
   "metadata": {},
   "source": [
    "#### 似乎很准确，但是 $\\cdots$"
   ]
  },
  {
   "cell_type": "code",
   "execution_count": null,
   "metadata": {},
   "outputs": [],
   "source": [
    "hypergeom.ppf(prb + 1e-8, M, n, N)"
   ]
  },
  {
   "cell_type": "code",
   "execution_count": null,
   "metadata": {},
   "outputs": [],
   "source": [
    "hypergeom.ppf(prb - 1e-8, M, n, N)"
   ]
  },
  {
   "cell_type": "markdown",
   "metadata": {},
   "source": [
    "#### 小结\n",
    "\n",
    "- 如果取的 ``cdf`` 数值不是离散样本点对应的分布概率，而是稍高一点，将返回下一个离散样本值"
   ]
  },
  {
   "cell_type": "markdown",
   "metadata": {},
   "source": [
    "## 结束"
   ]
  }
 ],
 "metadata": {
  "kernelspec": {
   "display_name": "Python 3",
   "language": "python",
   "name": "python3"
  },
  "language_info": {
   "codemirror_mode": {
    "name": "ipython",
    "version": 3
   },
   "file_extension": ".py",
   "mimetype": "text/x-python",
   "name": "python",
   "nbconvert_exporter": "python",
   "pygments_lexer": "ipython3",
   "version": "3.6.7"
  }
 },
 "nbformat": 4,
 "nbformat_minor": 2
}
