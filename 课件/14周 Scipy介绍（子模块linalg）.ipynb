{
 "cells": [
  {
   "cell_type": "markdown",
   "metadata": {},
   "source": [
    "# 1 引言"
   ]
  },
  {
   "cell_type": "markdown",
   "metadata": {},
   "source": [
    "### 1.1 Scipy 印象\n",
    "\n",
    "- `scipy` 包含许多针对科学计算中常规问题的专用工具箱\n",
    "- `scipy` 的子模块针对各种应用，如插值、积分、优化、图像处理、统计分析、特殊函数等"
   ]
  },
  {
   "cell_type": "code",
   "execution_count": 2,
   "metadata": {
    "run_control": {
     "frozen": false,
     "read_only": false
    }
   },
   "outputs": [],
   "source": [
    "import numpy as np\n",
    "import matplotlib as mpl\n",
    "import matplotlib.pyplot as plt"
   ]
  },
  {
   "cell_type": "markdown",
   "metadata": {},
   "source": [
    "#### 如果要用到 Matplotlib 功能......"
   ]
  },
  {
   "cell_type": "code",
   "execution_count": null,
   "metadata": {},
   "outputs": [],
   "source": [
    "%matplotlib inline"
   ]
  },
  {
   "cell_type": "markdown",
   "metadata": {},
   "source": [
    "### 1.2 Scipy 要点\n",
    "\n",
    "- 高效率\n",
    "\n",
    "    - 它是 Python 环境下，科学计算的核心程序包\n",
    "    - 依托 Numpy 数组的支撑，能与之共同高效工作\n",
    "    \n",
    "\n",
    "- 同类的著名标准科学计算库\n",
    "\n",
    "    - GSL (GNU Scientific Library for C and C++)\n",
    "    - Matlab 工具箱\n",
    "    \n",
    "\n",
    "- 代码可靠性\n",
    "\n",
    "    - 经过严格测试与优化\n",
    "    - 计算结果可靠"
   ]
  },
  {
   "cell_type": "markdown",
   "metadata": {},
   "source": [
    "### 1.3 Scipy 的子模块构成\n",
    "\n",
    "Scipy 是由针对特定任务的子模块构成的，子模块名称及其功能如下表所示\n",
    "\n",
    "<table border=\"1\" class=\"docutils\">\n",
    "<colgroup>\n",
    "<col width=\"32%\">\n",
    "<col width=\"68%\">\n",
    "</colgroup>\n",
    "<tbody valign=\"top\">\n",
    "<tr class=\"row-odd\"><td><a class=\"reference external\" href=\"http://docs.scipy.org/doc/scipy/reference/cluster.html#module-scipy.cluster\" title=\"(in SciPy v0.19.0)\"><tt class=\"xref py py-mod docutils literal\"><span class=\"pre\">scipy.cluster</span></tt></a></td>\n",
    "<td>聚类分析子模块：向量化计算/K平均算法</td>\n",
    "</tr>\n",
    "<tr class=\"row-even\"><td><a class=\"reference external\" href=\"http://docs.scipy.org/doc/scipy/reference/constants.html#module-scipy.constants\" title=\"(in SciPy v0.19.0)\"><tt class=\"xref py py-mod docutils literal\"><span class=\"pre\">scipy.constants</span></tt></a></td>\n",
    "<td>物理和数学常量子模块</td>\n",
    "</tr>\n",
    "<tr class=\"row-odd\"><td><a class=\"reference external\" href=\"http://docs.scipy.org/doc/scipy/reference/fftpack.html#module-scipy.fftpack\" title=\"(in SciPy v0.19.0)\"><tt class=\"xref py py-mod docutils literal\"><span class=\"pre\">scipy.fftpack</span></tt></a></td>\n",
    "<td>快速傅里叶变换子模块</td>\n",
    "</tr>\n",
    "<tr class=\"row-even\"><td><a class=\"reference external\" href=\"http://docs.scipy.org/doc/scipy/reference/integrate.html#module-scipy.integrate\" title=\"(in SciPy v0.19.0)\"><tt class=\"xref py py-mod docutils literal\"><span class=\"pre\">scipy.integrate</span></tt></a></td>\n",
    "<td>积分求解子模块</td>\n",
    "</tr>\n",
    "<tr class=\"row-odd\"><td><a class=\"reference external\" href=\"http://docs.scipy.org/doc/scipy/reference/interpolate.html#module-scipy.interpolate\" title=\"(in SciPy v0.19.0)\"><tt class=\"xref py py-mod docutils literal\"><span class=\"pre\">scipy.interpolate</span></tt></a></td>\n",
    "<td>插值分析子模块</td>\n",
    "</tr>\n",
    "<tr class=\"row-even\"><td><a class=\"reference external\" href=\"http://docs.scipy.org/doc/scipy/reference/io.html#module-scipy.io\" title=\"(in SciPy v0.19.0)\"><tt class=\"xref py py-mod docutils literal\"><span class=\"pre\">scipy.io</span></tt></a></td>\n",
    "<td>数据 IO 子模块</td>\n",
    "</tr>\n",
    "<tr class=\"row-odd\"><td><a class=\"reference external\" href=\"http://docs.scipy.org/doc/scipy/reference/linalg.html#module-scipy.linalg\" title=\"(in SciPy v0.19.0)\"><tt class=\"xref py py-mod docutils literal\"><span class=\"pre\">scipy.linalg</span></tt></a></td>\n",
    "<td>线性代数分析子模块</td>\n",
    "</tr>\n",
    "<tr class=\"row-even\"><td><a class=\"reference external\" href=\"http://docs.scipy.org/doc/scipy/reference/ndimage.html#module-scipy.ndimage\" title=\"(in SciPy v0.19.0)\"><tt class=\"xref py py-mod docutils literal\"><span class=\"pre\">scipy.ndimage</span></tt></a></td>\n",
    "<td>图像处理子模块</td>\n",
    "</tr>\n",
    "<tr class=\"row-odd\"><td><a class=\"reference external\" href=\"http://docs.scipy.org/doc/scipy/reference/odr.html#module-scipy.odr\" title=\"(in SciPy v0.19.0)\"><tt class=\"xref py py-mod docutils literal\"><span class=\"pre\">scipy.odr</span></tt></a></td>\n",
    "<td>正交距离回归分析子模块</td>\n",
    "</tr>\n",
    "<tr class=\"row-even\"><td><a class=\"reference external\" href=\"http://docs.scipy.org/doc/scipy/reference/optimize.html#module-scipy.optimize\" title=\"(in SciPy v0.19.0)\"><tt class=\"xref py py-mod docutils literal\"><span class=\"pre\">scipy.optimize</span></tt></a></td>\n",
    "<td>优化子模块</td>\n",
    "</tr>\n",
    "<tr class=\"row-odd\"><td><a class=\"reference external\" href=\"http://docs.scipy.org/doc/scipy/reference/signal.html#module-scipy.signal\" title=\"(in SciPy v0.19.0)\"><tt class=\"xref py py-mod docutils literal\"><span class=\"pre\">scipy.signal</span></tt></a></td>\n",
    "<td>信号处理子模块</td>\n",
    "</tr>\n",
    "<tr class=\"row-even\"><td><a class=\"reference external\" href=\"http://docs.scipy.org/doc/scipy/reference/sparse.html#module-scipy.sparse\" title=\"(in SciPy v0.19.0)\"><tt class=\"xref py py-mod docutils literal\"><span class=\"pre\">scipy.sparse</span></tt></a></td>\n",
    "<td>稀疏矩阵分析子模块</td>\n",
    "</tr>\n",
    "<tr class=\"row-odd\"><td><a class=\"reference external\" href=\"http://docs.scipy.org/doc/scipy/reference/spatial.html#module-scipy.spatial\" title=\"(in SciPy v0.19.0)\"><tt class=\"xref py py-mod docutils literal\"><span class=\"pre\">scipy.spatial</span></tt></a></td>\n",
    "<td>空间数据结构和算法子模块</td>\n",
    "</tr>\n",
    "<tr class=\"row-even\"><td><a class=\"reference external\" href=\"http://docs.scipy.org/doc/scipy/reference/special.html#module-scipy.special\" title=\"(in SciPy v0.19.0)\"><tt class=\"xref py py-mod docutils literal\"><span class=\"pre\">scipy.special</span></tt></a></td>\n",
    "<td>特殊函数子模块</td>\n",
    "</tr>\n",
    "<tr class=\"row-odd\"><td><a class=\"reference external\" href=\"http://docs.scipy.org/doc/scipy/reference/stats.html#module-scipy.stats\" title=\"(in SciPy v0.19.0)\"><tt class=\"xref py py-mod docutils literal\"><span class=\"pre\">scipy.stats</span></tt></a></td>\n",
    "<td>统计分析子模块</td>\n",
    "</tr>\n",
    "</tbody>\n",
    "</table>"
   ]
  },
  {
   "cell_type": "markdown",
   "metadata": {},
   "source": [
    "### 1.4 依赖关系\n",
    "\n",
    "- 所有子模块均依赖于 [numpy](http://docs.scipy.org/doc/numpy/reference/index.html#numpy)\n",
    "- 子模块之间彼此独立"
   ]
  },
  {
   "cell_type": "markdown",
   "metadata": {},
   "source": [
    "### 1.5 导入子模块的方式\n",
    "\n",
    "```python\n",
    "import scipy.sub_module as short_name\n",
    "```\n",
    "\n",
    "#### 例如"
   ]
  },
  {
   "cell_type": "code",
   "execution_count": 4,
   "metadata": {
    "run_control": {
     "frozen": false,
     "read_only": false
    }
   },
   "outputs": [],
   "source": [
    "from scipy import stats  # 本行代码 导入统计分析子模块，导入其它的子模块类似"
   ]
  },
  {
   "cell_type": "code",
   "execution_count": 3,
   "metadata": {},
   "outputs": [],
   "source": [
    "from scipy import linalg, optimize # 导入线性代数、优化子模块"
   ]
  },
  {
   "cell_type": "markdown",
   "metadata": {},
   "source": [
    "### 1.6 函数说明\n",
    "\n",
    "- 由于历史方面的原因，在 `scipy` 主命名空间中的绝大多数函数，其实就是 numpy 函数（试试 `scipy.cos`，其实是 `np.cos`) \n",
    "- 因此，通常可以省略导入命令 `import scipy`"
   ]
  },
  {
   "cell_type": "markdown",
   "metadata": {},
   "source": [
    "### 1.7 基本函数\n",
    "\n",
    "#### 使用 Scipy 某个子模块下的函数语法\n",
    "\n",
    "```python\n",
    ">>> from scipy import some_module\n",
    ">>> some_module.some_function()\n",
    "```"
   ]
  },
  {
   "cell_type": "markdown",
   "metadata": {},
   "source": [
    "### 1.8 如何获得帮助\n",
    "\n",
    "- 在线文档\n",
    "- Help 命令\n",
    "- IPython 环境下的 ? 查询功能\n",
    "- **numpy.info 函数**\n",
    "\n",
    "#### 例如，查询优化子模块下 fmin 函数"
   ]
  },
  {
   "cell_type": "code",
   "execution_count": null,
   "metadata": {},
   "outputs": [],
   "source": [
    "np.info(optimize.fmin)"
   ]
  },
  {
   "cell_type": "markdown",
   "metadata": {},
   "source": [
    "# 2 文件输入/输出子模块 —— scipy.io"
   ]
  },
  {
   "cell_type": "markdown",
   "metadata": {},
   "source": [
    "### 2.1 Matlab 文件：载入和保存\n",
    "\n",
    "- 与 Matlab 进行数据交换的方式\n",
    "- ones 命令使用上的细微差别\n",
    "\n",
    "    - Matlab 用法\n",
    "    ```matlab\n",
    "    a = ones(3)\n",
    "    ```\n",
    "    - Numpy 用法\n",
    "    ```python\n",
    "    a = ones((3, 3))\n",
    "    ```"
   ]
  },
  {
   "cell_type": "code",
   "execution_count": null,
   "metadata": {
    "run_control": {
     "frozen": false,
     "read_only": false
    }
   },
   "outputs": [],
   "source": [
    "from scipy import io as spio\n",
    "\n",
    "a = np.ones((3, 3))                                      # 3 $\\times 3$ 矩阵\n",
    "spio.savemat('file.mat', {'a': a})                       # 函数 savemat 以字典方式保存数据到文件 file.mat\n",
    "data = spio.loadmat('file.mat', struct_as_record=True)   # 加载数据文件 file.mat\n",
    "data['a']                                                # 字典方式访问 关键字 'a' 对应的数据"
   ]
  },
  {
   "cell_type": "markdown",
   "metadata": {},
   "source": [
    "### 2.2 图象文件：读图象"
   ]
  },
  {
   "cell_type": "code",
   "execution_count": null,
   "metadata": {},
   "outputs": [],
   "source": [
    "from scipy import misc\n",
    "misc.imread('face.png')"
   ]
  },
  {
   "cell_type": "markdown",
   "metadata": {},
   "source": [
    "#### 注意警告提示 —— 1.2.0 版本会有语法变化\n",
    "\n",
    "```\n",
    "DeprecationWarning: `imread` is deprecated!\n",
    "`imread` is deprecated in SciPy 1.0.0, and will be removed in 1.2.0.\n",
    "Use ``imageio.imread`` instead.\n",
    "```"
   ]
  },
  {
   "cell_type": "code",
   "execution_count": null,
   "metadata": {},
   "outputs": [],
   "source": [
    "# 查看版本号\n",
    "\n",
    "import scipy as sp\n",
    "sp.__version__"
   ]
  },
  {
   "cell_type": "code",
   "execution_count": null,
   "metadata": {},
   "outputs": [],
   "source": [
    "# 修改命令用法\n",
    "\n",
    "import imageio\n",
    "imageio.imread('face.png')"
   ]
  },
  {
   "cell_type": "code",
   "execution_count": null,
   "metadata": {},
   "outputs": [],
   "source": [
    "# Matplotlib 子模块下的用法\n",
    "\n",
    "import matplotlib.pyplot as plt\n",
    "plt.imread('face.png')"
   ]
  },
  {
   "cell_type": "markdown",
   "metadata": {},
   "source": [
    "### 2.3 其它参考内容\n",
    "\n",
    "-  加载文本文件命令\n",
    "    - [numpy.loadtxt()](http://docs.scipy.org/doc/numpy/reference/generated/numpy.loadtxt.html#numpy.loadtxt)\n",
    "    - [numpy.savetxt()](http://docs.scipy.org/doc/numpy/reference/generated/numpy.savetxt.html#numpy.savetxt)\n",
    "    \n",
    "\n",
    "- 智能加载文本/csv文件\n",
    "    - [numpy.genfromtxt()](http://docs.scipy.org/doc/numpy/reference/generated/numpy.genfromtxt.html#numpy.genfromtxt)\n",
    "    - numpy.recfromcsv()\n",
    "    \n",
    "    \n",
    "- 加载二进制文件 —— 快速有效，但仅适用于 numpy\n",
    "    - [numpy.save()](http://docs.scipy.org/doc/numpy/reference/generated/numpy.save.html#numpy.save)\n",
    "    - [numpy.load()](http://docs.scipy.org/doc/numpy/reference/generated/numpy.load.html#numpy.load)"
   ]
  },
  {
   "cell_type": "markdown",
   "metadata": {},
   "source": [
    "# 3 特殊函数子模块 —— [scipy.special](http://docs.scipy.org/doc/scipy/reference/special.html#scipy.special)"
   ]
  },
  {
   "cell_type": "markdown",
   "metadata": {},
   "source": [
    "### 3.1 简要说明\n",
    "\n",
    "- 所有特殊函数都是超越函数\n",
    "- [scipy.special](http://docs.scipy.org/doc/scipy/reference/special.html#scipy.special) 模块的文档字符串对特殊函数的介绍很详细\n",
    "- 有关特殊函数的专著（略）"
   ]
  },
  {
   "cell_type": "markdown",
   "metadata": {},
   "source": [
    "### 3.2 常用的特殊函数\n",
    "\n",
    "- 贝塞尔函数：       `scipy.special.jn()`  (第n个整型顺序的贝塞尔函数)\n",
    "- 椭圆函数：        `scipy.special.ellipj()`  (Jacobian椭圆函数, ...)\n",
    "- $\\Gamma$ 函数：     `scipy.special.gamma()`\n",
    "- $\\Gamma$ 对数函数：  `scipy.special.gammaln()` \n",
    "- Erf 函数：        `scipy.special.erf()`"
   ]
  },
  {
   "cell_type": "markdown",
   "metadata": {},
   "source": [
    "### 3.3 贝塞尔函数（实数阶 $\\alpha$）\n",
    "\n",
    "#### 概念\n",
    "\n",
    "贝塞尔函数（数学上的一类特殊函数的总称）是如下贝塞尔方程\n",
    "\n",
    "$$x^2\\dfrac{d^2 y}{d x^2} + x \\dfrac{d y}{d x} + \\left(x^2 - \\alpha^2\\right)y = 0$$\n",
    "\n",
    "的解函数，其中\n",
    "\n",
    "- 参数 $\\alpha$ 称为相应贝塞尔函数的阶数\n",
    "- 解函数称为 $\\alpha$ 阶贝塞尔函数，记为 $J_{\\alpha}(x)$\n",
    "\n",
    "#### 特性\n",
    "\n",
    "- 贝塞尔方程的解无法用**初等函数的有限形式**来表示\n",
    "- 贝塞尔函数在波动问题以及各种涉及有势场的问题中占有非常重要的地位\n",
    "\n",
    "\n",
    "#### 广泛应用\n",
    "\n",
    "- 在圆柱形波导中的电磁波传播问题\n",
    "- 圆柱体中的热传导问题\n",
    "- 圆形（或环形）薄膜的振动模态分析问题\n",
    "\n",
    "\n",
    "#### 分类\n",
    "\n",
    "- 第一类贝塞尔函数\n",
    "- 第二类贝塞尔函数（诺依曼函数）\n",
    "- 汉克尔(Hankel)函数\n",
    "- 黎卡提-贝塞尔函数"
   ]
  },
  {
   "cell_type": "markdown",
   "metadata": {},
   "source": [
    "#### 第一类贝塞尔函数\n",
    "\n",
    "$$J_{\\alpha}(x) = \\sum_{m=0}^{\\infty}\\dfrac{(-1)^m}{m!\\Gamma(m+\\alpha+1)}\\left(\\dfrac{x}{2}\\right)^{2m+\\alpha}$$"
   ]
  },
  {
   "cell_type": "markdown",
   "metadata": {},
   "source": [
    "#### 第二类贝塞尔函数（诺依曼函数）\n",
    "\n",
    "$$Y_{\\alpha}(x) = \\dfrac{J_{\\alpha}(x)\\cos(\\alpha\\pi)-J_{-\\alpha}(x)}{\\sin(\\alpha\\pi)}$$\n",
    "\n",
    "```第二类贝塞尔函数``` 比第一类更为常用，它们是贝塞尔方程的另一类解，又被称为诺依曼函数。"
   ]
  },
  {
   "cell_type": "markdown",
   "metadata": {},
   "source": [
    "#### Hankel(汉克尔)函数\n",
    "\n",
    "贝塞尔方程的另外一对重要的线性无关解称为```赫尔曼·汉克尔，汉克尔函数```，分别定义为\n",
    "\n",
    "$$H_{\\alpha}^{(1)}(x)=\\dfrac{J_{-\\alpha}(x)-e^{-\\alpha\\pi i}J_{\\alpha}(x)}{i\\sin(\\alpha\\pi)}$$\n",
    "$$H_{\\alpha}^{(2)}(x)=\\dfrac{J_{-\\alpha}(x)-e^{\\alpha\\pi i}J_{\\alpha}(x)}{-i\\sin(\\alpha\\pi)}$$"
   ]
  },
  {
   "cell_type": "markdown",
   "metadata": {},
   "source": [
    "#### 黎卡提-贝塞尔函数 (Riccati-Bessel functions)\n",
    "\n",
    "黎卡提-贝塞尔函数（Riccati-Bessel functions）和球贝塞尔函数比较类似。\n",
    "\n",
    "$$S_n(x)=xj_n(x)=\\sqrt{\\pi x/2}\\,\\,J_{n+1/2}(x)$$\n",
    "\n",
    "$$C_n(x)=-xy_n(x)=-\\sqrt{\\pi x/2}\\,\\,Y_{n+1/2}(x)$$\n",
    "\n",
    "$$\\zeta_n(x)=xh_n^{(2)}(x)=\\sqrt{\\pi x/2}\\,\\,H_{n+1/2}^{(2)}(x)=S_n(x)+iC_n(x)$$\n",
    "\n",
    "该函数满足方程\n",
    "\n",
    "$$x^2\\dfrac{d^2y}{dx^2}+\\left[x^2-n(n+1)\\right]y=0$$"
   ]
  },
  {
   "cell_type": "markdown",
   "metadata": {},
   "source": [
    "#### 一个实例\n",
    "\n",
    "- 紧绷的圆型薄皮鼓面在中心受到敲击后的二阶振动振型，其振幅沿半径方向上的分布可用贝塞尔函数表示\n",
    "- 实际生活中受敲击的鼓面的振动是各阶类似振动形态的叠加"
   ]
  },
  {
   "cell_type": "code",
   "execution_count": null,
   "metadata": {},
   "outputs": [],
   "source": [
    "from scipy import special\n",
    "\n",
    "# 函数\n",
    "def drumhead_height(n, k, distance, angle, t):\n",
    "    kth_zero = special.jn_zeros(n, k)[-1]\n",
    "    return np.cos(t) * np.cos(n*angle) * special.jn(n, distance*kth_zero)\n",
    "\n",
    "theta = np.r_[0:2*np.pi:50j]       # 极角\n",
    "radius = np.r_[0:1:50j]            # 半径\n",
    "\n",
    "# 三维坐标\n",
    "x = np.array([r * np.cos(theta) for r in radius])\n",
    "y = np.array([r * np.sin(theta) for r in radius])\n",
    "z = np.array([drumhead_height(1, 1, r, theta, 0.5) for r in radius])"
   ]
  },
  {
   "cell_type": "code",
   "execution_count": null,
   "metadata": {},
   "outputs": [],
   "source": [
    "# 画图\n",
    "\n",
    "from mpl_toolkits.mplot3d import Axes3D\n",
    "from matplotlib import cm\n",
    "\n",
    "fig = plt.figure()\n",
    "ax = Axes3D(fig)\n",
    "\n",
    "ax.plot_surface(x, y, z, rstride=1, cstride=1, cmap=cm.jet)\n",
    "\n",
    "ax.set_xlabel('X')\n",
    "ax.set_ylabel('Y')\n",
    "ax.set_zlabel('Z')\n",
    "\n",
    "plt.show()"
   ]
  },
  {
   "cell_type": "markdown",
   "metadata": {},
   "source": [
    "### 3.4 Cython 关于特殊函数的绑定\n",
    "\n",
    "Scipy 提供了特殊函数的 Cython 绑定，下例演示了如何使用\n",
    "\n",
    "```python\n",
    "cimport scipy.special.cython_special as csc\n",
    "\n",
    "cdef:\n",
    "\tdouble x = 1\n",
    "\tdouble complex z = 1 + 1j\n",
    "\tdouble si, ci, rgam\n",
    "\tdouble complex cgam\n",
    "\n",
    "rgam = csc.gamma(x)\n",
    "print(rgam)\n",
    "cgam = csc.gamma(z)\n",
    "print(cgam)\n",
    "csc.sici(x, &si, &ci)\n",
    "print(si, ci)\n",
    "```"
   ]
  },
  {
   "cell_type": "markdown",
   "metadata": {},
   "source": [
    "# 4 线性代数分析子模块 —— [scipy.linalg](http://docs.scipy.org/doc/scipy/reference/linalg.html#scipy.linalg)\n",
    "\n",
    "- 标准的线性代数分析功能实现 [scipy.linalg](http://docs.scipy.org/doc/scipy/reference/linalg.html#scipy.linalg)\n",
    "- 底层算法库\n",
    "    - [BLAS](http://www.netlib.org/blas/index.html)\n",
    "    - [LAPACK](http://www.netlib.org/lapack/index.html)\n",
    "    - [ATLAS](http://www.netlib.org/atlas/index.html)"
   ]
  },
  {
   "cell_type": "markdown",
   "metadata": {},
   "source": [
    "### 4.1 scipy.linalg 比较 numpy.linalg\n",
    "\n",
    "- scipy.linalg 是 numpy.linalg 的超集\n",
    "\n",
    "    - scipy.linalg 包含了全部的 numpy.linalg 函数\n",
    "    - scipy.linalg 还包含一些 numpy.linalg 没有的先进函数\n",
    "    \n",
    "\n",
    "- scipy.linalg 比 numpy.linalg 更快\n",
    "\n",
    "    - scipy.linalg 总是获得 BLAS 和 LAPACK 的编译支持\n",
    "    - numpy.linalg 可选获得 BLAS 和 LAPACK 的编译支持"
   ]
  },
  {
   "cell_type": "markdown",
   "metadata": {},
   "source": [
    "### 建议\n",
    "\n",
    "#### 尽量选择 scipy.linalg，而不是 numpy.linalg"
   ]
  },
  {
   "cell_type": "markdown",
   "metadata": {},
   "source": [
    "### 4.2 矩阵 numpy.matrix 与 2D 数组 numpy.ndarray 相比\n",
    "\n",
    "- 在矩阵操作方面，numpy.matrix 相比 numpy.ndarray 有更多可靠的接口\n",
    "- 矩阵运算符方面，numpy.matrix 支持\n",
    "    - 乘法 *\n",
    "    - 求逆 I\n",
    "    - 转置 T"
   ]
  },
  {
   "cell_type": "code",
   "execution_count": null,
   "metadata": {},
   "outputs": [],
   "source": [
    "A = np.mat('[1 2;3 4]')\n",
    "A"
   ]
  },
  {
   "cell_type": "code",
   "execution_count": null,
   "metadata": {},
   "outputs": [],
   "source": [
    "A.I"
   ]
  },
  {
   "cell_type": "code",
   "execution_count": null,
   "metadata": {},
   "outputs": [],
   "source": [
    "b = np.mat('[5 6]')\n",
    "b"
   ]
  },
  {
   "cell_type": "code",
   "execution_count": null,
   "metadata": {},
   "outputs": [],
   "source": [
    "b.T"
   ]
  },
  {
   "cell_type": "code",
   "execution_count": null,
   "metadata": {},
   "outputs": [],
   "source": [
    "A*b.T"
   ]
  },
  {
   "cell_type": "markdown",
   "metadata": {},
   "source": [
    "- 仍然不鼓励使用 numpy.matrix 类型，主要原因是它和 2D numpy.ndarray 合作不好，容易混淆。"
   ]
  },
  {
   "cell_type": "markdown",
   "metadata": {},
   "source": [
    "### 4.3 求逆矩阵\n",
    "\n",
    "- [scipy.linalg.inv()](http://docs.scipy.org/doc/scipy/reference/generated/scipy.linalg.inv.html#scipy.linalg.inv) "
   ]
  },
  {
   "cell_type": "markdown",
   "metadata": {},
   "source": [
    "设有 $3\\times 3$ 矩阵\n",
    "\n",
    "$$\n",
    "A=\n",
    "\\left[\n",
    "\\begin{array}{ccc}\n",
    "1 & 3 & 5 \\\\\n",
    "2 & 5 & 1 \\\\\n",
    "2 & 3 & 8\n",
    "\\end{array}\n",
    "\\right]\n",
    "$$\n",
    "\n",
    "其逆矩阵为\n",
    "\n",
    "$$\n",
    "A^{-1}=\\dfrac{1}{25}\n",
    "\\left[\n",
    "\\begin{array}{rrr}\n",
    "-37 & 9 & 22 \\\\\n",
    "14 & 2 & -9 \\\\\n",
    "4 & -3 & 1\n",
    "\\end{array}\n",
    "\\right]\n",
    "=\n",
    "\\left[\n",
    "\\begin{array}{rrr}\n",
    "-1.48 & 0.36 & 0.88 \\\\\n",
    "0.56 & 0.08 & -0.36 \\\\\n",
    "0.16 & -0.12 & 0.04\n",
    "\\end{array}\n",
    "\\right]\n",
    "$$\n",
    "\n",
    "Scipy 子模块求解代码如下"
   ]
  },
  {
   "cell_type": "code",
   "execution_count": null,
   "metadata": {},
   "outputs": [],
   "source": [
    "import numpy as np\n",
    "from scipy import linalg\n",
    "A = np.array([[1,3,5],[2,5,1],[2,3,8]])\n",
    "A"
   ]
  },
  {
   "cell_type": "code",
   "execution_count": null,
   "metadata": {},
   "outputs": [],
   "source": [
    "linalg.inv(A)"
   ]
  },
  {
   "cell_type": "code",
   "execution_count": null,
   "metadata": {},
   "outputs": [],
   "source": [
    "A.dot(linalg.inv(A)) # 检查结果"
   ]
  },
  {
   "cell_type": "markdown",
   "metadata": {},
   "source": [
    "#### 再看一个 $2\\times 2$ 矩阵求逆"
   ]
  },
  {
   "cell_type": "code",
   "execution_count": null,
   "metadata": {
    "run_control": {
     "frozen": false,
     "read_only": false
    }
   },
   "outputs": [],
   "source": [
    "A = np.array([[1, 2],[3, 4]])\n",
    "A"
   ]
  },
  {
   "cell_type": "code",
   "execution_count": null,
   "metadata": {
    "run_control": {
     "frozen": false,
     "read_only": false
    }
   },
   "outputs": [],
   "source": [
    "linalg.inv(A)"
   ]
  },
  {
   "cell_type": "code",
   "execution_count": null,
   "metadata": {},
   "outputs": [],
   "source": [
    "A.dot(linalg.inv(A))"
   ]
  },
  {
   "cell_type": "code",
   "execution_count": null,
   "metadata": {},
   "outputs": [],
   "source": [
    "np.allclose(A.dot(linalg.inv(A)), np.eye(2)) # 检查求逆运算结果"
   ]
  },
  {
   "cell_type": "markdown",
   "metadata": {},
   "source": [
    "#### np.allclose 函数介绍\n",
    "\n",
    "```np.allclose(a, b, rtol=1e-05, atol=1e-08, equal_nan=False)```\n",
    "\n",
    "- 功能：逐元素比较两个数组，如果每对元素按一定容差相等，则返回真。\n",
    "- 参见：isclose, all, any, equal"
   ]
  },
  {
   "cell_type": "markdown",
   "metadata": {},
   "source": [
    "####  奇异矩阵（行列式为0）求逆\n",
    "\n",
    "- 将抛出 `LinAlgError`"
   ]
  },
  {
   "cell_type": "code",
   "execution_count": null,
   "metadata": {
    "run_control": {
     "frozen": false,
     "read_only": false
    }
   },
   "outputs": [],
   "source": [
    "arr = np.array([[3, 2],\n",
    "                 [6, 4]])\n",
    "linalg.inv(arr)"
   ]
  },
  {
   "cell_type": "markdown",
   "metadata": {},
   "source": [
    "### 4.4 矩阵矢量乘积"
   ]
  },
  {
   "cell_type": "code",
   "execution_count": null,
   "metadata": {},
   "outputs": [],
   "source": [
    "b = np.array([[5,6]]) # 2 维数组\n",
    "b"
   ]
  },
  {
   "cell_type": "code",
   "execution_count": null,
   "metadata": {},
   "outputs": [],
   "source": [
    "b.T # 转置"
   ]
  },
  {
   "cell_type": "code",
   "execution_count": null,
   "metadata": {},
   "outputs": [],
   "source": [
    "A*b # 不是矩阵乘矢量，而是广播"
   ]
  },
  {
   "cell_type": "code",
   "execution_count": null,
   "metadata": {},
   "outputs": [],
   "source": [
    "A.dot(b.T) # 矩阵乘矢量"
   ]
  },
  {
   "cell_type": "markdown",
   "metadata": {},
   "source": [
    "### 4.5 解线性代数方程组\n",
    "\n",
    "考虑如下方程组\n",
    "\n",
    "$$\n",
    "\\left\\{\n",
    "\\begin{array}{rcl}\n",
    "x+3y+5z & = & 10\\\\\n",
    "2x+5y+z & = & 8 \\\\\n",
    "2x+3y+8z & = & 3\n",
    "\\end{array}\n",
    "\\right.\n",
    "$$\n",
    "\n",
    "可求得解为\n",
    "\n",
    "$$\n",
    "\\left[\n",
    "\\begin{array}{c}\n",
    "x\\\\\n",
    "y\\\\\n",
    "z\n",
    "\\end{array}\n",
    "\\right]\n",
    "=\n",
    "\\dfrac{1}{25}\\left[\n",
    "\\begin{array}{r}\n",
    "-232\\\\\n",
    "129\\\\\n",
    "19\n",
    "\\end{array}\n",
    "\\right]\n",
    "=\n",
    "\\left[\n",
    "\\begin{array}{r}\n",
    "-9.28\\\\\n",
    "5.16\\\\\n",
    "0.76\n",
    "\\end{array}\n",
    "\\right]\n",
    "$$\n"
   ]
  },
  {
   "cell_type": "code",
   "execution_count": 5,
   "metadata": {},
   "outputs": [
    {
     "data": {
      "text/plain": [
       "array([[1, 3, 5],\n",
       "       [2, 5, 1],\n",
       "       [2, 3, 8]])"
      ]
     },
     "execution_count": 5,
     "metadata": {},
     "output_type": "execute_result"
    }
   ],
   "source": [
    "A = np.array([[1, 3, 5], [2, 5, 1], [2, 3, 8]])\n",
    "A\n"
   ]
  },
  {
   "cell_type": "code",
   "execution_count": 6,
   "metadata": {},
   "outputs": [
    {
     "data": {
      "text/plain": [
       "array([[10],\n",
       "       [ 8],\n",
       "       [ 3]])"
      ]
     },
     "execution_count": 6,
     "metadata": {},
     "output_type": "execute_result"
    }
   ],
   "source": [
    "b = np.array([[10], [8], [3]])\n",
    "b"
   ]
  },
  {
   "cell_type": "code",
   "execution_count": null,
   "metadata": {},
   "outputs": [],
   "source": [
    "linalg.inv(A).dot(b) # 慢"
   ]
  },
  {
   "cell_type": "code",
   "execution_count": null,
   "metadata": {},
   "outputs": [],
   "source": [
    "A.dot(linalg.inv(A).dot(b)) - b # 检查"
   ]
  },
  {
   "cell_type": "code",
   "execution_count": 7,
   "metadata": {},
   "outputs": [
    {
     "data": {
      "text/plain": [
       "array([[-9.28],\n",
       "       [ 5.16],\n",
       "       [ 0.76]])"
      ]
     },
     "execution_count": 7,
     "metadata": {},
     "output_type": "execute_result"
    }
   ],
   "source": [
    "np.linalg.solve(A, b) # 快"
   ]
  },
  {
   "cell_type": "code",
   "execution_count": 8,
   "metadata": {},
   "outputs": [
    {
     "data": {
      "text/plain": [
       "array([[ 0.00000000e+00],\n",
       "       [-1.77635684e-15],\n",
       "       [-1.77635684e-15]])"
      ]
     },
     "execution_count": 8,
     "metadata": {},
     "output_type": "execute_result"
    }
   ],
   "source": [
    "A.dot(np.linalg.solve(A, b)) - b # 检查"
   ]
  },
  {
   "cell_type": "markdown",
   "metadata": {},
   "source": [
    "### 4.6 计算行列式\n",
    "\n",
    "#### 递归求解\n",
    "\n",
    "$$\n",
    "\\left|A\\right|=\\sum_{i,j}{(-1)^{i+j}a_{ij}M_{ij}}\n",
    "$$\n",
    "\n",
    "\n",
    "#### 示例\n",
    "\n",
    "设有 $3\\times 3$ 矩阵\n",
    "\n",
    "$$\n",
    "A=\n",
    "\\left[\n",
    "\\begin{array}{ccc}\n",
    "1 & 3 & 5 \\\\\n",
    "2 & 5 & 1 \\\\\n",
    "2 & 3 & 8\n",
    "\\end{array}\n",
    "\\right]\n",
    "$$\n",
    "\n",
    "其行列式为\n",
    "\n",
    "$$\n",
    "\\left|A\\right|=-25\n",
    "$$\n",
    "\n",
    "求解代码如下"
   ]
  },
  {
   "cell_type": "code",
   "execution_count": null,
   "metadata": {},
   "outputs": [],
   "source": [
    "A = np.array([[1,3,5],[2,5,1],[2,3,8]])\n",
    "A"
   ]
  },
  {
   "cell_type": "code",
   "execution_count": null,
   "metadata": {},
   "outputs": [],
   "source": [
    "linalg.det(A)"
   ]
  },
  {
   "cell_type": "markdown",
   "metadata": {},
   "source": [
    "#### 再来一个例子"
   ]
  },
  {
   "cell_type": "code",
   "execution_count": null,
   "metadata": {},
   "outputs": [],
   "source": [
    "A = np.array([[1,2],[3,4]])\n",
    "A"
   ]
  },
  {
   "cell_type": "code",
   "execution_count": null,
   "metadata": {},
   "outputs": [],
   "source": [
    "linalg.det(A)"
   ]
  },
  {
   "cell_type": "markdown",
   "metadata": {},
   "source": [
    "### 4.7 计算范数\n",
    "\n",
    "Scipy 可计算矩阵和矢量的多个种类的范数\n",
    "\n",
    "#### 矢量范数 (缺省 2 阶)\n",
    "\n",
    "$$\n",
    "\\|x\\|\n",
    "=\n",
    "\\left\\{\n",
    "\\begin{array}{cl}\n",
    "\\max|x_i|, & ord=\\infty\\\\\n",
    "\\min|x_i|, & ord=-\\infty\\\\\n",
    "\\left(\\sum_i{|x_i|^{ord}}\n",
    "\\right)^{\\frac{1}{ord}}, & |ord| < \\infty\n",
    "\\end{array}\n",
    "\\right.\n",
    "$$\n",
    "\n",
    "#### 矩阵范数 (缺省 2 阶)\n",
    "\n",
    "$$\n",
    "\\|A\\|\n",
    "=\n",
    "\\left\\{\n",
    "\\begin{array}{cl}\n",
    "\\max_{i}\\sum_{j}|a_{ij}|, & ord=\\infty\\\\\n",
    "\\min_{i}\\sum_{j}|a_{ij}|, & ord=-\\infty\\\\\n",
    "\\max_{j}\\sum_{i}|a_{ij}|, & ord=1\\\\\n",
    "\\min_{j}\\sum_{i}|a_{ij}|, & ord=-1\\\\\n",
    "\\max\\sigma_i,& ord=2\\\\\n",
    "\\min\\sigma_i,& ord=-2\\\\\n",
    "\\sqrt{trace\\left(A^HA\\right)}, & ord='fro'\n",
    "\\end{array}\n",
    "\\right.\n",
    "$$\n",
    "\n",
    "这里，$\\sigma_i$ 是矩阵 $A$ 的奇异值。"
   ]
  },
  {
   "cell_type": "markdown",
   "metadata": {},
   "source": [
    "#### 例如\n"
   ]
  },
  {
   "cell_type": "code",
   "execution_count": null,
   "metadata": {},
   "outputs": [],
   "source": [
    "A=np.array([[1,2],[3,4]])\n",
    "A"
   ]
  },
  {
   "cell_type": "code",
   "execution_count": null,
   "metadata": {},
   "outputs": [],
   "source": [
    "linalg.norm(A)"
   ]
  },
  {
   "cell_type": "code",
   "execution_count": null,
   "metadata": {},
   "outputs": [],
   "source": [
    "linalg.norm(A,'fro') # frobenius 范数是缺省？"
   ]
  },
  {
   "cell_type": "code",
   "execution_count": null,
   "metadata": {},
   "outputs": [],
   "source": [
    "linalg.norm(A,1) # L1 范数"
   ]
  },
  {
   "cell_type": "code",
   "execution_count": null,
   "metadata": {},
   "outputs": [],
   "source": [
    "linalg.norm(A,-1)"
   ]
  },
  {
   "cell_type": "code",
   "execution_count": null,
   "metadata": {},
   "outputs": [],
   "source": [
    "linalg.norm(A,np.inf) # L 无穷范数"
   ]
  },
  {
   "cell_type": "markdown",
   "metadata": {},
   "source": [
    "### 4.8 求解线性最小二乘问题\n",
    "\n",
    "- 线性最小二乘问题用于拟合数据\n",
    "- 数据 $y_i$ 依赖于数据 $x_i$，待拟合函数模型为\n",
    "\n",
    "### $$\n",
    "y_i = \\sum_j{c_j f_j(x_i) + \\varepsilon_i}\n",
    "$$\n",
    "\n",
    "#### 其中\n",
    "- $c_i$ 为待求系数\n",
    "- $f_j(x)$ 为已知函数\n",
    "- $\\varepsilon_i$ 为随机噪声\n",
    "\n",
    "#### 最小二乘策略\n",
    "\n",
    "- 寻找系数 $c_i$\n",
    "- 以使如下目标泛函取最小值\n",
    "\n",
    "### $$\n",
    "J(c) = \\Sigma_{i}{\\left|y_i- \\Sigma_j{c_j f_j(x_i)}\\right|^2}\n",
    "$$\n",
    "\n",
    "\n",
    "#### 结果\n",
    "\n",
    "记 $a_{ij}=f_j(x_i)$ 为矩阵 $A$ 的元素，可求得\n",
    "\n",
    "$$c=(A^HA)^{-1}A^Hy$$\n",
    "\n",
    "其中，$(A^HA)^{-1}A^H$ 称为矩阵 $A$ 的广义逆。"
   ]
  },
  {
   "cell_type": "markdown",
   "metadata": {},
   "source": [
    "#### 示例\n",
    "\n",
    "- 给出一组 $x_i=0.1i,\\quad i=1,2,\\cdots, 10$\n",
    "- $y_i = c_1e^{-x_i}+c_2x_i + \\varepsilon_i$，这里 $\\varepsilon_i$ 为噪声\n",
    "- $c_1=5,\\quad c_2=4$\n",
    "\n",
    "利用最小二乘法求出系数 $c_1$ 和 $c_2$"
   ]
  },
  {
   "cell_type": "code",
   "execution_count": null,
   "metadata": {},
   "outputs": [],
   "source": [
    "# 生成数据\n",
    "c1, c2 = 5.0, 2.0\n",
    "i = np.r_[1:11]\n",
    "xi = 0.1*i\n",
    "yi = c1*np.exp(-xi) + c2*xi # 无噪声\n",
    "zi = yi + 0.05 * np.max(yi) * np.random.randn(len(yi)) # 叠加噪声"
   ]
  },
  {
   "cell_type": "code",
   "execution_count": null,
   "metadata": {},
   "outputs": [],
   "source": [
    "# 最小二乘求解\n",
    "A = np.c_[np.exp(-xi)[:, np.newaxis], xi[:, np.newaxis]]\n",
    "c, resid, rank, sigma = linalg.lstsq(A, zi)\n",
    "\n",
    "print(\"c1 = {0}, c2={1}\".format(c[0],c[1]))"
   ]
  },
  {
   "cell_type": "code",
   "execution_count": null,
   "metadata": {},
   "outputs": [],
   "source": [
    "# 利用所求系数画曲线图，先生成坐标数组\n",
    "\n",
    "xi2 = np.r_[0.1:1.0:100j]\n",
    "yi2 = c[0]*np.exp(-xi2) + c[1]*xi2"
   ]
  },
  {
   "cell_type": "code",
   "execution_count": null,
   "metadata": {},
   "outputs": [],
   "source": [
    "# 资源设置\n",
    "\n",
    "mpl.rcParams['font.sans-serif'] = ['SimHei'];\n",
    "mpl.rcParams['axes.unicode_minus'] = False"
   ]
  },
  {
   "cell_type": "code",
   "execution_count": null,
   "metadata": {},
   "outputs": [],
   "source": [
    "# 数据散点、拟合曲线图\n",
    "\n",
    "plt.plot(xi,zi,'x', xi2,yi2)\n",
    "plt.axis([0,1.1,3.0,5.5])\n",
    "plt.xlabel('$x_i$')\n",
    "plt.title('采用 linalg.lstsq 进行数据拟合')\n",
    "plt.show()"
   ]
  },
  {
   "cell_type": "markdown",
   "metadata": {},
   "source": [
    "### 4.9 求广义逆问题\n",
    "\n",
    "- 两个函数可用来求广义逆\n",
    "\n",
    "    - linalg.pinv —— 使用最小二乘法\n",
    "    - linalg.pinv2 —— 使用奇异值分解法\n",
    "    \n",
    "设 $A$ 为 $M\\times N$ 矩阵，如果 $M>N$，广义逆就是\n",
    "\n",
    "$$A^{\\dagger}=(A^HA)^{-1}A^H$$\n",
    "\n",
    "如果 $M<N$，广义逆就是\n",
    "\n",
    "$$A^{\\sharp}=A^H(AA^H)^{-1}$$\n",
    "\n",
    "如果 $M=N$，则\n",
    "\n",
    "$$A^{\\dagger}=A^\\sharp=A^{-1}$$"
   ]
  },
  {
   "cell_type": "code",
   "execution_count": null,
   "metadata": {},
   "outputs": [],
   "source": [
    "A = np.array([[1,3],[2,5],[2,3]]) # M=3, N=2\n",
    "A"
   ]
  },
  {
   "cell_type": "code",
   "execution_count": null,
   "metadata": {},
   "outputs": [],
   "source": [
    "A_dagger=(linalg.inv(A.T.dot(A))).dot(A.T)\n",
    "A_dagger"
   ]
  },
  {
   "cell_type": "code",
   "execution_count": null,
   "metadata": {},
   "outputs": [],
   "source": [
    "A_dagger.dot(A)"
   ]
  },
  {
   "cell_type": "markdown",
   "metadata": {},
   "source": [
    "#### 调用函数 linalg.pinv"
   ]
  },
  {
   "cell_type": "code",
   "execution_count": null,
   "metadata": {},
   "outputs": [],
   "source": [
    "A_dagger_1=linalg.pinv(A)\n",
    "A_dagger_1"
   ]
  },
  {
   "cell_type": "markdown",
   "metadata": {},
   "source": [
    "#### 调用函数 linalg.pinv2"
   ]
  },
  {
   "cell_type": "code",
   "execution_count": null,
   "metadata": {},
   "outputs": [],
   "source": [
    "A_dagger_2=linalg.pinv2(A)\n",
    "A_dagger_2"
   ]
  },
  {
   "cell_type": "markdown",
   "metadata": {},
   "source": [
    "### 4.10 求解特征值和特征矢量问题\n",
    "\n",
    "#### 特征值问题\n",
    "\n",
    "$$\\boldsymbol{A}\\boldsymbol{v} = \\lambda\\boldsymbol{v}$$\n",
    "\n",
    "#### 特征方程\n",
    "\n",
    "$$\\left|\\boldsymbol{A}-\\lambda\\boldsymbol{I}\\right| = 0$$\n",
    "\n",
    "#### 考虑\n",
    "\n",
    "$$\n",
    "A=\n",
    "\\left[\n",
    "\\begin{array}{ccc}\n",
    "1 & 5 & 2 \\\\\n",
    "2 & 4 & 1 \\\\\n",
    "3 & 6 & 2\n",
    "\\end{array}\n",
    "\\right]\n",
    "$$\n",
    "\n",
    "#### 其特征值为\n",
    "\n",
    "$$\n",
    "\\left\\{\n",
    "\\begin{array}{rcr}\n",
    "\\lambda_1 & = & 7.9579 \\\\\n",
    "\\lambda_2 & = & -1.2577 \\\\\n",
    "\\lambda_3 & = & 0.2997\n",
    "\\end{array}\n",
    "\\right.\n",
    "$$"
   ]
  },
  {
   "cell_type": "code",
   "execution_count": null,
   "metadata": {},
   "outputs": [],
   "source": [
    "A = np.array([[1, 5, 2], [2, 4, 1], [3, 6, 2]])\n",
    "la, v = linalg.eig(A)\n",
    "l1, l2, l3 = la\n",
    "print(l1, l2, l3) # 特征值"
   ]
  },
  {
   "cell_type": "code",
   "execution_count": null,
   "metadata": {},
   "outputs": [],
   "source": [
    "print(v[:, 0]) # 第一个特征矢量"
   ]
  },
  {
   "cell_type": "code",
   "execution_count": null,
   "metadata": {},
   "outputs": [],
   "source": [
    "print(v[:, 1])  # 第二个特征矢量"
   ]
  },
  {
   "cell_type": "code",
   "execution_count": null,
   "metadata": {},
   "outputs": [],
   "source": [
    "print(v[:, 2])  # 第三个特征矢量"
   ]
  },
  {
   "cell_type": "code",
   "execution_count": null,
   "metadata": {},
   "outputs": [],
   "source": [
    "print(np.sum(abs(v**2), axis=0)) # 单位矢量"
   ]
  },
  {
   "cell_type": "code",
   "execution_count": null,
   "metadata": {},
   "outputs": [],
   "source": [
    "v1 = np.array(v[:, 0]).T\n",
    "print(linalg.norm(A.dot(v1) - l1*v1)) # 检查"
   ]
  },
  {
   "cell_type": "markdown",
   "metadata": {},
   "source": [
    "### 4.11 奇异值分解\n",
    "\n",
    "- 奇异值分解可看着是特征值问题的推广\n",
    "- 设 $\\boldsymbol{A}$ 是一 $M\\times N$ 矩阵\n",
    "- 于是，矩阵 $\\boldsymbol{A}^H\\boldsymbol{A}$ 和 $\\boldsymbol{A}\\boldsymbol{A}^H$ 是半正定共轭方阵\n",
    "- 由线代理论，必有非负实特征值若干，记为 $\\sigma_i^2$，它们的平方根就称为矩阵 $\\boldsymbol{A}$ 的奇异值\n",
    "- 相应地，有以下分解形式\n",
    "\n",
    "$$\\boldsymbol{A} = \\boldsymbol{U}\\boldsymbol{\\Sigma}\\boldsymbol{V}^H$$\n",
    "\n",
    "- 即为奇异值分解。\n",
    "- 其中\n",
    "    - $\\boldsymbol{U}$ 和 $\\boldsymbol{V}$ 是酉矩阵\n",
    "    - $\\boldsymbol{\\Sigma}$ 是奇异值构成的对角阵\n",
    "- 求奇异值分解的 scipy 命令为 \n",
    "\n",
    "```python\n",
    ">>> linalg.diagsvd\n",
    "```"
   ]
  },
  {
   "cell_type": "markdown",
   "metadata": {},
   "source": [
    "#### 例如"
   ]
  },
  {
   "cell_type": "code",
   "execution_count": null,
   "metadata": {},
   "outputs": [],
   "source": [
    "A = np.array([[1,2,3],[4,5,6]])\n",
    "A"
   ]
  },
  {
   "cell_type": "code",
   "execution_count": null,
   "metadata": {},
   "outputs": [],
   "source": [
    "M,N = A.shape\n",
    "U,s,Vh = linalg.svd(A)\n",
    "Sig = linalg.diagsvd(s,M,N)\n",
    "U, Vh = U, Vh\n",
    "U"
   ]
  },
  {
   "cell_type": "code",
   "execution_count": null,
   "metadata": {},
   "outputs": [],
   "source": [
    "Sig"
   ]
  },
  {
   "cell_type": "code",
   "execution_count": null,
   "metadata": {},
   "outputs": [],
   "source": [
    "Vh"
   ]
  },
  {
   "cell_type": "code",
   "execution_count": null,
   "metadata": {},
   "outputs": [],
   "source": [
    "U.dot(Sig.dot(Vh)) # 检查"
   ]
  },
  {
   "cell_type": "markdown",
   "metadata": {},
   "source": [
    "### 4.12 矩阵的各种分解法\n",
    "\n",
    "- QR 分解\n",
    "- LU 分解\n",
    "- LDLT 分解\n",
    "- Cholesky 分解\n",
    "- Schur 分解\n",
    "\n",
    "参考在线文档 [scipy.linalg](http://docs.scipy.org/doc/scipy/reference/linalg.html#scipy.linalg)"
   ]
  },
  {
   "cell_type": "markdown",
   "metadata": {},
   "source": [
    "#### LU 分解示例"
   ]
  },
  {
   "cell_type": "code",
   "execution_count": null,
   "metadata": {},
   "outputs": [],
   "source": [
    "A=sp.mat('[1 2 3;0 1 2;2 4 1]')\n",
    "A"
   ]
  },
  {
   "cell_type": "code",
   "execution_count": null,
   "metadata": {},
   "outputs": [],
   "source": [
    "x, y, z=linalg.lu(A)"
   ]
  },
  {
   "cell_type": "code",
   "execution_count": null,
   "metadata": {},
   "outputs": [],
   "source": [
    "x"
   ]
  },
  {
   "cell_type": "code",
   "execution_count": null,
   "metadata": {},
   "outputs": [],
   "source": [
    "y"
   ]
  },
  {
   "cell_type": "code",
   "execution_count": null,
   "metadata": {},
   "outputs": [],
   "source": [
    "z"
   ]
  },
  {
   "cell_type": "markdown",
   "metadata": {},
   "source": [
    "#### Cholesky 分解示例"
   ]
  },
  {
   "cell_type": "code",
   "execution_count": null,
   "metadata": {},
   "outputs": [],
   "source": [
    "A = np.array([[1,-2j],[2j,5]])\n",
    "L = linalg.cholesky(A, lower=True)\n",
    "L"
   ]
  },
  {
   "cell_type": "code",
   "execution_count": null,
   "metadata": {},
   "outputs": [],
   "source": [
    "sp.dot(L, L.T.conj())"
   ]
  },
  {
   "cell_type": "markdown",
   "metadata": {},
   "source": [
    "#### Schur 分解示例"
   ]
  },
  {
   "cell_type": "code",
   "execution_count": null,
   "metadata": {},
   "outputs": [],
   "source": [
    "A = np.mat('[1 3 2; 1 4 5; 2 3 6]')\n",
    "T, Z = linalg.schur(A)\n",
    "T1, Z1 = linalg.schur(A, 'complex')\n",
    "T2, Z2 = linalg.rsf2csf(T, Z)\n",
    "T"
   ]
  },
  {
   "cell_type": "code",
   "execution_count": null,
   "metadata": {},
   "outputs": [],
   "source": [
    "T2"
   ]
  },
  {
   "cell_type": "code",
   "execution_count": null,
   "metadata": {},
   "outputs": [],
   "source": [
    "abs(T1 - T2) # different"
   ]
  },
  {
   "cell_type": "code",
   "execution_count": null,
   "metadata": {},
   "outputs": [],
   "source": [
    "abs(Z1 - Z2) # different"
   ]
  },
  {
   "cell_type": "code",
   "execution_count": null,
   "metadata": {},
   "outputs": [],
   "source": [
    "T, Z, T1, Z1, T2, Z2 = map(np.mat,(T,Z,T1,Z1,T2,Z2))\n",
    "abs(A - Z*T*Z.H) # same"
   ]
  },
  {
   "cell_type": "code",
   "execution_count": null,
   "metadata": {},
   "outputs": [],
   "source": [
    "abs(A - Z1*T1*Z1.H) # same"
   ]
  },
  {
   "cell_type": "code",
   "execution_count": null,
   "metadata": {},
   "outputs": [],
   "source": [
    "abs(A - Z2*T2*Z2.H) # same"
   ]
  },
  {
   "cell_type": "markdown",
   "metadata": {},
   "source": [
    "### 4.13 特殊矩阵\n",
    "\n",
    "| 类型 | 函数 | 说明 |\n",
    "|-------|-------|-------|\n",
    "| block diagonal | scipy.linalg.block_diag | 创建分块对角矩阵 |\n",
    "| circulant | scipy.linalg.circulant | 创建 circulant 阵 |\n",
    "| companion | scipy.linalg.companion | 创建 companion 阵 |\n",
    "| Hadamard | scipy.linalg.hadamard | 创建 Hadamard 阵 |\n",
    "| Hankel | scipy.linalg.hankel | 创建 Hankel 阵 |\n",
    "| Hilbert | scipy.linalg.hilbert | 创建 Hilbert 阵 |\n",
    "| Inverse Hilbert | scipy.linalg.invhilbert| 创建逆 Hilbert 阵 |\n",
    "| Leslie | scipy.linalg.leslie | 创建 Leslie 阵 |\n",
    "| Pascal | scipy.linalg.pascal | 创建 Pascal 阵 |\n",
    "| Toeplitz | scipy.linalg.toeplitz | 创建 Toeplitz 阵 |\n",
    "| Van der Monde | numpy.vander | 创建 Van der Monde 阵 |"
   ]
  },
  {
   "cell_type": "markdown",
   "metadata": {},
   "source": [
    "### 结束"
   ]
  }
 ],
 "metadata": {
  "kernelspec": {
   "display_name": "Python 3",
   "language": "python",
   "name": "python3"
  },
  "language_info": {
   "codemirror_mode": {
    "name": "ipython",
    "version": 3
   },
   "file_extension": ".py",
   "mimetype": "text/x-python",
   "name": "python",
   "nbconvert_exporter": "python",
   "pygments_lexer": "ipython3",
   "version": "3.6.5"
  }
 },
 "nbformat": 4,
 "nbformat_minor": 1
}
