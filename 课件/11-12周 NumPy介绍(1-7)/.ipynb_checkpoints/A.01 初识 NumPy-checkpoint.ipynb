{
 "cells": [
  {
   "cell_type": "markdown",
   "metadata": {},
   "source": [
    "# 1、初识 NumPy"
   ]
  },
  {
   "cell_type": "markdown",
   "metadata": {},
   "source": [
    "### 1.1  为什么会有 NumPy？\n",
    "\n",
    "- 在Python中，采用容器加载、保存和处理数据\n",
    "- 高效的贮存和处理数组，对于数据科学是至关重要的（在已经存在诸多容器的情况下）\n",
    "\n",
    "#### 答案：为了高效率！"
   ]
  },
  {
   "cell_type": "markdown",
   "metadata": {},
   "source": [
    "### 1.2  明白 NumPy 的特点和优势\n",
    "\n",
    "- NumPy (*Numerical Python* 的简称)提供了贮存和操作数据的接口\n",
    "- NumPy 数组类似于Python的内置``list``类型,但更高效\n",
    "- 特别在处理大数据时，优势显著\n",
    "\n",
    "#### NumPy 数组成为 Python 环境下数据科学工具的核心！\n",
    "\n",
    "- 值得花时间钻研学习"
   ]
  },
  {
   "cell_type": "markdown",
   "metadata": {},
   "source": [
    "### 1.3   NumPy 模块的导入方式"
   ]
  },
  {
   "cell_type": "code",
   "execution_count": null,
   "metadata": {},
   "outputs": [],
   "source": [
    "import numpy\n",
    "numpy.__version__"
   ]
  },
  {
   "cell_type": "markdown",
   "metadata": {},
   "source": [
    "NumPy的推荐版本，1.8 或更新，通常人们习惯导入NumPy并简称``np``。"
   ]
  },
  {
   "cell_type": "code",
   "execution_count": null,
   "metadata": {},
   "outputs": [],
   "source": [
    "import numpy as np"
   ]
  },
  {
   "cell_type": "markdown",
   "metadata": {},
   "source": [
    "### 1.4    获得帮助 —— NumPy 的内置文档\n",
    "\n",
    "- 显示 NumPy 命名域的全部内容\n",
    "\n",
    "```ipython\n",
    "In [3]: np.<TAB>\n",
    "```\n",
    "\n",
    "- 显示 NumPy 内置文档\n",
    "\n",
    "```ipython\n",
    "In [4]: np?\n",
    "```\n",
    "\n",
    "获得手册指南，点[链接](http://www.numpy.org)。"
   ]
  },
  {
   "cell_type": "markdown",
   "metadata": {},
   "source": [
    "### 结束"
   ]
  }
 ],
 "metadata": {
  "anaconda-cloud": {},
  "kernelspec": {
   "display_name": "Python 3",
   "language": "python",
   "name": "python3"
  },
  "language_info": {
   "codemirror_mode": {
    "name": "ipython",
    "version": 3
   },
   "file_extension": ".py",
   "mimetype": "text/x-python",
   "name": "python",
   "nbconvert_exporter": "python",
   "pygments_lexer": "ipython3",
   "version": "3.6.5"
  }
 },
 "nbformat": 4,
 "nbformat_minor": 1
}
