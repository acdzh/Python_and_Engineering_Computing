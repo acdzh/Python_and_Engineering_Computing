{
 "cells": [
  {
   "cell_type": "markdown",
   "metadata": {},
   "source": [
    "# 2、理解 Python 和 NumPy 的数据类型"
   ]
  },
  {
   "cell_type": "markdown",
   "metadata": {},
   "source": [
    "### 2.1   数据的结构与处理\n",
    "\n",
    "- Python 语言是如何处理数据的？\n",
    "- NumPy 是如何改进 Python 的？\n",
    "\n",
    "静态语言（C或Java）需要对变量显式声明，动态语言 Python 不须这样做，例如\n",
    "\n",
    "```C\n",
    "/* C code */\n",
    "int result = 0;\n",
    "for(int i=0; i<100; i++){\n",
    "    result += i;\n",
    "}\n",
    "```\n",
    "\n",
    "等效的 Python 代码是\n",
    "\n",
    "```python\n",
    "# Python 代码\n",
    "result = 0\n",
    "for i in range(100):\n",
    "    result += i\n",
    "```\n",
    "\n",
    "注意主要差别\n",
    "- C语言，显式声明。\n",
    "- Python语言，可存放任何类型数据到任何变量，无须声明。\n",
    "\n",
    "```python\n",
    "# Python 代码\n",
    "x = 4\n",
    "x = \"four\"\n",
    "```\n",
    "\n",
    "上例，变换``x``的类型，从整型到字符串。而如果在C语言中这样操作，将引起编译错误。\n",
    "\n",
    "```C\n",
    "/* C 代码 */\n",
    "int x = 4;\n",
    "x = \"four\";  // 失败\n",
    "```\n",
    "\n",
    "这一特性，使得`如 Python 的动态类型语言更方便好用`。"
   ]
  },
  {
   "cell_type": "markdown",
   "metadata": {},
   "source": [
    "### 2.2   Python 中的整数不限于是单纯的整数\n",
    "\n",
    "标准Python是C语言实现，所有的对象都是C结构，除值以外，还有其它信息。\n",
    "\n",
    "例如，``x = 10000``, ``x``并不是一个单纯的数，而是一个指向C结构的指针。\n",
    "\n",
    "\n",
    "查看Python 3.4源代码，可以发现integer (long) 类型有如下定义：\n",
    "\n",
    "```C\n",
    "struct _longobject {\n",
    "    long ob_refcnt;\n",
    "    PyTypeObject *ob_type;\n",
    "    size_t ob_size;\n",
    "    long ob_digit[1];\n",
    "};\n",
    "```\n",
    "\n",
    "单个整数在Python 3.4中包含了四个属性：\n",
    "\n",
    "- ``ob_refcnt``, 引用数，用于内存管理\n",
    "- ``ob_type``, 用于变量类型编码\n",
    "- ``ob_size``, 数据成员大小size\n",
    "- ``ob_digit``, 实际整数值"
   ]
  },
  {
   "cell_type": "markdown",
   "metadata": {},
   "source": [
    "下图是C语言的整数和Python语言整数的区别"
   ]
  },
  {
   "cell_type": "markdown",
   "metadata": {},
   "source": [
    "![Integer Memory Layout](figures/cint_vs_pyint.png)"
   ]
  },
  {
   "cell_type": "markdown",
   "metadata": {},
   "source": [
    "这里，``PyObject_HEAD``是C结构中的部分，包含前述引用计数、类型编码等信息\n",
    "\n",
    "#### 差别：\n",
    "\n",
    "- C整数本质上是一内存标识，其字节内容是编码了的整数值\n",
    "- Python整数是一指针，指向内存中的一包含前述信息的结构对象\n",
    "\n",
    "Python整数的上述特点使得它\n",
    "\n",
    "- 可以动态自由地生成\n",
    "- 产生额外开销"
   ]
  },
  {
   "cell_type": "markdown",
   "metadata": {},
   "source": [
    "### 2.3   Python中的列表不限于是单纯的列表"
   ]
  },
  {
   "cell_type": "markdown",
   "metadata": {},
   "source": [
    "#### 失效的 xrange 函数"
   ]
  },
  {
   "cell_type": "code",
   "execution_count": null,
   "metadata": {},
   "outputs": [],
   "source": [
    "xrange(10)"
   ]
  },
  {
   "cell_type": "markdown",
   "metadata": {},
   "source": [
    "#### Python 3.X 中的变化\n",
    "\n",
    "- 取消了 xrange 函数\n",
    "- 改用 range 函数"
   ]
  },
  {
   "cell_type": "code",
   "execution_count": null,
   "metadata": {},
   "outputs": [],
   "source": [
    "L = list(range(10))\n",
    "L"
   ]
  },
  {
   "cell_type": "code",
   "execution_count": null,
   "metadata": {},
   "outputs": [],
   "source": [
    "type(L[0])"
   ]
  },
  {
   "cell_type": "markdown",
   "metadata": {},
   "source": [
    "类似地，字符串列表"
   ]
  },
  {
   "cell_type": "code",
   "execution_count": null,
   "metadata": {},
   "outputs": [],
   "source": [
    "L2 = [str(c) for c in L]\n",
    "L2"
   ]
  },
  {
   "cell_type": "code",
   "execution_count": null,
   "metadata": {},
   "outputs": [],
   "source": [
    "type(L2[0])"
   ]
  },
  {
   "cell_type": "markdown",
   "metadata": {},
   "source": [
    "### 2.4  Python的灵活性 —— 动态类型和异质列表\n",
    "\n",
    "由于Python支持动态类型，甚至可以创建异质列表"
   ]
  },
  {
   "cell_type": "code",
   "execution_count": null,
   "metadata": {},
   "outputs": [],
   "source": [
    "L3 = [True, \"2\", 3.0, 4]\n",
    "[type(item) for item in L3]"
   ]
  },
  {
   "cell_type": "markdown",
   "metadata": {},
   "source": [
    "#### 为灵活性所付出的代价\n",
    "\n",
    "- 列表中的每一元素项都要包含引用计数等信息，即，``元素项包含除值以外的信息``\n",
    "- 特别，当所有的变量类型相同（<font color=\"red\">同质</font>）时，将`产生冗余信息`，不如存贮固定类型数组来得有效"
   ]
  },
  {
   "cell_type": "markdown",
   "metadata": {},
   "source": [
    "#### 对比图\n",
    "\n",
    "动态类型列表和固定类型数组的差别，如下图"
   ]
  },
  {
   "cell_type": "markdown",
   "metadata": {},
   "source": [
    "![Array Memory Layout](figures/array_vs_list.png)"
   ]
  },
  {
   "cell_type": "markdown",
   "metadata": {},
   "source": [
    "- Python列表包含一指针指向一指针块，块中的每一个都指向一Python对象\n",
    "- Python列表的灵活性源于每一元素都是一完全的含有数据和类型信息的结构\n",
    "- 固定类型的NumPy数组没有上述灵活性，但是存贮和处理数据方面却`更有效率`"
   ]
  },
  {
   "cell_type": "markdown",
   "metadata": {},
   "source": [
    "### 2.5  Python 进行了弥补 —— 固定类型的一维数组 array\n",
    "\n",
    "- 内建的``array``模块 (Python 3.3版以后支持) 可用于创建单一类型的数组\n",
    "- 在实现层面，Python 数组 array包含一指针指向内存中的连续区域"
   ]
  },
  {
   "cell_type": "code",
   "execution_count": null,
   "metadata": {},
   "outputs": [],
   "source": [
    "import array\n",
    "L = list(range(10))\n",
    "A = array.array('i', L)\n",
    "A"
   ]
  },
  {
   "cell_type": "markdown",
   "metadata": {},
   "source": [
    "这里``'i'``是类型码，表示整数"
   ]
  },
  {
   "cell_type": "markdown",
   "metadata": {},
   "source": [
    "### 2.6    NumPy 提供更为实用高效的多维数组\n",
    "\n",
    "- ``ndarray``对象"
   ]
  },
  {
   "cell_type": "markdown",
   "metadata": {},
   "source": [
    "#### 导入模块，惯例用简称 `np`"
   ]
  },
  {
   "cell_type": "code",
   "execution_count": null,
   "metadata": {},
   "outputs": [],
   "source": [
    "import numpy as np"
   ]
  },
  {
   "cell_type": "markdown",
   "metadata": {},
   "source": [
    "#### 创建数组\n",
    "\n",
    "- 从 python 列表"
   ]
  },
  {
   "cell_type": "code",
   "execution_count": null,
   "metadata": {},
   "outputs": [],
   "source": [
    "# 整数数组\n",
    "np.array([1, 4, 2, 5, 3])"
   ]
  },
  {
   "cell_type": "code",
   "execution_count": null,
   "metadata": {},
   "outputs": [],
   "source": [
    "np.array([3.14, 4, 2, 3])"
   ]
  },
  {
   "cell_type": "markdown",
   "metadata": {},
   "source": [
    "#### 类型指定\n",
    "\n",
    "使用``dtype``关键字，显式设置数据类型"
   ]
  },
  {
   "cell_type": "code",
   "execution_count": null,
   "metadata": {},
   "outputs": [],
   "source": [
    "np.array([1, 2, 3, 4], dtype='float32')"
   ]
  },
  {
   "cell_type": "markdown",
   "metadata": {},
   "source": [
    "不同于Python列表，NumPy数组可显式设为多维"
   ]
  },
  {
   "cell_type": "code",
   "execution_count": null,
   "metadata": {},
   "outputs": [],
   "source": [
    "# 嵌套列表，产生多维数组\n",
    "np.array([range(i, i + 3) for i in [2, 4, 6]])"
   ]
  },
  {
   "cell_type": "markdown",
   "metadata": {},
   "source": [
    "内层列表被当成二维数组的行"
   ]
  },
  {
   "cell_type": "markdown",
   "metadata": {},
   "source": [
    "#### 内建函数创建数组\n",
    "\n",
    "使用NumPy内建函数创建数组，如下几例"
   ]
  },
  {
   "cell_type": "code",
   "execution_count": null,
   "metadata": {},
   "outputs": [],
   "source": [
    "# 创建10个元素的数组，所有元素用零填充\n",
    "np.zeros(10, dtype=int)"
   ]
  },
  {
   "cell_type": "code",
   "execution_count": null,
   "metadata": {},
   "outputs": [],
   "source": [
    "# 创建一 3 x 5 浮点数组，各元素用填充值 1\n",
    "np.ones((3, 5), dtype=float)"
   ]
  },
  {
   "cell_type": "code",
   "execution_count": null,
   "metadata": {},
   "outputs": [],
   "source": [
    "# 创建一 3 x 5 浮点数组，各元素用 3.14 填充值\n",
    "np.full((3, 5), 3.14)"
   ]
  },
  {
   "cell_type": "code",
   "execution_count": null,
   "metadata": {},
   "outputs": [],
   "source": [
    "# 创建线性序列数组\n",
    "# 起始于 0, 终止于 20, 步长 2\n",
    "# 与内建函数 range() 相比较，有类似性\n",
    "np.arange(0, 20, 2)"
   ]
  },
  {
   "cell_type": "code",
   "execution_count": null,
   "metadata": {},
   "outputs": [],
   "source": [
    "# 创建5个元素的浮点数组\n",
    "np.linspace(0, 1, 5)"
   ]
  },
  {
   "cell_type": "code",
   "execution_count": null,
   "metadata": {},
   "outputs": [],
   "source": [
    "# 创建 3x3 均匀分布的数组\n",
    "# 生成介于0和1之间的随机数\n",
    "np.random.random((3, 3))"
   ]
  },
  {
   "cell_type": "code",
   "execution_count": null,
   "metadata": {},
   "outputs": [],
   "source": [
    "# 创建 3x3 正态分布的随机数组\n",
    "# 均值零，标准差为1\n",
    "np.random.normal(0, 1, (3, 3))"
   ]
  },
  {
   "cell_type": "code",
   "execution_count": null,
   "metadata": {},
   "outputs": [],
   "source": [
    "# 创建 3x3 随机整数组\n",
    "np.random.randint(0, 10, (3, 3))"
   ]
  },
  {
   "cell_type": "code",
   "execution_count": null,
   "metadata": {},
   "outputs": [],
   "source": [
    "# 创建 3x3 单位矩阵\n",
    "np.eye(3)"
   ]
  },
  {
   "cell_type": "code",
   "execution_count": null,
   "metadata": {},
   "outputs": [],
   "source": [
    "# 创建未初始化数组，含三个整数\n",
    "# 填充值与内存中的内容有关\n",
    "np.empty(3)"
   ]
  },
  {
   "cell_type": "markdown",
   "metadata": {},
   "source": [
    "### 2.7   NumPy标准数据类型\n",
    "\n",
    "标准NumPy数据类型见下表\n",
    "\n",
    "创建数组时，可指定数据类型\n",
    "\n",
    "```python\n",
    "np.zeros(10, dtype='int16')\n",
    "```\n",
    "\n",
    "使用相关的NumPy对象\n",
    "\n",
    "```python\n",
    "np.zeros(10, dtype=np.int16)\n",
    "```"
   ]
  },
  {
   "cell_type": "markdown",
   "metadata": {},
   "source": [
    "| 数据类型\t    | 描述|\n",
    "|---------------|-------------|\n",
    "| ``bool_``     | Boolean (True or False) stored as a byte |\n",
    "| ``int_``      | Default integer type (same as C ``long``; normally either ``int64`` or ``int32``)| \n",
    "| ``intc``      | Identical to C ``int`` (normally ``int32`` or ``int64``)| \n",
    "| ``intp``      | Integer used for indexing (same as C ``ssize_t``; normally either ``int32`` or ``int64``)| \n",
    "| ``int8``      | Byte (-128 to 127)| \n",
    "| ``int16``     | Integer (-32768 to 32767)|\n",
    "| ``int32``     | Integer (-2147483648 to 2147483647)|\n",
    "| ``int64``     | Integer (-9223372036854775808 to 9223372036854775807)| \n",
    "| ``uint8``     | Unsigned integer (0 to 255)| \n",
    "| ``uint16``    | Unsigned integer (0 to 65535)| \n",
    "| ``uint32``    | Unsigned integer (0 to 4294967295)| \n",
    "| ``uint64``    | Unsigned integer (0 to 18446744073709551615)| \n",
    "| ``float_``    | Shorthand for ``float64``.| \n",
    "| ``float16``   | Half precision float: sign bit, 5 bits exponent, 10 bits mantissa| \n",
    "| ``float32``   | Single precision float: sign bit, 8 bits exponent, 23 bits mantissa| \n",
    "| ``float64``   | Double precision float: sign bit, 11 bits exponent, 52 bits mantissa| \n",
    "| ``complex_``  | Shorthand for ``complex128``.| \n",
    "| ``complex64`` | Complex number, represented by two 32-bit floats| \n",
    "| ``complex128``| Complex number, represented by two 64-bit floats| "
   ]
  },
  {
   "cell_type": "markdown",
   "metadata": {},
   "source": [
    "### 结束"
   ]
  }
 ],
 "metadata": {
  "anaconda-cloud": {},
  "kernelspec": {
   "display_name": "Python 3",
   "language": "python",
   "name": "python3"
  },
  "language_info": {
   "codemirror_mode": {
    "name": "ipython",
    "version": 3
   },
   "file_extension": ".py",
   "mimetype": "text/x-python",
   "name": "python",
   "nbconvert_exporter": "python",
   "pygments_lexer": "ipython3",
   "version": "3.6.5"
  }
 },
 "nbformat": 4,
 "nbformat_minor": 1
}
