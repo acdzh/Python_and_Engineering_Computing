{
 "cells": [
  {
   "cell_type": "markdown",
   "metadata": {},
   "source": [
    "# 4、NumPy 数组计算 —— 通用函数(Universal Functions)"
   ]
  },
  {
   "cell_type": "markdown",
   "metadata": {},
   "source": [
    "### 4.1 NumPy 在数据计算方面的重要性\n",
    "\n",
    "NumPy 在数据科学世界如此重要，原因在于\n",
    "\n",
    "- 易用灵活的接口\n",
    "- 优化的数据计算\n",
    "- 快速的计算\n",
    "\n",
    "实现快速高效的关键\n",
    "\n",
    "- 在一般NumPy的 *通用函数 universal functions(ufuncs)* 中，使用 *向量化vectorized* 操作，使得大量数组元素重复计算的效率大大提高。"
   ]
  },
  {
   "cell_type": "markdown",
   "metadata": {},
   "source": [
    "### 4.2   认识 Python 循环的缓慢\n",
    "\n",
    "Python 常规操作的缺省实现（基于CPython）十分缓慢，原因在于\n",
    "\n",
    "- 动态、解释型语言：类型比较灵活，但操作不能编译成高效的机器代码（如C和Fortran）\n",
    "\n",
    "为克服此缺点，业界付出大量努力：\n",
    "\n",
    "- [PyPy](http://pypy.org/)项目，及时编译实现Python\n",
    "- [Cython](http://cython.org)项目，转换Python代码成C代码\n",
    "- [Numba](http://numba.pydata.org/) 项目, 转换Python片断成LLVM(底层虚拟机,Low Level Virtual Machine)字节码\n",
    "\n",
    "上述项目各有优劣，不过都没有超越标准CPython引擎。"
   ]
  },
  {
   "cell_type": "markdown",
   "metadata": {},
   "source": [
    "#### 示例 —— 循环计算倒数\n",
    "\n",
    "Python 的迟缓多是由于小操作的大量重复，例如，对数组元素的循环操作，考虑 *一个循环计算倒数* 的例子。"
   ]
  },
  {
   "cell_type": "code",
   "execution_count": 1,
   "metadata": {},
   "outputs": [
    {
     "data": {
      "text/plain": [
       "array([0.16666667, 1.        , 0.25      , 0.25      , 0.125     ])"
      ]
     },
     "execution_count": 1,
     "metadata": {},
     "output_type": "execute_result"
    }
   ],
   "source": [
    "import numpy as np\n",
    "np.random.seed(0)\n",
    "\n",
    "def compute_reciprocals(values):\n",
    "    output = np.empty(len(values))\n",
    "    for i in range(len(values)):\n",
    "        output[i] = 1.0 / values[i]\n",
    "    return output\n",
    "        \n",
    "values = np.random.randint(1, 10, size=5)\n",
    "compute_reciprocals(values)"
   ]
  },
  {
   "cell_type": "markdown",
   "metadata": {},
   "source": [
    "#### 魔法命令发现 —— 慢得令人吃惊\n",
    "\n",
    "- 采用基准 IPython 的魔法命令``%timeit``，测量上述代码的运行时间"
   ]
  },
  {
   "cell_type": "code",
   "execution_count": 2,
   "metadata": {},
   "outputs": [
    {
     "name": "stdout",
     "output_type": "stream",
     "text": [
      "1.88 s ± 12.7 ms per loop (mean ± std. dev. of 7 runs, 1 loop each)\n"
     ]
    }
   ],
   "source": [
    "big_array = np.random.randint(1, 100, size=10**6)\n",
    "%timeit compute_reciprocals(big_array)"
   ]
  },
  {
   "cell_type": "markdown",
   "metadata": {},
   "source": [
    "#### 计算效能的解读\n",
    "\n",
    "- 运算级别：百万\n",
    "- 时间开销：数秒\n",
    "\n",
    "#### 思考\n",
    "\n",
    "- 手机的处理速度都到了Giga-FLOPS (即, 每秒百万次数字运算)，上例慢得离谱\n",
    "- 瓶颈：不是操作本身，而是每次循环CPython必须做的类型检查、函数调用等\n",
    "- 如果在C语言下，无须这么多琐碎，效率将大大提高"
   ]
  },
  {
   "cell_type": "markdown",
   "metadata": {},
   "source": [
    "### 4.3    通用函数 (UFuncs) 介绍\n",
    "\n",
    "- 对于多种操作，NumPy提供了便利接口（诸如 静态类型、编译程序等），即所谓 *向量化(vectorized)* 操作\n",
    "- 可以轻松对数组运算实现到元素级\n",
    "- 向量化操作的实质是在 NumPy 的 *编译层* 实现循环，从而快速执行代码"
   ]
  },
  {
   "cell_type": "markdown",
   "metadata": {},
   "source": [
    "#### 示例 —— 效率对比\n",
    "\n",
    "- 比较以下两例结果......"
   ]
  },
  {
   "cell_type": "code",
   "execution_count": 3,
   "metadata": {},
   "outputs": [
    {
     "name": "stdout",
     "output_type": "stream",
     "text": [
      "[0.16666667 1.         0.25       0.25       0.125     ]\n",
      "[0.16666667 1.         0.25       0.25       0.125     ]\n"
     ]
    }
   ],
   "source": [
    "print(compute_reciprocals(values))\n",
    "print(1.0 / values)"
   ]
  },
  {
   "cell_type": "markdown",
   "metadata": {},
   "source": [
    "#### 发现 —— 效率得到提高\n",
    "\n",
    "- 对于大数组运算，执行效率比 Python 循环在量级上大幅提高"
   ]
  },
  {
   "cell_type": "code",
   "execution_count": 4,
   "metadata": {},
   "outputs": [
    {
     "name": "stdout",
     "output_type": "stream",
     "text": [
      "4.52 ms ± 53.6 µs per loop (mean ± std. dev. of 7 runs, 100 loops each)\n"
     ]
    }
   ],
   "source": [
    "%timeit (1.0 / big_array)"
   ]
  },
  {
   "cell_type": "markdown",
   "metadata": {},
   "source": [
    "### 4.4   NumPy 向量化操作\n",
    "\n",
    "通过 *通用函数 ufuncs* 来实现"
   ]
  },
  {
   "cell_type": "markdown",
   "metadata": {},
   "source": [
    "#### 主要目的\n",
    "\n",
    "- 快速执行大量重复的数组操作"
   ]
  },
  {
   "cell_type": "markdown",
   "metadata": {},
   "source": [
    "#### 通用函数的极度灵活性"
   ]
  },
  {
   "cell_type": "code",
   "execution_count": null,
   "metadata": {},
   "outputs": [],
   "source": [
    "np.arange(5) / np.arange(1, 6)"
   ]
  },
  {
   "cell_type": "markdown",
   "metadata": {},
   "source": [
    "#### ufunc 操作不限于一维数组\n",
    "\n",
    "- 多维数组也可"
   ]
  },
  {
   "cell_type": "code",
   "execution_count": 5,
   "metadata": {},
   "outputs": [
    {
     "data": {
      "text/plain": [
       "array([[  1,   2,   4],\n",
       "       [  8,  16,  32],\n",
       "       [ 64, 128, 256]], dtype=int32)"
      ]
     },
     "execution_count": 5,
     "metadata": {},
     "output_type": "execute_result"
    }
   ],
   "source": [
    "x = np.arange(9).reshape((3, 3))\n",
    "2 ** x"
   ]
  },
  {
   "cell_type": "markdown",
   "metadata": {},
   "source": [
    "- 使用 *向量化vectorization* 和 *通用函数ufuncs* 进行计算，几乎总是高效的，尤其对大型数组\n",
    "- 无论何时，有Python脚本的类似循环计算，就有必要考虑采用 *向量化操作*"
   ]
  },
  {
   "cell_type": "markdown",
   "metadata": {},
   "source": [
    "### 4.5   探讨 NumPy 的 UFuncs\n",
    "\n",
    "Ufuncs 存在的两种形式：\n",
    "- 一元通用函数 *unary ufuncs*，操作单个输入\n",
    "- 二元通用函数 *binary ufuncs*，操作两个输入"
   ]
  },
  {
   "cell_type": "markdown",
   "metadata": {},
   "source": [
    "#### 示例 —— 数组算法\n",
    "\n",
    "- NumPy 的通用函数 ufuncs 用起来非常自然，可实现在诸如：加、减、乘、除等标准计算"
   ]
  },
  {
   "cell_type": "code",
   "execution_count": null,
   "metadata": {},
   "outputs": [],
   "source": [
    "x = np.arange(4)\n",
    "print(\"x     =\", x)\n",
    "print(\"x + 5 =\", x + 5)\n",
    "print(\"x - 5 =\", x - 5)\n",
    "print(\"x * 2 =\", x * 2)\n",
    "print(\"x / 2 =\", x / 2)\n",
    "print(\"x // 2 =\", x // 2)  # floor division"
   ]
  },
  {
   "cell_type": "markdown",
   "metadata": {},
   "source": [
    "#### 一元通用函数 (unary ufunc) 也适用于\n",
    "\n",
    "- 取反 -\n",
    "- 乘幂 **\n",
    "- 取余 %\n",
    "\n",
    "等操作符"
   ]
  },
  {
   "cell_type": "code",
   "execution_count": null,
   "metadata": {},
   "outputs": [],
   "source": [
    "print(\"-x     = \", -x)\n",
    "print(\"x ** 2 = \", x ** 2)\n",
    "print(\"x % 2  = \", x % 2)"
   ]
  },
  {
   "cell_type": "markdown",
   "metadata": {},
   "source": [
    "#### 运算捆绑\n",
    "\n",
    "- 普通表达式 —— 运算捆绑"
   ]
  },
  {
   "cell_type": "code",
   "execution_count": null,
   "metadata": {},
   "outputs": [],
   "source": [
    "-(0.5*x + 1) ** 2"
   ]
  },
  {
   "cell_type": "markdown",
   "metadata": {},
   "source": [
    "#### 内部包装\n",
    "\n",
    "每个运算操作都在NumPy内部进行简易包装，例如\n",
    "\n",
    "- ``+``操作包装成``add``函数"
   ]
  },
  {
   "cell_type": "code",
   "execution_count": null,
   "metadata": {},
   "outputs": [],
   "source": [
    "np.add(x, 2)"
   ]
  },
  {
   "cell_type": "markdown",
   "metadata": {},
   "source": [
    "#### 实现通用函数的运算符表\n",
    "\n",
    "- 下表列出所有在 NumPy 中实现的运算符\n",
    "\n",
    "| 运算符\t   | 等效的通用函数     | 描述                   |\n",
    "|--------------|----------------------|---------------------------------|\n",
    "|``+``      |``np.add``         |相加 (例如, ``1 + 1 = 2``)     |\n",
    "|``-``      |``np.subtract``      |相减 (例如, ``3 - 2 = 1``)     |\n",
    "|``-``      |``np.negative``      |取负 (例如, ``-2``)          |\n",
    "|``*``      |``np.multiply``      |相乘 (例如, ``2 * 3 = 6``)     |\n",
    "|``/``      |``np.divide``       |相除 (例如, ``3 / 2 = 1.5``)   |\n",
    "|``//``      |``np.floor_divide``   |地板除 (例如, ``3 // 2 = 1``)  |\n",
    "|``**``      |``np.power``        |乘幂 (例如, ``2 ** 3 = 8``)   |\n",
    "|``%``      |``np.mod``         |模除 (例如, ``9 % 4 = 1``)     |\n",
    "\n",
    "此外，还有布尔/位运算符，略。"
   ]
  },
  {
   "cell_type": "markdown",
   "metadata": {},
   "source": [
    "### 4.6  内建通用函数系列"
   ]
  },
  {
   "cell_type": "markdown",
   "metadata": {},
   "source": [
    "#### 绝对值\n",
    "\n",
    "- 如同Python的内建运算符，内建的绝对值函数也适用。"
   ]
  },
  {
   "cell_type": "code",
   "execution_count": null,
   "metadata": {},
   "outputs": [],
   "source": [
    "x = np.array([-2, -1, 0, 1, 2])\n",
    "abs(x)"
   ]
  },
  {
   "cell_type": "markdown",
   "metadata": {},
   "source": [
    "与之相应的 NumPy 通用函数(ufunc)是``np.absolute``，它也可使用假名(alias)``np.abs``"
   ]
  },
  {
   "cell_type": "code",
   "execution_count": null,
   "metadata": {},
   "outputs": [],
   "source": [
    "np.absolute(x)"
   ]
  },
  {
   "cell_type": "code",
   "execution_count": null,
   "metadata": {},
   "outputs": [],
   "source": [
    "np.abs(x)"
   ]
  },
  {
   "cell_type": "markdown",
   "metadata": {},
   "source": [
    "该通用函数(ufunc)也可处理复数，这时所谓的绝对值也就是幅值"
   ]
  },
  {
   "cell_type": "code",
   "execution_count": null,
   "metadata": {},
   "outputs": [],
   "source": [
    "x = np.array([3 - 4j, 4 - 3j, 2 + 0j, 0 + 1j])\n",
    "np.abs(x)"
   ]
  },
  {
   "cell_type": "markdown",
   "metadata": {},
   "source": [
    "#### 三角函数\n",
    "\n",
    "NumPy 提供了大量的通用函数(ufuncs)，包括三角函数\n",
    "\n",
    "考虑下例"
   ]
  },
  {
   "cell_type": "code",
   "execution_count": null,
   "metadata": {},
   "outputs": [],
   "source": [
    "theta = np.linspace(0, np.pi, 3)"
   ]
  },
  {
   "cell_type": "markdown",
   "metadata": {},
   "source": [
    "计算若干三角函数值"
   ]
  },
  {
   "cell_type": "code",
   "execution_count": null,
   "metadata": {},
   "outputs": [],
   "source": [
    "print(\"theta      = \", theta)\n",
    "print(\"sin(theta) = \", np.sin(theta))\n",
    "print(\"cos(theta) = \", np.cos(theta))\n",
    "print(\"tan(theta) = \", np.tan(theta))"
   ]
  },
  {
   "cell_type": "markdown",
   "metadata": {},
   "source": [
    "#### 结果值达到机器精度！"
   ]
  },
  {
   "cell_type": "markdown",
   "metadata": {},
   "source": [
    "####  反三角函数也适用"
   ]
  },
  {
   "cell_type": "code",
   "execution_count": null,
   "metadata": {},
   "outputs": [],
   "source": [
    "x = [-1, 0, 1]\n",
    "print(\"x         = \", x)\n",
    "print(\"arcsin(x) = \", np.arcsin(x))\n",
    "print(\"arccos(x) = \", np.arccos(x))\n",
    "print(\"arctan(x) = \", np.arctan(x))"
   ]
  },
  {
   "cell_type": "markdown",
   "metadata": {},
   "source": [
    "#### 指数和对数函数"
   ]
  },
  {
   "cell_type": "code",
   "execution_count": null,
   "metadata": {},
   "outputs": [],
   "source": [
    "x = [1, 2, 3]\n",
    "print(\"x     =\", x)\n",
    "print(\"e^x   =\", np.exp(x))\n",
    "print(\"2^x   =\", np.exp2(x))\n",
    "print(\"3^x   =\", np.power(3, x))"
   ]
  },
  {
   "cell_type": "markdown",
   "metadata": {},
   "source": [
    "对数函数也适用\n",
    "\n",
    "- log 自然对数\n",
    "- log2 以2为底\n",
    "- log10 以10为底"
   ]
  },
  {
   "cell_type": "code",
   "execution_count": null,
   "metadata": {},
   "outputs": [],
   "source": [
    "x = [1, 2, 4, 10]\n",
    "print(\"x        =\", x)\n",
    "print(\"ln(x)    =\", np.log(x))\n",
    "print(\"log2(x)  =\", np.log2(x))\n",
    "print(\"log10(x) =\", np.log10(x))"
   ]
  },
  {
   "cell_type": "markdown",
   "metadata": {},
   "source": [
    "<font color=\"red\">指数和对数函数的特殊版本</font>\n",
    "- 适用于小输入数"
   ]
  },
  {
   "cell_type": "code",
   "execution_count": null,
   "metadata": {},
   "outputs": [],
   "source": [
    "x = [0, 0.001, 0.01, 0.1]\n",
    "print(\"exp(x) - 1 =\", np.expm1(x))\n",
    "print(\"log(1 + x) =\", np.log1p(x))"
   ]
  },
  {
   "cell_type": "markdown",
   "metadata": {},
   "source": [
    "当``x``非常小时，这些函数的精度比原来的``np.log``或``np.exp``更高"
   ]
  },
  {
   "cell_type": "markdown",
   "metadata": {},
   "source": [
    "#### NumPy 提供的特殊通用函数 (ufuncs)\n",
    "\n",
    "NumPy 有众多通用函数可用，包括\n",
    "\n",
    "- 双曲三角函数\n",
    "- 位运算函数\n",
    "- 比较运算符\n",
    "- 弧度rad/度deg转换函数\n",
    "- 舍入和剩余函数"
   ]
  },
  {
   "cell_type": "markdown",
   "metadata": {},
   "source": [
    "#### scipy.special 中提供的特殊通用函数\n",
    "- SciPy 提供的特殊函数子模块``scipy.special``中的函数\n",
    "\n",
    "更多的函数，无法一一列举:"
   ]
  },
  {
   "cell_type": "code",
   "execution_count": null,
   "metadata": {},
   "outputs": [],
   "source": [
    "from scipy import special"
   ]
  },
  {
   "cell_type": "code",
   "execution_count": null,
   "metadata": {},
   "outputs": [],
   "source": [
    "# Gamma functions (generalized factorials) and related functions\n",
    "x = [1, 5, 10]\n",
    "print(\"gamma(x)     =\", special.gamma(x))\n",
    "print(\"ln|gamma(x)| =\", special.gammaln(x))\n",
    "print(\"beta(x, 2)   =\", special.beta(x, 2))"
   ]
  },
  {
   "cell_type": "code",
   "execution_count": null,
   "metadata": {},
   "outputs": [],
   "source": [
    "# Error function (integral of Gaussian)\n",
    "# its complement, and its inverse\n",
    "x = np.array([0, 0.3, 0.7, 1.0])\n",
    "print(\"erf(x)  =\", special.erf(x))\n",
    "print(\"erfc(x) =\", special.erfc(x))\n",
    "print(\"erfinv(x) =\", special.erfinv(x))"
   ]
  },
  {
   "cell_type": "markdown",
   "metadata": {},
   "source": [
    "### 4.7  通用函数(Ufunc)的高级特性\n",
    "\n",
    "- 指定输出\n",
    "- 使用数组视(array views)"
   ]
  },
  {
   "cell_type": "markdown",
   "metadata": {},
   "source": [
    "#### 指定输出\n",
    "\n",
    "- 对大型计算，指定存放结果的数组是有用的\n",
    "- 相比创建临时数组，更可能采用将结果直接写入内存的办法\n",
    "- 对所有的 ufuncs，可以采用``out``参数指定输出"
   ]
  },
  {
   "cell_type": "code",
   "execution_count": null,
   "metadata": {},
   "outputs": [],
   "source": [
    "x = np.arange(5)\n",
    "y = np.empty(5)\n",
    "np.multiply(x, 10, out=y)\n",
    "print(y)"
   ]
  },
  {
   "cell_type": "markdown",
   "metadata": {},
   "source": [
    "#### 使用数组视(array views)"
   ]
  },
  {
   "cell_type": "code",
   "execution_count": null,
   "metadata": {},
   "outputs": [],
   "source": [
    "y = np.zeros(10)\n",
    "np.power(2, x, out=y[::2])\n",
    "print(y)"
   ]
  },
  {
   "cell_type": "markdown",
   "metadata": {},
   "source": [
    "- 对于上述小算例，可采用 ``y[::2] = 2 ** x``，影响不大。\n",
    "    - 创建一临时数组存贮结果``2 ** x``\n",
    "    - 然后将之拷贝到``y``数组\n",
    "- 对于大型数组计算，宜采用 ``out``参数\n",
    "    - 直接操作 `y`\n",
    "    - 将节省内存"
   ]
  },
  {
   "cell_type": "markdown",
   "metadata": {},
   "source": [
    "### 4.8   聚合 Aggregates\n",
    "\n",
    "对于二元通用函数(ufuncs)，存在一些有趣的可从对象直接计算的聚合\n",
    "\n",
    "例如，如果想缩减（*reduce*）数组计算，可使用通用函数的``reduce``方法 <p>\n",
    "\n",
    "<font color=\"red\">缩减可对数组元素重复</font>\n",
    "\n",
    "例如，对于``add``通用函数调用``reduce``将返回所有元素的和"
   ]
  },
  {
   "cell_type": "code",
   "execution_count": 6,
   "metadata": {},
   "outputs": [
    {
     "data": {
      "text/plain": [
       "15"
      ]
     },
     "execution_count": 6,
     "metadata": {},
     "output_type": "execute_result"
    }
   ],
   "source": [
    "x = np.arange(1, 6)\n",
    "np.add.reduce(x)"
   ]
  },
  {
   "cell_type": "markdown",
   "metadata": {},
   "source": [
    "类似，对于``multiply``调用``reduce``将计算所有元素的乘积"
   ]
  },
  {
   "cell_type": "code",
   "execution_count": null,
   "metadata": {},
   "outputs": [],
   "source": [
    "np.multiply.reduce(x)"
   ]
  },
  {
   "cell_type": "markdown",
   "metadata": {},
   "source": [
    "如果打算存放所有的中间结果，可采用``accumulate``"
   ]
  },
  {
   "cell_type": "code",
   "execution_count": 7,
   "metadata": {},
   "outputs": [
    {
     "data": {
      "text/plain": [
       "array([ 1,  3,  6, 10, 15], dtype=int32)"
      ]
     },
     "execution_count": 7,
     "metadata": {},
     "output_type": "execute_result"
    }
   ],
   "source": [
    "np.add.accumulate(x)"
   ]
  },
  {
   "cell_type": "code",
   "execution_count": 8,
   "metadata": {},
   "outputs": [
    {
     "data": {
      "text/plain": [
       "array([  1,   2,   6,  24, 120], dtype=int32)"
      ]
     },
     "execution_count": 8,
     "metadata": {},
     "output_type": "execute_result"
    }
   ],
   "source": [
    "np.multiply.accumulate(x)"
   ]
  },
  {
   "cell_type": "markdown",
   "metadata": {},
   "source": [
    "上述特例，有专用的 NumPy 函数可用\n",
    "\n",
    "- ``np.sum``、``np.prod``、``np.cumsum``、``np.cumprod``\n",
    "\n",
    "详见[Aggregations: Min, Max, and Everything In Between](A.05 数组计算之aggregates.ipynb)."
   ]
  },
  {
   "cell_type": "markdown",
   "metadata": {},
   "source": [
    "### 4.9   外积\n",
    "\n",
    "最后, 通过使用``outer``方法，任一通用函数可计算两不同输入所有配对的输出，这使得可用一行代码完成诸如乘积表的创建工作。"
   ]
  },
  {
   "cell_type": "code",
   "execution_count": 9,
   "metadata": {
    "scrolled": true
   },
   "outputs": [
    {
     "data": {
      "text/plain": [
       "array([[ 4,  6,  1,  9],\n",
       "       [ 8, 12,  2, 18],\n",
       "       [12, 18,  3, 27],\n",
       "       [16, 24,  4, 36],\n",
       "       [20, 30,  5, 45]])"
      ]
     },
     "execution_count": 9,
     "metadata": {},
     "output_type": "execute_result"
    }
   ],
   "source": [
    "x = np.arange(1, 6)\n",
    "y=np.array([4,6,1,9])\n",
    "np.multiply.outer(x, y)"
   ]
  },
  {
   "cell_type": "markdown",
   "metadata": {},
   "source": [
    "### 4.10  其它有用的方法\n",
    "\n",
    "- ``ufunc.at``\n",
    "- ``ufunc.reduceat``\n",
    "\n",
    "在[Fancy Indexing](02.07-Fancy-Indexing.ipynb)中介绍"
   ]
  },
  {
   "cell_type": "markdown",
   "metadata": {},
   "source": [
    "#### 另一有用特性\n",
    "\n",
    "- ufuncs 可操作不同大小(size)和构形(shape)的数组，即著名的 *broadcasting* 操作\n",
    "\n",
    "详见[数组计算之broadcasting](02.05-数组计算之broadcasting.ipynb))"
   ]
  },
  {
   "cell_type": "markdown",
   "metadata": {},
   "source": [
    "### 4.11  关于通用函数的更多知识"
   ]
  },
  {
   "cell_type": "markdown",
   "metadata": {},
   "source": [
    "参考[NumPy](http://www.numpy.org) and [SciPy](http://www.scipy.org) 在线文档网页。"
   ]
  },
  {
   "cell_type": "markdown",
   "metadata": {},
   "source": [
    "### 结束"
   ]
  }
 ],
 "metadata": {
  "anaconda-cloud": {},
  "kernelspec": {
   "display_name": "Python 3",
   "language": "python",
   "name": "python3"
  },
  "language_info": {
   "codemirror_mode": {
    "name": "ipython",
    "version": 3
   },
   "file_extension": ".py",
   "mimetype": "text/x-python",
   "name": "python",
   "nbconvert_exporter": "python",
   "pygments_lexer": "ipython3",
   "version": "3.6.5"
  }
 },
 "nbformat": 4,
 "nbformat_minor": 1
}
