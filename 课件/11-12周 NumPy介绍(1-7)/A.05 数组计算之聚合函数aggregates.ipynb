{
 "cells": [
  {
   "cell_type": "markdown",
   "metadata": {},
   "source": [
    "# A.05 数组计算之聚合函数aggregates"
   ]
  },
  {
   "cell_type": "markdown",
   "metadata": {},
   "source": [
    "### 5.1 聚合 : 最大值, 最小值和中间值"
   ]
  },
  {
   "cell_type": "markdown",
   "metadata": {},
   "source": [
    "对于大数据，首先要概算统计量。\n",
    "\n",
    "最常见的统计量是均值与标准差，借此，可以归纳出数据集的典型值，另外一些聚合值也有用（和、积、中值、最小和最大、分位数等）\n",
    "\n",
    "NumPy有快速内建的聚合函数，下面讨论。"
   ]
  },
  {
   "cell_type": "markdown",
   "metadata": {},
   "source": [
    "### 5.2 数组求和"
   ]
  },
  {
   "cell_type": "code",
   "execution_count": null,
   "metadata": {},
   "outputs": [],
   "source": [
    "import numpy as np"
   ]
  },
  {
   "cell_type": "code",
   "execution_count": null,
   "metadata": {},
   "outputs": [],
   "source": [
    "L = np.random.random(100)\n",
    "print(\"L=\",L)\n",
    "sum(L)"
   ]
  },
  {
   "cell_type": "markdown",
   "metadata": {},
   "source": [
    "语法类似于 NumPy 的``sum``函数，返回值也一样。"
   ]
  },
  {
   "cell_type": "code",
   "execution_count": null,
   "metadata": {},
   "outputs": [],
   "source": [
    "np.sum(L)"
   ]
  },
  {
   "cell_type": "markdown",
   "metadata": {},
   "source": [
    "由于运行的是编译代码，NumPy 的操作将很快。"
   ]
  },
  {
   "cell_type": "code",
   "execution_count": null,
   "metadata": {},
   "outputs": [],
   "source": [
    "big_array = np.random.rand(1000000)\n",
    "%timeit sum(big_array)\n",
    "%timeit np.sum(big_array)"
   ]
  },
  {
   "cell_type": "markdown",
   "metadata": {},
   "source": [
    "注意：\n",
    "``sum`` 函数和 ``np.sum`` 函数是不一样的，这有时会引起混淆。\n",
    "\n",
    "特别地，可选参数有不同意义，``np.sum`` 也可用于多维数组。"
   ]
  },
  {
   "cell_type": "markdown",
   "metadata": {},
   "source": [
    "### 5.3 最小值和最大值\n",
    "\n",
    "类似地，Python 也有内建的 ``min`` 和 ``max`` 函数，用于求任意数组的最小和最大值"
   ]
  },
  {
   "cell_type": "code",
   "execution_count": null,
   "metadata": {},
   "outputs": [],
   "source": [
    "min(big_array), max(big_array)"
   ]
  },
  {
   "cell_type": "markdown",
   "metadata": {},
   "source": [
    "NumPy 的相关函数有类似的语法，并且运行速度更快"
   ]
  },
  {
   "cell_type": "code",
   "execution_count": null,
   "metadata": {},
   "outputs": [],
   "source": [
    "np.min(big_array), np.max(big_array)"
   ]
  },
  {
   "cell_type": "code",
   "execution_count": null,
   "metadata": {},
   "outputs": [],
   "source": [
    "%timeit min(big_array)\n",
    "%timeit np.min(big_array)"
   ]
  },
  {
   "cell_type": "markdown",
   "metadata": {},
   "source": [
    "对于 ``min``, ``max``, ``sum``, 等若干 NumPy 聚合，有更短的调用语法："
   ]
  },
  {
   "cell_type": "code",
   "execution_count": null,
   "metadata": {},
   "outputs": [],
   "source": [
    "print(big_array.min(), big_array.max(), big_array.sum())"
   ]
  },
  {
   "cell_type": "markdown",
   "metadata": {},
   "source": [
    "在操作 NumPy 数组时，要先确认 NumPy 的版本。"
   ]
  },
  {
   "cell_type": "markdown",
   "metadata": {},
   "source": [
    "### 5.4 多维聚合\n",
    "\n",
    "假设有一二维数组，最常用的计算是针对行和列实施"
   ]
  },
  {
   "cell_type": "code",
   "execution_count": null,
   "metadata": {},
   "outputs": [],
   "source": [
    "M = np.random.random((3, 4))\n",
    "print(M)"
   ]
  },
  {
   "cell_type": "markdown",
   "metadata": {},
   "source": [
    "缺省时，每个 NumPy 聚合函数将返回整个数组的聚合"
   ]
  },
  {
   "cell_type": "code",
   "execution_count": null,
   "metadata": {},
   "outputs": [],
   "source": [
    "M.sum()"
   ]
  },
  {
   "cell_type": "markdown",
   "metadata": {},
   "source": [
    "聚合函数有一附加的参数，用于指定沿其计算的轴 *axis*，例如，计算每一列的最小值，就设置 ``axis=0``："
   ]
  },
  {
   "cell_type": "code",
   "execution_count": null,
   "metadata": {},
   "outputs": [],
   "source": [
    "M.min(axis=0)"
   ]
  },
  {
   "cell_type": "markdown",
   "metadata": {},
   "source": [
    "函数返回了4个值，对应着4列。\n",
    "\n",
    "类似地，也可计算每行的最大值。"
   ]
  },
  {
   "cell_type": "code",
   "execution_count": null,
   "metadata": {},
   "outputs": [],
   "source": [
    "M.max(axis=1)"
   ]
  },
  {
   "cell_type": "markdown",
   "metadata": {},
   "source": [
    "指定轴的方式有可能引起困惑。\n",
    "\n",
    "关键字 ``axis`` 指定数组的某坍缩维 (*dimension of the array that will be collapsed*)，而不是返回的维。\n",
    "\n",
    "如，指定 ``axis=0`` 意指第一个轴将坍缩，对于二维数组，这即是指每列的值将产生。"
   ]
  },
  {
   "cell_type": "markdown",
   "metadata": {},
   "source": [
    "### 5.5 其它聚合函数\n",
    "\n",
    "NumPy 还提供其它许多聚合函数，这里不详谈。\n",
    "\n",
    "绝大多数聚合函数是 NaN 安全的，详见[处理丢失的数据](03.04-丢失的数据.ipynb)).\n",
    "\n",
    "如下表给出了 NumPy 中可用的聚合函数\n",
    "\n",
    "\n",
    "|函数名           |   NaN-安全版本     | 描述                                 |\n",
    "|----------------------|-----------------------|-----------------------------------------------|\n",
    "| ``np.sum``        | ``np.nansum``       | 计算元素之和                       |\n",
    "| ``np.prod``       | ``np.nanprod``      | 计算元素之积                  |\n",
    "| ``np.mean``       | ``np.nanmean``      | 计算元素的均值                      |\n",
    "| ``np.std``        | ``np.nanstd``       | 计算标准差                    |\n",
    "| ``np.var``        | ``np.nanvar``       | 计算方差                              |\n",
    "| ``np.min``        | ``np.nanmin``       | 寻找最小值                           |\n",
    "| ``np.max``        | ``np.nanmax``       | 寻找最大值                            |\n",
    "| ``np.argmin``      | ``np.nanargmin``     | 寻找最小值的下标                   |\n",
    "| ``np.argmax``      | ``np.nanargmax``     | 寻找最大值的下标                  |\n",
    "| ``np.median``      | ``np.nanmedian``     | 计算元素的中值                   |\n",
    "| ``np.percentile``   | ``np.nanpercentile``  | 计算元素的各阶统计量     |\n",
    "| ``np.any``        | N/A              | 测试是否有任一元素为真        |\n",
    "| ``np.all``        | N/A              | 测试是否所有元素为真       |\n",
    "\n",
    "后面将不时讨论这些聚合函数"
   ]
  },
  {
   "cell_type": "markdown",
   "metadata": {},
   "source": [
    "### 5.6 示例：美国总统的平均身高如何?"
   ]
  },
  {
   "cell_type": "markdown",
   "metadata": {},
   "source": [
    "#### 示例：考虑所有美国总统的身高\n",
    "\n",
    "数据见文件 *president_heights.csv*"
   ]
  },
  {
   "cell_type": "code",
   "execution_count": null,
   "metadata": {},
   "outputs": [],
   "source": [
    "#!head -4 data/president_heights.csv\n",
    "!type .\\data\\president_heights.csv"
   ]
  },
  {
   "cell_type": "markdown",
   "metadata": {},
   "source": [
    "#### ``Pandas``  开放的数据分析模块\n",
    "\n",
    "- 仅介绍如何采用 ``Pandas`` 包来读取文件数据\n",
    "- 更一般的有关 Pandas 内容将不在课内介绍\n",
    "\n",
    "[官方网址: http://pandas.pydata.org/](http://pandas.pydata.org/)"
   ]
  },
  {
   "cell_type": "code",
   "execution_count": null,
   "metadata": {},
   "outputs": [],
   "source": [
    "import pandas as pd\n",
    "data = pd.read_csv('data/president_heights.csv')\n",
    "data.head()"
   ]
  },
  {
   "cell_type": "code",
   "execution_count": null,
   "metadata": {},
   "outputs": [],
   "source": [
    "heights = np.array(data['height(cm)'])\n",
    "print(heights)"
   ]
  },
  {
   "cell_type": "markdown",
   "metadata": {},
   "source": [
    "有了数组数据，可以进行统计分析"
   ]
  },
  {
   "cell_type": "code",
   "execution_count": null,
   "metadata": {},
   "outputs": [],
   "source": [
    "print(\"Mean height:       \", heights.mean())\n",
    "print(\"Standard deviation:\", heights.std())\n",
    "print(\"Minimum height:    \", heights.min())\n",
    "print(\"Maximum height:    \", heights.max())"
   ]
  },
  {
   "cell_type": "markdown",
   "metadata": {},
   "source": [
    "注意对于每一个例，聚合操作使整体数组得到缩减\n",
    "\n",
    "计算以下分位数"
   ]
  },
  {
   "cell_type": "code",
   "execution_count": null,
   "metadata": {},
   "outputs": [],
   "source": [
    "print(\"25th percentile:   \", np.percentile(heights, 25))\n",
    "print(\"Median:            \", np.median(heights))\n",
    "print(\"75th percentile:   \", np.percentile(heights, 75))"
   ]
  },
  {
   "cell_type": "markdown",
   "metadata": {},
   "source": [
    "美国总统高度的中间值是182cm，或恰好差不多6英尺\n",
    "\n",
    "有时，可视化的数据表示更有实用价值，可视化工具选择 Matplotlib (在[第4章](04.00-Matplotlib介绍.ipynb)讨论)，例如。下述代码生成如下图表："
   ]
  },
  {
   "cell_type": "code",
   "execution_count": null,
   "metadata": {},
   "outputs": [],
   "source": [
    "%matplotlib inline\n",
    "import matplotlib.pyplot as plt\n",
    "import seaborn; seaborn.set()  # set plot style"
   ]
  },
  {
   "cell_type": "code",
   "execution_count": null,
   "metadata": {},
   "outputs": [],
   "source": [
    "plt.hist(heights)\n",
    "plt.title('Height Distribution of US Presidents')\n",
    "plt.xlabel('height (cm)')\n",
    "plt.ylabel('number');"
   ]
  },
  {
   "cell_type": "markdown",
   "metadata": {},
   "source": [
    "这些聚合函数是数据分析的基础工具，后面章节中将深入讨论。"
   ]
  },
  {
   "cell_type": "markdown",
   "metadata": {},
   "source": [
    "### 结束"
   ]
  }
 ],
 "metadata": {
  "anaconda-cloud": {},
  "kernelspec": {
   "display_name": "Python 3",
   "language": "python",
   "name": "python3"
  },
  "language_info": {
   "codemirror_mode": {
    "name": "ipython",
    "version": 3
   },
   "file_extension": ".py",
   "mimetype": "text/x-python",
   "name": "python",
   "nbconvert_exporter": "python",
   "pygments_lexer": "ipython3",
   "version": "3.6.4"
  }
 },
 "nbformat": 4,
 "nbformat_minor": 1
}
