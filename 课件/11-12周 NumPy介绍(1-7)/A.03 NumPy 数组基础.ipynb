{
 "cells": [
  {
   "cell_type": "markdown",
   "metadata": {},
   "source": [
    "# 3、NumPy 数组基础"
   ]
  },
  {
   "cell_type": "markdown",
   "metadata": {},
   "source": [
    "### 3.1  本节要点 —— 用实例讨论 NumPy 数组处理\n",
    "\n",
    "- 访问数据和子数组\n",
    "- 分割、重构(reshape)、合成(join)\n",
    "\n",
    "\n",
    "#### 涉及一些新型数组操作\n",
    "\n",
    "- *数组属性*： 确定 size、shape、内存开销(memory consumption)及数据类型\n",
    "- *数组索引*： 获得/设置 数组元素值\n",
    "- *数组的切片*： 获得/设置 小数组\n",
    "- *重构数组*： 改变已知数组的构型(shape)\n",
    "- *合成与分割*： 多合一、一分多"
   ]
  },
  {
   "cell_type": "markdown",
   "metadata": {},
   "source": [
    "### 3.2   NumPy 数组属性"
   ]
  },
  {
   "cell_type": "markdown",
   "metadata": {},
   "source": [
    "####  示例 —— 生成随机数组\n",
    "\n",
    "- 三个随机数组，分别是一、二、三维\n",
    "- 使用随机数生成器，预置随机种子"
   ]
  },
  {
   "cell_type": "code",
   "execution_count": null,
   "metadata": {},
   "outputs": [],
   "source": [
    "import numpy as np\n",
    "\n",
    "np.random.seed(1234567)  # 随机种子，便于重复生成\n",
    "\n",
    "x1 = np.random.randint(10, size=6)  # 一维数组\n",
    "x2 = np.random.randint(10, size=(3, 4))  # 二维数组\n",
    "x1"
   ]
  },
  {
   "cell_type": "markdown",
   "metadata": {},
   "source": [
    "#### 数组属性 —— ndim、shape、size\n",
    "\n",
    "- ``ndim`` —— 维数\n",
    "- ``shape`` —— 每一维的元素数\n",
    "- ``size`` —— 数组元素总数"
   ]
  },
  {
   "cell_type": "code",
   "execution_count": null,
   "metadata": {},
   "outputs": [],
   "source": [
    "x3 = np.random.randint(10, size=(3, 4, 5))  # 三维数组\n",
    "print(\"x3 =:\", x3)\n",
    "print(\"x3 ndim: \", x3.ndim)\n",
    "print(\"x3 shape:\", x3.shape)\n",
    "print(\"x3 size: \", x3.size)\n",
    "x3"
   ]
  },
  {
   "cell_type": "markdown",
   "metadata": {},
   "source": [
    "#### 数组属性 —— dtype\n",
    "\n",
    "- ``dtype`` —— 数据类型"
   ]
  },
  {
   "cell_type": "code",
   "execution_count": null,
   "metadata": {},
   "outputs": [],
   "source": [
    "print(\"dtype:\", x3.dtype)"
   ]
  },
  {
   "cell_type": "markdown",
   "metadata": {},
   "source": [
    "#### 数组属性 —— itemsize、nbytes\n",
    "\n",
    "- ``itemsize`` —— 单个元素的字节数\n",
    "- ``nbytes`` —— 总字节数"
   ]
  },
  {
   "cell_type": "code",
   "execution_count": null,
   "metadata": {},
   "outputs": [],
   "source": [
    "print(\"itemsize:\", x3.itemsize, \"bytes\")\n",
    "print(\"nbytes:\", x3.nbytes, \"bytes\")"
   ]
  },
  {
   "cell_type": "markdown",
   "metadata": {},
   "source": [
    "通常情况下\n",
    "$$nbytes=itemsize \\times size$$"
   ]
  },
  {
   "cell_type": "markdown",
   "metadata": {},
   "source": [
    "### 3.4   数组索引：访问单个元素\n",
    "\n",
    "与标准 Python 列表访问方式类似\n",
    "\n",
    "- 使用方括号\n",
    "- 首元素从0开始索引"
   ]
  },
  {
   "cell_type": "code",
   "execution_count": null,
   "metadata": {},
   "outputs": [],
   "source": [
    "x1"
   ]
  },
  {
   "cell_type": "code",
   "execution_count": null,
   "metadata": {},
   "outputs": [],
   "source": [
    "x1[0], x1[4]"
   ]
  },
  {
   "cell_type": "markdown",
   "metadata": {},
   "source": [
    "- 使用负索引值，末元素索引 -1"
   ]
  },
  {
   "cell_type": "code",
   "execution_count": null,
   "metadata": {},
   "outputs": [],
   "source": [
    "x1[-1]"
   ]
  },
  {
   "cell_type": "code",
   "execution_count": null,
   "metadata": {},
   "outputs": [],
   "source": [
    "x1[-2]"
   ]
  },
  {
   "cell_type": "markdown",
   "metadata": {},
   "source": [
    "访问多维数组元素\n",
    "- 使用索引元组"
   ]
  },
  {
   "cell_type": "code",
   "execution_count": null,
   "metadata": {},
   "outputs": [],
   "source": [
    "x2"
   ]
  },
  {
   "cell_type": "code",
   "execution_count": null,
   "metadata": {},
   "outputs": [],
   "source": [
    "x2[0, 0]"
   ]
  },
  {
   "cell_type": "code",
   "execution_count": null,
   "metadata": {},
   "outputs": [],
   "source": [
    "x2[2, 0]"
   ]
  },
  {
   "cell_type": "code",
   "execution_count": null,
   "metadata": {},
   "outputs": [],
   "source": [
    "x2[2, -1]"
   ]
  },
  {
   "cell_type": "markdown",
   "metadata": {},
   "source": [
    "修改元素值"
   ]
  },
  {
   "cell_type": "code",
   "execution_count": null,
   "metadata": {},
   "outputs": [],
   "source": [
    "x2[0][0] = 12\n",
    "x2"
   ]
  },
  {
   "cell_type": "markdown",
   "metadata": {},
   "source": [
    "#### 牢记\n",
    "\n",
    "- <font color=\"red\">不同于 Python 列表，NumPy 数组的类型固定</font>\n",
    "\n",
    "注意下例，试图在整数数组中插入一浮点数元素，元素值中的小数部分被无声息的截去！不易发现！！！"
   ]
  },
  {
   "cell_type": "code",
   "execution_count": null,
   "metadata": {},
   "outputs": [],
   "source": [
    "x1[0] = 3.14159  # this will be truncated!\n",
    "x1"
   ]
  },
  {
   "cell_type": "markdown",
   "metadata": {},
   "source": [
    "### 3.5   数组切片 —— 访问子数组"
   ]
  },
  {
   "cell_type": "markdown",
   "metadata": {},
   "source": [
    "- 切片，使用冒号标记\n",
    "- 沿用标准 Python 列表的切片操作\n",
    "\n",
    "``` python\n",
    "x[start:stop:step]\n",
    "```\n",
    "如果有省略时，缺省值为：``start=0``, ``stop=``*``size of dimension``*, ``step=1``"
   ]
  },
  {
   "cell_type": "markdown",
   "metadata": {},
   "source": [
    "#### 一维子数组切片"
   ]
  },
  {
   "cell_type": "code",
   "execution_count": null,
   "metadata": {},
   "outputs": [],
   "source": [
    "x = np.arange(10)\n",
    "x"
   ]
  },
  {
   "cell_type": "code",
   "execution_count": null,
   "metadata": {},
   "outputs": [],
   "source": [
    "x[:5]  # 前五个元素"
   ]
  },
  {
   "cell_type": "code",
   "execution_count": null,
   "metadata": {},
   "outputs": [],
   "source": [
    "x[5:]  # 索引5之后的元素"
   ]
  },
  {
   "cell_type": "code",
   "execution_count": null,
   "metadata": {},
   "outputs": [],
   "source": [
    "x[4:7]  # 子数组"
   ]
  },
  {
   "cell_type": "code",
   "execution_count": null,
   "metadata": {},
   "outputs": [],
   "source": [
    "x[::2]  # 隔一个元素，从0索引开始"
   ]
  },
  {
   "cell_type": "code",
   "execution_count": null,
   "metadata": {},
   "outputs": [],
   "source": [
    "x[1::2]  # 隔一个元素，从1索引开始"
   ]
  },
  {
   "cell_type": "markdown",
   "metadata": {},
   "source": [
    "####  困惑：``step``为负值\n",
    "\n",
    "- ``start``和``stop``的缺省值交换\n",
    "- 倒置数组的可靠方法"
   ]
  },
  {
   "cell_type": "code",
   "execution_count": null,
   "metadata": {},
   "outputs": [],
   "source": [
    "x[::-1]  # 逆序 all elements, reversed"
   ]
  },
  {
   "cell_type": "code",
   "execution_count": null,
   "metadata": {},
   "outputs": [],
   "source": [
    "x[5::-2]  # 从5开始，每隔一元素，逆序(reversed every other from index 5)"
   ]
  },
  {
   "cell_type": "markdown",
   "metadata": {},
   "source": [
    "#### 多维子数组切片\n",
    "\n",
    "- 多个切片用逗号分隔"
   ]
  },
  {
   "cell_type": "code",
   "execution_count": null,
   "metadata": {},
   "outputs": [],
   "source": [
    "x2"
   ]
  },
  {
   "cell_type": "code",
   "execution_count": null,
   "metadata": {},
   "outputs": [],
   "source": [
    "x2[:2, :3]  # 2行、3列"
   ]
  },
  {
   "cell_type": "code",
   "execution_count": null,
   "metadata": {},
   "outputs": [],
   "source": [
    "x2[:3, ::2]  # 所有行，隔列(all rows, every other column)"
   ]
  },
  {
   "cell_type": "markdown",
   "metadata": {},
   "source": [
    "子数组可按所有维倒置"
   ]
  },
  {
   "cell_type": "code",
   "execution_count": null,
   "metadata": {},
   "outputs": [],
   "source": [
    "x2[::-1, ::-1]"
   ]
  },
  {
   "cell_type": "markdown",
   "metadata": {},
   "source": [
    "#### 访问数组的行和列\n",
    "\n",
    "- 结合索引和分片技巧\n",
    "- 采用空分片（即单个冒号）"
   ]
  },
  {
   "cell_type": "code",
   "execution_count": null,
   "metadata": {},
   "outputs": [],
   "source": [
    "print(x2[:, 0])  # x2的首列（first column of x2）"
   ]
  },
  {
   "cell_type": "code",
   "execution_count": null,
   "metadata": {},
   "outputs": [],
   "source": [
    "print(x2[0, :])  # x2的首行"
   ]
  },
  {
   "cell_type": "markdown",
   "metadata": {},
   "source": [
    "如果是访问行，空切片可以省略，得到更紧凑的形式"
   ]
  },
  {
   "cell_type": "code",
   "execution_count": null,
   "metadata": {},
   "outputs": [],
   "source": [
    "print(x2[0])  # 等价于 x2[0, :]"
   ]
  },
  {
   "cell_type": "markdown",
   "metadata": {},
   "source": [
    "### 3.6  子数组 —— 非拷贝视\n",
    "\n",
    "- <font color=\"red\">数组切片返回数据的视(views)，而不是拷贝(copies)</font>\n",
    "- 而对于 Python 列表，切片返回的是拷贝"
   ]
  },
  {
   "cell_type": "code",
   "execution_count": null,
   "metadata": {},
   "outputs": [],
   "source": [
    "print(x2)"
   ]
  },
  {
   "cell_type": "markdown",
   "metadata": {},
   "source": [
    "提取一 $2\\times 2$ 子数组"
   ]
  },
  {
   "cell_type": "code",
   "execution_count": null,
   "metadata": {},
   "outputs": [],
   "source": [
    "x2_sub = x2[:2, :2]\n",
    "print(x2_sub)"
   ]
  },
  {
   "cell_type": "markdown",
   "metadata": {},
   "source": [
    "现在，修改子数组，发现原数组也变化了。"
   ]
  },
  {
   "cell_type": "code",
   "execution_count": null,
   "metadata": {
    "scrolled": true
   },
   "outputs": [],
   "source": [
    "x2_sub[0, 0] = 99\n",
    "print(x2_sub)"
   ]
  },
  {
   "cell_type": "code",
   "execution_count": null,
   "metadata": {},
   "outputs": [],
   "source": [
    "print(x2)"
   ]
  },
  {
   "cell_type": "markdown",
   "metadata": {},
   "source": [
    "#### <font color=\"red\">值得关注的性质 —— 大型数组允许操作其局部子部分</font>\n",
    "\n",
    "- 当操作大型数据集中的一部分时，可以访问或是处理其中的切片"
   ]
  },
  {
   "cell_type": "markdown",
   "metadata": {},
   "source": [
    "### 3.7 创建数组的拷贝\n",
    "\n",
    "- 数组视具有良好的特性\n",
    "- 有时，也希望显式拷贝数组或子数组中的数据\n",
    "\n",
    "可以利用``copy()``方法"
   ]
  },
  {
   "cell_type": "markdown",
   "metadata": {},
   "source": [
    "####  浅拷贝 —— 调用拷贝方法"
   ]
  },
  {
   "cell_type": "code",
   "execution_count": null,
   "metadata": {},
   "outputs": [],
   "source": [
    "x2_sub_copy = x2[:2, :2].copy()\n",
    "print(x2_sub_copy)"
   ]
  },
  {
   "cell_type": "markdown",
   "metadata": {},
   "source": [
    "如果修改该子数组，对原数组没有影响"
   ]
  },
  {
   "cell_type": "code",
   "execution_count": null,
   "metadata": {},
   "outputs": [],
   "source": [
    "x2_sub_copy[0, 0] = 42\n",
    "print(x2_sub_copy)"
   ]
  },
  {
   "cell_type": "code",
   "execution_count": null,
   "metadata": {},
   "outputs": [],
   "source": [
    "print(x2)"
   ]
  },
  {
   "cell_type": "markdown",
   "metadata": {},
   "source": [
    "#### 示例 —— 关于引用、浅拷贝和深拷贝的例子"
   ]
  },
  {
   "cell_type": "code",
   "execution_count": null,
   "metadata": {},
   "outputs": [],
   "source": [
    "import copy\n",
    "a = [1, 2, 3, 4, ['a', 'b', 'c']]\n",
    "b = a                  # 引用\n",
    "c = copy.copy(a)       # 浅拷贝\n",
    "d = copy.deepcopy(a)   # 深拷贝\n",
    "\n",
    "a[3]=5\n",
    "b[3]=6\n",
    "c[3]=7\n",
    "d[3]=8\n",
    "\n",
    "a.append(5) \n",
    "b.append(6) \n",
    "c.append(7) \n",
    "d.append(8) \n",
    "a[4].append('a hello') \n",
    "b[4].append('b hello') \n",
    "c[4].append('c hello') \n",
    "d[4].append('d hello') "
   ]
  },
  {
   "cell_type": "markdown",
   "metadata": {},
   "source": [
    "#### 观察几个数组的变化"
   ]
  },
  {
   "cell_type": "code",
   "execution_count": null,
   "metadata": {},
   "outputs": [],
   "source": [
    "print (\"a=\",a)\n",
    "print (\"b=\",b)\n",
    "print (\"c=\",c)\n",
    "print (\"d=\",d)"
   ]
  },
  {
   "cell_type": "code",
   "execution_count": null,
   "metadata": {},
   "outputs": [],
   "source": [
    "print (\"id_a=\",id(a))\n",
    "print (\"id_b=\",id(b))\n",
    "print (\"id_c=\",id(c))\n",
    "print (\"id_d=\",id(d))"
   ]
  },
  {
   "cell_type": "code",
   "execution_count": null,
   "metadata": {},
   "outputs": [],
   "source": [
    "for i in range(5):print(\"id([\",i,\"])=\", id(a[i]), id(b[i]), id(c[i]), id(d[i]))"
   ]
  },
  {
   "cell_type": "code",
   "execution_count": null,
   "metadata": {},
   "outputs": [],
   "source": [
    "print(\"id=\", id(a), id(b), id(c), id(d))"
   ]
  },
  {
   "cell_type": "markdown",
   "metadata": {},
   "source": [
    "### 3.8   数组维度重构\n",
    "\n",
    "- 使用``reshape``方法\n",
    "\n",
    "例如, 将1～9九个整数依次放入$3 \\times 3$阵列"
   ]
  },
  {
   "cell_type": "code",
   "execution_count": null,
   "metadata": {},
   "outputs": [],
   "source": [
    "grid = np.arange(1, 10).reshape((3, 3))\n",
    "print(grid)"
   ]
  },
  {
   "cell_type": "markdown",
   "metadata": {},
   "source": [
    "#### 注意\n",
    "\n",
    "- 前后的数组size必须匹配\n",
    "- 只要可能，``reshape``将采用非拷贝视，不过对于存放在非连续内存区的数组，就不再遵守这一规则\n",
    "\n",
    "- 通常，重构模式是一维数组转换成二维矩阵\n",
    "- 可以用``reshape``方法，或更容易地在切片操作中采用``newaxis``关键字"
   ]
  },
  {
   "cell_type": "code",
   "execution_count": null,
   "metadata": {},
   "outputs": [],
   "source": [
    "import numpy as np"
   ]
  },
  {
   "cell_type": "code",
   "execution_count": null,
   "metadata": {},
   "outputs": [],
   "source": [
    "x = np.array([1, 2, 3])\n",
    "x"
   ]
  },
  {
   "cell_type": "code",
   "execution_count": null,
   "metadata": {},
   "outputs": [],
   "source": [
    "# 重构行向量(row vector via reshape)\n",
    "x.reshape((1, 3))"
   ]
  },
  {
   "cell_type": "code",
   "execution_count": null,
   "metadata": {},
   "outputs": [],
   "source": [
    "# 通过 newaxis 化为行向量\n",
    "x[np.newaxis, :]"
   ]
  },
  {
   "cell_type": "code",
   "execution_count": null,
   "metadata": {},
   "outputs": [],
   "source": [
    "# 通过 newaxis 化为死向量\n",
    "x.reshape((3, 1))"
   ]
  },
  {
   "cell_type": "code",
   "execution_count": null,
   "metadata": {},
   "outputs": [],
   "source": [
    "x"
   ]
  },
  {
   "cell_type": "code",
   "execution_count": null,
   "metadata": {},
   "outputs": [],
   "source": [
    "# 通过 newaxis，化为列向量\n",
    "x[:, np.newaxis]"
   ]
  },
  {
   "cell_type": "markdown",
   "metadata": {},
   "source": [
    "### 3.9  数组连接和分割\n",
    "\n",
    "前述操作是对单个数组，有时，可能要做\n",
    "\n",
    "- 连接：多合一\n",
    "- 分割：一分多"
   ]
  },
  {
   "cell_type": "markdown",
   "metadata": {},
   "source": [
    "#### 函数 —— 用于数组的连接\n",
    "\n",
    "连接操作要用到下列函数\n",
    "\n",
    "- ``np.concatenate``\n",
    "- ``np.vstack``\n",
    "- ``np.hstack``"
   ]
  },
  {
   "cell_type": "markdown",
   "metadata": {},
   "source": [
    "#### 函数 np.concatenate 及其调用参数\n",
    "\n",
    "``np.concatenate``用一个数组元组或列表做为第一个调用参数"
   ]
  },
  {
   "cell_type": "code",
   "execution_count": null,
   "metadata": {},
   "outputs": [],
   "source": [
    "x = np.array([1, 2, 3])\n",
    "y = np.array([3, 2, 1])\n",
    "np.concatenate([x, y])"
   ]
  },
  {
   "cell_type": "markdown",
   "metadata": {},
   "source": [
    "#### 连接多于2个数组"
   ]
  },
  {
   "cell_type": "code",
   "execution_count": null,
   "metadata": {},
   "outputs": [],
   "source": [
    "z = [99, 99, 99]\n",
    "print(np.concatenate([x, y, z]))"
   ]
  },
  {
   "cell_type": "markdown",
   "metadata": {},
   "source": [
    "#### 二维数组的连接"
   ]
  },
  {
   "cell_type": "code",
   "execution_count": null,
   "metadata": {},
   "outputs": [],
   "source": [
    "grid = np.array([[1, 2, 3],\n",
    "                 [4, 5, 6]])\n",
    "grid"
   ]
  },
  {
   "cell_type": "code",
   "execution_count": null,
   "metadata": {},
   "outputs": [],
   "source": [
    "# 沿第一个轴连接\n",
    "np.concatenate([grid, grid])"
   ]
  },
  {
   "cell_type": "code",
   "execution_count": null,
   "metadata": {},
   "outputs": [],
   "source": [
    "# 沿第二个轴（索引值始于0）连接\n",
    "np.concatenate([grid, grid], axis=1)"
   ]
  },
  {
   "cell_type": "markdown",
   "metadata": {},
   "source": [
    "#### 堆集函数\n",
    "\n",
    "对于固定维度的数组，使用堆集函数\n",
    "- 竖向堆集``np.vstack`` (vertical stack)\n",
    "- 横向堆集``np.hstack`` (horizontal stack)\n",
    "\n",
    "可以表示得更清楚"
   ]
  },
  {
   "cell_type": "code",
   "execution_count": null,
   "metadata": {},
   "outputs": [],
   "source": [
    "x = np.array([1, 2, 3])\n",
    "grid = np.array([[9, 8, 7],\n",
    "                 [6, 5, 4]])\n",
    "\n",
    "# 数组的竖向堆集\n",
    "np.vstack([x, grid])"
   ]
  },
  {
   "cell_type": "code",
   "execution_count": null,
   "metadata": {},
   "outputs": [],
   "source": [
    "# 数组的横向堆集\n",
    "y = np.array([[99],\n",
    "              [99]])\n",
    "np.hstack([grid, y])"
   ]
  },
  {
   "cell_type": "markdown",
   "metadata": {},
   "source": [
    "类似地\n",
    "- ``np.dstack``将沿第三轴进行堆集"
   ]
  },
  {
   "cell_type": "markdown",
   "metadata": {},
   "source": [
    "#### 分割数组\n",
    "\n",
    "连接的反向操作是分割，利用的函数有\n",
    "\n",
    "- ``np.split``\n",
    "- ``np.hsplit``\n",
    "- ``np.vsplit``\n",
    "\n",
    "每种方法，都要传递下标列表做为调用参数"
   ]
  },
  {
   "cell_type": "code",
   "execution_count": null,
   "metadata": {},
   "outputs": [],
   "source": [
    "x = [1, 2, 3, 99, 99, 3, 2, 1]\n",
    "x1, x2, x3 = np.split(x, [3, 7])\n",
    "print(x1, x2, x3)"
   ]
  },
  {
   "cell_type": "markdown",
   "metadata": {},
   "source": [
    "#### 分割数组的注意要点\n",
    "\n",
    "- *N* 个分割点，生成 *N+1* 个子数组\n",
    "- 函数``np.hsplit``和``np.vsplit``的操作方式类似，方向不同"
   ]
  },
  {
   "cell_type": "code",
   "execution_count": null,
   "metadata": {},
   "outputs": [],
   "source": [
    "grid = np.arange(16).reshape((4, 4))\n",
    "grid"
   ]
  },
  {
   "cell_type": "code",
   "execution_count": null,
   "metadata": {},
   "outputs": [],
   "source": [
    "upper, lower = np.vsplit(grid, [2])\n",
    "print(upper)\n",
    "print(lower)"
   ]
  },
  {
   "cell_type": "code",
   "execution_count": null,
   "metadata": {},
   "outputs": [],
   "source": [
    "left, right = np.hsplit(grid, [2])\n",
    "print(left)\n",
    "print(right)"
   ]
  },
  {
   "cell_type": "markdown",
   "metadata": {},
   "source": [
    "类似地,``np.dsplit``将沿第三轴分割数组"
   ]
  },
  {
   "cell_type": "markdown",
   "metadata": {},
   "source": [
    "### 结束"
   ]
  }
 ],
 "metadata": {
  "anaconda-cloud": {},
  "kernelspec": {
   "display_name": "Python 3",
   "language": "python",
   "name": "python3"
  },
  "language_info": {
   "codemirror_mode": {
    "name": "ipython",
    "version": 3
   },
   "file_extension": ".py",
   "mimetype": "text/x-python",
   "name": "python",
   "nbconvert_exporter": "python",
   "pygments_lexer": "ipython3",
   "version": "3.6.5"
  }
 },
 "nbformat": 4,
 "nbformat_minor": 1
}
