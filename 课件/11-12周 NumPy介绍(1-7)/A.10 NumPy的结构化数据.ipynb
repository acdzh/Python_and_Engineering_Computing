{
 "cells": [
  {
   "cell_type": "markdown",
   "metadata": {},
   "source": [
    "# A.10 NumPy的结构化数据"
   ]
  },
  {
   "cell_type": "markdown",
   "metadata": {},
   "source": [
    "### 10.1 引言\n",
    "\n",
    "- 问题 —— NumPy 处理结构化数据（混合、异质）\n",
    "\n",
    "    - 结构化数组\n",
    "    - 记录数组\n",
    "\n",
    "\n",
    "- 参考 —— Pandas 数据\n",
    "\n",
    "    - Dataframe\n",
    "    - TimeSeries"
   ]
  },
  {
   "cell_type": "code",
   "execution_count": 1,
   "metadata": {},
   "outputs": [],
   "source": [
    "import numpy as np"
   ]
  },
  {
   "cell_type": "markdown",
   "metadata": {},
   "source": [
    "### 10.2  实例 —— 关于人的多种类数据\n",
    "\n",
    "- 姓名\n",
    "- 年龄\n",
    "- 体重\n",
    "\n",
    "可采用三个不同的数组"
   ]
  },
  {
   "cell_type": "code",
   "execution_count": 2,
   "metadata": {},
   "outputs": [],
   "source": [
    "name = ['Alice', 'Bob', 'Cathy', 'Doug']\n",
    "age = [25, 45, 37, 19]\n",
    "weight = [55.0, 85.5, 68.0, 61.5]"
   ]
  },
  {
   "cell_type": "markdown",
   "metadata": {},
   "source": [
    "#### 评价\n",
    "\n",
    "- 上述方式 —— 笨拙，三个数组缺少关联\n",
    "- 改进方式 —— 用一个结构存贮所有数据"
   ]
  },
  {
   "cell_type": "markdown",
   "metadata": {},
   "source": [
    "#### NumPy 提供的结构化类型\n",
    "\n",
    "- 专门用于复合型数据"
   ]
  },
  {
   "cell_type": "markdown",
   "metadata": {},
   "source": [
    "#### 注意下例中的 ``dtype``"
   ]
  },
  {
   "cell_type": "code",
   "execution_count": 3,
   "metadata": {},
   "outputs": [
    {
     "data": {
      "text/plain": [
       "array([0, 0, 0, 0])"
      ]
     },
     "execution_count": 3,
     "metadata": {},
     "output_type": "execute_result"
    }
   ],
   "source": [
    "x = np.zeros(4, dtype=int)\n",
    "x"
   ]
  },
  {
   "cell_type": "markdown",
   "metadata": {},
   "source": [
    "#### 使用复合数据类型\n",
    "\n",
    "- 创建结构化数组\n",
    "- 注意 zeros 函数的作用"
   ]
  },
  {
   "cell_type": "code",
   "execution_count": 4,
   "metadata": {},
   "outputs": [
    {
     "name": "stdout",
     "output_type": "stream",
     "text": [
      "data.dtype\n",
      " [('name', '<U10'), ('age', '<i4'), ('weight', '<f8')]\n",
      "data\n",
      " [('', 0, 0.) ('', 0, 0.) ('', 0, 0.) ('', 0, 0.)]\n"
     ]
    }
   ],
   "source": [
    "data = np.zeros(4, dtype={'names':('name', 'age', 'weight'),\n",
    "                          'formats':('U10', 'i4', 'f8')})\n",
    "print(\"data.dtype\\n\", data.dtype)\n",
    "print(\"data\\n\",data)"
   ]
  },
  {
   "cell_type": "markdown",
   "metadata": {},
   "source": [
    "#### 说明 —— 数据结构\n",
    "\n",
    "- ``'U10'`` 指“最大长度10的 Unicode 字符串”\n",
    "- ``'i4'`` 指“4字节（即32位）整数”\n",
    "- ``'f8'`` 指“8字节（即64位）浮点数”\n",
    "\n",
    "现在创建了一空容器数组，可以用列表来填充数组"
   ]
  },
  {
   "cell_type": "code",
   "execution_count": 5,
   "metadata": {},
   "outputs": [
    {
     "name": "stdout",
     "output_type": "stream",
     "text": [
      "data\n",
      " [('Alice', 25, 55. ) ('Bob', 45, 85.5) ('Cathy', 37, 68. )\n",
      " ('Doug', 19, 61.5)]\n"
     ]
    }
   ],
   "source": [
    "data['name'] = name\n",
    "data['age'] = age\n",
    "data['weight'] = weight\n",
    "\n",
    "print(\"data\\n\", data)"
   ]
  },
  {
   "cell_type": "markdown",
   "metadata": {},
   "source": [
    "#### 复合之后\n",
    "\n",
    "- 数据现在整合在了一起\n",
    "- 结构化数组使得可以通过索引或名称来引用元素值"
   ]
  },
  {
   "cell_type": "code",
   "execution_count": 6,
   "metadata": {},
   "outputs": [
    {
     "data": {
      "text/plain": [
       "array(['Alice', 'Bob', 'Cathy', 'Doug'], dtype='<U10')"
      ]
     },
     "execution_count": 6,
     "metadata": {},
     "output_type": "execute_result"
    }
   ],
   "source": [
    "# 获得所有名称\n",
    "data['name']"
   ]
  },
  {
   "cell_type": "code",
   "execution_count": 7,
   "metadata": {},
   "outputs": [
    {
     "data": {
      "text/plain": [
       "('Alice', 25, 55.)"
      ]
     },
     "execution_count": 7,
     "metadata": {},
     "output_type": "execute_result"
    }
   ],
   "source": [
    "# 获得首条数据(记录)\n",
    "data[0]"
   ]
  },
  {
   "cell_type": "code",
   "execution_count": 8,
   "metadata": {},
   "outputs": [
    {
     "data": {
      "text/plain": [
       "'Doug'"
      ]
     },
     "execution_count": 8,
     "metadata": {},
     "output_type": "execute_result"
    }
   ],
   "source": [
    "# 获得末行名称\n",
    "data[-1]['name']"
   ]
  },
  {
   "cell_type": "markdown",
   "metadata": {},
   "source": [
    "#### 布尔掩码 —— 更复杂的操作\n",
    "\n",
    "- 如过滤等"
   ]
  },
  {
   "cell_type": "code",
   "execution_count": 15,
   "metadata": {},
   "outputs": [
    {
     "data": {
      "text/plain": [
       "array(['Alice', 'Doug'], dtype='<U10')"
      ]
     },
     "execution_count": 15,
     "metadata": {},
     "output_type": "execute_result"
    }
   ],
   "source": [
    "# 获得年龄小于 30 的人名\n",
    "data[data['age'] < 30]['name']"
   ]
  },
  {
   "cell_type": "markdown",
   "metadata": {},
   "source": [
    "### 10.3 与 Pandas 相结合\n",
    "\n",
    "- 考虑使用 Pandas 包\n",
    "- Pandas 的 ``Dataframe`` 对象"
   ]
  },
  {
   "cell_type": "markdown",
   "metadata": {},
   "source": [
    "#### 创建结构化数组\n",
    "\n",
    "结构化数组的数据类型可有许多方式来指定\n",
    "\n",
    "- 字典方法(早期用)"
   ]
  },
  {
   "cell_type": "code",
   "execution_count": 10,
   "metadata": {},
   "outputs": [
    {
     "data": {
      "text/plain": [
       "dtype([('name', '<U10'), ('age', '<i4'), ('weight', '<f8')])"
      ]
     },
     "execution_count": 10,
     "metadata": {},
     "output_type": "execute_result"
    }
   ],
   "source": [
    "np.dtype({'names':('name', 'age', 'weight'),\n",
    "          'formats':('U10', 'i4', 'f8')})"
   ]
  },
  {
   "cell_type": "markdown",
   "metadata": {},
   "source": [
    "#### 使用``dtype``关键字\n",
    "\n",
    "为了表述清楚，数值类型可采用\n",
    "\n",
    "- Python 类型\n",
    "\n",
    "或\n",
    "\n",
    "- NumPy 的``dtype``类型\n",
    "\n",
    "来指明"
   ]
  },
  {
   "cell_type": "code",
   "execution_count": 11,
   "metadata": {},
   "outputs": [
    {
     "data": {
      "text/plain": [
       "dtype([('name', '<U10'), ('age', '<i4'), ('weight', '<f4')])"
      ]
     },
     "execution_count": 11,
     "metadata": {},
     "output_type": "execute_result"
    }
   ],
   "source": [
    "np.dtype({'names':('name', 'age', 'weight'),\n",
    "          'formats':((np.str_, 10), int, np.float32)})"
   ]
  },
  {
   "cell_type": "markdown",
   "metadata": {},
   "source": [
    "- 元组列表 —— 指定复合类型"
   ]
  },
  {
   "cell_type": "code",
   "execution_count": 12,
   "metadata": {},
   "outputs": [
    {
     "data": {
      "text/plain": [
       "dtype([('name', 'S10'), ('age', '<i4'), ('weight', '<f8')])"
      ]
     },
     "execution_count": 12,
     "metadata": {},
     "output_type": "execute_result"
    }
   ],
   "source": [
    "np.dtype([('name', 'S10'), ('age', 'i4'), ('weight', 'f8')])"
   ]
  },
  {
   "cell_type": "markdown",
   "metadata": {},
   "source": [
    "- 逗号分隔的字符串 —— 指定复合类型"
   ]
  },
  {
   "cell_type": "code",
   "execution_count": 13,
   "metadata": {},
   "outputs": [
    {
     "data": {
      "text/plain": [
       "dtype([('f0', 'S10'), ('f1', '<i4'), ('f2', '<f8')])"
      ]
     },
     "execution_count": 13,
     "metadata": {},
     "output_type": "execute_result"
    }
   ],
   "source": [
    "np.dtype('S10,i4,f8')"
   ]
  },
  {
   "cell_type": "markdown",
   "metadata": {},
   "source": [
    "### 10.4 数据类型定义的原则\n",
    "\n",
    "缩短了的字符格式代码容易引起困惑，不过总有一些原则遵循\n",
    "\n",
    "- 第一个（可选）字符是``<``或``>``，分别表示\"little endian\"或\"big endian\"\n",
    "- 下一个字符指定数据类型：字符、字节、整型、浮点型等（见下表）\n",
    "- 最后一个（或多个）字符表示对象占用的字节数\n",
    "\n",
    "| 字符        | 描述           | 示例                             |\n",
    "| ---------        | -----------           | -------                             | \n",
    "| ``'b'``          | Byte                  | ``np.dtype('b')``                   |\n",
    "| ``'i'``          | Signed integer        | ``np.dtype('i4') == np.int32``      |\n",
    "| ``'u'``          | Unsigned integer      | ``np.dtype('u1') == np.uint8``      |\n",
    "| ``'f'``          | Floating point        | ``np.dtype('f8') == np.int64``      |\n",
    "| ``'c'``          | Complex floating point| ``np.dtype('c16') == np.complex128``|\n",
    "| ``'S'``, ``'a'`` | String                | ``np.dtype('S5')``                  |\n",
    "| ``'U'``          | Unicode string        | ``np.dtype('U') == np.str_``        |\n",
    "| ``'V'``          | Raw data (void)       | ``np.dtype('V') == np.void``        |"
   ]
  },
  {
   "cell_type": "markdown",
   "metadata": {},
   "source": [
    "### 10.5 更高级的复合类型\n",
    "\n",
    "- 有可能定义更高级的复合类型，如某复合类型的每个元素是一个数组或矩阵\n",
    "\n",
    "如下例，创建一个带``mat``组件由$3\\times 3$浮点矩阵构成的数据类型"
   ]
  },
  {
   "cell_type": "code",
   "execution_count": 16,
   "metadata": {},
   "outputs": [
    {
     "name": "stdout",
     "output_type": "stream",
     "text": [
      "(0, [[0., 0., 0.], [0., 0., 0.], [0., 0., 0.]])\n",
      "[[0. 0. 0.]\n",
      " [0. 0. 0.]\n",
      " [0. 0. 0.]]\n"
     ]
    }
   ],
   "source": [
    "tp = np.dtype([('id', 'i8'), ('mat', 'f8', (3, 3))])\n",
    "X = np.zeros(1, dtype=tp)\n",
    "print(X[0])\n",
    "print(X['mat'][0])"
   ]
  },
  {
   "cell_type": "markdown",
   "metadata": {},
   "source": [
    "#### ``X``数组每一元素的组成成份\n",
    "\n",
    "- ``id``，8位整型\n",
    "- ``mat``，$3\\times 3$ 矩阵\n",
    "\n",
    "#### 为什么这样定义？\n",
    "\n",
    "- NumPy 的 ``dtype`` 直接映射成 C 语言结构定义\n",
    "- 便于通过恰当编写的 C 程序直接访问"
   ]
  },
  {
   "cell_type": "markdown",
   "metadata": {},
   "source": [
    "### 结束"
   ]
  }
 ],
 "metadata": {
  "anaconda-cloud": {},
  "kernelspec": {
   "display_name": "Python 3",
   "language": "python",
   "name": "python3"
  },
  "language_info": {
   "codemirror_mode": {
    "name": "ipython",
    "version": 3
   },
   "file_extension": ".py",
   "mimetype": "text/x-python",
   "name": "python",
   "nbconvert_exporter": "python",
   "pygments_lexer": "ipython3",
   "version": "3.6.4"
  }
 },
 "nbformat": 4,
 "nbformat_minor": 1
}
