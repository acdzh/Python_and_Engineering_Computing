{
 "cells": [
  {
   "cell_type": "markdown",
   "metadata": {},
   "source": [
    "# Matplotlib可视化"
   ]
  },
  {
   "cell_type": "markdown",
   "metadata": {},
   "source": [
    "### 1 Python 可视化工具 —— Matplotlib 包"
   ]
  },
  {
   "cell_type": "markdown",
   "metadata": {},
   "source": [
    "#### 特点简介\n",
    "\n",
    "- 基于 NumPy 数组\n",
    "- 可与 SciPy 协同工作\n",
    "- 多平台\n",
    "- 数据可视化库"
   ]
  },
  {
   "cell_type": "markdown",
   "metadata": {},
   "source": [
    "### 2 通用 Matplotlib 技巧"
   ]
  },
  {
   "cell_type": "markdown",
   "metadata": {},
   "source": [
    "#### 2.1 导入 Matplotlib"
   ]
  },
  {
   "cell_type": "code",
   "execution_count": null,
   "metadata": {},
   "outputs": [],
   "source": [
    "import matplotlib as mpl\n",
    "import matplotlib.pyplot as plt"
   ]
  },
  {
   "cell_type": "markdown",
   "metadata": {},
   "source": [
    "#### 2.2 风格设置\n",
    "\n",
    "- 采用``plt.style``指令为输出图形选择合适的审美风格\n",
    "- 如下，设置成``classic``样式"
   ]
  },
  {
   "cell_type": "code",
   "execution_count": null,
   "metadata": {},
   "outputs": [],
   "source": [
    "plt.style.use('classic')"
   ]
  },
  {
   "cell_type": "markdown",
   "metadata": {},
   "source": [
    "#### 2.3 三种使用 Matplotlib 方法\n",
    "\n",
    "- 脚本\n",
    "- IPython notebook\n",
    "- IPython 终端"
   ]
  },
  {
   "cell_type": "markdown",
   "metadata": {},
   "source": [
    "#### 方法一 —— 从脚本绘图\n",
    "\n",
    "用脚本绘制图时，函数``plt.show()``是关键\n",
    "\n",
    "- ``plt.show()`` 开始一个事件循环，遍历所有激活的图形对象，打开一或多个显示图形的交互窗口\n",
    "\n",
    "例如，假设有以下文件 *myplot.py*\n",
    "\n",
    "```python\n",
    "# ------- file: myplot.py ------\n",
    "import matplotlib.pyplot as plt\n",
    "import numpy as np\n",
    "\n",
    "x = np.linspace(0, 10, 100)\n",
    "\n",
    "plt.plot(x, np.sin(x))\n",
    "plt.plot(x, np.cos(x))\n",
    "\n",
    "plt.show()\n",
    "```\n",
    "\n",
    "从命令行运行，将会生成并显示一个图形窗口\n",
    "\n",
    "```python\n",
    "$ python myplot.py\n",
    "```\n",
    "\n",
    "``plt.show()`` 命令在后台完成许多与系统的交互工作，有关的细节被隐藏起来\n",
    "\n",
    "#### 注意事项\n",
    "\n",
    "- ``plt.show()`` 命令对于每一 Python 对话应只使用一次，而且经常被放在脚本的后部\n",
    "- <font color=\"red\">多次调用``show()``命令可能导致不可预测的情况，应努力避免</font>"
   ]
  },
  {
   "cell_type": "markdown",
   "metadata": {},
   "source": [
    "#### 方法二 —— 从 IPython notebook 绘图\n",
    "\n",
    "- 在 IPython notebook 环境里，首先运行``%matplotlib``命令，可将图形嵌入到 notebook 中\n",
    "- 常用后端选项\n",
    "    - ``%matplotlib inline`` 将图形嵌入到 notebook 中\n",
    "- 其它后端选项\n",
    "    - 运行 `%matplotlib --list` 查询\n",
    "    - Available matplotlib backends: ['tk', 'gtk', 'gtk3', 'wx', 'qt4', 'qt5', 'qt', 'osx', 'nbagg', 'notebook', 'agg', 'inline', 'ipympl', 'widget']\n",
    "    \n",
    "本节，将一般性地选择通用选项``%matplotlib inline`"
   ]
  },
  {
   "cell_type": "markdown",
   "metadata": {},
   "source": [
    "#### 方法三 —— 从 IPython Shell 绘图\n",
    "\n",
    "- 生效该模式，必须一启动 IPython 就运行 ``%matplotlib`` 魔法命令\n",
    "\n",
    "```ipython\n",
    "In [1]: %matplotlib\n",
    "Using matplotlib backend: TkAgg\n",
    "\n",
    "In [2]: import matplotlib.pyplot as plt\n",
    "```\n",
    "- 任意``plt``绘图命令将打开一个图形窗口，随后的命令可更新图形\n",
    "- 图形的变化不会自动画出，要执行``plt.draw()``来强制更新\n",
    "- 在 Matplotlib 环境下，使用``plt.show()``并不是必要的"
   ]
  },
  {
   "cell_type": "markdown",
   "metadata": {},
   "source": [
    "#### 本节重点介绍\n",
    "\n",
    "- 方法二 —— 从 IPython notebook 绘图"
   ]
  },
  {
   "cell_type": "code",
   "execution_count": null,
   "metadata": {},
   "outputs": [],
   "source": [
    "%matplotlib inline"
   ]
  },
  {
   "cell_type": "markdown",
   "metadata": {},
   "source": [
    "运行该命令后，所有绘图格子运行后都会创建一 plot, 并嵌入一 PNG 图片"
   ]
  },
  {
   "cell_type": "code",
   "execution_count": null,
   "metadata": {},
   "outputs": [],
   "source": [
    "import numpy as np\n",
    "x = np.linspace(0, 6*np.pi, 100)\n",
    "\n",
    "fig = plt.figure()\n",
    "plt.plot(x, np.sin(x), '-')\n",
    "plt.plot(x, np.cos(x), '--');"
   ]
  },
  {
   "cell_type": "markdown",
   "metadata": {},
   "source": [
    "#### 2.4 保存图形文件\n",
    "\n",
    "- 运行``savefig(filename)``命令"
   ]
  },
  {
   "cell_type": "code",
   "execution_count": null,
   "metadata": {},
   "outputs": [],
   "source": [
    "fig.savefig('my_figure.jpg')\n",
    "fig.savefig('my_figure.png')\n",
    "fig.savefig('my_figure.eps')\n",
    "fig.savefig('my_figure.svg')"
   ]
  },
  {
   "cell_type": "code",
   "execution_count": null,
   "metadata": {},
   "outputs": [],
   "source": [
    "!dir my_figure.*"
   ]
  },
  {
   "cell_type": "markdown",
   "metadata": {},
   "source": [
    "#### 2.5 显示图形文件\n",
    "\n",
    "- 使用 IPython 的 Image 对象"
   ]
  },
  {
   "cell_type": "code",
   "execution_count": null,
   "metadata": {},
   "outputs": [],
   "source": [
    "from IPython.display import Image\n",
    "Image('my_figure.png')"
   ]
  },
  {
   "cell_type": "markdown",
   "metadata": {},
   "source": [
    "### 3 两类图形接口\n",
    "\n",
    "- Matlab 风格\n",
    "- 面向对象风格"
   ]
  },
  {
   "cell_type": "markdown",
   "metadata": {},
   "source": [
    "#### 3.1 Matlab 风格\n",
    "\n",
    "- Matplotlib 初衷是为 Matlab 用户设计的，保留了浓厚的 Matlab 风格"
   ]
  },
  {
   "cell_type": "code",
   "execution_count": null,
   "metadata": {},
   "outputs": [],
   "source": [
    "plt.figure()  # 创建画布\n",
    "\n",
    "# 创建多图之子图一，设置坐标轴\n",
    "plt.subplot(2, 1, 1) # (行, 列, 子图号)\n",
    "plt.plot(x, np.sin(x))\n",
    "\n",
    "# 创建多图之子图二，设置坐标轴\n",
    "plt.subplot(2, 1, 2)\n",
    "plt.plot(x, np.cos(x));"
   ]
  },
  {
   "cell_type": "markdown",
   "metadata": {},
   "source": [
    "#### 问题 —— 画完第二个子图后，如何返回前一个子图呢？"
   ]
  },
  {
   "cell_type": "markdown",
   "metadata": {},
   "source": [
    "#### 3.2 面向对象接口\n",
    "\n",
    "- 面向对象接口的绘图函数其实是显式``Figure``和``Axes``对象的方法"
   ]
  },
  {
   "cell_type": "code",
   "execution_count": null,
   "metadata": {},
   "outputs": [],
   "source": [
    "# 先创建多图网格\n",
    "# ax 将是含 2 个坐标轴对象的数组\n",
    "fig, ax = plt.subplots(2)\n",
    "\n",
    "# 对于合适的对象，调用 plot() 方法\n",
    "ax[0].plot(x, np.sin(x))\n",
    "ax[1].plot(x, np.cos(x))"
   ]
  },
  {
   "cell_type": "markdown",
   "metadata": {},
   "source": [
    "#### 3.3 小结\n",
    "\n",
    "- 对于简单图形，不确定使用哪种接口更好\n",
    "- 对于复杂图形，使用面向对象接口更好"
   ]
  },
  {
   "cell_type": "markdown",
   "metadata": {},
   "source": [
    "### 4 简单线图\n",
    "\n",
    "- 绘制函数 $y = f(x)$ 的图形"
   ]
  },
  {
   "cell_type": "markdown",
   "metadata": {},
   "source": [
    "### 4.1 准备工作\n",
    "\n",
    "- 设置 notebook 环境\n",
    "- 导入必须的包\n",
    "\n",
    "```python\n",
    "%matplotlib inline\n",
    "import matplotlib.pyplot as plt\n",
    "plt.style.use('seaborn-whitegrid')\n",
    "import numpy as np\n",
    "```"
   ]
  },
  {
   "cell_type": "markdown",
   "metadata": {},
   "source": [
    "### 4.2 创建图和坐标系\n",
    "\n",
    "- *figure*（``plt.Figure``类的一个实例）是一个包含了坐标系、图形、文本和标签的容器\n",
    "- *axes*（``plt.Axes``类的一个实例）是一个有边界、刻度和标签的框，它包含了画图元素\n",
    "\n",
    "```python\n",
    "fig = plt.figure()\n",
    "ax = plt.axes()\n",
    "```\n",
    "\n",
    "- 坐标系一经建立，就可使用两类接口来画图"
   ]
  },
  {
   "cell_type": "code",
   "execution_count": null,
   "metadata": {},
   "outputs": [],
   "source": [
    "# 如面向对象接口\n",
    "fig = plt.figure()\n",
    "ax = plt.axes()\n",
    "\n",
    "x = np.linspace(0, 2*np.pi, 1000)\n",
    "ax.plot(x, np.sin(x))"
   ]
  },
  {
   "cell_type": "code",
   "execution_count": null,
   "metadata": {},
   "outputs": [],
   "source": [
    "# 或 Matlab 接口\n",
    "plt.plot(x, np.sin(x))"
   ]
  },
  {
   "cell_type": "markdown",
   "metadata": {},
   "source": [
    "可以多次调用plot函数，将多条线画在同一个图中"
   ]
  },
  {
   "cell_type": "code",
   "execution_count": null,
   "metadata": {},
   "outputs": [],
   "source": [
    "plt.plot(x, np.sin(x))\n",
    "plt.plot(x, np.cos(x))"
   ]
  },
  {
   "cell_type": "markdown",
   "metadata": {},
   "source": [
    "### 5 调图"
   ]
  },
  {
   "cell_type": "markdown",
   "metadata": {},
   "source": [
    "#### 5.1 控制线条颜色\n",
    "\n",
    "- 采用 `color` 关键字指定\n",
    "- 颜色缺省情况\n",
    "    - 如果不指定颜色，Matplotlib 将自动对多条曲线循环使用缺省颜色"
   ]
  },
  {
   "cell_type": "code",
   "execution_count": null,
   "metadata": {},
   "outputs": [],
   "source": [
    "plt.plot(x, np.sin(x - 0), color='blue')        # 指定蓝色\n",
    "plt.plot(x, np.sin(x - 1), color='g')           # 短色彩码 'g' = 'green' (rgbcmyk)\n",
    "plt.plot(x, np.sin(x - 2), color='0.75')        # 介于 0 和 1 之间的灰色\n",
    "plt.plot(x, np.sin(x - 3), color='#FFDD44')     # 16 进制色码 (RRGGBB 从 00 到 FF)\n",
    "plt.plot(x, np.sin(x - 4), color=(1.0,0.2,0.3)) # RGB 元组，值介于 0 和 1 之间\n",
    "plt.plot(x, np.sin(x - 5), color='chartreuse'); # 支持所有 HTML 颜色名"
   ]
  },
  {
   "cell_type": "markdown",
   "metadata": {},
   "source": [
    "#### 5.2  控制线型\n",
    "\n",
    "- 采用 ``linestyle`` 关键字"
   ]
  },
  {
   "cell_type": "code",
   "execution_count": null,
   "metadata": {},
   "outputs": [],
   "source": [
    "plt.plot(x, x + 0, linestyle='solid')    # 实线\n",
    "plt.plot(x, x + 1, linestyle='dashed')   # 断续线\n",
    "plt.plot(x, x + 2, linestyle='dashdot')  # 断续点线\n",
    "plt.plot(x, x + 3, linestyle='dotted')   # 点线\n",
    "\n",
    "# 或 符号设置\n",
    "plt.plot(x, x + 4, linestyle='-')        # 实线\n",
    "plt.plot(x, x + 5, linestyle='--')       # 断续线\n",
    "plt.plot(x, x + 6, linestyle='-.')       # 断续点线\n",
    "plt.plot(x, x + 7, linestyle=':')        # 点线"
   ]
  },
  {
   "cell_type": "markdown",
   "metadata": {},
   "source": [
    "#### 5.3 合并控制颜色和线型"
   ]
  },
  {
   "cell_type": "code",
   "execution_count": null,
   "metadata": {},
   "outputs": [],
   "source": [
    "plt.plot(x, x + 0, '-g')   # 绿色   实线\n",
    "plt.plot(x, x + 1, '--c')  # 蓝绿色 断续线\n",
    "plt.plot(x, x + 2, '-.k')  # 黑色   断续点线\n",
    "plt.plot(x, x + 3, ':r');  # 红色   点线"
   ]
  },
  {
   "cell_type": "markdown",
   "metadata": {},
   "source": [
    "#### 5.4 控制轴限\n",
    "\n",
    "- 调用方法\n",
    "    - ``plt.xlim()``\n",
    "    - ``plt.ylim()``"
   ]
  },
  {
   "cell_type": "code",
   "execution_count": null,
   "metadata": {},
   "outputs": [],
   "source": [
    "plt.plot(x, np.sin(x))\n",
    "\n",
    "plt.xlim(-0.5, 2*np.pi + 0.5)\n",
    "plt.ylim(-1.2, 1.2)"
   ]
  },
  {
   "cell_type": "markdown",
   "metadata": {},
   "source": [
    "- 统一方法 —— 允许一次设置``x``和``y``的上下限\n",
    "\n",
    "    - 使用``plt.axis()`` (注意单词拼写是 *axis* 而不是 *axes* )\n",
    "    - 传递的参数是 **一个列表** ``[xmin, xmax, ymin, ymax]``"
   ]
  },
  {
   "cell_type": "code",
   "execution_count": null,
   "metadata": {},
   "outputs": [],
   "source": [
    "plt.plot(x, np.sin(x))\n",
    "plt.axis([-0.5, 2*np.pi + 0.5, -1.2, 1.2])"
   ]
  },
  {
   "cell_type": "markdown",
   "metadata": {},
   "source": [
    "#### 5.5 标记图（Labeling Plots）\n",
    "\n",
    "标记图包括\n",
    "\n",
    "- 图题（titles）\n",
    "- 轴标（axis labels）\n",
    "- 简单说明（simple legends）"
   ]
  },
  {
   "cell_type": "code",
   "execution_count": null,
   "metadata": {},
   "outputs": [],
   "source": [
    "# 图题和轴标\n",
    "plt.plot(x, np.sin(x))\n",
    "plt.title(\"A Sine Curve\")\n",
    "plt.xlabel(\"x\")\n",
    "plt.ylabel(\"sin(x)\")"
   ]
  },
  {
   "cell_type": "code",
   "execution_count": null,
   "metadata": {},
   "outputs": [],
   "source": [
    "# 中文标注\n",
    "\n",
    "mpl.rcParams['font.sans-serif'] = ['SimHei'];\n",
    "mpl.rcParams['axes.unicode_minus'] = False\n",
    "\n",
    "plt.plot(x, np.sin(x))\n",
    "plt.title(\"A Sine Curve\")\n",
    "plt.xlabel(\"x\")\n",
    "plt.ylabel(\"sin(x)\")"
   ]
  },
  {
   "cell_type": "markdown",
   "metadata": {},
   "source": [
    "#### 5.5.1图中画了多条线时，可使用说明（legend）对每条线进行标记\n",
    "\n",
    "- 可采用内建的 ``plt.legend()`` 方法\n",
    "- 也可事先在 ``plot`` 函数中使用 ``label`` 关键字标记，再调用 ``plt.legend()`` 函数为线型、颜色和标注建立关联\n",
    "\n",
    "如下例"
   ]
  },
  {
   "cell_type": "code",
   "execution_count": null,
   "metadata": {},
   "outputs": [],
   "source": [
    "plt.plot(x, np.sin(x), '-g', label='sin(x)')\n",
    "plt.plot(x, np.cos(x), ':b', label='cos(x)')\n",
    "plt.axis('equal')\n",
    "\n",
    "plt.legend()"
   ]
  },
  {
   "cell_type": "markdown",
   "metadata": {},
   "source": [
    "#### 5.5.2 两种接口风格对比\n",
    "\n",
    "- ``plt.plot()`` → ``ax.plot()``\n",
    "- ``plt.legend()`` → ``ax.legend()``\n",
    "\n",
    "以及\n",
    "\n",
    "- ``plt.xlabel()``  → ``ax.set_xlabel()``\n",
    "- ``plt.ylabel()`` → ``ax.set_ylabel()``\n",
    "- ``plt.xlim()``  → ``ax.set_xlim()``\n",
    "- ``plt.ylim()`` → ``ax.set_ylim()``\n",
    "- ``plt.title()`` → ``ax.set_title()``"
   ]
  },
  {
   "cell_type": "markdown",
   "metadata": {},
   "source": [
    "#### 5.5.3 综合设置\n",
    "\n",
    "- 使用 ``ax.set()`` 方法一次设置所有属性"
   ]
  },
  {
   "cell_type": "code",
   "execution_count": null,
   "metadata": {},
   "outputs": [],
   "source": [
    "ax = plt.axes()\n",
    "ax.plot(x, np.sin(x))\n",
    "ax.set(xlim=(-0.5,2*np.pi+0.5), ylim=(-1.2, 1.2),\n",
    "       xlabel='x', ylabel='sin(x)',\n",
    "       title='A Simple Plot')"
   ]
  },
  {
   "cell_type": "markdown",
   "metadata": {},
   "source": [
    "### 6 简单散点图\n",
    "\n",
    "除简单线图以外的另一种常用图形，其特点\n",
    "\n",
    "- 图点不被线段串连\n",
    "- 散布在图上\n",
    "- 形状如：实心点、圆或其它"
   ]
  },
  {
   "cell_type": "markdown",
   "metadata": {},
   "source": [
    "#### 6.1 用 ``plt.plot`` 画散点图\n",
    "\n",
    "如前所述\n",
    "\n",
    "- 可采用 ``plt.plot`` / ``ax.plot`` 绘制线图\n",
    "- 也可采用这些函数生成散点图"
   ]
  },
  {
   "cell_type": "code",
   "execution_count": null,
   "metadata": {},
   "outputs": [],
   "source": [
    "x = np.linspace(0, 2*np.pi, 30)\n",
    "y = np.sin(x)\n",
    "\n",
    "plt.plot(x, y, 'o', color='blue')"
   ]
  },
  {
   "cell_type": "markdown",
   "metadata": {},
   "source": [
    "#### 6.2 形状参数\n",
    "\n",
    "简单散点函数\n",
    "\n",
    "```python\n",
    "plt.plot(x, y, 'o', color='black')\n",
    "```\n",
    "\n",
    "- 函数中的第三个参数是表示散点形状的符号\n",
    "- 完整的符号列表见 ``Matplotlib 在线文档``"
   ]
  },
  {
   "cell_type": "code",
   "execution_count": null,
   "metadata": {},
   "outputs": [],
   "source": [
    "rng = np.random.RandomState(0)\n",
    "\n",
    "for marker in ['o', '.', ',', 'x', '+', 'v', '^', '<', '>', 's', 'd']:    # 各种散点形状\n",
    "    plt.plot(rng.rand(5), rng.rand(5), marker, label=\"marker='{0}'\".format(marker))\n",
    "\n",
    "plt.legend(numpoints=1)\n",
    "plt.xlim(0, 1.8)"
   ]
  },
  {
   "cell_type": "markdown",
   "metadata": {},
   "source": [
    "- 可在所绘制线图上同时绘制散点"
   ]
  },
  {
   "cell_type": "code",
   "execution_count": null,
   "metadata": {},
   "outputs": [],
   "source": [
    "plt.plot(x, y, '-ob')"
   ]
  },
  {
   "cell_type": "markdown",
   "metadata": {},
   "source": [
    "#### 6.3 用``plt.scatter``画散点图\n",
    "\n",
    "- 这是更强大的创建散点图方法\n",
    "- 与``plt.plot`` 函数有许多类似"
   ]
  },
  {
   "cell_type": "code",
   "execution_count": null,
   "metadata": {},
   "outputs": [],
   "source": [
    "rng = np.random.RandomState(0)\n",
    "\n",
    "x = rng.randn(100)\n",
    "y = rng.randn(100)\n",
    "\n",
    "colors = rng.rand(100)   # (0,1)均匀分布，100个元素\n",
    "\n",
    "sizes = 100 * rng.rand(100)\n",
    "\n",
    "plt.scatter(x, y, c=colors, s=sizes, alpha=0.3, cmap='viridis')\n",
    "plt.colorbar();  # 颜色尺度"
   ]
  },
  {
   "cell_type": "markdown",
   "metadata": {},
   "source": [
    "#### 6.4 对比 ``plt.plot`` 和 ``plt.scatter``\n",
    "\n",
    "``plt.plot``和``plt.scatter``各有所长\n",
    "\n",
    "- 对于小量数据，二者难分优劣\n",
    "- 对于大数据集，``plt.plot``明显更有效率\n",
    "\n",
    "原因在于\n",
    "\n",
    "- ``plt.scatter``具有对每个点渲染尺寸、色彩的能力，将带来更多额外的工作\n",
    "- ``plt.plot``所绘制的点具有统一的特征，外观的确定工作对于整个数据集只需一次\n",
    "\n",
    "对于大数据集，两种方法的差异将导致巨大的性能差别，有鉴于此，对于大数据集应该优先采用``plt.plot``。"
   ]
  },
  {
   "cell_type": "markdown",
   "metadata": {},
   "source": [
    "### 7 等高线图\n",
    "\n",
    "采用二维等高线图或色码域图（color-coded regions）来显示三维数据\n",
    "\n",
    "#### Matplotlib函数\n",
    "\n",
    "- ``plt.contour`` 画等高线图\n",
    "- ``plt.contourf`` 画填充等高线图\n",
    "- ``plt.imshow`` 显示图片\n",
    "\n",
    "#### 三维函数实例\n",
    "\n",
    "演示某三维函数 $z = f(x, y)$ 的等高线图，其中\n",
    "\n",
    "$$z = f(x,y) = \\sin^{10}x + \\cos(10+xy)\\cos x$$"
   ]
  },
  {
   "cell_type": "code",
   "execution_count": null,
   "metadata": {},
   "outputs": [],
   "source": [
    "def f(x, y):\n",
    "    return np.sin(x) ** 10 + np.cos(10 + y * x) * np.cos(x)"
   ]
  },
  {
   "cell_type": "markdown",
   "metadata": {},
   "source": [
    "#### 7.1  用函数``plt.contour``创建等高线图\n",
    "\n",
    "- 三个调用参数\n",
    "\n",
    "    - x 网格值\n",
    "    - y 网格值\n",
    "    - z 网格值\n",
    "\n",
    "*x* 和 *y* 值代表图中的位置，*z* 值表示等高线水平值。\n",
    "    \n",
    "或许，最直接的准备数据方法是使用``np.meshgrid``函数（从一维数组构造二维网格）。"
   ]
  },
  {
   "cell_type": "code",
   "execution_count": null,
   "metadata": {},
   "outputs": [],
   "source": [
    "x = np.linspace(0, 5, 50)\n",
    "y = np.linspace(0, 5, 40)\n",
    "\n",
    "X, Y = np.meshgrid(x, y)\n",
    "Z = f(X, Y)"
   ]
  },
  {
   "cell_type": "markdown",
   "metadata": {},
   "source": [
    "观察这个仅有标准线的等高线图"
   ]
  },
  {
   "cell_type": "code",
   "execution_count": null,
   "metadata": {},
   "outputs": [],
   "source": [
    "plt.contour(X, Y, Z, colors='black')"
   ]
  },
  {
   "cell_type": "markdown",
   "metadata": {},
   "source": [
    "#### 7.2 缺省约定\n",
    "\n",
    "对于单色图\n",
    "\n",
    "- 虚线代表负值\n",
    "- 实线代表正值\n",
    "\n",
    "对于彩色图\n",
    "\n",
    "- 可采用有色线条，用``cmap``参数指定色图（colormap）"
   ]
  },
  {
   "cell_type": "code",
   "execution_count": null,
   "metadata": {},
   "outputs": [],
   "source": [
    "# 参数 20 指定了等间隔区间数\n",
    "# 参数 cmap 取 RdGy (short for Red-Gray)色图\n",
    "\n",
    "plt.contour(X, Y, Z, 20, cmap='RdGy')"
   ]
  },
  {
   "cell_type": "markdown",
   "metadata": {},
   "source": [
    "#### 7.3 用函数 plt.contourf 创建填充等高线图\n",
    "\n",
    "#### 语法 ( 注意末尾的字母 f )\n",
    "\n",
    "```python\n",
    "plt.contourf(X, Y, Z, 20, cmap='RdGy')\n",
    "```\n",
    "在很大程度上与 plt.contour 相同\n",
    "\n",
    "#### 色棒命令 —— 创建一条标记了颜色信息的附加轴——颜色条\n",
    "\n",
    "```python\n",
    "plt.colorbar\n",
    "```"
   ]
  },
  {
   "cell_type": "code",
   "execution_count": null,
   "metadata": {},
   "outputs": [],
   "source": [
    "plt.contourf(X, Y, Z, 20, cmap='RdGy')\n",
    "plt.colorbar()"
   ]
  },
  {
   "cell_type": "markdown",
   "metadata": {},
   "source": [
    "#### 7.4 用函数 plt.imshow 创建影像图（自查自学）"
   ]
  },
  {
   "cell_type": "code",
   "execution_count": null,
   "metadata": {},
   "outputs": [],
   "source": [
    "contours = plt.contour(X, Y, Z, 3, colors='black')\n",
    "plt.clabel(contours, inline=True, fontsize=8)\n",
    "\n",
    "plt.imshow(Z, extent=[0, 5, 0, 5], origin='lower', cmap='RdGy', alpha=0.5)\n",
    "plt.colorbar()"
   ]
  },
  {
   "cell_type": "markdown",
   "metadata": {},
   "source": [
    "### 8 直方图和分箱图"
   ]
  },
  {
   "cell_type": "markdown",
   "metadata": {},
   "source": [
    "#### 8.1 一维直方图"
   ]
  },
  {
   "cell_type": "code",
   "execution_count": null,
   "metadata": {},
   "outputs": [],
   "source": [
    "data = np.random.randn(1000)\n",
    "plt.hist(data, bins=30, normed=True, alpha=0.5, histtype='stepfilled', color='steelblue',edgecolor='none');"
   ]
  },
  {
   "cell_type": "markdown",
   "metadata": {},
   "source": [
    "#### 8.2 一维直方图选项\n",
    "\n",
    "选项\n",
    "\n",
    "- 阶梯形式 —— histtype='stepfilled'\n",
    "- 透明指标 —— alpha\n",
    "\n",
    "两者结合，对于比较直方图的分布很有帮助"
   ]
  },
  {
   "cell_type": "code",
   "execution_count": null,
   "metadata": {},
   "outputs": [],
   "source": [
    "x1 = np.random.normal(0, 0.8, 1000)\n",
    "x2 = np.random.normal(-2, 1, 1000)\n",
    "x3 = np.random.normal(3, 2, 1000)\n",
    "\n",
    "# 参数采用字典打包\n",
    "kwargs = dict(histtype='stepfilled', alpha=0.3, normed=True, bins=40)\n",
    "\n",
    "plt.hist(x1, **kwargs)\n",
    "plt.hist(x2, **kwargs)\n",
    "plt.hist(x3, **kwargs);"
   ]
  },
  {
   "cell_type": "markdown",
   "metadata": {},
   "source": [
    "- ``np.histogram()`` 函数 —— 仅用于数据（分箱、频率）计算"
   ]
  },
  {
   "cell_type": "code",
   "execution_count": null,
   "metadata": {},
   "outputs": [],
   "source": [
    "counts, bin_edges = np.histogram(data, bins=5)\n",
    "print(counts)\n",
    "print(bin_edges)"
   ]
  },
  {
   "cell_type": "markdown",
   "metadata": {},
   "source": [
    "#### 8.3 二维直方图\n",
    "\n",
    "- 创建一维直方图时，将数轴划分成箱（bins）\n",
    "- 可类似创建二维直方图，对应的有二维箱（two-dimensional bins）"
   ]
  },
  {
   "cell_type": "code",
   "execution_count": null,
   "metadata": {},
   "outputs": [],
   "source": [
    "mean = [0, 0]\n",
    "cov = [[1, 1], [1, 2]]\n",
    "x, y = np.random.multivariate_normal(mean, cov, 10000).T"
   ]
  },
  {
   "cell_type": "code",
   "execution_count": null,
   "metadata": {},
   "outputs": [],
   "source": [
    "plt.hist2d(x, y, bins=30, cmap='Blues')\n",
    "cb = plt.colorbar()\n",
    "cb.set_label('counts in bin')"
   ]
  },
  {
   "cell_type": "markdown",
   "metadata": {},
   "source": [
    "### 9 多图\n",
    "\n",
    "- 用于多视角观察数据\n",
    "- 图网，或更复杂的布局"
   ]
  },
  {
   "cell_type": "code",
   "execution_count": null,
   "metadata": {},
   "outputs": [],
   "source": [
    "%matplotlib inline\n",
    "import matplotlib.pyplot as plt\n",
    "plt.style.use('seaborn-white')\n",
    "import numpy as np"
   ]
  },
  {
   "cell_type": "markdown",
   "metadata": {},
   "source": [
    "### 9.1 简单子图网格 —— ``plt.subplot``\n",
    "\n",
    "- 最常见的要求 —— 子图按行和列对齐\n",
    "- 最低要求 —— ``plt.subplot()``仅创建一个子图\n",
    "\n",
    "#### 命令参数\n",
    "\n",
    "- 行数\n",
    "- 列数\n",
    "- 索引号(从左上到右下计数）"
   ]
  },
  {
   "cell_type": "code",
   "execution_count": null,
   "metadata": {},
   "outputs": [],
   "source": [
    "x = np.linspace(-10,10,100)\n",
    "for i in range(1, 7):\n",
    "    plt.subplot(2, 3, i)\n",
    "    plt.plot(x, np.sin(x*i))\n",
    "    plt.text(0.5, 0.5, str((2, 3, i)),\n",
    "             fontsize=18, ha='center')"
   ]
  },
  {
   "cell_type": "markdown",
   "metadata": {},
   "source": [
    "### 9.2 调整子图之间间隔（略）\n",
    "\n",
    "- plt.subplots_adjust"
   ]
  },
  {
   "cell_type": "markdown",
   "metadata": {},
   "source": [
    "### 9.3 面向对象的等效命令\n",
    "\n",
    "- ``fig.add_subplot()``"
   ]
  },
  {
   "cell_type": "code",
   "execution_count": null,
   "metadata": {},
   "outputs": [],
   "source": [
    "fig = plt.figure()\n",
    "fig.subplots_adjust(hspace=0.4, wspace=0.4)\n",
    "for i in range(1, 7):\n",
    "    ax = fig.add_subplot(2, 3, i)\n",
    "    ax.plot(x, np.sin(x*i))\n",
    "    ax.text(0.5, 0.5, str((2, 3, i)),\n",
    "           fontsize=18, ha='center')"
   ]
  },
  {
   "cell_type": "markdown",
   "metadata": {},
   "source": [
    "### 10 定制刻度\n",
    "\n",
    "### 10.1 刻度标记和标签\n",
    "\n",
    "- 主刻度 大刻度标记和标签\n",
    "- 辅刻度 小刻度标记无标签\n",
    "\n",
    "### 10.2 刻度属性（位置与标签）可以被定制，设置\n",
    "\n",
    "- ``formatter`` —— 格式\n",
    "- ``locator`` —— 位置"
   ]
  },
  {
   "cell_type": "markdown",
   "metadata": {},
   "source": [
    "### 10.3 示例 —— 绘制正弦和余弦曲线\n",
    "\n",
    "#### (1) 整数刻度（不合适）"
   ]
  },
  {
   "cell_type": "code",
   "execution_count": null,
   "metadata": {},
   "outputs": [],
   "source": [
    "# 绘制正弦和余弦曲线\n",
    "\n",
    "fig, ax = plt.subplots()\n",
    "\n",
    "x = np.linspace(0, 3 * np.pi, 1000)\n",
    "ax.plot(x, np.sin(x), lw=3, label='Sine')\n",
    "ax.plot(x, np.cos(x), lw=3, label='Cosine')\n",
    "\n",
    "# 设置网格、标签和界限bb\n",
    "ax.grid(True)\n",
    "ax.legend(frameon=False)\n",
    "ax.axis('equal')\n",
    "ax.set_xlim(0, 3 * np.pi);"
   ]
  },
  {
   "cell_type": "markdown",
   "metadata": {},
   "source": [
    "#### (2) 刻度呈现出与 $\\pi$ 的比例关系（稍有进步）"
   ]
  },
  {
   "cell_type": "code",
   "execution_count": null,
   "metadata": {},
   "outputs": [],
   "source": [
    "ax.xaxis.set_major_locator(plt.MultipleLocator(np.pi / 2))\n",
    "ax.xaxis.set_minor_locator(plt.MultipleLocator(np.pi / 4))\n",
    "fig"
   ]
  },
  {
   "cell_type": "markdown",
   "metadata": {},
   "source": [
    "#### (3) 解决办法\n",
    "\n",
    "- 使用``plt.FuncFormatter``改变刻度格式\n",
    "- 接受用户定义的函数更好的控制刻度输出"
   ]
  },
  {
   "cell_type": "code",
   "execution_count": null,
   "metadata": {},
   "outputs": [],
   "source": [
    "def format_func(value, tick_number):\n",
    "    # 以 pi/2 为刻度单位\n",
    "    N = int(np.round(2 * value / np.pi))\n",
    "    if N == 0:\n",
    "        return \"0\"\n",
    "    elif N == 1:\n",
    "        return r\"$\\pi/2$\"\n",
    "    elif N == 2:\n",
    "        return r\"$\\pi$\"\n",
    "    elif N % 2 > 0:\n",
    "        return r\"${0}\\pi/2$\".format(N)\n",
    "    else:\n",
    "        return r\"${0}\\pi$\".format(N // 2)\n",
    "\n",
    "ax.xaxis.set_major_formatter(plt.FuncFormatter(format_func))\n",
    "fig"
   ]
  },
  {
   "cell_type": "markdown",
   "metadata": {},
   "source": [
    "#### (4) 效果\n",
    "\n",
    "- 在$\\pi/4$的倍数位置，添加主和辅刻度\n",
    "- 刻度和网格线以 $\\pi$ 为单位，看起来更自然"
   ]
  },
  {
   "cell_type": "markdown",
   "metadata": {},
   "source": [
    "### 11 三维图\n",
    "\n",
    "- Matplotlib 最初仅为绘制二维图设计\n",
    "- 随着 1.0 版问世，三维数据的可视化工具也相继推出\n",
    "- 绘制三维图形要导入``mplot3d``工具盒"
   ]
  },
  {
   "cell_type": "markdown",
   "metadata": {},
   "source": [
    "#### 11.1 导入模块\n",
    "\n",
    "使用\n",
    "\n",
    "```\n",
    "%matplotlib inline\n",
    "```"
   ]
  },
  {
   "cell_type": "code",
   "execution_count": null,
   "metadata": {},
   "outputs": [],
   "source": [
    "from mpl_toolkits import mplot3d\n",
    "%matplotlib inline"
   ]
  },
  {
   "cell_type": "markdown",
   "metadata": {},
   "source": [
    "#### 11.2 创建三维坐标系\n",
    "\n",
    "- 三维坐标系建好后，现在可以绘制各种三维图。\n",
    "- 三维图形带来的好处是交互，而不是静态的在notebook中观察。"
   ]
  },
  {
   "cell_type": "code",
   "execution_count": null,
   "metadata": {},
   "outputs": [],
   "source": [
    "fig = plt.figure()\n",
    "ax = plt.axes(projection='3d')"
   ]
  },
  {
   "cell_type": "markdown",
   "metadata": {},
   "source": [
    "#### 11.3 三维点图和线图\n",
    "\n",
    "- 最基本的三维图是由三元组(x, y, z)集合创建的线图或散点图。\n",
    "\n",
    "#### 三维绘图函数\n",
    "\n",
    "- ``ax.plot3D``函数\n",
    "- ``ax.scatter3D``函数\n",
    "\n",
    "调用语法几乎和二维情况一致\n",
    "\n",
    "#### 示例\n",
    "\n",
    "绘制三角函数螺旋线"
   ]
  },
  {
   "cell_type": "code",
   "execution_count": null,
   "metadata": {},
   "outputs": [],
   "source": [
    "ax = plt.axes(projection='3d')\n",
    "\n",
    "# 空间曲线点数据\n",
    "\n",
    "zline = np.linspace(0, 15, 1000)\n",
    "xline = np.sin(zline)\n",
    "yline = np.cos(zline)\n",
    "\n",
    "ax.plot3D(xline, yline, zline, 'gray')\n",
    "\n",
    "# 三维散点数据\n",
    "\n",
    "zdata = 15 * np.random.random(100)\n",
    "xdata = np.sin(zdata) + 0.1 * np.random.randn(100)\n",
    "ydata = np.cos(zdata) + 0.1 * np.random.randn(100)\n",
    "ax.scatter3D(xdata, ydata, zdata, c=zdata, cmap='Greens')"
   ]
  },
  {
   "cell_type": "markdown",
   "metadata": {},
   "source": [
    "#### 11.4 绘制三维等高图\n",
    "\n",
    "- 绘制三维正弦函数所给的三维等高图"
   ]
  },
  {
   "cell_type": "code",
   "execution_count": null,
   "metadata": {},
   "outputs": [],
   "source": [
    "def f(x, y):\n",
    "    return np.sin(np.sqrt(x ** 2 + y ** 2))\n",
    "\n",
    "x = np.linspace(-6, 6, 30)\n",
    "y = np.linspace(-6, 6, 30)\n",
    "\n",
    "X, Y = np.meshgrid(x, y)\n",
    "Z = f(X, Y)"
   ]
  },
  {
   "cell_type": "code",
   "execution_count": null,
   "metadata": {},
   "outputs": [],
   "source": [
    "fig = plt.figure()\n",
    "ax = plt.axes(projection='3d')\n",
    "ax.contour3D(X, Y, Z, 50, cmap='binary')\n",
    "ax.set_xlabel('x')\n",
    "ax.set_ylabel('y')\n",
    "ax.set_zlabel('z')"
   ]
  },
  {
   "cell_type": "markdown",
   "metadata": {},
   "source": [
    "#### 11.5 绘制线框图和曲面图\n",
    "\n",
    "两类重要的三维图\n",
    "\n",
    "- 网格数据参数\n",
    "- 三维可视化"
   ]
  },
  {
   "cell_type": "code",
   "execution_count": null,
   "metadata": {},
   "outputs": [],
   "source": [
    "# 线框图\n",
    "fig = plt.figure()\n",
    "ax = plt.axes(projection='3d')\n",
    "ax.plot_wireframe(X, Y, Z, color='black')\n",
    "ax.set_title('wireframe')"
   ]
  },
  {
   "cell_type": "code",
   "execution_count": null,
   "metadata": {},
   "outputs": [],
   "source": [
    "# 曲面图\n",
    "ax = plt.axes(projection='3d')\n",
    "ax.plot_surface(X, Y, Z, rstride=1, cstride=1,\n",
    "                cmap='viridis', edgecolor='none')\n",
    "ax.set_title('surface')"
   ]
  },
  {
   "cell_type": "markdown",
   "metadata": {},
   "source": [
    "#### 结束"
   ]
  }
 ],
 "metadata": {
  "kernelspec": {
   "display_name": "Python 3",
   "language": "python",
   "name": "python3"
  },
  "language_info": {
   "codemirror_mode": {
    "name": "ipython",
    "version": 3
   },
   "file_extension": ".py",
   "mimetype": "text/x-python",
   "name": "python",
   "nbconvert_exporter": "python",
   "pygments_lexer": "ipython3",
   "version": "3.6.5"
  }
 },
 "nbformat": 4,
 "nbformat_minor": 2
}
