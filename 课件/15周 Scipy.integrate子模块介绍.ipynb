{
 "cells": [
  {
   "cell_type": "markdown",
   "metadata": {},
   "source": [
    "# 5 数值积分子模块 —— [scipy.integrate](https://docs.scipy.org/doc/scipy/reference/integrate.html)\n",
    "\n",
    "- 数值积分（函数型、数组型*）\n",
    "    - 定积分\n",
    "    - 二、三、多重积分\n",
    "    - 高斯积分\n",
    "- 常微分方程(组)数值解法\n",
    "    - 初值问题\n",
    "    - 边值问题"
   ]
  },
  {
   "cell_type": "markdown",
   "metadata": {},
   "source": [
    "### 5.1 积分函数列表及功能作用\n",
    "\n",
    "#### 表1 函数型积分函数\n",
    "\n",
    "|       积分函数                                |   功能作用                                   |\n",
    "|-----------------------------------------------|----------------------------------------------|\n",
    "|<font color=\"red\">quad(func, a, b[, args, full_output, …])</font>\t    |   计算定积分                                 |\n",
    "|<font color=\"red\">dblquad(func, a, b, gfun, hfun[, args, …]) </font>  \t|   计算二重积分                               |\n",
    "|<font color=\"red\">tplquad(func, a, b, gfun, hfun, qfun, rfun)</font>   \t|   计算三重积分                               |\n",
    "|nquad(func, ranges[, args, opts, full_output])\t|   多变量积分                                 |\n",
    "|fixed_quad(func, a, b[, args, n])\t            |   计算定积分，用固定阶高斯积分公式           |\n",
    "|quadrature(func, a, b[, args, tol, rtol, …])\t|   计算定积分，用固定误差高斯积分公式         |\n",
    "|<font color=\"red\">romberg(function, a, b[, args, tol, rtol, …])</font>\t|   龙贝格积分                                 |\n",
    "|quad_explain([output])\t                        |   输出函数integrate.quad()的参数和返回值信息 |\n",
    "|newton_cotes(rn[, equal])\t                    |   返回Newton-Cotes积分的权重和误差系数       |\n",
    "|IntegrationWarning\t                            |   积分期间的警告发布                         |\n",
    "\n",
    "\n",
    "#### 表2 数组型积分函数\n",
    "\n",
    "|    积分函数                         |  功能作用                       |\n",
    "|-------------------------------------|---------------------------------|\n",
    "| trapz(y[, x, dx, axis])\t          | trapezoidal法则沿给定轴积分 |\n",
    "| cumtrapz(y[, x, dx, axis, initial]) | trapezoidal法则累积积分     |\n",
    "| simps(y[, x, dx, axis, even])\t      | 辛普森积分                      |\n",
    "| <font color=\"red\">romb(y[, dx, axis, show])</font>\t          | 龙贝格积分                      |\n"
   ]
  },
  {
   "cell_type": "markdown",
   "metadata": {},
   "source": [
    "#### 导入模块"
   ]
  },
  {
   "cell_type": "code",
   "execution_count": 2,
   "metadata": {},
   "outputs": [],
   "source": [
    "import numpy as np\n",
    "import scipy as sp\n",
    "from scipy import integrate\n",
    "\n",
    "import matplotlib as mpl\n",
    "import matplotlib.pyplot as plt\n",
    "\n",
    "%matplotlib inline"
   ]
  },
  {
   "cell_type": "markdown",
   "metadata": {},
   "source": [
    "#### 中文图形环境设置"
   ]
  },
  {
   "cell_type": "code",
   "execution_count": null,
   "metadata": {},
   "outputs": [],
   "source": [
    "mpl.rcParams['font.sans-serif']    = ['SimHei'];\n",
    "mpl.rcParams['axes.unicode_minus'] = False"
   ]
  },
  {
   "cell_type": "markdown",
   "metadata": {},
   "source": [
    "### 5.2 函数型积分函数\n",
    "\n",
    "- quad(func, a, b[, args, full_output, …])\n",
    "- dblquad(func, a, b, gfun, hfun[, args, …])\n",
    "- tplquad(func, a, b, gfun, hfun, qfun, rfun)"
   ]
  },
  {
   "cell_type": "markdown",
   "metadata": {},
   "source": [
    "#### 5.2.1 求定积分函数 quad\n",
    "\n",
    "- 函数原型\n",
    "\n",
    "```python\n",
    "scipy.integrate.quad(func, a, b, args=(), \n",
    "              full_output=0,\n",
    "              epsabs=1.49e-08, epsrel=1.49e-08,\n",
    "              limit=50, points=None, weight=None, wvar=None, wopts=None, maxp1=50, limlst=50)\n",
    "```\n",
    "\n",
    "- 主要参数\n",
    "    - 被积函数: func 返回浮点数的可回调函数\n",
    "    - 积分下限: a 浮点数 (``-np.inf``表示 $-\\infty$)\n",
    "    - 积分上限: b 浮点数 (``np.inf``表示 $\\infty$)\n",
    "    - 积分参数：args 元组（可选）\n",
    "\n",
    "\n",
    "- 返回值\n",
    "    - y：积分结果\n",
    "    - abs_err：绝对误差估计值\n",
    "    \n",
    "\n",
    "- 积分式\n",
    "\n",
    "$$\\int^b_a f(x)\\,dx$$"
   ]
  },
  {
   "cell_type": "markdown",
   "metadata": {},
   "source": [
    "#### 示例 1 —— 求定积分\n",
    "\n",
    "$$ \\int^4_0 x^2 dx = \\left.\\dfrac{x^3}{3}\\right|^{\\,4}_{\\,0} = \\dfrac{64}{3} = 21.\\dot{3}$$"
   ]
  },
  {
   "cell_type": "code",
   "execution_count": null,
   "metadata": {},
   "outputs": [],
   "source": [
    "x2 = lambda x: x**2\n",
    "integrate.quad(x2, 0, 4)"
   ]
  },
  {
   "cell_type": "markdown",
   "metadata": {},
   "source": [
    "#### 示例 2 —— 求定积分\n",
    "\n",
    "$$ \\int^\\infty_0 e^{-x} dx = -e^{-x}|^{\\,\\infty}_{\\,0} = 1$$"
   ]
  },
  {
   "cell_type": "code",
   "execution_count": null,
   "metadata": {},
   "outputs": [],
   "source": [
    "invexp = lambda x: np.exp(-x)\n",
    "integrate.quad(invexp, 0, np.inf)"
   ]
  },
  {
   "cell_type": "markdown",
   "metadata": {},
   "source": [
    "#### 示例3 —— 求含参数的定积分\n",
    "\n",
    "$$\\int_0^1 ax \\, dx = \\dfrac{a}{2}$$"
   ]
  },
  {
   "cell_type": "code",
   "execution_count": null,
   "metadata": {},
   "outputs": [],
   "source": [
    "f = lambda x,a : a*x\n",
    "y, err = integrate.quad(f, 0, 1, args=(1,))\n",
    "print(\"y = {0}, parameter a = {1}\".format(y, 1))\n",
    "\n",
    "y, err = integrate.quad(f, 0, 1, args=(3,))\n",
    "print(\"y = {0}, parameter a = {1}\".format(y, 3))"
   ]
  },
  {
   "cell_type": "markdown",
   "metadata": {},
   "source": [
    "#### 示例 4 —— 自定义函数求积分\n",
    "\n",
    "$$\\int^1_0 \\dfrac{1}{1+x^2}\\,dx = \\arctan x|^1_0= \\dfrac{\\pi}{4}$$"
   ]
  },
  {
   "cell_type": "code",
   "execution_count": null,
   "metadata": {},
   "outputs": [],
   "source": [
    "def integrand(x):\n",
    "    return 1.0/(1+x*x)\n",
    "\n",
    "integral, abs_err = integrate.quad(integrand, 0, 1)\n",
    "print(integral * 4)"
   ]
  },
  {
   "cell_type": "markdown",
   "metadata": {},
   "source": [
    "#### 示例 5 —— 求瑕积分\n",
    "\n",
    "$$\\int^1_0 \\dfrac{1}{\\sqrt{x}}\\,dx = 2\\sqrt{x}|^1_0 = 2$$"
   ]
  },
  {
   "cell_type": "code",
   "execution_count": null,
   "metadata": {},
   "outputs": [],
   "source": [
    "fun = lambda x: 1/np.sqrt(x)\n",
    "integrate.quad(fun, 0, 1)"
   ]
  },
  {
   "cell_type": "markdown",
   "metadata": {},
   "source": [
    "#### 5.2.2 求二重积分函数 dblquad\n",
    "\n",
    "- 函数原型\n",
    "\n",
    "```python\n",
    "scipy.integrate.dblquad(func, a, b, gfun, hfun, args=(), epsabs=1.49e-08, epsrel=1.49e-08)\n",
    "```\n",
    "\n",
    "\n",
    "- 主要参数\n",
    "    - 被积函数: func(y, x) 返回浮点数的可回调函数 (y 必须是第一自变量，x 是第二自变量)\n",
    "    - 外层下限: a 浮点数 (``-np.inf``表示 $-\\infty$)\n",
    "    - 外层上限: b 浮点数 (``np.inf``表示 $\\infty$)\n",
    "    - 内层下限：gfun 可回调函数\n",
    "    - 内层上限：hfun 可回调函数\n",
    "    - 积分参数：args 序列（可选）\n",
    "\n",
    "\n",
    "- 返回值\n",
    "    - y：积分结果\n",
    "    - abs_err：绝对误差估计值\n",
    "    \n",
    "\n",
    "- 积分式\n",
    "\n",
    "$$\\int^b_a dx \\int^{h(x)}_{g(x)} f(x,y)\\,dy$$"
   ]
  },
  {
   "cell_type": "markdown",
   "metadata": {},
   "source": [
    "#### 示例 6 —— 求二重积分\n",
    "\n",
    "$$\\int^2_0 dx \\int^1_0 xy^2\\,dy = \\dfrac{2}{3} = 0.\\dot{6}$$"
   ]
  },
  {
   "cell_type": "code",
   "execution_count": null,
   "metadata": {},
   "outputs": [],
   "source": [
    "f = lambda y, x: x*y**2\n",
    "integrate.dblquad(f, 0, 2, lambda x: 0, lambda x: 1)"
   ]
  },
  {
   "cell_type": "markdown",
   "metadata": {},
   "source": [
    "#### 5.2.3 求三重积分函数 tplquad\n",
    "\n",
    "\n",
    "- 函数原型\n",
    "\n",
    "```python\n",
    "scipy.integrate.tplquad(func, a, b, gfun, hfun, qfun, rfun, args=(), epsabs=1.49e-08, epsrel=1.49e-08）\n",
    "```\n",
    "\n",
    "- 主要参数\n",
    "    - 被积函数: func(z, y, x) 返回浮点数的可回调函数 (自变量顺序 z, y, x)\n",
    "    - 外层区间: 积分变量 x 的界限，a < b \n",
    "    - y 的下限：gfun(x) 可回调函数\n",
    "    - y 的上限：hfun(x) 可回调函数\n",
    "    - z 的下限：qfun(x,y) 可回调函数\n",
    "    - z 的上限：rfun(x,y) 可回调函数\n",
    "    - 积分参数：args 元组（可选）\n",
    "\n",
    "\n",
    "- 返回值\n",
    "    - y：积分结果\n",
    "    - abs_err：绝对误差估计值\n",
    "\n",
    "\n",
    "- 积分式\n",
    "\n",
    "$$\\int^b_a dx \\int^{h(x)}_{g(x)} \\,dy \\int^{r(x,y)}_{q(x,y)}f(x,y,z)\\,dz$$"
   ]
  },
  {
   "cell_type": "markdown",
   "metadata": {},
   "source": [
    "#### 示例 7 —— 求三重积分\n",
    "\n",
    "$$\\int^2_1 dx \\int^{3}_{2} \\,dy \\int^{1}_{0}xyz\\,dz = \\dfrac{\\left(2^2-1^2\\right)}{2}\\dfrac{\\left(3^2-2^2\\right)}{2}\\dfrac{\\left(1^2-0^2\\right)}{2}=\\dfrac{15}{8} = 1.875$$"
   ]
  },
  {
   "cell_type": "code",
   "execution_count": null,
   "metadata": {},
   "outputs": [],
   "source": [
    "f = lambda z, y, x: x*y*z\n",
    "integrate.tplquad(f, 1, 2, lambda x: 2, lambda x: 3, lambda x, y: 0, lambda x, y: 1)"
   ]
  },
  {
   "cell_type": "markdown",
   "metadata": {},
   "source": [
    "#### 5.2.4 龙贝格积分\n",
    "\n",
    "\n",
    "#### 函数型积分函数 romberg\n",
    "\n",
    "\n",
    "- 函数原型\n",
    "\n",
    "```python\n",
    "scipy.integrate.romberg(func, a, b, args=(), tol=1.48e-08, rtol=1.48e-08, show=False, divmax=10, vec_func=False)\n",
    "```\n",
    "\n",
    "\n",
    "- 参数\n",
    "    - 被积函数: func 返回浮点数的可回调函数\n",
    "    - 积分下限: a 浮点数 (``-np.inf``表示 $-\\infty$)\n",
    "    - 积分上限: b 浮点数 (``np.inf``表示 $\\infty$)\n",
    "    - 积分参数：args 元组（可选）\n",
    "\n",
    "\n",
    "- 返回值\n",
    "    - 积分结果 浮点数"
   ]
  },
  {
   "cell_type": "markdown",
   "metadata": {},
   "source": [
    "#### 示例 8  利用龙贝格积分求区间高斯函数积分\n",
    "\n",
    "\n",
    "$$\\int^1_0 \\dfrac{1}{\\sqrt{\\pi}}e^{-x^2}\\, dx$$"
   ]
  },
  {
   "cell_type": "code",
   "execution_count": null,
   "metadata": {},
   "outputs": [],
   "source": [
    "gaussian = lambda x: 1/np.sqrt(np.pi) * np.exp(-x**2)\n",
    "result = integrate.romberg(gaussian, 0, 1, show=True)"
   ]
  },
  {
   "cell_type": "code",
   "execution_count": null,
   "metadata": {},
   "outputs": [],
   "source": [
    "from scipy.special import erf\n",
    "print(\"%g %g\" % (2*result, erf(1)))"
   ]
  },
  {
   "cell_type": "markdown",
   "metadata": {},
   "source": [
    "#### 5.2.5 多维积分函数 （寻找帮助 自学）\n",
    "\n",
    "- 函数原型\n",
    "\n",
    "```python\n",
    "scipy.integrate.nquad(func, ranges, args=None, opts=None, full_output=False)\n",
    "```"
   ]
  },
  {
   "cell_type": "markdown",
   "metadata": {},
   "source": [
    "### 5.3 数组型积分函数"
   ]
  },
  {
   "cell_type": "markdown",
   "metadata": {},
   "source": [
    "#### 5.3.1 数组型积分函数 romb\n",
    "\n",
    "\n",
    "- 函数原型\n",
    "\n",
    "```python\n",
    "scipy.integrate.romb(y, dx=1.0, axis=-1, show=False)\n",
    "```\n",
    "\n",
    "\n",
    "- 主要参数\n",
    "    - y    函数值数组\n",
    "    - dx   积分步长，缺省值 1\n",
    "\n",
    "\n",
    "- 返回值\n",
    "    - 积分结果数组"
   ]
  },
  {
   "cell_type": "markdown",
   "metadata": {},
   "source": [
    "#### 5.3.2 梯形积分函数原型 (寻找帮助 自学)\n",
    "\n",
    "```python\n",
    "scipy.integrate.trapz(y, x=None, dx=1.0, axis=-1)\n",
    "```\n",
    "\n",
    "\n",
    "#### 5.3.3 辛普森积分函数原型 (寻找帮助 自学)\n",
    "\n",
    "```python\n",
    "scipy.integrate.simps(y, x=None, dx=1, axis=-1, even='avg')\n",
    "```"
   ]
  },
  {
   "cell_type": "markdown",
   "metadata": {},
   "source": [
    "### 5.4 求 ODEs (Ordinary Differential Equations)的初值问题"
   ]
  },
  {
   "cell_type": "markdown",
   "metadata": {},
   "source": [
    "#### 5.4.1 ODEs 初值问题\n",
    "\n",
    "\n",
    "- 方程与初始条件\n",
    "\n",
    "$$\n",
    "\\left\\{\n",
    "\\begin{array}{rcl}\n",
    "\\dfrac{dy}{dt} & = & f(t,y)\\\\\n",
    "y(t_0) & = & y_0\n",
    "\\end{array}\n",
    "\\right.\n",
    "$$\n",
    "\n",
    "\n",
    "- 变量说明\n",
    "    - t 标量型自变量\n",
    "    - y 数组型因变量（未知待求）"
   ]
  },
  {
   "cell_type": "markdown",
   "metadata": {},
   "source": [
    "#### 5.4.2 通用数值求解函数 solve_ivp\n",
    "\n",
    "\n",
    "- 函数原型\n",
    "\n",
    "```python\n",
    "scipy.integrate.solve_ivp(fun, t_span, y0, method='RK45', t_eval=None, dense_output=False, events=None, vectorized=False, **options)\n",
    "```\n",
    "\n",
    "\n",
    "- 主要参数\n",
    "    - 右端项: fun(t, y) 返回浮点数的可回调函数 (注意变量顺序 t, y)\n",
    "    - 积分区间：t_span = ($t_0$, $t_f$)，自 $t_0$ 始，至 $t_f$ 止\n",
    "    - 初始状态：y0（数组）\n",
    "    - 求解器：method，缺省为 \"RK45\" 5(4) 阶龙格库塔法\n",
    "\n",
    "\n",
    "- 返回值\n",
    "    - t：时间数组，维度(n_points,)\n",
    "    - y：对应时点的解数组，维度(n, n_points)"
   ]
  },
  {
   "cell_type": "markdown",
   "metadata": {},
   "source": [
    "#### 示例 1 —— 指数衰减问题\n",
    "\n",
    "- 方程及初始条件\n",
    "\n",
    "$$\\left\\{\n",
    "\\begin{array}{l}\n",
    "\\dfrac{dy_1}{dt} = -0.5y_1,\\quad y_1(0) = 2\\\\\n",
    "\\dfrac{dy_2}{dt} = -0.8y_2,\\quad y_2(0) = 4\\\\\n",
    "\\dfrac{dy_3}{dt} = -1.2y_3,\\quad y_3(0) = 8\n",
    "\\end{array}\n",
    "\\right.\n",
    "$$\n",
    "\n",
    "- 解析解（用于检验）\n",
    "\n",
    "$$\\left\\{\n",
    "\\begin{array}{l}\n",
    "y_1(t) = 2\\,e^{-0.5t}\\\\\n",
    "y_2(t) = 4\\,e^{-0.8t}\\\\\n",
    "y_3(t) = 8\\,e^{-1.2t}\n",
    "\\end{array}\n",
    "\\right.\n",
    "$$\n"
   ]
  },
  {
   "cell_type": "code",
   "execution_count": 3,
   "metadata": {},
   "outputs": [],
   "source": [
    "c = np.array([-0.5, -0.8, -1.2])\n",
    "y0 = np.array([2, 4, 8])\n",
    "\n",
    "def exponential_decay(t, y):\n",
    "    return c * y\n",
    "\n",
    "sol = sp.integrate.solve_ivp(exponential_decay, [0, 10], y0)"
   ]
  },
  {
   "cell_type": "code",
   "execution_count": 4,
   "metadata": {},
   "outputs": [
    {
     "data": {
      "text/plain": [
       "(array([ 0.        ,  0.10165876,  0.96526192,  1.82886509,  2.69246825,\n",
       "         3.55607141,  4.41967457,  5.28327774,  6.1468809 ,  7.01048406,\n",
       "         7.87408722,  8.75476478,  9.72287523, 10.        ]),\n",
       " array([[2.00000000e+00, 1.90088164e+00, 1.23431950e+00, 8.01493679e-01,\n",
       "         5.20442332e-01, 3.37944301e-01, 2.19440932e-01, 1.42491891e-01,\n",
       "         9.25257606e-02, 6.00807266e-02, 3.90128510e-02, 2.51172889e-02,\n",
       "         1.54793808e-02, 1.34764873e-02],\n",
       "        [4.00000000e+00, 3.68756871e+00, 1.84812657e+00, 9.26239507e-01,\n",
       "         4.64210427e-01, 2.32651835e-01, 1.16599872e-01, 5.84372355e-02,\n",
       "         2.92874292e-02, 1.46782014e-02, 7.35638471e-03, 3.63688317e-03,\n",
       "         1.67671121e-03, 1.34330701e-03],\n",
       "        [8.00000000e+00, 7.08125415e+00, 2.51615147e+00, 8.94053242e-01,\n",
       "         3.17680080e-01, 1.12879892e-01, 4.01091247e-02, 1.42518021e-02,\n",
       "         5.06403134e-03, 1.79938040e-03, 6.39366071e-04, 2.22631296e-04,\n",
       "         6.99329992e-05, 5.01484975e-05]]))"
      ]
     },
     "execution_count": 4,
     "metadata": {},
     "output_type": "execute_result"
    }
   ],
   "source": [
    "sol.t, sol.y"
   ]
  },
  {
   "cell_type": "code",
   "execution_count": 5,
   "metadata": {},
   "outputs": [
    {
     "data": {
      "text/plain": [
       "Text(0.5,1,'Solve exponential decay problems,')"
      ]
     },
     "execution_count": 5,
     "metadata": {},
     "output_type": "execute_result"
    },
    {
     "data": {
      "image/png": "[encoded data removed]",
      "text/plain": [
       "<Figure size 432x288 with 1 Axes>"
      ]
     },
     "metadata": {},
     "output_type": "display_data"
    }
   ],
   "source": [
    "plt.plot(sol.t, sol.y[0], \"*b\", sol.t, 2*np.exp(-0.5*sol.t), \"-b\", label=\"y_1\")\n",
    "plt.plot(sol.t, sol.y[1], \"*r\", sol.t, 4*np.exp(-0.8*sol.t), \"-r\", label=\"y_2\")\n",
    "plt.plot(sol.t, sol.y[2], \"*g\", sol.t, 8*np.exp(-1.2*sol.t), \"-g\", label=\"y_3\")\n",
    "\n",
    "plt.legend()\n",
    "plt.xlabel(\"t\")\n",
    "plt.ylabel(\"y\")\n",
    "plt.title(\"Solve exponential decay problems,\")"
   ]
  },
  {
   "cell_type": "markdown",
   "metadata": {},
   "source": [
    "#### 示例 2 —— 单自由度质点衰减振动问题\n",
    "\n",
    "\n",
    "- 方程 (未知函数 $z$，自变量 $t$)\n",
    "\n",
    "$$m\\dfrac{d^2 z}{dt^2} + c\\dfrac{dz}{dt} + k z = 0$$\n",
    "\n",
    "\n",
    "- 初始条件\n",
    "\n",
    "$$\n",
    "\\left\\{\n",
    "\\begin{array}{l}\n",
    "z(t_0)=z_0\\\\\n",
    "\\dfrac{dz}{dt}(t_0) = v_0\n",
    "\\end{array}\n",
    "\\right.\n",
    "$$\n",
    "\n",
    "\n",
    "若记\n",
    "\n",
    "$$\\omega^2_n=\\dfrac{k}{m},\\quad \\zeta=\\dfrac{c}{2\\omega_n m}$$\n",
    "\n",
    "\n",
    "方程也可表示为\n",
    "\n",
    "$$\\dfrac{d^2 z}{dt^2} + 2\\zeta\\omega_n\\dfrac{dz}{dt} + \\omega^2_n z = 0$$"
   ]
  },
  {
   "cell_type": "markdown",
   "metadata": {},
   "source": [
    "- 方程的解为（用于检验）\n",
    "\n",
    "$$z(t)=Ae^{-\\zeta\\omega_n t}\\cos(\\omega_d t-\\phi_0)$$\n",
    "\n",
    "其中\n",
    "\n",
    "$$\n",
    "\\left\\{\n",
    "\\begin{array}{c}\n",
    "\\omega_d=\\omega_n\\sqrt{1-\\zeta^2}\\\\\n",
    "A=\\sqrt{z^2_0+\\dfrac{\\left(v_0+\\zeta\\omega_n z_0\\right)^2}{\\omega^2_d}}\\\\\n",
    "\\phi_0=\\arctan\\dfrac{v_0+\\zeta\\omega_n z_0}{z_0\\omega_d}\n",
    "\\end{array}\n",
    "\\right.\n",
    "$$"
   ]
  },
  {
   "cell_type": "markdown",
   "metadata": {},
   "source": [
    "#### 以下采用 scipy.integrate 子模块中的函数求解"
   ]
  },
  {
   "cell_type": "markdown",
   "metadata": {},
   "source": [
    "- 化为一阶方程组及对应的初始条件\n",
    "\n",
    "$$\n",
    "\\dfrac{d}{dt}\\left[\n",
    "\\begin{array}{l}\n",
    "y_0\\\\\n",
    "y_1\n",
    "\\end{array}\n",
    "\\right]\n",
    "=\n",
    "\\left[\n",
    "\\begin{array}{l}\n",
    "y_1\\\\\n",
    "-\\omega^2_ny_0-2\\zeta\\omega_ny_1\n",
    "\\end{array}\n",
    "\\right]\n",
    ",\\qquad\n",
    "\\left[\n",
    "\\begin{array}{c}\n",
    "y_0(0) = z_0\\\\\n",
    "y_1(0) = v_0\n",
    "\\end{array}\n",
    "\\right]\n",
    "$$\n",
    "\n",
    "\n",
    "这里，$y_0 = z,\\quad y_1 = \\dfrac{dz}{dt}$。"
   ]
  },
  {
   "cell_type": "markdown",
   "metadata": {},
   "source": [
    "#### 以下是求解代码"
   ]
  },
  {
   "cell_type": "code",
   "execution_count": null,
   "metadata": {
    "run_control": {
     "frozen": false,
     "read_only": false
    }
   },
   "outputs": [],
   "source": [
    "m, c, k = 0.5, 0.2, 8             # 质量、阻尼、刚度\n",
    "z0, v0 = 4, 0                     # 初位移、初速度\n",
    "t0, t1 = 0, 10                    # 初始时间、结束时间\n",
    "\n",
    "f = lambda t: 0                   # 右端荷载\n",
    "\n",
    "def dydt(t,y):\n",
    "    return (y[1], f(t)-k/m*y[0]-c/m*y[1])\n",
    "\n",
    "y0 = [z0, v0]\n",
    "t_range = [t0, t1]\n",
    "t_eval = np.linspace(t0, t1, 100)\n",
    "\n",
    "sol = sp.integrate.solve_ivp(dydt, t_range, y0, t_eval=t_eval)"
   ]
  },
  {
   "cell_type": "markdown",
   "metadata": {},
   "source": [
    "#### 精确解"
   ]
  },
  {
   "cell_type": "code",
   "execution_count": null,
   "metadata": {},
   "outputs": [],
   "source": [
    "omg_n = np.sqrt(k/m)\n",
    "zeta  = c/(2*omg_n*m)\n",
    "\n",
    "omg_d = omg_n*np.sqrt(1-zeta**2)\n",
    "A = np.sqrt(z0**2+(v0+zeta*omg_n*z0)**2/omg_d**2)\n",
    "phi0 = np.arctan((v0+zeta*omg_n*z0)/(z0*omg_d))\n",
    "\n",
    "def sol_fun_z(t):\n",
    "    return A*np.exp(-zeta*omg_n*t)*np.cos(omg_d*t-phi0)"
   ]
  },
  {
   "cell_type": "code",
   "execution_count": null,
   "metadata": {},
   "outputs": [],
   "source": [
    "t = sol.t\n",
    "appro_z = sol.y[0]\n",
    "exact_z = sol_fun_z(t)\n",
    "\n",
    "plt.plot(t, appro_z, \"*r\", label=r\"近似解\")\n",
    "plt.plot(t, exact_z, \"-g\", label=r\"精确解\")\n",
    "\n",
    "plt.legend()\n",
    "plt.xlabel(\"$t (sec)$\")\n",
    "plt.ylabel(\"z(t)\")\n",
    "plt.title(r\"单自由度质点的衰减振动问题\")"
   ]
  },
  {
   "cell_type": "markdown",
   "metadata": {},
   "source": [
    "#### 示例 3 —— 数学建模中的应用"
   ]
  },
  {
   "cell_type": "markdown",
   "metadata": {},
   "source": [
    "#### 洛特卡－沃尔泰拉方程（Lotka-Volterra equation）求解\n",
    "\n",
    "- 别称掠食者—猎物方程\n",
    "- 阿弗雷德·洛特卡（1925年）与维多·沃尔泰拉（1926年）分别独立发表\n",
    "- 描述生物系统中，掠食者与猎物进行互动时的动态模型，也就是两者族群规模的消长"
   ]
  },
  {
   "cell_type": "markdown",
   "metadata": {},
   "source": [
    "#### 方程形式\n",
    "\n",
    "$$\n",
    "\\left\\{\n",
    "\\begin{array}{lcr}\n",
    "\\,\\,\\dfrac{dx}{dt} & = & x(\\alpha-\\beta y)\\\\\n",
    "\\,\\,\\dfrac{dy}{dt} & = & -y(\\gamma-\\delta x)\n",
    "\\end{array}\n",
    "\\right.\n",
    "$$\n",
    "\n",
    "- $x$ 是猎物数量（如兔子）\n",
    "- $y$ 是掠食者数量（如狼）\n",
    "- $t$ 是时间\n",
    "- $\\alpha$、$\\beta$、$\\gamma$ 和 $\\delta$ 为与动物有关的系数，均为正"
   ]
  },
  {
   "cell_type": "markdown",
   "metadata": {},
   "source": [
    "#### 猎物方程的意义\n",
    "\n",
    "$$\\dfrac{dx}{dt} = \\alpha x -\\beta xy$$\n",
    "\n",
    "- 足够丰富的食物，如果没有掠食者，猎物的数量将以指数方式增长\n",
    "- 当掠食者出现时，猎物遭遇捕食的比例，和猎物遭遇掠食者的机会成常数比"
   ]
  },
  {
   "cell_type": "markdown",
   "metadata": {},
   "source": [
    "#### 掠食者方程的意义\n",
    "\n",
    "$$\\dfrac{dy}{dt} = \\delta xy -\\gamma y$$\n",
    "\n",
    "- 掠食者的增长率，和猎物遭遇掠食者的机会成正比\n",
    "- 如果没有猎物，掠食者的数量将以指数方式衰减"
   ]
  },
  {
   "cell_type": "code",
   "execution_count": null,
   "metadata": {},
   "outputs": [],
   "source": [
    "# 参数\n",
    "\n",
    "alpha = 0.2\n",
    "beta  = 0.05\n",
    "delta = 0.01\n",
    "gamma = 0.1"
   ]
  },
  {
   "cell_type": "markdown",
   "metadata": {},
   "source": [
    "####  记 $u = [x, y]$"
   ]
  },
  {
   "cell_type": "code",
   "execution_count": null,
   "metadata": {},
   "outputs": [],
   "source": [
    "def dudt(t,u):\n",
    "    return (alpha*u[0]-beta*u[0]*u[1], delta*u[0]*u[1]-gamma*u[1])\n",
    "\n",
    "x_init = 40   # 猎物初始数量\n",
    "y_init = 20   # 掠食者初始数量\n",
    "u0 = [x_init, y_init]\n",
    "\n",
    "t0, t1 = 0, 300 # 百年变迁\n",
    "\n",
    "t_range = [t0, t1]\n",
    "t_eval  = np.linspace(t0, t1, 200)\n",
    "\n",
    "sol = integrate.solve_ivp(dudt, t_range, u0, t_eval=t_eval)"
   ]
  },
  {
   "cell_type": "code",
   "execution_count": null,
   "metadata": {},
   "outputs": [],
   "source": [
    "t = sol.t\n",
    "x_sol = sol.y[0]\n",
    "y_sol = sol.y[1]\n",
    "\n",
    "plt.plot(t, x_sol, \"-b\", label=r\"猎物数量\")\n",
    "plt.plot(t, y_sol, \"-r\", label=r\"掠食者数量\")\n",
    "\n",
    "plt.legend()\n",
    "plt.xlabel(\"Year\")\n",
    "plt.title(r\"洛特卡－沃尔泰拉方程求解\")"
   ]
  },
  {
   "cell_type": "markdown",
   "metadata": {},
   "source": [
    "#### 结论\n",
    "\n",
    "- 猎物的数量增加，会引起掠食者数量增加\n",
    "- 两者数量的增长衰减并不是同期的\n",
    "- 掠食者数量最大的时候，猎物数量不是最小，但是对猎物数量抑制程度最大\n",
    "- 猎物数量最小的时候，掠食者数量也急剧下降"
   ]
  },
  {
   "cell_type": "markdown",
   "metadata": {},
   "source": [
    "#### 5.4.3 显式龙格库塔法求解函数 RK23、RK45 简介（自学）\n",
    "\n",
    "\n",
    "- 函数原型\n",
    "\n",
    "```python\n",
    "scipy.integrate.RK23(fun, t0, y0, t_bound, max_step=inf, rtol=0.001, atol=1e-06, vectorized=False, **extraneous)\n",
    "scipy.integrate.RK45(fun, t0, y0, t_bound, max_step=inf, rtol=0.001, atol=1e-06, vectorized=False, **extraneous)\n",
    "```\n",
    "\n",
    "\n",
    "- 主要参数\n",
    "    - 右端项: fun(t, y) 返回浮点数的可回调函数 (注意变量顺序 t, y)\n",
    "    - 初始时间：t0\n",
    "    - 初始状态：y0（数组）\n",
    "    - 时间边界：t_bound（确定积分方向）\n",
    "    - 最大步长：max_step\n",
    "\n",
    "\n",
    "- 返回值\n",
    "    - t：时间数组，维度(n_points,)\n",
    "    - y：对应时点的解数组，维度(n, n_points)"
   ]
  },
  {
   "cell_type": "markdown",
   "metadata": {},
   "source": [
    "#### 5.4.4 更早的求解函数（自学）\n",
    "\n",
    "- odeint(func, y0, t[, args, Dfun, col_deriv, ...])\n",
    "- ode(f[, jac])\n",
    "- complex_ode(f[, jac])"
   ]
  },
  {
   "cell_type": "markdown",
   "metadata": {},
   "source": [
    "上述接口基于 Fortran 程序包较早实现，与新函数相比，它们的\n",
    "\n",
    "- 缺点：\n",
    "    - 易用性不够\n",
    "    - 其它一些缺失\n",
    "    \n",
    "- 优点：\n",
    "    - 快速（Fortran 代码编译）\n",
    "    - 代码质量高"
   ]
  },
  {
   "cell_type": "markdown",
   "metadata": {},
   "source": [
    "#### 5.4.5 ODEs 边值问题\n",
    "\n",
    "\n",
    "- 方程与边界条件\n",
    "\n",
    "$$\n",
    "\\newcommand{\\bc}{\\mathrm{bc}}\n",
    "\\left\\{\n",
    "\\begin{array}{ll}\n",
    "\\dfrac{dy}{dx} = f(x, y, p) + \\dfrac{S \\cdot y}{x-a}, & a\\le x \\le b\\\\\n",
    "\\bc(y(a), y(b), p) = 0 &\n",
    "\\end{array}\n",
    "\\right.\n",
    "$$\n",
    "\n",
    "\n",
    "- 变量说明\n",
    "    - $x$ 为标量型自变量\n",
    "    - $y$ 为 $n$ 维矢量函数\n",
    "    - $p$ 为 $k$ 维未知参数向量\n",
    "\n",
    "\n",
    "- 完全确定解答需要 $n+k$ 个边界条件，即 $\\bc$ 必须是 $n+k$ 维函数\n",
    "\n",
    "\n",
    "- 右端奇异项是可选的，其中 $S$ 是 $n\\times n$ 矩阵\n",
    "\n",
    "\n",
    "- 解必须满足 $S\\cdot y(a) = 0$，才不与边界条件矛盾\n",
    "\n",
    "\n",
    "- 上述边值问题也可定义在复域中"
   ]
  },
  {
   "cell_type": "markdown",
   "metadata": {},
   "source": [
    "#### 求解边值问题函数\n",
    "\n",
    "- 调用 solve_bvp"
   ]
  },
  {
   "cell_type": "markdown",
   "metadata": {},
   "source": [
    "- 函数原型\n",
    "<font color=\"blue\">scipy.integrate.solve_bvp(fun, bc, x, y, p=None, S=None, fun_jac=None, bc_jac=None, tol=0.001, max_nodes=1000, verbose=0)</font>\n",
    "\n",
    "\n",
    "- 主要参数\n",
    "    - 右端项: fun(x, y) 或含参数时的 fun(x, y, p)，返回浮点数的可回调函数 (注意变量顺序)\n",
    "    - 边界条件：bc(ya, yb) 或含参数时的 bc(ya, yb, p)，返回值是 $n$ 或含参时的 $n+k$ 维矢量残量\n",
    "    - x：数组，维度(m,)\n",
    "    - y：数组，维度(n, m)\n",
    "    - p：数组，维度(k,)，参数\n",
    "    - S：二维数组，维度(n, n) 或 None\n",
    "\n",
    "\n",
    "- 返回值\n",
    "    - sol：未知函数解，scipy.interpolate.PPoly 实例\n",
    "    - p：数组或 None，维度(k,)\n",
    "    - x：最后结点\n",
    "    - y：网格结点\n",
    "    - yp：数组，维度(n,m)，解函数的导数"
   ]
  },
  {
   "cell_type": "markdown",
   "metadata": {},
   "source": [
    "#### 示例 1 —— 求解 Bratu 方程\n",
    "\n",
    "\n",
    "$$\\left\\{\n",
    "\\begin{array}{ll}\n",
    "u\"+\\,\\,ke^u=0, & 0\\le x\\le 1\\\\\n",
    "u(0)=u(1)=0 &\n",
    "\\end{array}\n",
    "\\right.\n",
    "$$\n",
    "\n",
    "取参数 $k=1$，并记\n",
    "\n",
    "$$\n",
    "\\left\\{\n",
    "\\begin{array}{l}\n",
    "y[0] = u\\\\\n",
    "y[1] = u\\,'\n",
    "\\end{array}\n",
    "\\right.\n",
    "$$\n",
    "\n",
    "于是方程化为一阶形式\n",
    "\n",
    "$$\n",
    "\\left[\n",
    "\\begin{array}{c}\n",
    "y[0]\\\\\n",
    "y[1]\n",
    "\\end{array}\n",
    "\\right]'=\n",
    "\\left[\n",
    "\\begin{array}{c}\n",
    "y[1]\\\\\n",
    "-e^{y[0]}\n",
    "\\end{array}\n",
    "\\right]\n",
    "$$\n",
    "\n",
    "边界条件化为\n",
    "\n",
    "$$y[0]_{x=0}=0, y[0]_{x=1}=0$$"
   ]
  },
  {
   "cell_type": "markdown",
   "metadata": {},
   "source": [
    "#### 定义方程右端项"
   ]
  },
  {
   "cell_type": "code",
   "execution_count": null,
   "metadata": {},
   "outputs": [],
   "source": [
    "def fun(x, y):\n",
    "    return np.vstack((y[1], -np.exp(y[0])))"
   ]
  },
  {
   "cell_type": "markdown",
   "metadata": {},
   "source": [
    "#### 定义边界条件残差"
   ]
  },
  {
   "cell_type": "code",
   "execution_count": null,
   "metadata": {},
   "outputs": [],
   "source": [
    "def bc(ya, yb):\n",
    "    return np.array([ya[0], yb[0]])"
   ]
  },
  {
   "cell_type": "code",
   "execution_count": null,
   "metadata": {},
   "outputs": [],
   "source": [
    "x = np.linspace(0, 1, 50)\n",
    "y_1 = np.zeros((2, x.size))\n",
    "y_2 = np.zeros((2, x.size))\n",
    "y_2[0] = 3\n",
    "\n",
    "\n",
    "res_1 = sp.integrate.solve_bvp(fun, bc, x, y_1)\n",
    "res_2 = sp.integrate.solve_bvp(fun, bc, x, y_2)"
   ]
  },
  {
   "cell_type": "code",
   "execution_count": null,
   "metadata": {},
   "outputs": [],
   "source": [
    "x_plot   = np.linspace(0,1,100)\n",
    "y_plot_1 = res_1.sol(x_plot)[0]\n",
    "y_plot_2 = res_2.sol(x_plot)[0]\n",
    "\n",
    "plt.plot(x_plot, y_plot_1, label='sol_1')\n",
    "plt.plot(x_plot, y_plot_2, label='sol_2')\n",
    "\n",
    "plt.legend()\n",
    "plt.xlabel(\"x\")\n",
    "plt.ylabel(\"y\")"
   ]
  },
  {
   "cell_type": "markdown",
   "metadata": {},
   "source": [
    "#### 小结\n",
    "\n",
    "- 两个解的形状相似\n",
    "- 数值相差较大"
   ]
  },
  {
   "cell_type": "markdown",
   "metadata": {},
   "source": [
    "#### 5.4.6 二阶线性常微分方程的边值问题\n",
    "\n",
    "- 方程和边界条件\n",
    "\n",
    "$$\n",
    "\\left\\{\n",
    "\\begin{array}{l}\n",
    "y\\,''+p(x)y\\,'+q(x)y = f(x)\\\\\n",
    "y(a)=y_a, y(b)=y_b\n",
    "\\end{array}\n",
    "\\right.\n",
    "$$"
   ]
  },
  {
   "cell_type": "markdown",
   "metadata": {},
   "source": [
    "#### (一) 分解成两个初值问题求解"
   ]
  },
  {
   "cell_type": "markdown",
   "metadata": {},
   "source": [
    "#### (1) 初值问题一\n",
    "\n",
    "$$\n",
    "\\left\\{\n",
    "\\begin{array}{l}\n",
    "y_1''+p(x)y_1'+q(x)y_1 = f(x)\\\\\n",
    "y_1(a)=y_a\\\\\n",
    "y_1'(a) = 0\n",
    "\\end{array}\n",
    "\\right.\n",
    "$$\n",
    "\n",
    "设其解为 $y_1(x)$"
   ]
  },
  {
   "cell_type": "markdown",
   "metadata": {},
   "source": [
    "#### (2) 初值问题二\n",
    "\n",
    "$$\n",
    "\\left\\{\n",
    "\\begin{array}{l}\n",
    "y_2''+p(x)y_2'+q(x)y_2 = 0\\\\\n",
    "y_2(a)=0\\\\\n",
    "y_2'(a) = 1\n",
    "\\end{array}\n",
    "\\right.\n",
    "$$\n",
    "\n",
    "设其解为 $y_2(x)$"
   ]
  },
  {
   "cell_type": "markdown",
   "metadata": {},
   "source": [
    "#### (3) 原方程解\n",
    "\n",
    "$$y(x) = y_1(x) + \\dfrac{y_b - y_1(b)}{y_2(b)}y_2(x)$$\n",
    "\n",
    "\n",
    "- $y_1(x)$ 是齐次方程的通解\n",
    "- $y_2(x)$ 是非齐次方程的一个特解\n",
    "\n",
    "\n",
    "不难验证，上述 $y(x)$ 为边值问题的解"
   ]
  },
  {
   "cell_type": "markdown",
   "metadata": {},
   "source": [
    "#### 示例 1 —— 求解方程\n",
    "\n",
    "\n",
    "- 方程\n",
    "\n",
    "$$y'' + y = 2x,\\quad 0\\le x\\le \\dfrac{9\\pi}{2}$$\n",
    "\n",
    "\n",
    "- 边界条件\n",
    "\n",
    "$$y(0) = 0, \\quad y\\left(\\dfrac{9\\pi}{2}\\right) = 1+9\\pi$$\n",
    "\n",
    "\n",
    "- 精确解\n",
    "\n",
    "$$y=\\sin x + 2x$$"
   ]
  },
  {
   "cell_type": "markdown",
   "metadata": {},
   "source": [
    "#### 解：下面  将原边值问题  分解成  两个初值问题  分别求解"
   ]
  },
  {
   "cell_type": "markdown",
   "metadata": {},
   "source": [
    "#### (1) 求解初值问题一\n",
    "\n",
    "$$\n",
    "\\left\\{\n",
    "\\begin{array}{l}\n",
    "y_1''+ y_1 = 2x\\\\\n",
    "y_1(0)=\\alpha=0\\\\\n",
    "y_1'(0) = 0\n",
    "\\end{array}\n",
    "\\right.\n",
    "$$"
   ]
  },
  {
   "cell_type": "code",
   "execution_count": 7,
   "metadata": {},
   "outputs": [],
   "source": [
    "x0, x1      = 0, 4.5*np.pi           # 自变量的上下限\n",
    "x_range = [x0, x1]                   # 自变量区间\n",
    "x_eval = np.linspace(x0, x1, 101)    # 自变量离散数组"
   ]
  },
  {
   "cell_type": "code",
   "execution_count": 9,
   "metadata": {
    "run_control": {
     "frozen": false,
     "read_only": false
    }
   },
   "outputs": [],
   "source": [
    "y1_0, y1p_0 = 0, 0                   # 解函数 y1 及其一阶导数 y1p 的初值\n",
    "\n",
    "def dy1dx(x,y1):                     # 定义初值问题一的右端项\n",
    "    return (y1[1], 2*x-y1[0])\n",
    "\n",
    "y10 = [y1_0, y1p_0]\n",
    "sol1 = sp.integrate.solve_ivp(dy1dx, x_range, y10, t_eval=x_eval)"
   ]
  },
  {
   "cell_type": "markdown",
   "metadata": {},
   "source": [
    "#### (2) 求解初值问题二\n",
    "\n",
    "$$\n",
    "\\left\\{\n",
    "\\begin{array}{l}\n",
    "y_2''+y_2 = 0\\\\\n",
    "y_2(0)=0\\\\\n",
    "y_2'(0) = 1\n",
    "\\end{array}\n",
    "\\right.\n",
    "$$"
   ]
  },
  {
   "cell_type": "code",
   "execution_count": 8,
   "metadata": {
    "run_control": {
     "frozen": false,
     "read_only": false
    }
   },
   "outputs": [],
   "source": [
    "y2_0, y2p_0 = 0, 1                   # 解函数 y2 及其一阶导数 y2p 的初值\n",
    "\n",
    "def dy2dx(x,y2):                     # 定义初值问题二的右端项\n",
    "    return (y2[1], -y2[0])\n",
    "\n",
    "y20 = [y2_0, y2p_0]\n",
    "sol2 = sp.integrate.solve_ivp(dy2dx, x_range, y20, t_eval=x_eval)"
   ]
  },
  {
   "cell_type": "markdown",
   "metadata": {},
   "source": [
    "#### (3) 组合得到原方程的数值解\n",
    "\n",
    "\n",
    "$$y(x) = y_1(x) + \\dfrac{1+9\\pi - y_1\\left(\\dfrac{9\\pi}{2}\\right)}{y_2\\left(\\dfrac{9\\pi}{2}\\right)}y_2(x)$$"
   ]
  },
  {
   "cell_type": "markdown",
   "metadata": {},
   "source": [
    "#### (4) 绘制数值解与精确解的图形\n",
    "\n",
    "- 注意 精确解为\n",
    "\n",
    "$$y=\\sin x+2x$$"
   ]
  },
  {
   "cell_type": "code",
   "execution_count": 10,
   "metadata": {},
   "outputs": [
    {
     "data": {
      "text/plain": [
       "Text(0.5,1,'approximate solution')"
      ]
     },
     "execution_count": 10,
     "metadata": {},
     "output_type": "execute_result"
    },
    {
     "data": {
      "image/png": "[encoded data removed]",
      "text/plain": [
       "<Figure size 432x288 with 1 Axes>"
      ]
     },
     "metadata": {},
     "output_type": "display_data"
    }
   ],
   "source": [
    "x = sol1.t\n",
    "\n",
    "y1 = sol1.y[0]\n",
    "y2 = sol2.y[0]\n",
    "approx_y  = y1 + (1+9*np.pi-y1[-1])/y2[-1]*y2             # 原边值问题的近似解\n",
    "exact_y   = np.sin(x) + 2*x                               # 原边值问题的精确解\n",
    "\n",
    "plt.plot(x[::4], approx_y[::4], \"*r\", label=r\"近似解\")    # 近似解散点图\n",
    "plt.plot(x, exact_y, \"-b\", label=r\"精确解\")               # 精确解曲线图\n",
    "\n",
    "plt.legend()\n",
    "plt.xlabel(\"$x$\")\n",
    "plt.ylabel(\"y(x)\")\n",
    "plt.title(\"approximate solution\")"
   ]
  },
  {
   "cell_type": "markdown",
   "metadata": {},
   "source": [
    "#### (二) 采用打靶法求解\n",
    "\n",
    "- 详见 **5.4.7 打靶法 —— 求解二阶常微分方程边值问题**"
   ]
  },
  {
   "cell_type": "markdown",
   "metadata": {},
   "source": [
    "#### 5.4.7 打靶法 —— 求解二阶常微分方程边值问题\n",
    "\n",
    "- 方程的一般形式\n",
    "\n",
    "$$y'' = f(x, y, y'),\\quad a \\le x \\le b$$\n",
    "\n",
    "\n",
    "- 边界条件\n",
    "\n",
    "$$y(a) = \\alpha, \\quad y(b) = \\beta$$"
   ]
  },
  {
   "cell_type": "markdown",
   "metadata": {},
   "source": [
    "- 将原二阶方程转化为一阶方程组\n",
    "\n",
    "记 $[u_0, u_1]=[y, y']$，方程变为\n",
    "\n",
    "$$\n",
    "\\dfrac{d}{dx}\n",
    "\\left[\n",
    "\\begin{array}{c}\n",
    "u_0\\\\\n",
    "u_1\n",
    "\\end{array}\n",
    "\\right]\n",
    "=\n",
    "\\left[\n",
    "\\begin{array}{c}\n",
    "u_1\\\\\n",
    "f(x,u0,u1)\n",
    "\\end{array}\n",
    "\\right]\n",
    ",\\quad a \\le x \\le b\n",
    "$$"
   ]
  },
  {
   "cell_type": "markdown",
   "metadata": {},
   "source": [
    "- 第1步，取初始条件\n",
    "\n",
    "$$\n",
    "\\left[\n",
    "\\begin{array}{c}\n",
    "u_0(a)\\\\\n",
    "u_1(a)\n",
    "\\end{array}\n",
    "\\right]\n",
    "=\n",
    "\\left[\n",
    "\\begin{array}{c}\n",
    "\\alpha \\\\\n",
    "p_1\n",
    "\\end{array}\n",
    "\\right]\n",
    "$$\n",
    "\n",
    "其中，$p_1$ 为第一次试探值，相当于取 $y'(a)=p_1$。\n",
    "\n",
    "\n",
    "- 求解初始值问题，得到第一步近似解 $y^{(1)}$\n",
    "\n",
    "\n",
    "- 记 $\\beta_1=y^{(1)}(b)$，检验 $\\left|\\,\\beta_1-\\beta\\,\\right|<\\varepsilon$ 是否成立？\n",
    "    - 如果成立则得到所求解，跳出\n",
    "    - 如果不成立则进入下一步"
   ]
  },
  {
   "cell_type": "markdown",
   "metadata": {},
   "source": [
    "- 第2步，又取初始条件\n",
    "\n",
    "$$\n",
    "\\left[\n",
    "\\begin{array}{c}\n",
    "u_0(a)\\\\\n",
    "u_1(a)\n",
    "\\end{array}\n",
    "\\right]\n",
    "=\n",
    "\\left[\n",
    "\\begin{array}{c}\n",
    "\\alpha \\\\\n",
    "p_2\n",
    "\\end{array}\n",
    "\\right]\n",
    "$$\n",
    "\n",
    "其中，$p_2$ 为第二次试探值，相当于取 $y'(a)=p_2$。\n",
    "\n",
    "\n",
    "- 求解初始值问题，得到第一步近似解 $y^{(2)}$\n",
    "\n",
    "\n",
    "- 记 $\\beta_2=y^{(2)}(b)$，检验 $\\left|\\,\\beta_2-\\beta\\,\\right|<\\varepsilon$ 是否成立？\n",
    "    - 如果成立则得到所求解，跳出\n",
    "    - 如果不成立则进入下一步"
   ]
  },
  {
   "cell_type": "markdown",
   "metadata": {},
   "source": [
    "- 循环迭代\n",
    "\n",
    "记 $p_{n+2}=p_n+\\dfrac{p_{n+1}-p_n}{\\beta_{n+1}-\\beta_n}(\\beta-\\beta_n)$，取初始条件为\n",
    "\n",
    "$$\n",
    "\\left[\n",
    "\\begin{array}{c}\n",
    "u_0(a)\\\\\n",
    "u_1(a)\n",
    "\\end{array}\n",
    "\\right]\n",
    "=\n",
    "\\left[\n",
    "\\begin{array}{c}\n",
    "\\alpha \\\\\n",
    "p_{n+2}\n",
    "\\end{array}\n",
    "\\right]\n",
    "$$\n",
    "\n",
    "其中，$p_{n+2}$ 为第 $n+2$ 次试探值，相当于取 $y'(a)=p_{n+2}$。\n",
    "\n",
    "\n",
    "- 求解初始值问题，得到第 $n+2$ 步近似解 $y^{(n+2)}$\n",
    "\n",
    "\n",
    "- 记 $\\beta_{n+2}=y^{(n+2)}(b)$，检验 $\\left|\\,\\beta_{n+2}-\\beta\\,\\right|<\\varepsilon$ 是否成立？\n",
    "    - 如果成立则得到所求解，跳出\n",
    "    - 如果不成立则继续循环，直到得到满足精度要求的解"
   ]
  },
  {
   "cell_type": "markdown",
   "metadata": {},
   "source": [
    "#### 示例 —— 略"
   ]
  },
  {
   "cell_type": "markdown",
   "metadata": {},
   "source": [
    "### 结束"
   ]
  }
 ],
 "metadata": {
  "kernelspec": {
   "display_name": "Python 3",
   "language": "python",
   "name": "python3"
  },
  "language_info": {
   "codemirror_mode": {
    "name": "ipython",
    "version": 3
   },
   "file_extension": ".py",
   "mimetype": "text/x-python",
   "name": "python",
   "nbconvert_exporter": "python",
   "pygments_lexer": "ipython3",
   "version": "3.6.5"
  }
 },
 "nbformat": 4,
 "nbformat_minor": 1
}
