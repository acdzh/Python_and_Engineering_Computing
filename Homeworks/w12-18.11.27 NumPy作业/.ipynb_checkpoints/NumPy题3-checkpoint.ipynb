{
 "cells": [
  {
   "cell_type": "markdown",
   "metadata": {},
   "source": [
    "### NumPy题 3（难度：较难）\n",
    "\n",
    "以下代码，首先，利用正态分布函数生成 $100$ 个平面点的坐标。"
   ]
  },
  {
   "cell_type": "code",
   "execution_count": 12,
   "metadata": {},
   "outputs": [
    {
     "name": "stdout",
     "output_type": "stream",
     "text": [
      "XY =\n",
      "[[ -0.5149473  14.715865 ]\n",
      " [  5.0435395 -19.478907 ]\n",
      " [ -7.842506   -3.1992111]\n",
      " [ -1.1164366  -6.2031355]\n",
      " [ -2.972085    2.4569926]\n",
      " [ 10.783074   -2.3901439]\n",
      " [ -5.6108737 -16.56825  ]\n",
      " [ -6.5750856 -14.4768505]\n",
      " [  6.1310344 -17.095863 ]\n",
      " [ -1.6798671   0.5305678]]\n",
      "\n"
     ]
    }
   ],
   "source": [
    "import numpy as np\n",
    "\n",
    "np.random.seed(201811)     # 随机种子取 201811\n",
    "\n",
    "number_of_point = 10      # 还不能算大数据，只有一百个点\n",
    "dimension = 2\n",
    "\n",
    "mean = 0                   # 均值 0\n",
    "stdv = 10                  # 标准差 10\n",
    "\n",
    "XY = np.random.normal(mean, stdv, (number_of_point, dimension)).astype(\"float32\")  # 一般正态分布\n",
    "\n",
    "print(\"XY =\\n{0}\\n\".format(XY))   # 输出坐标矩阵，首列为横坐标 $x$，次列为纵坐标 $y$"
   ]
  },
  {
   "cell_type": "markdown",
   "metadata": {},
   "source": [
    "其次，定义函数 ComputeDistances(XY) 计算全部点对的距离，并以二维数组形式返回结果。"
   ]
  },
  {
   "cell_type": "code",
   "execution_count": 13,
   "metadata": {},
   "outputs": [],
   "source": [
    "def ComputeDistances(XY):\n",
    "    '''\n",
    "    函数功能：计算全部平面点对的距离，并返回二维结果数组\n",
    "    入口参数：XY 二维坐标数组，XY.shape=(num, 2)，num为点数\n",
    "    出口参数：d，结果数组，d.shape=(num, num)，d[i,j]为点i和点j的距离\n",
    "    调用方式：d = ComputeDistances(XY)\n",
    "    '''\n",
    "    ndim = XY.shape[0]\n",
    "    d = np.empty((ndim, ndim), dtype=\"float32\")\n",
    "    for i in range(ndim):\n",
    "        for j in range(ndim):\n",
    "            d[i,j] = np.sqrt((XY[i,0]-XY[j,0])**2+(XY[i,1]-XY[j,1])**2)\n",
    "            \n",
    "    return d"
   ]
  },
  {
   "cell_type": "markdown",
   "metadata": {},
   "source": [
    "下面，通过魔法命令测试了函数 ComputeDistances 的运行速度，结果让人很不满意。"
   ]
  },
  {
   "cell_type": "code",
   "execution_count": 14,
   "metadata": {},
   "outputs": [
    {
     "name": "stdout",
     "output_type": "stream",
     "text": [
      "673 µs ± 62.5 µs per loop (mean ± std. dev. of 7 runs, 1000 loops each)\n"
     ]
    }
   ],
   "source": [
    "%timeit d = ComputeDistances(XY)"
   ]
  },
  {
   "cell_type": "markdown",
   "metadata": {},
   "source": [
    "现在，要你\n",
    "\n",
    "1. 尝试用 NumPy 的通用函数、广播等手段来重新编写代码进行计算。\n",
    "2. 采用魔法命令 `%timeit` 测试你所编写代码的运行速度。"
   ]
  },
  {
   "cell_type": "code",
   "execution_count": 15,
   "metadata": {},
   "outputs": [],
   "source": [
    "# 在此单元格重写代码\n",
    "def ComputeDistances_fast(XY):\n",
    "    d = np.sqrt(((XY-XY[:,np.newaxis]) ** 2).sum(axis = 2))\n",
    "    return d"
   ]
  },
  {
   "cell_type": "code",
   "execution_count": 16,
   "metadata": {},
   "outputs": [
    {
     "name": "stdout",
     "output_type": "stream",
     "text": [
      "8.94 µs ± 217 ns per loop (mean ± std. dev. of 7 runs, 100000 loops each)\n"
     ]
    }
   ],
   "source": [
    "%timeit d = ComputeDistances_fast(XY)"
   ]
  },
  {
   "cell_type": "code",
   "execution_count": 17,
   "metadata": {},
   "outputs": [
    {
     "name": "stdout",
     "output_type": "stream",
     "text": [
      "time used by ComputeCosine is: 673 (ns)\n",
      "time used by fast code is: 8.94 (ns)\n",
      "time_ratio = 75.27964205816555\n"
     ]
    }
   ],
   "source": [
    "time_ComputeDistances = 673\n",
    "time_FastCode = 8.94 \n",
    "print(\"time used by ComputeCosine is: {0} (ns)\".format(time_ComputeDistances))\n",
    "print(\"time used by fast code is: {0} (ns)\".format(time_FastCode))\n",
    "print(\"time_ratio = {0}\".format(time_ComputeDistances/time_FastCode))"
   ]
  }
 ],
 "metadata": {
  "kernelspec": {
   "display_name": "Python 3",
   "language": "python",
   "name": "python3"
  },
  "language_info": {
   "codemirror_mode": {
    "name": "ipython",
    "version": 3
   },
   "file_extension": ".py",
   "mimetype": "text/x-python",
   "name": "python",
   "nbconvert_exporter": "python",
   "pygments_lexer": "ipython3",
   "version": "3.6.5"
  }
 },
 "nbformat": 4,
 "nbformat_minor": 2
}
