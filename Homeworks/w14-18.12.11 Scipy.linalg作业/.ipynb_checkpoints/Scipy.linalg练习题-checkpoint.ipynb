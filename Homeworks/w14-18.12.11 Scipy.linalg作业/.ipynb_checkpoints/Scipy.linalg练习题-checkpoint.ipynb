{
 "cells": [
  {
   "cell_type": "markdown",
   "metadata": {},
   "source": [
    "# scipy.linalg 练习题（含参考答案）"
   ]
  },
  {
   "cell_type": "markdown",
   "metadata": {},
   "source": [
    "### 姓名：acdzh\n",
    "\n",
    "### 学号：1234567"
   ]
  },
  {
   "cell_type": "code",
   "execution_count": 1,
   "metadata": {},
   "outputs": [],
   "source": [
    "import numpy as np\n",
    "\n",
    "import scipy as sp\n",
    "from scipy import linalg"
   ]
  },
  {
   "cell_type": "markdown",
   "metadata": {},
   "source": [
    "### Ex-1：已知矩阵\n",
    "\n",
    "$$\n",
    "A=\n",
    "\\left[\n",
    "\\begin{array}{cccc}\n",
    "4 & 3 & 8 & 0 \\\\\n",
    "3 &-1 & 2 & 4 \\\\\n",
    "0 & 7 & 5 & 3 \\\\\n",
    "2 & 4 & 3 & 0\n",
    "\\end{array}\n",
    "\\right]\n",
    "$$\n",
    "\n",
    "- (1) 试用 scipy 的子模块 linalg 中的函数，求其逆矩阵\n",
    "- (2) 将求得的逆矩阵与原矩阵相乘，说明求得的逆矩阵精度如何"
   ]
  },
  {
   "cell_type": "code",
   "execution_count": 2,
   "metadata": {},
   "outputs": [],
   "source": [
    "A_1 = np.array([[4, 3, 8, 0],[3, -1, 2, 4],[0, 7, 5, 3],[2, 4, 3, 0]])\n",
    "B_1 = linalg.inv(A_1)"
   ]
  },
  {
   "cell_type": "code",
   "execution_count": 3,
   "metadata": {
    "scrolled": true
   },
   "outputs": [
    {
     "name": "stdout",
     "output_type": "stream",
     "text": [
      "Ainv = \n",
      "[[-0.07855626  0.14649682 -0.19532909  0.4373673 ]\n",
      " [-0.11677282 -0.02547771  0.03397028  0.27176221]\n",
      " [ 0.20806794 -0.06369427  0.08492569 -0.32059448]\n",
      " [-0.07430998  0.1656051   0.11252654 -0.09978769]]\n",
      "\n"
     ]
    }
   ],
   "source": [
    "# (1)A的逆矩阵\n",
    "print(\"Ainv = \\n{0}\\n\".format(B_1))"
   ]
  },
  {
   "cell_type": "code",
   "execution_count": 4,
   "metadata": {},
   "outputs": [
    {
     "name": "stdout",
     "output_type": "stream",
     "text": [
      "AAinv = \n",
      "[[ 1.00000000e+00 -4.16333634e-17  4.16333634e-17  2.22044605e-16]\n",
      " [ 5.55111512e-17  1.00000000e+00 -5.55111512e-17  1.11022302e-16]\n",
      " [ 2.22044605e-16  0.00000000e+00  1.00000000e+00  2.22044605e-16]\n",
      " [ 5.55111512e-17 -5.55111512e-17  5.55111512e-17  1.00000000e+00]]\n",
      "\n"
     ]
    }
   ],
   "source": [
    "# (2)A与A的逆矩阵相乘...精度还行..\n",
    "print(\"AAinv = \\n{0}\\n\".format(A_1.dot(B_1)))"
   ]
  },
  {
   "cell_type": "markdown",
   "metadata": {},
   "source": [
    "### Ex-2： 按以下步骤求矩阵逆\n",
    "\n",
    "- 采用 np.random.seed 命令设置随机种子为 201812\n",
    "- 采用 np.random.random 命令生成一 $6\\times 6$ 的矩阵 $B$，其每一元素都是 $(0, 1)$ 区间上均匀分布的随机数\n",
    "- 构造对称矩阵 $A=BB^T$\n",
    "- 求 $A$ 的逆矩阵 $A_{inv}$\n",
    "- 计算 $AA_{inv}$，根据结果说明求逆矩阵的精度如何？"
   ]
  },
  {
   "cell_type": "code",
   "execution_count": 5,
   "metadata": {},
   "outputs": [
    {
     "name": "stdout",
     "output_type": "stream",
     "text": [
      "A = \n",
      "[[1.38502286 0.9569947  1.62709862 0.7815001  0.9402252  0.849826  ]\n",
      " [0.9569947  2.36059296 1.46707137 1.12359511 0.85014677 0.67422486]\n",
      " [1.62709862 1.46707137 2.58981414 1.21889058 1.09290956 1.39894541]\n",
      " [0.7815001  1.12359511 1.21889058 0.89600113 0.59646329 0.85732228]\n",
      " [0.9402252  0.85014677 1.09290956 0.59646329 1.23044528 0.79740201]\n",
      " [0.849826   0.67422486 1.39894541 0.85732228 0.79740201 1.40463775]]\n",
      "\n"
     ]
    }
   ],
   "source": [
    "# Ex-2\n",
    "np.random.seed(201812)\n",
    "B_2 = np.random.random((6,6))\n",
    "A_2 = B_2.dot(B_2.T)\n",
    "print(\"A = \\n{0}\\n\".format(A_2))"
   ]
  },
  {
   "cell_type": "code",
   "execution_count": 6,
   "metadata": {},
   "outputs": [
    {
     "name": "stdout",
     "output_type": "stream",
     "text": [
      "Ainv = \n",
      "[[ 4.09280875  0.710648   -2.23464266 -1.53630055 -1.76090153  1.34560129]\n",
      " [ 0.710648    1.82929208 -0.45728888 -3.28947162 -0.87768849  1.6534147 ]\n",
      " [-2.23464266 -0.45728888  2.48878618 -0.18255021  0.65991797 -1.17042176]\n",
      " [-1.53630055 -3.28947162 -0.18255021  9.76598948  1.57286118 -4.16334641]\n",
      " [-1.76090153 -0.87768849  0.65991797  1.57286118  2.37416927 -1.47837846]\n",
      " [ 1.34560129  1.6534147  -1.17042176 -4.16334641 -1.47837846  3.6502276 ]]\n",
      "\n"
     ]
    }
   ],
   "source": [
    "# Ainv\n",
    "A_2_inv = linalg.inv(A_2)\n",
    "print(\"Ainv = \\n{0}\\n\".format(A_2_inv))"
   ]
  },
  {
   "cell_type": "code",
   "execution_count": 7,
   "metadata": {},
   "outputs": [
    {
     "name": "stdout",
     "output_type": "stream",
     "text": [
      "AAinv = \n",
      "[[ 1.00000000e+00 -7.15806145e-17  7.54074776e-16  4.67374225e-16\n",
      "  -5.19418545e-17 -6.63960368e-16]\n",
      " [-1.00635399e-15  1.00000000e+00  7.00890916e-17  2.66857042e-15\n",
      "   9.60253233e-16 -2.00650555e-15]\n",
      " [-2.13186680e-15 -2.05118496e-16  1.00000000e+00  1.29095886e-15\n",
      "   5.03822516e-16 -1.80656065e-15]\n",
      " [-1.22227839e-15 -5.82266290e-16  5.33137868e-16  1.00000000e+00\n",
      "   7.72618955e-16 -1.31223117e-15]\n",
      " [-7.37929289e-16 -4.07297141e-16  6.89503042e-16  2.55140705e-16\n",
      "   1.00000000e+00 -8.34602519e-16]\n",
      " [-5.68381756e-16 -4.96048281e-16  1.06516697e-16  4.71959396e-16\n",
      "   3.36382565e-16  1.00000000e+00]]\n",
      "\n"
     ]
    }
   ],
   "source": [
    "# AAinv\n",
    "print(\"AAinv = \\n{0}\\n\".format(A_2.dot(A_2_inv)))"
   ]
  },
  {
   "cell_type": "markdown",
   "metadata": {},
   "source": [
    "### Ex-3 求解线性方程组 \n",
    "\n",
    "- 采用 np.random.randn 命令生成一个含6个元素的随机向量 $b$，其每个元素都是服从标准正态分布的随机数\n",
    "- 求解线性方程组 $Ax=b$，这里，系数矩阵 $A$ 为 Ex-2 中生成的对称矩阵\n",
    "- 计算 $Ax-b$，根据结果说明求解线性代数方程组的精度如何？"
   ]
  },
  {
   "cell_type": "code",
   "execution_count": 8,
   "metadata": {},
   "outputs": [
    {
     "name": "stdout",
     "output_type": "stream",
     "text": [
      "x =  [-7.66317109  3.25680428  4.27082745 -8.89396287  3.84279198  2.29106575]\n"
     ]
    }
   ],
   "source": [
    "# Ex-3\n",
    "b = np.random.randn(6)\n",
    "x = linalg.solve(A_2, b)\n",
    "print(\"x = \", x)"
   ]
  },
  {
   "cell_type": "code",
   "execution_count": 9,
   "metadata": {},
   "outputs": [
    {
     "name": "stdout",
     "output_type": "stream",
     "text": [
      "Ax - b = \n",
      " [-1.99840144e-15 -2.22044605e-15 -1.83186799e-15  1.11022302e-16\n",
      " -6.66133815e-16 -1.22124533e-15]\n"
     ]
    }
   ],
   "source": [
    "print(\"Ax - b = \\n\", A_2.dot(x) - b)"
   ]
  }
 ],
 "metadata": {
  "kernelspec": {
   "display_name": "Python 3",
   "language": "python",
   "name": "python3"
  },
  "language_info": {
   "codemirror_mode": {
    "name": "ipython",
    "version": 3
   },
   "file_extension": ".py",
   "mimetype": "text/x-python",
   "name": "python",
   "nbconvert_exporter": "python",
   "pygments_lexer": "ipython3",
   "version": "3.6.5"
  }
 },
 "nbformat": 4,
 "nbformat_minor": 2
}
