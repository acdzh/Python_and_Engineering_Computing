{
 "cells": [
  {
   "cell_type": "markdown",
   "metadata": {},
   "source": [
    "# scipy.integrate 练习题"
   ]
  },
  {
   "cell_type": "markdown",
   "metadata": {},
   "source": [
    "### 姓名：acdzh\n",
    "\n",
    "### 学号：1234567"
   ]
  },
  {
   "cell_type": "code",
   "execution_count": 1,
   "metadata": {},
   "outputs": [],
   "source": [
    "import numpy as np\n",
    "\n",
    "import scipy as sp\n",
    "from scipy import integrate, special \n",
    "\n",
    "import matplotlib as mpl\n",
    "import matplotlib.pyplot as plt\n",
    "\n",
    "%matplotlib inline\n",
    "\n",
    "mpl.rcParams['font.sans-serif']    = ['SimHei'];\n",
    "mpl.rcParams['axes.unicode_minus'] = False"
   ]
  },
  {
   "cell_type": "markdown",
   "metadata": {},
   "source": [
    "### Ex-1：试计算定积分\n",
    "\n",
    "$I = \\int_{0}^{1}\\,\\left(x^5+4x^3+20x - 10\\right)dx$\n",
    "\n",
    "#### 提示：圆周率、自然对数的底分别为 ``sp.pi`` 、 ``sp.e``"
   ]
  },
  {
   "cell_type": "code",
   "execution_count": 2,
   "metadata": {},
   "outputs": [
    {
     "data": {
      "text/plain": [
       "(1.1666666666666672, 6.721768031074393e-14)"
      ]
     },
     "execution_count": 2,
     "metadata": {},
     "output_type": "execute_result"
    }
   ],
   "source": [
    "# Ex-1\n",
    "# Integrate[x^5+4x^3+20x-10, {x, 0, 1}]\n",
    "\n",
    "f1 = lambda x: x**5 + 4 * x**3 + 20 * x - 10\n",
    "integrate.quad(f1, 0, 1)"
   ]
  },
  {
   "cell_type": "markdown",
   "metadata": {},
   "source": [
    "### Ex-2：试计算定积分\n",
    "\n",
    "$I = \\int_{e}^{\\sqrt{6\\pi}}\\,x\\sin^2(x)dx$\n",
    "\n",
    "#### 提示：圆周率、自然对数的底分别为 ``sp.pi`` 、 ``sp.e``"
   ]
  },
  {
   "cell_type": "code",
   "execution_count": 3,
   "metadata": {},
   "outputs": [
    {
     "data": {
      "text/plain": [
       "(1.7979613157766583, 1.9961380501605876e-14)"
      ]
     },
     "execution_count": 3,
     "metadata": {},
     "output_type": "execute_result"
    }
   ],
   "source": [
    "# Ex-2\n",
    "# Integrate[xsin(x)^2, {x, e, sqrt(6pi)}]\n",
    "\n",
    "integrate.quad(lambda x: x * np.sin(x)**2, sp.e, np.sqrt(6 * sp.pi))"
   ]
  },
  {
   "cell_type": "markdown",
   "metadata": {},
   "source": [
    "### Ex-3：试计算特殊函数的定积分\n",
    "$I = \\int^{4.5}_{0}J_{2.5}(x)\\,dx = 1.117817938088701$\n",
    "#### 提示：调用函数 ```special.jv(2.5,x)```"
   ]
  },
  {
   "cell_type": "code",
   "execution_count": 4,
   "metadata": {},
   "outputs": [
    {
     "data": {
      "text/plain": [
       "(1.1178179380783244, 7.866317216380707e-09)"
      ]
     },
     "execution_count": 4,
     "metadata": {},
     "output_type": "execute_result"
    }
   ],
   "source": [
    "# Ex-3\n",
    "# Integrate[BesselJ[2.5, x], {x, 0, 4.5}]\n",
    "\n",
    "integrate.quad(lambda x: special.jv(2.5, x), 0, 4.5)"
   ]
  },
  {
   "cell_type": "markdown",
   "metadata": {},
   "source": [
    "### Ex-4：试计算广义积分\n",
    "\n",
    "$I(x) = \\int^{\\infty}_{1}{\\dfrac{e^{-xt}}{t^n}\\,dt}$\n",
    "\n",
    "#### 这里：$n$ 是参数，取 $n=2.5$，做出 $x$ 从 1 到 10 范围的积分函数曲线"
   ]
  },
  {
   "cell_type": "code",
   "execution_count": 5,
   "metadata": {},
   "outputs": [
    {
     "data": {
      "image/png": "[encoded data removed]",
      "text/plain": [
       "<Figure size 432x288 with 1 Axes>"
      ]
     },
     "metadata": {},
     "output_type": "display_data"
    }
   ],
   "source": [
    "# Ex-4\n",
    "# f(x) = Integrate[exp(-x*t)/t^2.5, {t, 1, \\[Infinity]}]\n",
    "# plot[f(x), {x, 1, 10}]\n",
    "\n",
    "f4 = lambda t, n, x: (sp.e ** (-1 * x * t)) / t ** n\n",
    "\n",
    "def novec_luad_f4(x):\n",
    "    temp, _ = integrate.quad(f4, 1, np.inf, args=(2.5, x))\n",
    "    return temp\n",
    "luad_f4 = np.vectorize(novec_luad_f4)\n",
    "\n",
    "x = np.linspace(1, 10, 100)\n",
    "plt.xlim(1, 10)\n",
    "plt.ylim(0, 0.13)\n",
    "plt.plot(x, luad_f4(x))\n",
    "plt.show()"
   ]
  },
  {
   "cell_type": "markdown",
   "metadata": {},
   "source": [
    "### Ex-5：试计算二重积分\n",
    "\n",
    "$I = \\int_{y=0}^{\\frac{1}{2}}\\int^{1-2y}_{x=0}xy\\,dxdy = \\dfrac{1}{96}$\n",
    "#### 提示：注意自变量顺序"
   ]
  },
  {
   "cell_type": "code",
   "execution_count": 6,
   "metadata": {},
   "outputs": [
    {
     "data": {
      "text/plain": [
       "(0.010416666666666668, 4.101620128472366e-16)"
      ]
     },
     "execution_count": 6,
     "metadata": {},
     "output_type": "execute_result"
    }
   ],
   "source": [
    "# Ex-5\n",
    "# Integrate[Integrate[xy, {x, 0, 1-2y}], {y, 0, 0.5}]\n",
    "# ans: 0.0104167\n",
    "\n",
    "integrate.dblquad(lambda x, y: x * y, 0, 0.5, lambda y: 0, lambda y: 1 - 2 * y)"
   ]
  },
  {
   "cell_type": "markdown",
   "metadata": {},
   "source": [
    "### Ex-6：试计算二重广义积分\n",
    "\n",
    "$I = \\int^{\\infty}_{0}\\,dx\\int^{\\infty}_{1}{\\dfrac{e^{-xt}}{t^n}\\,dt}$\n",
    "\n",
    "#### 这里：$n$ 是参数，取 $n=2.5$"
   ]
  },
  {
   "cell_type": "code",
   "execution_count": 7,
   "metadata": {},
   "outputs": [
    {
     "data": {
      "text/plain": [
       "(0.3999999999636586, 1.4484607672453183e-08)"
      ]
     },
     "execution_count": 7,
     "metadata": {},
     "output_type": "execute_result"
    }
   ],
   "source": [
    "# Ex-6\n",
    "# Integrate[Integrate[exp(-x*t)/t^n, {t, 1, \\[Infinity]}], {x, 0, \\[Infinity]}]\n",
    "# ans: 1 / n\n",
    "\n",
    "f6 = lambda t, x, n: (sp.e ** (-1 * x * t)) / t ** n\n",
    "integrate.dblquad(f6, 0, np.inf, lambda t: 1, lambda t: np.inf, args=(2.5,))"
   ]
  },
  {
   "cell_type": "markdown",
   "metadata": {},
   "source": [
    "### Ex-7：求解常微分方程初值问题\n",
    "\n",
    "$\\left\\{\n",
    "\\,\\begin{array}{l}\n",
    "\\dfrac{dy}{dx} = -2xy,\\quad x \\in [0,10)\\\\\n",
    "y(0) = 2\n",
    "\\end{array}\n",
    "\\right.\n",
    "$\n",
    "\n",
    "然后在同一块画布上做出\n",
    "\n",
    "- (1) 数值解的散点图\n",
    "- (2) 精确解 $y = 2e^{-x^2}$ 的实线图\n",
    "\n",
    "以检验解法精度"
   ]
  },
  {
   "cell_type": "code",
   "execution_count": 8,
   "metadata": {},
   "outputs": [
    {
     "data": {
      "image/png": "[encoded data removed]",
      "text/plain": [
       "<Figure size 432x288 with 1 Axes>"
      ]
     },
     "metadata": {},
     "output_type": "display_data"
    }
   ],
   "source": [
    "# Ex-7\n",
    "sol = sp.integrate.solve_ivp(lambda x, y: -2 * x *y, [0, 10], [2])\n",
    "\n",
    "plt.plot(sol.t, sol.y[0], \"*r\", label=r\"近似解\") \n",
    "plt.plot(sol.t, 2 * np.e ** (-sol.t ** 2), label=r\"精确解\")\n",
    "plt.legend()\n",
    "plt.xlabel(\"$x$\")\n",
    "plt.ylabel(\"y(x)\")\n",
    "plt.show()"
   ]
  },
  {
   "cell_type": "markdown",
   "metadata": {},
   "source": [
    "### Ex-8：求解二阶欧拉方程\n",
    "\n",
    "$\\left\\{\n",
    "\\,\\begin{array}{l}\n",
    "x^2y\"-3xy'+4y = 4x^2,\\quad x\\ge 1\\\\\n",
    "y(1) = 2\\\\\n",
    "y'(1) = 3\n",
    "\\end{array}\n",
    "\\right.\n",
    "$\n",
    "\n",
    "然后在同一块画布上做出区间 $1\\le x \\le 5$\n",
    "\n",
    "- (1) 数值解的散点图\n",
    "- (2) 精确解 $y = 2x^2-x^2\\ln x + 2x^2 \\ln^2 x$ 的实线图\n",
    "\n",
    "以检验解法精度\n"
   ]
  },
  {
   "cell_type": "code",
   "execution_count": 9,
   "metadata": {
    "scrolled": true
   },
   "outputs": [
    {
     "data": {
      "image/png": "[encoded data removed]",
      "text/plain": [
       "<Figure size 432x288 with 1 Axes>"
      ]
     },
     "metadata": {},
     "output_type": "display_data"
    }
   ],
   "source": [
    "# Ex-8\n",
    "x = np.linspace(1, 5, 50)\n",
    "sol = sp.integrate.solve_ivp(lambda x, y: (y[1], (3 *x * y[1] - 4 * y[0]) / (x * x) + 4), [1, 5], [2, 3])\n",
    "\n",
    "plt.plot(sol.t, sol.y[0], \"*r\", label=r\"近似解\")\n",
    "plt.plot(x, x * x * (2 - np.log(x) + 2 * np.log(x)**2), label=r\"精确解\")\n",
    "plt.legend()\n",
    "plt.xlabel(\"$x$\")\n",
    "plt.ylabel(\"$y$\")\n",
    "plt.show()"
   ]
  },
  {
   "cell_type": "markdown",
   "metadata": {},
   "source": [
    "### 结束"
   ]
  }
 ],
 "metadata": {
  "kernelspec": {
   "display_name": "Python 3",
   "language": "python",
   "name": "python3"
  },
  "language_info": {
   "codemirror_mode": {
    "name": "ipython",
    "version": 3
   },
   "file_extension": ".py",
   "mimetype": "text/x-python",
   "name": "python",
   "nbconvert_exporter": "python",
   "pygments_lexer": "ipython3",
   "version": "3.6.5"
  }
 },
 "nbformat": 4,
 "nbformat_minor": 2
}
