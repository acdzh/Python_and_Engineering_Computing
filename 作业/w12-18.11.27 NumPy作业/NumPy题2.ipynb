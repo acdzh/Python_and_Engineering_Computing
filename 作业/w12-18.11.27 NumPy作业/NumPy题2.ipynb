{
 "cells": [
  {
   "cell_type": "markdown",
   "metadata": {},
   "source": [
    "### NumPy题 2（难度：容易）\n",
    "\n",
    "#### 题目背景\n",
    "\n",
    "- 中国的小学生要掌握九九乘法口诀表，以下是用比较笨拙的方法计算了九九乘法口诀表的乘积数组"
   ]
  },
  {
   "cell_type": "code",
   "execution_count": 1,
   "metadata": {},
   "outputs": [],
   "source": [
    "# 导入模块\n",
    "import numpy as np"
   ]
  },
  {
   "cell_type": "code",
   "execution_count": 2,
   "metadata": {},
   "outputs": [],
   "source": [
    "# 采用笨拙的 Python for 循环得到九九口诀表的乘积数组\n",
    "\n",
    "n = 9\n",
    "prod_9 = np.empty((n,n)).astype(\"int32\")\n",
    "for i in range(1,n+1):\n",
    "    for j in range(1,n+1):\n",
    "        prod_9[i-1,j-1] = i*j"
   ]
  },
  {
   "cell_type": "code",
   "execution_count": 3,
   "metadata": {},
   "outputs": [],
   "source": [
    "# 定义输出函数\n",
    "def print_multi_table(prod, n):\n",
    "    for i in range(1, n+1):\n",
    "        str = \"\"\n",
    "        for j in range(1, n+1):\n",
    "            str += \"{0:-2}x{1}={2:-3} \".format(i, j, prod[i-1,j-1])\n",
    "        print(str)"
   ]
  },
  {
   "cell_type": "code",
   "execution_count": 4,
   "metadata": {},
   "outputs": [
    {
     "name": "stdout",
     "output_type": "stream",
     "text": [
      " 1x1=  1  1x2=  2  1x3=  3  1x4=  4  1x5=  5  1x6=  6  1x7=  7  1x8=  8  1x9=  9 \n",
      " 2x1=  2  2x2=  4  2x3=  6  2x4=  8  2x5= 10  2x6= 12  2x7= 14  2x8= 16  2x9= 18 \n",
      " 3x1=  3  3x2=  6  3x3=  9  3x4= 12  3x5= 15  3x6= 18  3x7= 21  3x8= 24  3x9= 27 \n",
      " 4x1=  4  4x2=  8  4x3= 12  4x4= 16  4x5= 20  4x6= 24  4x7= 28  4x8= 32  4x9= 36 \n",
      " 5x1=  5  5x2= 10  5x3= 15  5x4= 20  5x5= 25  5x6= 30  5x7= 35  5x8= 40  5x9= 45 \n",
      " 6x1=  6  6x2= 12  6x3= 18  6x4= 24  6x5= 30  6x6= 36  6x7= 42  6x8= 48  6x9= 54 \n",
      " 7x1=  7  7x2= 14  7x3= 21  7x4= 28  7x5= 35  7x6= 42  7x7= 49  7x8= 56  7x9= 63 \n",
      " 8x1=  8  8x2= 16  8x3= 24  8x4= 32  8x5= 40  8x6= 48  8x7= 56  8x8= 64  8x9= 72 \n",
      " 9x1=  9  9x2= 18  9x3= 27  9x4= 36  9x5= 45  9x6= 54  9x7= 63  9x8= 72  9x9= 81 \n"
     ]
    }
   ],
   "source": [
    "# 查看元素\n",
    "print_multi_table(prod_9, 9)"
   ]
  },
  {
   "cell_type": "markdown",
   "metadata": {},
   "source": [
    "#### 新任务 —— 生成 $12\\times 12$ 乘法口诀表\n",
    "\n",
    "据说印度的小学生要掌握 $12\\times 12$ 乘法口诀表，现在要你\n",
    "\n",
    "- 用 NumPy 广播完成计算印度人的 $12\\times 12$ 乘积表的计算工作\n",
    "- 并将计算结果存放在 prod_12 中"
   ]
  },
  {
   "cell_type": "code",
   "execution_count": 9,
   "metadata": {},
   "outputs": [
    {
     "name": "stdout",
     "output_type": "stream",
     "text": [
      "[[  1   2   3   4   5   6   7   8   9  10  11  12]\n",
      " [  2   4   6   8  10  12  14  16  18  20  22  24]\n",
      " [  3   6   9  12  15  18  21  24  27  30  33  36]\n",
      " [  4   8  12  16  20  24  28  32  36  40  44  48]\n",
      " [  5  10  15  20  25  30  35  40  45  50  55  60]\n",
      " [  6  12  18  24  30  36  42  48  54  60  66  72]\n",
      " [  7  14  21  28  35  42  49  56  63  70  77  84]\n",
      " [  8  16  24  32  40  48  56  64  72  80  88  96]\n",
      " [  9  18  27  36  45  54  63  72  81  90  99 108]\n",
      " [ 10  20  30  40  50  60  70  80  90 100 110 120]\n",
      " [ 11  22  33  44  55  66  77  88  99 110 121 132]\n",
      " [ 12  24  36  48  60  72  84  96 108 120 132 144]]\n"
     ]
    }
   ],
   "source": [
    "# 在此单元格中，请你采用高效率的 NumPy 通用函数和广播技术 得到印度口诀表的乘积数组 prod_12\n",
    "prod_12 = np.arange(1,13) * np.arange(1,13)[:,np.newaxis]\n",
    "print(prod_12)\n",
    "# 继续"
   ]
  },
  {
   "cell_type": "code",
   "execution_count": 7,
   "metadata": {},
   "outputs": [
    {
     "name": "stdout",
     "output_type": "stream",
     "text": [
      " 1x1=  1  1x2=  2  1x3=  3  1x4=  4  1x5=  5  1x6=  6  1x7=  7  1x8=  8  1x9=  9  1x10= 10  1x11= 11  1x12= 12 \n",
      " 2x1=  2  2x2=  4  2x3=  6  2x4=  8  2x5= 10  2x6= 12  2x7= 14  2x8= 16  2x9= 18  2x10= 20  2x11= 22  2x12= 24 \n",
      " 3x1=  3  3x2=  6  3x3=  9  3x4= 12  3x5= 15  3x6= 18  3x7= 21  3x8= 24  3x9= 27  3x10= 30  3x11= 33  3x12= 36 \n",
      " 4x1=  4  4x2=  8  4x3= 12  4x4= 16  4x5= 20  4x6= 24  4x7= 28  4x8= 32  4x9= 36  4x10= 40  4x11= 44  4x12= 48 \n",
      " 5x1=  5  5x2= 10  5x3= 15  5x4= 20  5x5= 25  5x6= 30  5x7= 35  5x8= 40  5x9= 45  5x10= 50  5x11= 55  5x12= 60 \n",
      " 6x1=  6  6x2= 12  6x3= 18  6x4= 24  6x5= 30  6x6= 36  6x7= 42  6x8= 48  6x9= 54  6x10= 60  6x11= 66  6x12= 72 \n",
      " 7x1=  7  7x2= 14  7x3= 21  7x4= 28  7x5= 35  7x6= 42  7x7= 49  7x8= 56  7x9= 63  7x10= 70  7x11= 77  7x12= 84 \n",
      " 8x1=  8  8x2= 16  8x3= 24  8x4= 32  8x5= 40  8x6= 48  8x7= 56  8x8= 64  8x9= 72  8x10= 80  8x11= 88  8x12= 96 \n",
      " 9x1=  9  9x2= 18  9x3= 27  9x4= 36  9x5= 45  9x6= 54  9x7= 63  9x8= 72  9x9= 81  9x10= 90  9x11= 99  9x12=108 \n",
      "10x1= 10 10x2= 20 10x3= 30 10x4= 40 10x5= 50 10x6= 60 10x7= 70 10x8= 80 10x9= 90 10x10=100 10x11=110 10x12=120 \n",
      "11x1= 11 11x2= 22 11x3= 33 11x4= 44 11x5= 55 11x6= 66 11x7= 77 11x8= 88 11x9= 99 11x10=110 11x11=121 11x12=132 \n",
      "12x1= 12 12x2= 24 12x3= 36 12x4= 48 12x5= 60 12x6= 72 12x7= 84 12x8= 96 12x9=108 12x10=120 12x11=132 12x12=144 \n"
     ]
    }
   ],
   "source": [
    "# 输出查看，效果如下图\n",
    "print_multi_table(prod_12, 12)"
   ]
  },
  {
   "cell_type": "markdown",
   "metadata": {},
   "source": [
    "#### 图片 —— 说明输出效果\n",
    "\n",
    "<img src=\"multi_table_12.jpg\"/>\n",
    "\n",
    "#### 图片结束"
   ]
  }
 ],
 "metadata": {
  "kernelspec": {
   "display_name": "Python 3",
   "language": "python",
   "name": "python3"
  },
  "language_info": {
   "codemirror_mode": {
    "name": "ipython",
    "version": 3
   },
   "file_extension": ".py",
   "mimetype": "text/x-python",
   "name": "python",
   "nbconvert_exporter": "python",
   "pygments_lexer": "ipython3",
   "version": "3.6.5"
  }
 },
 "nbformat": 4,
 "nbformat_minor": 2
}
