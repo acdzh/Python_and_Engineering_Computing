{
 "cells": [
  {
   "cell_type": "markdown",
   "metadata": {},
   "source": [
    "### NumPy题 1 （难度：容易）\n",
    "\n",
    "阅读并执行以下单元格中的 python 代码"
   ]
  },
  {
   "cell_type": "code",
   "execution_count": 11,
   "metadata": {},
   "outputs": [
    {
     "data": {
      "text/plain": [
       "array([149., 177., 334., 231., 265., 111., 258., 268.,   9., 239.,  11.,\n",
       "       224.,  58., 125.,  26.,  62., 275., 148.,   1., 166.,  66., 212.,\n",
       "       333., 141., 230., 148., 189., 260., 166., 353.,  48., 322., 191.,\n",
       "       327.,  92., 219., 188., 123., 122., 252., 123.,  79., 124.,  22.,\n",
       "       290., 291.,  10.,  53., 116., 181., 135.,  37.,  84.,  20., 264.,\n",
       "       126., 301., 326., 149., 205., 224., 187., 187., 175., 333., 116.,\n",
       "       271.,  76.,  38., 183., 187., 140., 234., 179.,  10.,   3.,   1.,\n",
       "       341., 182., 250., 335., 209., 226.,  45.,  98., 173., 297.,  64.,\n",
       "       351., 112., 127.,   8., 227., 282.,  85.,  27.,  90., 185., 220.,\n",
       "        53.], dtype=float32)"
      ]
     },
     "execution_count": 11,
     "metadata": {},
     "output_type": "execute_result"
    }
   ],
   "source": [
    "import numpy as np\n",
    "np.random.seed(201811)\n",
    "\n",
    "angles = np.random.randint(360, size=100).astype(\"float32\")  # 生成 100 个随机角度值\n",
    "angles"
   ]
  },
  {
   "cell_type": "code",
   "execution_count": 12,
   "metadata": {},
   "outputs": [],
   "source": [
    "def ComputeCosine(angles):          # 计算数组元素的余弦值\n",
    "    out = np.empty(len(angles))\n",
    "    for i in range(len(angles)):\n",
    "        out[i] = np.cos(np.pi*angles[i]/180)\n",
    "    return out"
   ]
  },
  {
   "cell_type": "code",
   "execution_count": 13,
   "metadata": {},
   "outputs": [
    {
     "name": "stdout",
     "output_type": "stream",
     "text": [
      "384 µs ± 58.6 µs per loop (mean ± std. dev. of 7 runs, 1000 loops each)\n"
     ]
    }
   ],
   "source": [
    "# 魔法命令测试速度\n",
    "%timeit ComputeCosine(angles)\n"
   ]
  },
  {
   "cell_type": "markdown",
   "metadata": {},
   "source": [
    "上述代码\n",
    "\n",
    "1. 首先，生成 100 个随机角度(deg)值\n",
    "2. 编写函数 ComputeCosine(angles) 计算所有数组元素的余弦值并返回\n",
    "3. 采用魔法命令测试计算所用时间\n",
    "\n",
    "现要求\n",
    "\n",
    "- 重新利用 NumPy 编写效率更高的 fast 代码\n",
    "- 采用魔法命令测试其计算用时\n",
    "- 计算 ComputeCosine 函数与 fast 代码用时的比值 time_ratio"
   ]
  },
  {
   "cell_type": "code",
   "execution_count": 14,
   "metadata": {},
   "outputs": [],
   "source": [
    "# 魔法命令测试 fast 代码\n",
    "# 补充完成代码\n",
    "def FastCode(angles):\n",
    "    out = np.cos(np.pi*angles/180)            \n",
    "    return out"
   ]
  },
  {
   "cell_type": "code",
   "execution_count": 15,
   "metadata": {},
   "outputs": [
    {
     "name": "stdout",
     "output_type": "stream",
     "text": [
      "4.21 µs ± 609 ns per loop (mean ± std. dev. of 7 runs, 100000 loops each)\n"
     ]
    }
   ],
   "source": [
    "%timeit FastCode(angles)"
   ]
  },
  {
   "cell_type": "code",
   "execution_count": 16,
   "metadata": {},
   "outputs": [
    {
     "name": "stdout",
     "output_type": "stream",
     "text": [
      "time used by ComputeCosine is: 384 (ns)\n",
      "time used by fast code is: 4.21 (ns)\n",
      "time_ratio = 91.21140142517815\n"
     ]
    }
   ],
   "source": [
    "# 填写用时\n",
    "time_ComputeCosine = 384 # 用实际值替换 None\n",
    "time_FastCode = 4.21      # 用实际值替换 None\n",
    "\n",
    "print(\"time used by ComputeCosine is: {0} (ns)\".format(time_ComputeCosine))\n",
    "print(\"time used by fast code is: {0} (ns)\".format(time_FastCode))\n",
    "print(\"time_ratio = {0}\".format(time_ComputeCosine/time_FastCode))"
   ]
  }
 ],
 "metadata": {
  "kernelspec": {
   "display_name": "Python 3",
   "language": "python",
   "name": "python3"
  },
  "language_info": {
   "codemirror_mode": {
    "name": "ipython",
    "version": 3
   },
   "file_extension": ".py",
   "mimetype": "text/x-python",
   "name": "python",
   "nbconvert_exporter": "python",
   "pygments_lexer": "ipython3",
   "version": "3.6.5"
  }
 },
 "nbformat": 4,
 "nbformat_minor": 2
}
