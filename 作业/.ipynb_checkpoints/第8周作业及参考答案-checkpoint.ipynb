{
 "cells": [
  {
   "cell_type": "markdown",
   "metadata": {},
   "source": [
    "## 第8周作业"
   ]
  },
  {
   "cell_type": "markdown",
   "metadata": {},
   "source": [
    "### 1、汤姆和杰瑞是一对冤家，最近学会了玩“锤子-剪刀-布”游戏，试为它们编一玩游戏程序，要求\n",
    "\n",
    "- (1) 导入 random 模块，用当前时间设置随机种子\n",
    "- (2) 使用 choice 函数为它们随机生成锤、剪和布(['H', 'S', 'C']、[0,1,2] 或 [\"hammer\", \"scissors\", \"cloth\"])\n",
    "- (3) 完成 WhoWin(hsc_tom, hsc_jerry) 函数，判断输赢，汤姆赢则返回'T'，杰瑞赢则返回'J'，平局则返回'D'\n",
    "- (4) 输出条件：汤姆的hsc，杰瑞的hsc\n",
    "- (5) 输出结果：print 一回合的结果"
   ]
  },
  {
   "cell_type": "markdown",
   "metadata": {},
   "source": [
    "### 1、参考答案"
   ]
  },
  {
   "cell_type": "code",
   "execution_count": 1,
   "metadata": {},
   "outputs": [
    {
     "name": "stdout",
     "output_type": "stream",
     "text": [
      "汤姆出：剪，杰瑞出：布\n",
      "结果是： 汤姆赢\n"
     ]
    }
   ],
   "source": [
    "import random, datetime\n",
    "\n",
    "random.seed(None)\n",
    "\n",
    "hsc_tom, hsc_jerry = (random.randrange(0,3) for i in [0,1])\n",
    "print(\"汤姆出：{0}，杰瑞出：{1}\".format(['锤', '剪', '布'][hsc_tom], ['锤', '剪', '布'][hsc_jerry]))\n",
    "\n",
    "def WhoWin(hsc_tom, hsc_jerry):\n",
    "    return ['平局','杰瑞赢','汤姆赢'][(hsc_tom - hsc_jerry) % 3]\n",
    "\n",
    "print(\"结果是：\", WhoWin(hsc_tom, hsc_jerry))"
   ]
  },
  {
   "cell_type": "code",
   "execution_count": 2,
   "metadata": {},
   "outputs": [
    {
     "data": {
      "text/plain": [
       "'S'"
      ]
     },
     "execution_count": 2,
     "metadata": {},
     "output_type": "execute_result"
    }
   ],
   "source": [
    "['H', 'S', 'C'][1]"
   ]
  },
  {
   "cell_type": "markdown",
   "metadata": {},
   "source": [
    "### 2、使用 SymPy 求解\n",
    "\n",
    "- (1) $\\int_{0}^{\\infty}{x^{10} e^{-x} dx}$\n",
    "```\n",
    "$\\int_{0}^{\\infty}{x^{10} e^{-x} dx}$\n",
    "```\n",
    "\n",
    "- (2) $\\dfrac{d^2}{dx^2}{e^{x\\sin x}}$\n",
    "```\n",
    "$\\dfrac{d^2}{dx^2}{e^{x\\sin x}}$\n",
    "```\n",
    "\n",
    "要求输出 Latex 格式的数学式，以文本文件提交。"
   ]
  },
  {
   "cell_type": "markdown",
   "metadata": {},
   "source": [
    "### 2、参考答案"
   ]
  },
  {
   "cell_type": "markdown",
   "metadata": {},
   "source": [
    "#### 代码"
   ]
  },
  {
   "cell_type": "code",
   "execution_count": 3,
   "metadata": {},
   "outputs": [
    {
     "name": "stdout",
     "output_type": "stream",
     "text": [
      "第一题输出\n",
      " $$\\int_{0}^{\\infty} x^{10} e^{- x}\\, dx=3628800$$\n",
      "\n",
      "第二题输出\n",
      " $$\\frac{d^{2}}{d x^{2}}  e^{x \\sin{\\left (x \\right )}}=\\left(- x \\sin{\\left (x \\right )} + \\left(x \\cos{\\left (x \\right )} + \\sin{\\left (x \\right )}\\right)^{2} + 2 \\cos{\\left (x \\right )}\\right) e^{x \\sin{\\left (x \\right )}}$$\n"
     ]
    }
   ],
   "source": [
    "from sympy import *\n",
    "init_printing(use_unicode=True)\n",
    "\n",
    "x = symbols('x')\n",
    "\n",
    "sympy_expr1 = Integral(x**10*exp(-x), (x, 0, oo))\n",
    "latex_expr1 = latex(sympy_expr1)\n",
    "result1     = integrate(x**10*exp(-x), (x, 0, oo))\n",
    "fomular1    = \"$$\" + str(latex_expr1) + \"=\" + str(result1) + \"$$\"\n",
    "\n",
    "print(\"第一题输出\\n\", fomular1)      # 输出第一题结果（含等式左边）\n",
    "\n",
    "sympy_expr2 = Derivative(exp(x*sin(x)), x, 2)\n",
    "latex_expr2 = latex(sympy_expr2)\n",
    "result2     = diff(exp(x*sin(x)), x, 2)\n",
    "fomular2    = \"$$\" + str(latex_expr2) + \"=\" + str(latex(result2)) + \"$$\"\n",
    "\n",
    "print(\"\\n第二题输出\\n\", fomular2)"
   ]
  },
  {
   "cell_type": "markdown",
   "metadata": {},
   "source": [
    "- 拷贝上述输出，粘贴到 markdown 格式\n",
    "- 再执行如下\n",
    "\n",
    "$$\\int_{0}^{\\infty} x^{10} e^{- x}\\, dx=3628800$$\n",
    "$$\\frac{d^{2}}{d x^{2}}  e^{x \\sin{\\left (x \\right )}}=\\left(- x \\sin{\\left (x \\right )} + \\left(x \\cos{\\left (x \\right )} + \\sin{\\left (x \\right )}\\right)^{2} + 2 \\cos{\\left (x \\right )}\\right) e^{x \\sin{\\left (x \\right )}}$$"
   ]
  }
 ],
 "metadata": {
  "kernelspec": {
   "display_name": "Python 3",
   "language": "python",
   "name": "python3"
  },
  "language_info": {
   "codemirror_mode": {
    "name": "ipython",
    "version": 3
   },
   "file_extension": ".py",
   "mimetype": "text/x-python",
   "name": "python",
   "nbconvert_exporter": "python",
   "pygments_lexer": "ipython3",
   "version": "3.6.5"
  }
 },
 "nbformat": 4,
 "nbformat_minor": 2
}
