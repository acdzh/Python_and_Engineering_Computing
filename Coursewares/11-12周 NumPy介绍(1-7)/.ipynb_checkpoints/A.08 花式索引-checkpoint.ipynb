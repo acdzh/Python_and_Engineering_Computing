{
 "cells": [
  {
   "cell_type": "markdown",
   "metadata": {},
   "source": [
    "# A.08 花式索引（fancy indexing）"
   ]
  },
  {
   "cell_type": "markdown",
   "metadata": {},
   "source": [
    "### 8.1 引言"
   ]
  },
  {
   "cell_type": "markdown",
   "metadata": {},
   "source": [
    "#### 回顾 —— 访问和修改数组元素的方法\n",
    "\n",
    "- 使用下标（如 ``arr[0]``）\n",
    "- 使用切片（如 ``arr[:5]``）\n",
    "- 布尔掩码（如 ``arr[arr > 0]``)\n",
    "\n",
    "#### 引入 —— 花式索引\n",
    "\n",
    "- 用于快速访问和修改数组的复杂子集"
   ]
  },
  {
   "cell_type": "markdown",
   "metadata": {},
   "source": [
    "### 8.2 花式索引的概念\n",
    "\n",
    "- 传递<font color=\"red\">索引数组</font>，以实现访问多个数组元素"
   ]
  },
  {
   "cell_type": "code",
   "execution_count": null,
   "metadata": {},
   "outputs": [],
   "source": [
    "import numpy as np\n",
    "rand = np.random.RandomState(42)\n",
    "\n",
    "x = rand.randint(100, size=10)\n",
    "print(x)"
   ]
  },
  {
   "cell_type": "markdown",
   "metadata": {},
   "source": [
    "#### 问题\n",
    "\n",
    "- 考虑访问以下三个元素"
   ]
  },
  {
   "cell_type": "code",
   "execution_count": null,
   "metadata": {},
   "outputs": [],
   "source": [
    "[x[3], x[7], x[2]]"
   ]
  },
  {
   "cell_type": "markdown",
   "metadata": {},
   "source": [
    "#### 更有效率的处理\n",
    "\n",
    "- 传递索引数组，获得同样结果"
   ]
  },
  {
   "cell_type": "code",
   "execution_count": null,
   "metadata": {},
   "outputs": [],
   "source": [
    "ind = [3, 7, 2]\n",
    "x[ind]"
   ]
  },
  {
   "cell_type": "markdown",
   "metadata": {},
   "source": [
    "#### 非拷贝视"
   ]
  },
  {
   "cell_type": "code",
   "execution_count": null,
   "metadata": {},
   "outputs": [],
   "source": [
    "x[ind]=[-1, -2, -3]\n",
    "x"
   ]
  },
  {
   "cell_type": "markdown",
   "metadata": {},
   "source": [
    "#### 结果维度\n",
    "\n",
    "使用花式索引时\n",
    "\n",
    "- 结果的维度与索引数组的维度相同\n",
    "- 结果的维度不同于原数组的维度"
   ]
  },
  {
   "cell_type": "code",
   "execution_count": null,
   "metadata": {},
   "outputs": [],
   "source": [
    "ind = np.array([[3, 7],\n",
    "                [4, 5]])\n",
    "x[ind]"
   ]
  },
  {
   "cell_type": "markdown",
   "metadata": {},
   "source": [
    "#### 花式索引用于多维数组"
   ]
  },
  {
   "cell_type": "code",
   "execution_count": null,
   "metadata": {},
   "outputs": [],
   "source": [
    "X = np.arange(12).reshape((3, 4))\n",
    "X"
   ]
  },
  {
   "cell_type": "markdown",
   "metadata": {},
   "source": [
    "同于标准索引方式\n",
    "\n",
    "- 第一下标代表行号\n",
    "- 第二下标表示列号"
   ]
  },
  {
   "cell_type": "code",
   "execution_count": null,
   "metadata": {},
   "outputs": [],
   "source": [
    "row = np.array([0, 1, 2])\n",
    "col = np.array([2, 1, 3])\n",
    "X[row, col]"
   ]
  },
  {
   "cell_type": "markdown",
   "metadata": {},
   "source": [
    "####  注意要点\n",
    "\n",
    "- 上例，首元素是 ``X[0, 2]``、次元素是 ``X[1, 1]``、再次元素是 ``X[2, 3]``\n",
    "- 花式索引的配对方式服从广播规则，详见[A.06 数组计算之广播(Broadcasting)](A.06 数组计算之广播(Broadcasting))\n",
    "- 如果两个索引数组分别是行向量和列向量，结果将是二维数组"
   ]
  },
  {
   "cell_type": "code",
   "execution_count": null,
   "metadata": {},
   "outputs": [],
   "source": [
    "X[row[:, np.newaxis], col]"
   ]
  },
  {
   "cell_type": "markdown",
   "metadata": {},
   "source": [
    "这里，行与列匹配，按前述广播操作方式"
   ]
  },
  {
   "cell_type": "markdown",
   "metadata": {},
   "source": [
    "### 花式索引的返回结果反映了\n",
    "\n",
    "- 下标的广播维度\n",
    "- 非原数组的维度"
   ]
  },
  {
   "cell_type": "markdown",
   "metadata": {},
   "source": [
    "### 8.3 花式索引结合\n",
    "\n",
    "- 更强的操作方式"
   ]
  },
  {
   "cell_type": "code",
   "execution_count": null,
   "metadata": {},
   "outputs": [],
   "source": [
    "print(X)"
   ]
  },
  {
   "cell_type": "markdown",
   "metadata": {},
   "source": [
    "#### 花式和简式索引相结合"
   ]
  },
  {
   "cell_type": "code",
   "execution_count": null,
   "metadata": {},
   "outputs": [],
   "source": [
    "X[2, [2, 0, 1]]"
   ]
  },
  {
   "cell_type": "markdown",
   "metadata": {},
   "source": [
    "#### 花式索引和切片相结合"
   ]
  },
  {
   "cell_type": "code",
   "execution_count": null,
   "metadata": {},
   "outputs": [],
   "source": [
    "X[1:, [2, 0, 1]]"
   ]
  },
  {
   "cell_type": "markdown",
   "metadata": {},
   "source": [
    "#### 花式索引和掩码相结合"
   ]
  },
  {
   "cell_type": "code",
   "execution_count": null,
   "metadata": {},
   "outputs": [],
   "source": [
    "mask = np.array([1, 0, 1, 0], dtype=bool)\n",
    "X[row[:, np.newaxis], mask]"
   ]
  },
  {
   "cell_type": "markdown",
   "metadata": {},
   "source": [
    "结合上述各索引选项，将产生更灵活的访问修改数组元素方式"
   ]
  },
  {
   "cell_type": "markdown",
   "metadata": {},
   "source": [
    "### 8.4 示例 —— 选取随机点\n",
    "\n",
    "- 从矩阵中选取若干行的子集合\n",
    "\n",
    "例如，某 $N\\times D$ 矩阵代表 $N$ 个 $D$ 维点，下例即给出服从二维正态分布的多个点"
   ]
  },
  {
   "cell_type": "code",
   "execution_count": null,
   "metadata": {},
   "outputs": [],
   "source": [
    "mean = [0, 0]\n",
    "cov = [[1, 2],\n",
    "       [2, 5]]\n",
    "X = rand.multivariate_normal(mean, cov, 100)\n",
    "X.shape"
   ]
  },
  {
   "cell_type": "markdown",
   "metadata": {},
   "source": [
    "#### 绘制散点图\n",
    "\n",
    "- 采用绘图工具 Matplotlib, 将这些点可视化为散点图"
   ]
  },
  {
   "cell_type": "code",
   "execution_count": null,
   "metadata": {},
   "outputs": [],
   "source": [
    "%matplotlib inline\n",
    "import matplotlib.pyplot as plt\n",
    "import seaborn; seaborn.set()  # 设置绘图风格\n",
    "\n",
    "plt.scatter(X[:, 0], X[:, 1]);\n",
    "plt.show()"
   ]
  },
  {
   "cell_type": "markdown",
   "metadata": {},
   "source": [
    "#### 采用花式索引选取20个点\n",
    "\n",
    "- 选取20个非重复的随机索引\n",
    "- 用选取的这些索引再从原数组中做部分选取"
   ]
  },
  {
   "cell_type": "code",
   "execution_count": null,
   "metadata": {},
   "outputs": [],
   "source": [
    "indices = np.random.choice(X.shape[0], 20, replace=False)\n",
    "indices"
   ]
  },
  {
   "cell_type": "code",
   "execution_count": null,
   "metadata": {},
   "outputs": [],
   "source": [
    "selection = X[indices]  # 采用花式索引\n",
    "selection.shape"
   ]
  },
  {
   "cell_type": "markdown",
   "metadata": {},
   "source": [
    "- 观察所选取的点\n",
    "- 二次绘制散点图（所选点绘制成更大的圆）"
   ]
  },
  {
   "cell_type": "code",
   "execution_count": null,
   "metadata": {},
   "outputs": [],
   "source": [
    "plt.scatter(X[:, 0], X[:, 1], alpha=0.7)\n",
    "plt.scatter(selection[:, 0], selection[:, 1],\n",
    "            facecolor='red', s=80);"
   ]
  },
  {
   "cell_type": "markdown",
   "metadata": {},
   "source": [
    "#### 利用花式索引修改值\n",
    "\n",
    "花式索引可用于\n",
    "\n",
    "- 访问数组的部分\n",
    "- 修改数组的部分\n",
    "\n",
    "如下例，利用索引数组修改原数组中的元素值"
   ]
  },
  {
   "cell_type": "code",
   "execution_count": null,
   "metadata": {},
   "outputs": [],
   "source": [
    "x = np.arange(10)\n",
    "i = np.array([2, 1, 8, 4])\n",
    "x[i] = 99\n",
    "print(x)"
   ]
  },
  {
   "cell_type": "markdown",
   "metadata": {},
   "source": [
    "#### 使用赋值类运算符"
   ]
  },
  {
   "cell_type": "code",
   "execution_count": null,
   "metadata": {},
   "outputs": [],
   "source": [
    "x[i] -= 10\n",
    "print(x)"
   ]
  },
  {
   "cell_type": "markdown",
   "metadata": {},
   "source": [
    "#### *注意重复索引\n",
    "\n",
    "- 可能导致不可预测的结果，例如"
   ]
  },
  {
   "cell_type": "code",
   "execution_count": null,
   "metadata": {},
   "outputs": [],
   "source": [
    "x = np.zeros(10)\n",
    "x[[0, 0]] = [4, 6]\n",
    "print(x)"
   ]
  },
  {
   "cell_type": "markdown",
   "metadata": {},
   "source": [
    "#### *问题 —— 4在哪儿？\n",
    "\n",
    "- 先赋值``x[0] = 4``\n",
    "- 接着赋值``x[0] = 6``\n",
    "\n",
    "结果当然是``x[0]``的值为 6\n",
    "\n",
    "再考虑下例"
   ]
  },
  {
   "cell_type": "code",
   "execution_count": null,
   "metadata": {},
   "outputs": [],
   "source": [
    "i = [2, 3, 3, 4, 4, 4]\n",
    "x[i] += 1\n",
    "x"
   ]
  },
  {
   "cell_type": "markdown",
   "metadata": {},
   "source": [
    "考虑到索引的重复次数，容易认为``x[3]``的值为 2，以及``x[4]``的值为 3，怎么得到这个结果？\n",
    "\n",
    "概念上看，``x[i] += 1``表示``x[i] = x[i] + 1``，即，先算出``x[i] + 1``，然后赋给相应的元素。\n",
    "\n",
    "因此，这里<font color=\"red\">并不是增值多次，而是赋值多次</font>，当然就导致了不同于直觉的结果。\n",
    "\n",
    "如果，确实想实现重复运算操作，该怎么办呢？\n",
    "\n",
    "- 使用通用函数中的``at()``方法（要求NumPy 1.8版本）\n",
    "- 然后，执行..."
   ]
  },
  {
   "cell_type": "code",
   "execution_count": null,
   "metadata": {},
   "outputs": [],
   "source": [
    "x = np.zeros(10)\n",
    "np.add.at(x, i, 1)\n",
    "print(x)"
   ]
  },
  {
   "cell_type": "markdown",
   "metadata": {},
   "source": [
    "``at()``方法，对特定索引（这里，``i``）按给定值（这里，1）操作给定的运算符\n",
    "\n",
    "另一高度类似的是通用函数中的``reduceat()``方法, 可参考NumPy文档"
   ]
  },
  {
   "cell_type": "markdown",
   "metadata": {},
   "source": [
    "### *8.5 示例 —— 分箱数据(Binning Data)\n",
    "\n",
    "有效地数据分箱以便创建柱图\n",
    "\n",
    "例如，假设已有1000个值，现欲快速了解这些数据各自落在哪一个箱中\n",
    "\n",
    "可以使用``ufunc.at``"
   ]
  },
  {
   "cell_type": "code",
   "execution_count": null,
   "metadata": {},
   "outputs": [],
   "source": [
    "np.random.seed(42)\n",
    "x = np.random.randn(100)\n",
    "\n",
    "# compute a histogram by hand\n",
    "bins = np.linspace(-5, 5, 20)\n",
    "counts = np.zeros_like(bins)\n",
    "\n",
    "# find the appropriate bin for each x\n",
    "i = np.searchsorted(bins, x)\n",
    "\n",
    "# add 1 to each of these bins\n",
    "np.add.at(counts, i, 1)"
   ]
  },
  {
   "cell_type": "markdown",
   "metadata": {},
   "source": [
    "现在，计数代表了每一箱中的点数，换一句话，柱图"
   ]
  },
  {
   "cell_type": "code",
   "execution_count": null,
   "metadata": {},
   "outputs": [],
   "source": [
    "# plot the results\n",
    "plt.plot(bins, counts, linestyle='steps');"
   ]
  },
  {
   "cell_type": "markdown",
   "metadata": {},
   "source": [
    "不过，并不需要每次都这样操作，这是因为 Matplotlib 提供了``plt.hist()``例程，只用一行指令就可画出柱图\n",
    "\n",
    "```python\n",
    "plt.hist(x, bins, histtype='step');\n",
    "```\n",
    "\n",
    "该函数创建的柱图与前述几乎一致\n",
    "\n",
    "分箱计算，``matplotlib``还使用``np.histogram``函数，完成非常相似的工作\n",
    "\n",
    "比较两者"
   ]
  },
  {
   "cell_type": "code",
   "execution_count": null,
   "metadata": {},
   "outputs": [],
   "source": [
    "print(\"NumPy routine:\")\n",
    "%timeit counts, edges = np.histogram(x, bins)\n",
    "\n",
    "print(\"Custom routine:\")\n",
    "%timeit np.add.at(counts, np.searchsorted(bins, x), 1)"
   ]
  },
  {
   "cell_type": "markdown",
   "metadata": {},
   "source": [
    "我们的单行算法几倍快于NumPy的优化算法！\n",
    "\n",
    "这是怎么回事？\n",
    "\n",
    "深入剖析``np.histogram``源代码(使用``np.histogram??``)，发现原来相比我们所用的简单搜索计数方法，它涉及更多因素，这是因为NumPy设计的算法更灵活，尤其是当数据量变大时其表现将变得更好。"
   ]
  },
  {
   "cell_type": "code",
   "execution_count": null,
   "metadata": {},
   "outputs": [],
   "source": [
    "x = np.random.randn(1000000)\n",
    "print(\"NumPy routine:\")\n",
    "%timeit counts, edges = np.histogram(x, bins)\n",
    "\n",
    "print(\"Custom routine:\")\n",
    "%timeit np.add.at(counts, np.searchsorted(bins, x), 1)"
   ]
  },
  {
   "cell_type": "markdown",
   "metadata": {},
   "source": [
    "### 结束"
   ]
  }
 ],
 "metadata": {
  "anaconda-cloud": {},
  "kernelspec": {
   "display_name": "Python 3",
   "language": "python",
   "name": "python3"
  },
  "language_info": {
   "codemirror_mode": {
    "name": "ipython",
    "version": 3
   },
   "file_extension": ".py",
   "mimetype": "text/x-python",
   "name": "python",
   "nbconvert_exporter": "python",
   "pygments_lexer": "ipython3",
   "version": "3.6.5"
  }
 },
 "nbformat": 4,
 "nbformat_minor": 1
}
