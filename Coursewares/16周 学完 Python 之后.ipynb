{
 "cells": [
  {
   "cell_type": "markdown",
   "metadata": {},
   "source": [
    "## 学完 Python 之后？"
   ]
  },
  {
   "cell_type": "markdown",
   "metadata": {},
   "source": [
    "### 一、目前的形势"
   ]
  },
  {
   "cell_type": "markdown",
   "metadata": {},
   "source": [
    "#### 推动人类文明进步和科技发展的三大支柱\n",
    "\n",
    "- 理论科学\n",
    "- 实验科学\n",
    "- 计算科学\n",
    "\n",
    "计算被提到一个前所未有的高度！！！"
   ]
  },
  {
   "cell_type": "markdown",
   "metadata": {},
   "source": [
    "#### 各国在超算能力上的竞争日趋激烈\n",
    "\n",
    "- 全球超算TOP 500榜单（始自1994年）\n",
    "- 中国\n",
    "    - 2002年入榜（联想深腾1800）\n",
    "    - 曙光、浪潮\n",
    "    - 天河、神威、太湖（2010年11月始，连续5年第一）\n",
    "- 美国\n",
    "    - 国家实验室：阿贡、橡树岭、劳伦斯利弗莫尔\n",
    "    - 顶点Summit（2016年6月，重回第一）"
   ]
  },
  {
   "cell_type": "markdown",
   "metadata": {},
   "source": [
    "### 二、古代思想\n",
    "\n",
    "\n",
    "#### 《孙子兵法 —— 计篇》\n",
    "\n",
    "\n",
    "### <font color=\"red\">夫未战而庙算胜者，得算多也；未战而庙算不胜者，得算少也。多算胜，少算不胜，而况于无算乎！吾以此观之，胜负见矣。</font>\n",
    "\n",
    "\n",
    "#### 用兵打仗如此，学术、科研、事业何尝不如此？"
   ]
  },
  {
   "cell_type": "markdown",
   "metadata": {},
   "source": [
    "### 三、未来趋势\n",
    "\n",
    "- 计算能力将至关重要\n",
    "    - 并行计算（多CPU、多核、GPU、TPU）\n",
    "    - AI、CV、Quantum...\n",
    "    - ML、DL、RL\n",
    "    - Cloud、大数据\n",
    "    - ???"
   ]
  },
  {
   "cell_type": "markdown",
   "metadata": {},
   "source": [
    "### 四、直觉\n",
    "\n",
    "- 超算可胜\n",
    "- 多算难胜\n",
    "- 少算不胜\n",
    "- 无算必败"
   ]
  },
  {
   "cell_type": "markdown",
   "metadata": {},
   "source": [
    "#### 图示 —— Python 生态圈\n",
    "\n",
    "<img src=\"python_chain.jpg\" width=\"600\">"
   ]
  },
  {
   "cell_type": "markdown",
   "metadata": {},
   "source": [
    "### 五、Python 之后 —— 未来学习目标\n",
    "\n",
    "- Pandas\n",
    "- Scikit-Learn ML\n",
    "- CV\n",
    "- NLP\n",
    "- Mayavi\n",
    "\n",
    "\n",
    "#### 关注\n",
    "\n",
    "\n",
    "- TensorFlow\n",
    "- PyTorch\n",
    "- Keras\n",
    "- Theano\n",
    "- ......"
   ]
  },
  {
   "cell_type": "markdown",
   "metadata": {},
   "source": [
    "### 六、新开通识课\n",
    "\n",
    "\n",
    "- 《机器学习与大数据计算》 —— 嘉定校区，春季学期"
   ]
  },
  {
   "cell_type": "markdown",
   "metadata": {},
   "source": [
    "### 结束"
   ]
  }
 ],
 "metadata": {
  "kernelspec": {
   "display_name": "Python 3",
   "language": "python",
   "name": "python3"
  },
  "language_info": {
   "codemirror_mode": {
    "name": "ipython",
    "version": 3
   },
   "file_extension": ".py",
   "mimetype": "text/x-python",
   "name": "python",
   "nbconvert_exporter": "python",
   "pygments_lexer": "ipython3",
   "version": "3.6.7"
  }
 },
 "nbformat": 4,
 "nbformat_minor": 2
}
