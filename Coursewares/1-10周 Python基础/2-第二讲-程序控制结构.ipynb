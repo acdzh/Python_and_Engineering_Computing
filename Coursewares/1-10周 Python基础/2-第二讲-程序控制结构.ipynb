{
 "cells": [
  {
   "cell_type": "markdown",
   "metadata": {},
   "source": [
    "***"
   ]
  },
  {
   "cell_type": "markdown",
   "metadata": {},
   "source": [
    "___"
   ]
  },
  {
   "cell_type": "markdown",
   "metadata": {},
   "source": [
    "<span id=\"mulu\"><font face=\"黑体\" size=6>本章目录</font></span>\n",
    "* [第二讲 程序控制结构](#2)\n",
    "\n",
    "    * [2.1 Loops and Iterations](#2.1)\n",
    "        * [2.1.1 While Loops](#2.1.1)\n",
    "        * [2.1.2 for Loop](#2.1.2)\n",
    "        * [2.1.3 range() Function](#2.1.3)\n",
    "        * [2.1.4 else in Loops](#2.1.4)\n",
    "        * [2.1.5 break in Loops](#2.1.5)\n",
    "        * [2.1.6 continue in Loops](#2.1.6)\n",
    "        * [2.1.7 pass Statement](#2.1.7)\n",
    "        * [2.1.8 Iterators](#2.1.8)\n",
    "        * [2.1.9 iter()](#2.1.9)\n",
    "        * [2.1.10 应用示例](#2.1.10)\n",
    "\n",
    "    * [2.2 Libraries (modules/packages)](#2.2)\n",
    "        * [2.2.1 Installing modules](#2.2.1)\n",
    "        * [2.2.2 Import module](#2.2.2)\n",
    "\n"
   ]
  },
  {
   "cell_type": "markdown",
   "metadata": {},
   "source": [
    "___"
   ]
  },
  {
   "cell_type": "markdown",
   "metadata": {},
   "source": [
    "# <font size=6><span id=\"2.1\"> 2.1 Loops and Iterations</span></font>\n",
    "## <font size=5><span id=\"2.1.1\"> 2.1.1 While Loops</span></font>\n",
    "Repeats statements **while** the conditions are **True**.\n",
    "\n",
    "<img src=\"images/chapter02/python_while_loop.jpg\">\n"
   ]
  },
  {
   "cell_type": "code",
   "execution_count": null,
   "metadata": {},
   "outputs": [],
   "source": [
    "count = 0\n",
    "while count < 5:\n",
    "    print(count)\n",
    "    count += 1  # This is the same as count = count + 1"
   ]
  },
  {
   "cell_type": "code",
   "execution_count": null,
   "metadata": {},
   "outputs": [],
   "source": [
    "count = 0\n",
    "while count < 9:\n",
    "    print(\"The number is:\",count)\n",
    "    count = count + 1\n",
    "\n",
    "print (\"Good bye!\")"
   ]
  },
  {
   "cell_type": "markdown",
   "metadata": {},
   "source": [
    "## play game again 猜数字游戏-版本2"
   ]
  },
  {
   "cell_type": "code",
   "execution_count": null,
   "metadata": {},
   "outputs": [],
   "source": [
    "import random\n",
    "\n",
    "secret = random.randint(1,100)\n",
    "temp = input(\"Play with me, Guess a number:\")\n",
    "guess = int(temp)\n",
    "\n",
    "while guess != secret:\n",
    "    if(guess > secret):\n",
    "        print(\"老铁，高了\")\n",
    "    else:\n",
    "        print(\"老铁，低了\")\n",
    "\n",
    "    temp = input(\"Error, input again:\")\n",
    "    guess = int(temp)\n",
    "\n",
    "print(\"Good Job\")\n",
    "print(\"Game over\") "
   ]
  },
  {
   "cell_type": "code",
   "execution_count": null,
   "metadata": {},
   "outputs": [],
   "source": [
    "# 简易版英文名词单数转复数"
   ]
  },
  {
   "cell_type": "code",
   "execution_count": null,
   "metadata": {},
   "outputs": [],
   "source": [
    "word = input(\"please give a noun word: \\n\")\n",
    "\n",
    "if word.endswith('y'):\n",
    "    print( word[:-1] + 'ies')\n",
    "elif word[-1] in 'sx' or word[-2:] in ['sh', 'ch']:\n",
    "    print( word + 'es')\n",
    "elif word.endswith('an'):\n",
    "    print( word[:-2] + 'en')\n",
    "else:\n",
    "    print( word + 's')\n"
   ]
  },
  {
   "cell_type": "markdown",
   "metadata": {},
   "source": [
    "## <font size=5><span id=\"2.1.2\"> 2.1.2 for Loop</span></font>\n",
    "\n",
    "<img src=\"images/chapter02/python_for_loop.jpg\">\n"
   ]
  },
  {
   "cell_type": "code",
   "execution_count": null,
   "metadata": {},
   "outputs": [],
   "source": [
    "string = ['T','G','I','F','!']\n",
    "for item in string:\n",
    "    print(item)"
   ]
  },
  {
   "cell_type": "markdown",
   "metadata": {},
   "source": [
    "## <font size=5><span id=\"2.1.3\"> 2.1.3 range() Function</span></font>\n",
    "### 生成从0开始到当前参数n-1的数据序列\n",
    "### range(5)--> 生成 0,1,2,3,4\n",
    "### range(stop)\n",
    "### range(start,stop[, step]) "
   ]
  },
  {
   "cell_type": "code",
   "execution_count": null,
   "metadata": {},
   "outputs": [],
   "source": [
    "for x in range(3):  \n",
    "    print(x)"
   ]
  },
  {
   "cell_type": "code",
   "execution_count": null,
   "metadata": {},
   "outputs": [],
   "source": [
    "help (range)\n"
   ]
  },
  {
   "cell_type": "code",
   "execution_count": null,
   "metadata": {},
   "outputs": [],
   "source": [
    "for x in range(3, 6):\n",
    "    print(x)"
   ]
  },
  {
   "cell_type": "code",
   "execution_count": null,
   "metadata": {},
   "outputs": [],
   "source": [
    "for x in range(3, 8, 2): # prints every second item in range 3 to 8 \n",
    "    print(x)"
   ]
  },
  {
   "cell_type": "code",
   "execution_count": null,
   "metadata": {},
   "outputs": [],
   "source": [
    "type(x)"
   ]
  },
  {
   "cell_type": "code",
   "execution_count": null,
   "metadata": {},
   "outputs": [],
   "source": [
    "y=[range(3,8,2)]\n",
    "type(y)\n",
    "#print(y)"
   ]
  },
  {
   "cell_type": "markdown",
   "metadata": {},
   "source": [
    "### 抢红包 \n",
    "#### 思考一下，这个程序可否进一步优化"
   ]
  },
  {
   "cell_type": "code",
   "execution_count": null,
   "metadata": {},
   "outputs": [],
   "source": [
    "import random\n",
    "\n",
    "nperson = input(\"红包人数：\")\n",
    "nperson = int(nperson)\n",
    "nmoney = input(\"红包大小：\")\n",
    "nmoney = float(nmoney)\n",
    "\n",
    "scale = []\n",
    "divide = []\n",
    "\n",
    "sum = 0\n",
    "for i in range(nperson):\n",
    "    scale.append(random.randint(1,100))\n",
    "    #print(i,scale[i])\n",
    "    sum += scale[i]\n",
    "#print(sum)\n",
    "\n",
    "for i in range(nperson):\n",
    "    divide.append(nmoney * scale[i]/sum)\n",
    "    print(\"第%2d个好友抢到%6.2f元\" %(i,divide[i]))\n"
   ]
  },
  {
   "cell_type": "code",
   "execution_count": null,
   "metadata": {},
   "outputs": [],
   "source": []
  },
  {
   "cell_type": "markdown",
   "metadata": {},
   "source": [
    "## <font size=5><span id=\"2.1.4\"> 2.1.4 else in Loops</span></font>\n"
   ]
  },
  {
   "cell_type": "code",
   "execution_count": null,
   "metadata": {},
   "outputs": [],
   "source": [
    "count = 0\n",
    "while(count<5):\n",
    "    count += 1\n",
    "    print(count)\n",
    "else:\n",
    "    print(\"count value reached %d\" %(count))"
   ]
  },
  {
   "cell_type": "code",
   "execution_count": null,
   "metadata": {},
   "outputs": [],
   "source": [
    "x = 0\n",
    "for i in range(1, 10):\n",
    "    x+=i\n",
    "else:\n",
    "    print(\"Total of all items %d\" %(x))"
   ]
  },
  {
   "cell_type": "code",
   "execution_count": null,
   "metadata": {},
   "outputs": [],
   "source": []
  },
  {
   "cell_type": "markdown",
   "metadata": {},
   "source": [
    "## <font size=5><span id=\"2.1.5\"> 2.1.5 break in Loops</span></font>\n",
    "**break** terminates the current loop and resumes execution at the next statement."
   ]
  },
  {
   "cell_type": "code",
   "execution_count": null,
   "metadata": {},
   "outputs": [],
   "source": [
    "for letter in 'Python':\n",
    "    if letter == 'h':\n",
    "        break\n",
    "    print('Current Letter :' + letter)"
   ]
  },
  {
   "cell_type": "markdown",
   "metadata": {},
   "source": [
    "\n",
    "## <font size=5><span id=\"2.1.6\"> 2.1.6 continue in Loops</span></font>\n",
    "**continue** returns the control to the beginning of the while loop.\n"
   ]
  },
  {
   "cell_type": "code",
   "execution_count": null,
   "metadata": {},
   "outputs": [],
   "source": [
    "var = 10\n",
    "while var > 0:          \n",
    "    var = var -1\n",
    "    if var % 2 == 0:\n",
    "        continue\n",
    "    print('Odd variable value :' + str(var))"
   ]
  },
  {
   "cell_type": "markdown",
   "metadata": {},
   "source": [
    "### break vs continue\n",
    "\n",
    "\n",
    "\n",
    "\n"
   ]
  },
  {
   "cell_type": "markdown",
   "metadata": {},
   "source": [
    "## <font size=5><span id=\"2.1.7\"> 2.1.7 pass Statement</span></font>\n",
    "The pass statement is a null operation; nothing happens when it executes.\n"
   ]
  },
  {
   "cell_type": "code",
   "execution_count": null,
   "metadata": {},
   "outputs": [],
   "source": [
    "for letter in 'Python':\n",
    "    if letter == 'o':\n",
    "        pass\n",
    "        print(' - This is a pass block - ')\n",
    "    print('Current Letter :' + letter)"
   ]
  },
  {
   "cell_type": "markdown",
   "metadata": {},
   "source": [
    "## <font size=5><span id=\"2.1.8\"> 2.1.8 Iterators</span></font>\n",
    "\n",
    "Every collection in Python is an iterable.  \n",
    "Those used above are iteratables:  \n",
    "\n",
    "    for element in iterable:\n",
    "        # do something with element\n"
   ]
  },
  {
   "cell_type": "code",
   "execution_count": null,
   "metadata": {},
   "outputs": [],
   "source": [
    "aa = (1, 3, 5, 13, 29, 27, 29, 33, 37, 45, 21, 27)\n",
    "for ii in aa:\n",
    "    print(ii)"
   ]
  },
  {
   "cell_type": "code",
   "execution_count": null,
   "metadata": {},
   "outputs": [],
   "source": [
    "for ii in aa:\n",
    "    if ii>10 and ii%3 == 0:\n",
    "        print(ii)"
   ]
  },
  {
   "cell_type": "markdown",
   "metadata": {},
   "source": [
    "## <font size=5><span id=\"2.1.9\"> 2.1.9 iter()</span></font>\n",
    "The iter() method returns an iterator for the given object.  \n",
    "**next()** to move along an iterator sequence\n",
    "iter() 函数用来生成迭代器。\n",
    "iter(object[, sentinel])  使用形式"
   ]
  },
  {
   "cell_type": "code",
   "execution_count": null,
   "metadata": {},
   "outputs": [],
   "source": [
    "for ii in iter(aa):  \n",
    "    print(ii)"
   ]
  },
  {
   "cell_type": "code",
   "execution_count": null,
   "metadata": {},
   "outputs": [],
   "source": [
    "vowels = ['a', 'e', 'i', 'o', 'u']\n",
    "vowelsIter = iter(vowels)\n",
    "for vv in vowelsIter:\n",
    "    print(vv)"
   ]
  },
  {
   "cell_type": "code",
   "execution_count": null,
   "metadata": {},
   "outputs": [],
   "source": [
    "vowels = ['a', 'e', 'i', 'o', 'u']\n",
    "vowelsIter = iter(vowels)\n",
    "print(next(vowelsIter))\n",
    "print(next(vowelsIter))\n",
    "print(next(vowelsIter))\n",
    "print(next(vowelsIter))\n",
    "print(next(vowelsIter))"
   ]
  },
  {
   "cell_type": "code",
   "execution_count": 13,
   "metadata": {},
   "outputs": [
    {
     "name": "stdout",
     "output_type": "stream",
     "text": [
      "ab\n",
      "bdadfasd\n",
      "efa\n",
      "sadfas\n",
      "af\n",
      "afe\n",
      "awef\n",
      "af\n"
     ]
    }
   ],
   "source": [
    "with open('testread.txt','r') as fp:  \n",
    "    for line in fp.readlines():\n",
    "        print(line[:-1])\n"
   ]
  },
  {
   "cell_type": "markdown",
   "metadata": {},
   "source": [
    "## <font size=5><span id=\"2.1.10\"> 2.1.10 应用示例</span></font>"
   ]
  },
  {
   "cell_type": "markdown",
   "metadata": {},
   "source": [
    "#### 漂亮的循环语句"
   ]
  },
  {
   "cell_type": "code",
   "execution_count": null,
   "metadata": {},
   "outputs": [],
   "source": [
    "text = [1, 2, 3, 'abc', 4, 5.0]\n",
    "#要求取出里面数值，然后计算总和"
   ]
  },
  {
   "cell_type": "code",
   "execution_count": null,
   "metadata": {},
   "outputs": [],
   "source": [
    "import numpy as np\n",
    "\n",
    "#使用普通for循环。（方法一）\n",
    "\n",
    "text_filter=[]\n",
    "for i in text:\n",
    "    if isinstance(i,(int, float)):\n",
    "        text_filter.append(i)\n",
    "print(text_filter)\n",
    "np.sum(text_filter)\n"
   ]
  },
  {
   "cell_type": "code",
   "execution_count": null,
   "metadata": {},
   "outputs": [],
   "source": [
    "#使用推导式：[... for .... in ... if ... ]   方法二\n",
    "text = [1, 2, 3, 'abc', 4, 5.0]\n",
    "np.sum(i for i in text if type(i) in ([int, float]))\n"
   ]
  },
  {
   "cell_type": "code",
   "execution_count": null,
   "metadata": {},
   "outputs": [],
   "source": [
    "## 同时遍历序列的元素和元素下标\n",
    "## 方法一：\n",
    "## 遍历下标，并用下标访问元素。"
   ]
  },
  {
   "cell_type": "code",
   "execution_count": null,
   "metadata": {},
   "outputs": [],
   "source": [
    "seasons = ['Spring', 'Summer', 'Autumn', 'Winter']\n",
    "for i in range(len(seasons)):\n",
    "    print(i,':',seasons[i])"
   ]
  },
  {
   "cell_type": "code",
   "execution_count": null,
   "metadata": {},
   "outputs": [],
   "source": [
    "#使用enumerate函数生成下标和元素对。\n",
    "for i,s in enumerate(seasons):\n",
    "    print(i,':',s)\n",
    "##看看这个函数得到了什么？\n",
    "##list(enumerate(seasons))\n"
   ]
  },
  {
   "cell_type": "code",
   "execution_count": null,
   "metadata": {},
   "outputs": [],
   "source": [
    "#使用enumerate函数生成下标和元素对。\n",
    "for i,s in enumerate(seasons, start = 1):\n",
    "    print(i,':',s)"
   ]
  },
  {
   "cell_type": "code",
   "execution_count": null,
   "metadata": {},
   "outputs": [],
   "source": [
    "## 显示程序完成比例\n",
    "import time\n",
    "i,n=0,100\n",
    "for i in range(n):\n",
    "    time.sleep(0.1)\n",
    "    if (i+1)%10 ==0:\n",
    "        print(i+1)\n",
    "#   if (i+1)%10 ==0: print(i+1)"
   ]
  },
  {
   "cell_type": "code",
   "execution_count": null,
   "metadata": {},
   "outputs": [],
   "source": [
    "#如果行数很多，就会被刷屏\n",
    "import time\n",
    "i,n=0,100\n",
    "for i in range(n):\n",
    "    time.sleep(0.1)\n",
    "    if (i+1)%10 ==0 : print(i+1,end='\\r')\n"
   ]
  },
  {
   "cell_type": "code",
   "execution_count": null,
   "metadata": {},
   "outputs": [],
   "source": [
    "## 进度条才是可视化的硬道理\n",
    "import sys,time\n",
    "def progress_bar(num,tot):\n",
    "    rate = float(num)/tot\n",
    "    ratenum = int(100*rate)\n",
    "    r = '\\r[{}{}]{}%'.format('*'*ratenum,' '*(100-ratenum),ratenum)\n",
    "    sys.stdout.write(r)\n",
    "    sys.stdout.flush()\n",
    "\n",
    "i,n = 0,100\n",
    "for i in range(n):\n",
    "    time.sleep(0.1)\n",
    "    progress_bar(i+1,n)"
   ]
  },
  {
   "cell_type": "markdown",
   "metadata": {},
   "source": [
    "#### References\n",
    "https://www.learnpython.org/en/Loops  \n",
    "https://www.tutorialspoint.com/python/python_loops.htm  \n",
    "https://docs.python.org/3/tutorial/errors.html  \n",
    "https://www.programiz.com/python-programming/methods/built-in/iter"
   ]
  },
  {
   "cell_type": "markdown",
   "metadata": {},
   "source": [
    "[返回目录](#mulu)"
   ]
  },
  {
   "cell_type": "markdown",
   "metadata": {},
   "source": [
    "***"
   ]
  },
  {
   "cell_type": "markdown",
   "metadata": {},
   "source": [
    "# <font size=6><span id=\"2.2\"> 2.2 Libraries (modules/packages)</span></font>\n",
    "\n",
    "Python is an open source language, with a wide community. Most of the common and some not so common operations have been contributed by the community for sharing.\n",
    "\n",
    "## Installing modules\n",
    "To download and install a library (module), from CommandLine or Console:\n",
    "    \n",
    "    pip install pandas\n",
    "    \n",
    "or if you have installed using Anaconda:\n",
    "    \n",
    "    conda install numpy\n",
    "    \n"
   ]
  },
  {
   "cell_type": "markdown",
   "metadata": {},
   "source": [
    "## <font size=5><span id=\"2.2.1\"> 2.2.1 Installing modules</span></font>\n"
   ]
  },
  {
   "cell_type": "markdown",
   "metadata": {},
   "source": [
    "## <font size=5><span id=\"2.2.2\"> 2.2.2 Import module</span></font>"
   ]
  },
  {
   "cell_type": "code",
   "execution_count": null,
   "metadata": {},
   "outputs": [],
   "source": [
    "# Math Module\n",
    "import math\n",
    "\n",
    "print(math.pi)\n",
    "print(math.e)\n",
    "\n",
    "print(math.sqrt(2.0))\n",
    "print(math.sin(math.radians(90)))   # sin of 90 degrees"
   ]
  },
  {
   "cell_type": "code",
   "execution_count": null,
   "metadata": {},
   "outputs": [],
   "source": [
    "# 返回x的上限，返回最小的整数A  (A>=x)。如math.ceil(3.14)返回的整数为4\n",
    "x = 3.22\n",
    "print(x)\n",
    "\n",
    "print(math.ceil(x))\n",
    "print(math.floor(x))   #floor 取下限\n",
    "\n",
    "x=-3.22\n",
    "print(math.ceil(x))\n",
    "print(math.floor(x))   #floor 取下限\n"
   ]
  },
  {
   "cell_type": "code",
   "execution_count": null,
   "metadata": {},
   "outputs": [],
   "source": [
    "#阶乘\n",
    "x = 10\n",
    "math.factorial(x)"
   ]
  },
  {
   "cell_type": "code",
   "execution_count": null,
   "metadata": {},
   "outputs": [],
   "source": [
    "math.exp(x)  #返回 ex也就是 math.e**x"
   ]
  },
  {
   "cell_type": "code",
   "execution_count": null,
   "metadata": {},
   "outputs": [],
   "source": [
    "math.e**x"
   ]
  },
  {
   "cell_type": "code",
   "execution_count": null,
   "metadata": {},
   "outputs": [],
   "source": [
    "x = 3\n",
    "y = 6\n",
    "math.pow(x,y)   #  x^y "
   ]
  },
  {
   "cell_type": "code",
   "execution_count": null,
   "metadata": {},
   "outputs": [],
   "source": [
    "x=math.pi/3\n",
    "math.degrees(x)  # 将角x从弧度转换成角度。\n",
    "#math.radians(x)  # 把角x从度转换成弧度。"
   ]
  },
  {
   "cell_type": "code",
   "execution_count": null,
   "metadata": {},
   "outputs": [],
   "source": [
    "x=0.5\n",
    "math.degrees(math.acos(x))\n",
    "#math.asin()\n",
    "#math.atan()\n",
    "#math.sin(x)\n",
    "#math.cos(x)\n",
    "#math.tan(x)"
   ]
  },
  {
   "cell_type": "code",
   "execution_count": null,
   "metadata": {},
   "outputs": [],
   "source": [
    "x = 100\n",
    "a = 10\n",
    "math.log(x,a)"
   ]
  },
  {
   "cell_type": "markdown",
   "metadata": {},
   "source": [
    "https://docs.python.org/3.6/library/math.html"
   ]
  },
  {
   "cell_type": "code",
   "execution_count": null,
   "metadata": {},
   "outputs": [],
   "source": [
    "dir(math)"
   ]
  },
  {
   "cell_type": "markdown",
   "metadata": {},
   "source": [
    "Or to make it easier to use"
   ]
  },
  {
   "cell_type": "code",
   "execution_count": null,
   "metadata": {},
   "outputs": [],
   "source": [
    "import pandas as pd"
   ]
  },
  {
   "cell_type": "markdown",
   "metadata": {},
   "source": [
    "To import specific attributes from packages"
   ]
  },
  {
   "cell_type": "code",
   "execution_count": null,
   "metadata": {},
   "outputs": [],
   "source": [
    "from PIL import Image"
   ]
  },
  {
   "cell_type": "code",
   "execution_count": null,
   "metadata": {},
   "outputs": [],
   "source": [
    "pd.__version__"
   ]
  },
  {
   "cell_type": "code",
   "execution_count": null,
   "metadata": {},
   "outputs": [],
   "source": [
    "help(pd)"
   ]
  },
  {
   "cell_type": "code",
   "execution_count": null,
   "metadata": {},
   "outputs": [],
   "source": []
  },
  {
   "cell_type": "markdown",
   "metadata": {},
   "source": [
    "#### References\n",
    "https://www.tutorialspoint.com/python/python_modules.htm  \n",
    "http://nbviewer.jupyter.org/urls/bitbucket.org/hrojas/learn-pandas/raw/master/lessons/01%20-%20Lesson.ipynb"
   ]
  },
  {
   "cell_type": "markdown",
   "metadata": {},
   "source": [
    "[返回目录](#mulu)"
   ]
  },
  {
   "cell_type": "code",
   "execution_count": null,
   "metadata": {},
   "outputs": [],
   "source": []
  }
 ],
 "metadata": {
  "celltoolbar": "Raw Cell Format",
  "kernelspec": {
   "display_name": "Python 3",
   "language": "python",
   "name": "python3"
  },
  "language_info": {
   "codemirror_mode": {
    "name": "ipython",
    "version": 3
   },
   "file_extension": ".py",
   "mimetype": "text/x-python",
   "name": "python",
   "nbconvert_exporter": "python",
   "pygments_lexer": "ipython3",
   "version": "3.6.5"
  }
 },
 "nbformat": 4,
 "nbformat_minor": 2
}
