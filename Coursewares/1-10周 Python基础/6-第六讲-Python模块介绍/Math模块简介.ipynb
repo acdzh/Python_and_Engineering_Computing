{
 "cells": [
  {
   "cell_type": "markdown",
   "metadata": {},
   "source": [
    "## math模块\n",
    "\n",
    "- Python 的内建模块\n",
    "- 含基本数学计算\n",
    "- 效率较低"
   ]
  },
  {
   "cell_type": "markdown",
   "metadata": {},
   "source": [
    "ceil:取大于等于x的最小的整数值，如果x是一个整数，则返回x\n",
    "\n",
    "copysign:把y的正负号加到x前面，可以使用0\n",
    "\n",
    "cos:求x的余弦，x必须是弧度\n",
    "\n",
    "degrees:把x从弧度转换成角度\n",
    "\n",
    "e:表示一个常量\n",
    "\n",
    "exp:返回math.e,也就是2.71828的x次方\n",
    "\n",
    "expm1:返回math.e的x(其值为2.71828)次方的值减１\n",
    "\n",
    "fabs:返回x的绝对值\n",
    "\n",
    "factorial:取x的阶乘的值\n",
    "\n",
    "floor:取小于等于x的最大的整数值，如果x是一个整数，则返回自身\n",
    "\n",
    "fmod:得到x/y的余数，其值是一个浮点数\n",
    "\n",
    "frexp:返回一个元组(m,e),其计算方式为：x分别除0.5和1,得到一个值的范围\n",
    "\n",
    "fsum:对迭代器里的每个元素进行求和操作\n",
    "\n",
    "gcd:返回x和y的最大公约数\n",
    "\n",
    "hypot:如果x是不是无穷大的数字,则返回True,否则返回False\n",
    "\n",
    "isfinite:如果x是正无穷大或负无穷大，则返回True,否则返回False\n",
    "\n",
    "isinf:如果x是正无穷大或负无穷大，则返回True,否则返回False\n",
    "\n",
    "isnan:如果x不是数字True,否则返回False\n",
    "\n",
    "ldexp:返回x*(2**i)的值\n",
    "\n",
    "log:返回x的自然对数，默认以e为基数，base参数给定时，将x的对数返回给定的base,计算式为：log(x)/log(base)\n",
    "\n",
    "log10:返回x的以10为底的对数\n",
    "\n",
    "log1p:返回x+1的自然对数(基数为e)的值\n",
    "\n",
    "log2:返回x的基2对数\n",
    "\n",
    "modf:返回由x的小数部分和整数部分组成的元组\n",
    "\n",
    "pi:数字常量，圆周率\n",
    "\n",
    "pow:返回x的y次方，即x**y\n",
    "\n",
    "radians:把角度x转换成弧度\n",
    "\n",
    "sin:求x(x为弧度)的正弦值\n",
    "\n",
    "sqrt:求x的平方根\n",
    "\n",
    "tan:返回x(x为弧度)的正切值\n",
    "\n",
    "trunc:返回x的整数部分"
   ]
  }
 ],
 "metadata": {
  "kernelspec": {
   "display_name": "Python 3",
   "language": "python",
   "name": "python3"
  },
  "language_info": {
   "codemirror_mode": {
    "name": "ipython",
    "version": 3
   },
   "file_extension": ".py",
   "mimetype": "text/x-python",
   "name": "python",
   "nbconvert_exporter": "python",
   "pygments_lexer": "ipython3",
   "version": "3.6.4"
  }
 },
 "nbformat": 4,
 "nbformat_minor": 2
}
