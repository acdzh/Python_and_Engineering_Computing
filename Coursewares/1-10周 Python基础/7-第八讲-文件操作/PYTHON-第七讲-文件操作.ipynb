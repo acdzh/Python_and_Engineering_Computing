{
 "cells": [
  {
   "cell_type": "markdown",
   "metadata": {},
   "source": [
    "***"
   ]
  },
  {
   "cell_type": "markdown",
   "metadata": {},
   "source": [
    "<span id=\"mulu\"><font face=\"黑体\" size=6>本章目录</font></span>\n",
    "* [第六讲 文件及其读写](#6)\n",
    "\n",
    "    * [6.1 文件](#6.1)\n",
    "        * [6.1.1 打开文件](#6.1.1)\n",
    "        * [6.1.2 文件对象的方法](#6.1.2)\n",
    "        * [6.1.3 文件的关闭](#6.1.3)\n",
    "        * [6.1.4 文件的读取和定位](#6.1.4)\n",
    "        * [6.1.5 文件的写入](#6.1.5)\n",
    "        * [6.1.6 实例](#6.1.6)\n",
    "    * [6.2 文件系统](#6.2) \n",
    "    * [6.3 pickle](#6.3) \n"
   ]
  },
  {
   "cell_type": "markdown",
   "metadata": {},
   "source": [
    "___"
   ]
  },
  {
   "cell_type": "markdown",
   "metadata": {},
   "source": [
    "# <font size=6><span id=\"6.1\"> 6.1 文件</span></font>"
   ]
  },
  {
   "cell_type": "markdown",
   "metadata": {},
   "source": [
    "## <font size=5><span id=\"6.1.1\"> 6.1.1 打开文件</span></font>"
   ]
  },
  {
   "cell_type": "markdown",
   "metadata": {},
   "source": [
    "### open() 返回文件对象"
   ]
  },
  {
   "cell_type": "markdown",
   "metadata": {},
   "source": [
    "open(file,mode='r',buffering = -1, encoding = None, errors = None, newline = None, closefd = True, opener = None)"
   ]
  },
  {
   "cell_type": "markdown",
   "metadata": {},
   "source": [
    "<table>\n",
    "<thead>\n",
    "<tr><th style='text-align:center;' ><strong>访问模式</strong></th><th><strong>说明</strong></th></tr></thead>\n",
    "<tbody><tr><td style='text-align:center;' >r</td><td>以只读方式打开文件。文件的指针将会放在文件的开头。这是默认模式。</td></tr><tr><td style='text-align:center;' >w</td><td>打开一个文件只用于写入。如果该文件已存在则将其覆盖。如果该文件不存在，创建新文件。</td></tr><tr><td style='text-align:center;' >a</td><td>打开一个文件用于追加。如果该文件已存在，文件指针将会放在文件的结尾。也就是说，新的内容将会被写入到已有内容之后。如果该文件不存在，创建新文件进行写入。</td></tr><tr><td style='text-align:center;' >rb</td><td>以二进制格式打开一个文件用于只读。文件指针将会放在文件的开头。这是默认模式。</td></tr><tr><td style='text-align:center;' >wb</td><td>以二进制格式打开一个文件只用于写入。如果该文件已存在则将其覆盖。如果该文件不存在，创建新文件。</td></tr><tr><td style='text-align:center;' >ab</td><td>以二进制格式打开一个文件用于追加。如果该文件已存在，文件指针将会放在文件的结尾。也就是说，新的内容将会被写入到已有内容之后。如果该文件不存在，创建新文件进行写入。</td></tr><tr><td style='text-align:center;' >r+</td><td>打开一个文件用于读写。文件指针将会放在文件的开头。</td></tr><tr><td style='text-align:center;' >w+</td><td>打开一个文件用于读写。如果该文件已存在则将其覆盖。如果该文件不存在，创建新文件。</td></tr><tr><td style='text-align:center;' >a+</td><td>打开一个文件用于读写。如果该文件已存在，文件指针将会放在文件的结尾。文件打开时会是追加模式。如果该文件不存在，创建新文件用于读写。</td></tr><tr><td style='text-align:center;' >rb+</td><td>以二进制格式打开一个文件用于读写。文件指针将会放在文件的开头。</td></tr><tr><td style='text-align:center;' >wb+</td><td>以二进制格式打开一个文件用于读写。如果该文件已存在则将其覆盖。如果该文件不存在，创建新文件。</td></tr><tr><td style='text-align:center;' >ab+</td><td>以二进制格式打开一个文件用于追加。如果该文件已存在，文件指针将会放在文件的结尾。如果该文件不存在，创建新文件用于读写。</td></tr></tbody>\n",
    "</table>"
   ]
  },
  {
   "cell_type": "code",
   "execution_count": null,
   "metadata": {},
   "outputs": [],
   "source": []
  },
  {
   "cell_type": "code",
   "execution_count": 1,
   "metadata": {},
   "outputs": [
    {
     "data": {
      "text/plain": [
       "<_io.TextIOWrapper name='record.txt' mode='r' encoding='cp936'>"
      ]
     },
     "execution_count": 1,
     "metadata": {},
     "output_type": "execute_result"
    }
   ],
   "source": [
    "file = open(\"record.txt\")\n",
    "file"
   ]
  },
  {
   "cell_type": "markdown",
   "metadata": {},
   "source": [
    "## <font size=5><span id=\"6.1.2\"> 6.1.2 文件对象的方法</span></font>\n",
    "### 文件对象操作方法"
   ]
  },
  {
   "cell_type": "markdown",
   "metadata": {},
   "source": [
    "<figure><table>\n",
    "<thead>\n",
    "<tr><th>文件对象方法</th><th>执行操作</th></tr></thead>\n",
    "<tbody><tr><td>close()</td><td>关闭文件</td></tr><tr><td>read(size == -1)</td><td>从文件读取size个字符，当未给定size或给定负值的时候，读取剩余的所有字符，然后作为字符串返回</td></tr><tr><td>readline()</td><td>从文件中读取一整行字符串</td></tr><tr><td>write(str)</td><td>将字符串str写入文件</td></tr><tr><td>writeline(seq)</td><td>向文件写入字符串序列seq，seq应该是一个返回字符串的可迭代对象</td></tr><tr><td>seek(offset, from)</td><td>在文件中移动文件指针，从from(0代表文件其实位置，1代表当前位置，2代表文件末尾)偏移offset个字节</td></tr><tr><td>tell()</td><td>返回当前在文件中的位置</td></tr></tbody>\n",
    "</table></figure>\n",
    "<p>&nbsp;</p>\n"
   ]
  },
  {
   "cell_type": "markdown",
   "metadata": {},
   "source": [
    "## <font size=5><span id=\"6.1.3\"> 6.1.3 文件的关闭</span></font>"
   ]
  },
  {
   "cell_type": "code",
   "execution_count": 2,
   "metadata": {},
   "outputs": [
    {
     "name": "stdout",
     "output_type": "stream",
     "text": [
      "<_io.TextIOWrapper name='record.txt' mode='r' encoding='cp936'>\n"
     ]
    }
   ],
   "source": [
    "# close() 关闭文件\n",
    "file.close()\n",
    "print(file)\n",
    "# 养成关闭close（）文件的重要性"
   ]
  },
  {
   "cell_type": "code",
   "execution_count": 3,
   "metadata": {},
   "outputs": [
    {
     "data": {
      "text/plain": [
       "61"
      ]
     },
     "execution_count": 3,
     "metadata": {},
     "output_type": "execute_result"
    }
   ],
   "source": [
    "# 简单的例子\n",
    "myfile = open(\"myfile.txt\",'w')\n",
    "myfile.write(\"hello python by exporting to txt files\\nThe second line sample\") #look file"
   ]
  },
  {
   "cell_type": "code",
   "execution_count": 4,
   "metadata": {},
   "outputs": [],
   "source": [
    "myfile.close()"
   ]
  },
  {
   "cell_type": "code",
   "execution_count": 5,
   "metadata": {},
   "outputs": [],
   "source": [
    "myfile = open(\"myfile.txt\")  # without 'r'"
   ]
  },
  {
   "cell_type": "code",
   "execution_count": 6,
   "metadata": {},
   "outputs": [
    {
     "data": {
      "text/plain": [
       "['hello python by exporting to txt files\\n', 'The second line sample']"
      ]
     },
     "execution_count": 6,
     "metadata": {},
     "output_type": "execute_result"
    }
   ],
   "source": [
    "myfile.readlines()"
   ]
  },
  {
   "cell_type": "code",
   "execution_count": 7,
   "metadata": {},
   "outputs": [
    {
     "data": {
      "text/plain": [
       "[]"
      ]
     },
     "execution_count": 7,
     "metadata": {},
     "output_type": "execute_result"
    }
   ],
   "source": [
    "myfile.readlines() # end of file\n"
   ]
  },
  {
   "cell_type": "code",
   "execution_count": 8,
   "metadata": {},
   "outputs": [],
   "source": [
    "myfile.close()"
   ]
  },
  {
   "cell_type": "code",
   "execution_count": 9,
   "metadata": {},
   "outputs": [
    {
     "data": {
      "text/plain": [
       "'hello python by exporting to txt files\\nThe second line sample'"
      ]
     },
     "execution_count": 9,
     "metadata": {},
     "output_type": "execute_result"
    }
   ],
   "source": [
    "open(\"myfile.txt\").read()  #一次读完"
   ]
  },
  {
   "cell_type": "code",
   "execution_count": 10,
   "metadata": {},
   "outputs": [
    {
     "name": "stdout",
     "output_type": "stream",
     "text": [
      "hello python by exporting to txt files\n",
      "The second line sample\n"
     ]
    }
   ],
   "source": [
    "print(open(\"myfile.txt\").read())  #比较友好的方式"
   ]
  },
  {
   "cell_type": "code",
   "execution_count": null,
   "metadata": {},
   "outputs": [],
   "source": []
  },
  {
   "cell_type": "markdown",
   "metadata": {},
   "source": [
    "## <font size=5><span id=\"6.1.4\"> 6.1.4 文件的读取和定位</span></font>"
   ]
  },
  {
   "cell_type": "code",
   "execution_count": 11,
   "metadata": {},
   "outputs": [
    {
     "data": {
      "text/plain": [
       "<_io.TextIOWrapper name='record.txt' mode='r' encoding='cp936'>"
      ]
     },
     "execution_count": 11,
     "metadata": {},
     "output_type": "execute_result"
    }
   ],
   "source": [
    "file = open(\"record.txt\")\n",
    "file"
   ]
  },
  {
   "cell_type": "code",
   "execution_count": 12,
   "metadata": {},
   "outputs": [
    {
     "data": {
      "text/plain": [
       "'33  -100\\n'"
      ]
     },
     "execution_count": 12,
     "metadata": {},
     "output_type": "execute_result"
    }
   ],
   "source": [
    "file.seek(0,0) #将文件指针（书签）放在头部\n",
    "file.read() # 按字节读取，如果不设置参数，那么会全部读进来，知道文件末尾"
   ]
  },
  {
   "cell_type": "code",
   "execution_count": 13,
   "metadata": {},
   "outputs": [
    {
     "data": {
      "text/plain": [
       "10"
      ]
     },
     "execution_count": 13,
     "metadata": {},
     "output_type": "execute_result"
    }
   ],
   "source": [
    "file.tell()  #文件指针所在位置"
   ]
  },
  {
   "cell_type": "code",
   "execution_count": 14,
   "metadata": {},
   "outputs": [
    {
     "data": {
      "text/plain": [
       "'33  -'"
      ]
     },
     "execution_count": 14,
     "metadata": {},
     "output_type": "execute_result"
    }
   ],
   "source": [
    "file.seek(0,0) #将文件指针（书签）放在头部\n",
    "file.read(5) # 按字节读取"
   ]
  },
  {
   "cell_type": "code",
   "execution_count": 15,
   "metadata": {},
   "outputs": [
    {
     "data": {
      "text/plain": [
       "'33  -100\\n'"
      ]
     },
     "execution_count": 15,
     "metadata": {},
     "output_type": "execute_result"
    }
   ],
   "source": [
    "file.seek(0,0)\n",
    "file.readline() #读取一整行，直到遇到\\n"
   ]
  },
  {
   "cell_type": "code",
   "execution_count": 16,
   "metadata": {},
   "outputs": [
    {
     "data": {
      "text/plain": [
       "['33  -100\\n']"
      ]
     },
     "execution_count": 16,
     "metadata": {},
     "output_type": "execute_result"
    }
   ],
   "source": [
    "file.seek(0,0)\n",
    "list(file)  #整个文件读进来"
   ]
  },
  {
   "cell_type": "code",
   "execution_count": 17,
   "metadata": {},
   "outputs": [
    {
     "name": "stdout",
     "output_type": "stream",
     "text": [
      "33  -100\n"
     ]
    }
   ],
   "source": [
    "file.seek(0,0)\n",
    "lines = list(file)\n",
    "for each_line in lines:\n",
    "    print(each_line,end='')"
   ]
  },
  {
   "cell_type": "code",
   "execution_count": 18,
   "metadata": {},
   "outputs": [
    {
     "name": "stdout",
     "output_type": "stream",
     "text": [
      "33  -100\n"
     ]
    }
   ],
   "source": [
    "file.seek(0,0)\n",
    "for each_line in file:\n",
    "    print(each_line,end='')"
   ]
  },
  {
   "cell_type": "markdown",
   "metadata": {},
   "source": [
    "## <font size=5><span id=\"6.1.5\"> 6.1.5 文件的写入</span></font>"
   ]
  },
  {
   "cell_type": "code",
   "execution_count": 19,
   "metadata": {},
   "outputs": [
    {
     "ename": "UnsupportedOperation",
     "evalue": "not writable",
     "output_type": "error",
     "traceback": [
      "\u001b[1;31m---------------------------------------------------------------------------\u001b[0m",
      "\u001b[1;31mUnsupportedOperation\u001b[0m                      Traceback (most recent call last)",
      "\u001b[1;32m<ipython-input-19-9fd11adf813d>\u001b[0m in \u001b[0;36m<module>\u001b[1;34m()\u001b[0m\n\u001b[1;32m----> 1\u001b[1;33m \u001b[0mfile\u001b[0m\u001b[1;33m.\u001b[0m\u001b[0mwrite\u001b[0m\u001b[1;33m(\u001b[0m\u001b[1;34m\"33  -100\"\u001b[0m\u001b[1;33m)\u001b[0m\u001b[1;33m\u001b[0m\u001b[0m\n\u001b[0m",
      "\u001b[1;31mUnsupportedOperation\u001b[0m: not writable"
     ]
    }
   ],
   "source": [
    "file.write(\"33  -100\")"
   ]
  },
  {
   "cell_type": "code",
   "execution_count": null,
   "metadata": {},
   "outputs": [],
   "source": [
    "file.close()"
   ]
  },
  {
   "cell_type": "code",
   "execution_count": null,
   "metadata": {},
   "outputs": [],
   "source": [
    "file = open(\"record.txt\",\"w\")\n",
    "file"
   ]
  },
  {
   "cell_type": "code",
   "execution_count": null,
   "metadata": {},
   "outputs": [],
   "source": [
    "file.write(\"33  -100\\n\")\n",
    "file.close()"
   ]
  },
  {
   "cell_type": "markdown",
   "metadata": {},
   "source": [
    "### 需要注意：使用w模式，此前文件内容会全部被删除\n",
    "### 可以使用a模式，追加模式"
   ]
  },
  {
   "cell_type": "code",
   "execution_count": null,
   "metadata": {},
   "outputs": [],
   "source": [
    "file = open(\"ch5/record1.txt\",\"a\")\n",
    "file.write(\"33  -100\\n\")\n",
    "file.close()"
   ]
  },
  {
   "cell_type": "markdown",
   "metadata": {},
   "source": [
    "### with open as文件打开方式"
   ]
  },
  {
   "cell_type": "code",
   "execution_count": null,
   "metadata": {},
   "outputs": [],
   "source": [
    "with open(\"ch5/record1.txt\") as file:  #自动调用file.close()\n",
    "    for each_line in file:\n",
    "        print(each_line,end='')"
   ]
  },
  {
   "cell_type": "code",
   "execution_count": null,
   "metadata": {},
   "outputs": [],
   "source": [
    "file.closed  #测试文件是否关闭"
   ]
  },
  {
   "cell_type": "markdown",
   "metadata": {},
   "source": [
    "[返回目录](#mulu)"
   ]
  },
  {
   "cell_type": "markdown",
   "metadata": {},
   "source": [
    "## <font size=5><span id=\"6.1.6\"> 6.1.6 实例</span></font>"
   ]
  },
  {
   "cell_type": "code",
   "execution_count": null,
   "metadata": {},
   "outputs": [],
   "source": [
    "import csv\n",
    "csv_file = csv.reader(open(\"heros1.csv\",'r'))   #换成heros1.csv (ansi格式)    hero.csv(utf-8格式)\n",
    "#print(csv_file)\n",
    "list=[]\n",
    "for each in csv_file:\n",
    "    list.append(each)\n",
    "for each in list:\n",
    "    print('学号：{0:6},姓名：{1:8}，性别：{2},年龄：{3}，特殊技能：{4}'.format(each[0],each[1],each[2],each[3],each[4]))\n",
    "print('---------------------------------------------------------------------------')\n",
    "print('学号      姓名        性别  年龄   特殊技能')\n",
    "for each in list:\n",
    "    print('{0:6}   {1:8}   {2}    {3}    {4}'.format(each[0],each[1],each[2],each[3],each[4]))"
   ]
  },
  {
   "cell_type": "code",
   "execution_count": null,
   "metadata": {},
   "outputs": [],
   "source": []
  },
  {
   "cell_type": "code",
   "execution_count": null,
   "metadata": {},
   "outputs": [],
   "source": [
    "import csv\n",
    "csv_file = csv.reader(open(\"heros1.csv\",'r'))   #换成heros1.csv (ansi格式)    hero.csv(utf-8格式)\n",
    "#print(csv_file)\n",
    "list=[]\n",
    "for each in csv_file:\n",
    "    list.append(each)\n",
    "\n",
    "print(' 学号    姓名        性别  年龄  特殊技能')\n",
    "tplt = '{0:7}  {1:{5}<6} {2}    {3}    {4:{5}<10}'   #  < > ^ 分别表示左对齐右对齐居中\n",
    "# 采用中文字符空格填充， （utf-8编码）chr(12288) \n",
    "\n",
    "for each in list:\n",
    "    #print(tplt.format(each[0],each[1],each[2],each[3],each[4]))\n",
    "    print(tplt.format(each[0],each[1],each[2],each[3],each[4],chr(12288)))\n",
    "    # 采用中文字符空格填充， （utf-8编码）chr(12288) "
   ]
  },
  {
   "cell_type": "code",
   "execution_count": null,
   "metadata": {},
   "outputs": [],
   "source": [
    "# another try\n",
    "#读入后存为列表中的字典\n",
    "\n",
    "\n",
    "import csv\n",
    "csv_file = csv.reader(open(\"heros1.csv\",'r'))   #换成heros1.csv (ansi格式)    hero.csv(utf-8格式)\n",
    "#print(csv_file)\n",
    "keys = ['学号', '姓名', '性别', '年龄', '特殊技能']\n",
    "list1 = []\n",
    "count = 0\n",
    "for each in csv_file:\n",
    "    list1.append({})\n",
    "    for i in range(len(each)):\n",
    "        list1[count].update({keys[i]:each[i]})\n",
    "    count += 1\n",
    "list1\n"
   ]
  },
  {
   "cell_type": "code",
   "execution_count": null,
   "metadata": {},
   "outputs": [],
   "source": [
    "print(' 学号    姓名         性别  年龄  特殊技能')\n",
    "tplt = '{0:7}  {1:{5}<6} {2}    {3}    {4:{5}<10}'   #  < > ^ 分别表示左对齐右对齐居中\n",
    "# 采用中文字符空格填充， （utf-8编码）chr(12288) \n",
    "\n",
    "for each in list1:\n",
    "    #print(tplt.format(each[0],each[1],each[2],each[3],each[4]))\n",
    "    print(tplt.format(each['学号'],each['姓名'],each['性别'],each['年龄'],each['特殊技能'],chr(12288)))\n",
    "    # 采用中文字符空格填充， （utf-8编码）chr(12288) "
   ]
  },
  {
   "cell_type": "code",
   "execution_count": null,
   "metadata": {},
   "outputs": [],
   "source": [
    "# 如何按照学号、年龄等排序输出？\n",
    "# 仔细想想\n",
    "\n",
    "#listid = [list1[i]['学号'] for i in range(len(list))]\n",
    "\n",
    "#print(sorted(listid))\n",
    "\n",
    "#def takeid(elem):\n",
    "#    return elem['学号']\n",
    "#list1.sort(key = takeid, reverse = True)\n",
    "\n",
    "list1.sort(key = lambda x:x['年龄'], reverse = False)\n",
    "\n",
    "#print(list1)\n",
    "\n",
    "for each in list1:\n",
    "    #print(tplt.format(each[0],each[1],each[2],each[3],each[4]))\n",
    "    print(tplt.format(each['学号'],each['姓名'],each['性别'],each['年龄'],each['特殊技能'],chr(12288)))\n",
    "    # 采用中文字符空格填充， （utf-8编码）chr(12288) "
   ]
  },
  {
   "cell_type": "code",
   "execution_count": null,
   "metadata": {},
   "outputs": [],
   "source": []
  },
  {
   "cell_type": "code",
   "execution_count": null,
   "metadata": {},
   "outputs": [],
   "source": []
  },
  {
   "cell_type": "code",
   "execution_count": null,
   "metadata": {},
   "outputs": [],
   "source": [
    "# 读一个剧本\n",
    "with open('script.txt','r') as fp:\n",
    "    for each_line in fp:\n",
    "        print(each_line, end='')"
   ]
  },
  {
   "cell_type": "code",
   "execution_count": null,
   "metadata": {},
   "outputs": [],
   "source": [
    "# 读一个剧本\n",
    "with open('script.txt','r') as fp:\n",
    "    for each_line in fp:\n",
    "        (role, line_spoken) = each_line.split(':')\n",
    "        print(role, end=' ')\n",
    "        print('said: ' ,end = '')\n",
    "        print(line_spoken, end= '')"
   ]
  },
  {
   "cell_type": "code",
   "execution_count": null,
   "metadata": {},
   "outputs": [],
   "source": [
    "# 读一个剧本\n",
    "with open('script2.txt','r') as fp:   #换文件了，就不行了\n",
    "    for each_line in fp:\n",
    "        (role, line_spoken) = each_line.split(':')\n",
    "        print(role, end=' ')\n",
    "        print('said: ' ,end = '')\n",
    "        print(line_spoken, end= '')"
   ]
  },
  {
   "cell_type": "code",
   "execution_count": null,
   "metadata": {},
   "outputs": [],
   "source": [
    "# 读一个剧本\n",
    "with open('script2.txt','r') as fp:   #换文件了\n",
    "    for each_line in fp:\n",
    "        (role, line_spoken) = each_line.split(':',1)  #改这里,这里的1表示1次\n",
    "        print(role, end=' ')\n",
    "        print('said: ' ,end = '')\n",
    "        print(line_spoken, end= '')"
   ]
  },
  {
   "cell_type": "code",
   "execution_count": null,
   "metadata": {},
   "outputs": [],
   "source": [
    "# 读一个剧本\n",
    "with open('script3.txt','r') as fp:   #又  换文件了\n",
    "    for each_line in fp:\n",
    "        if not each_line.find(':') == -1:    ## 这里修改了：如果本行没找到冒号\n",
    "            (role, line_spoken) = each_line.split(':',1)  \n",
    "            print(role, end=' ')\n",
    "            print('said: ' ,end = '')\n",
    "            print(line_spoken, end= '')"
   ]
  },
  {
   "cell_type": "code",
   "execution_count": null,
   "metadata": {},
   "outputs": [],
   "source": []
  },
  {
   "cell_type": "markdown",
   "metadata": {},
   "source": [
    "[返回目录](#mulu)"
   ]
  },
  {
   "cell_type": "markdown",
   "metadata": {},
   "source": [
    "# <font size=6><span id=\"6.2\"> 6.2 文件系统</span></font>"
   ]
  },
  {
   "cell_type": "markdown",
   "metadata": {},
   "source": [
    "## <font size=5><span id=\"6.2.1\"> 6.2.1 os模块</span></font>"
   ]
  },
  {
   "cell_type": "code",
   "execution_count": null,
   "metadata": {},
   "outputs": [],
   "source": [
    "import os  #导入os模块\n",
    "filepath=os.getcwd()  #获取当前工作目录\n",
    "filepath"
   ]
  },
  {
   "cell_type": "code",
   "execution_count": null,
   "metadata": {},
   "outputs": [],
   "source": [
    "os.chdir(\"D:\\\\\")  #改变当前工作目录"
   ]
  },
  {
   "cell_type": "code",
   "execution_count": null,
   "metadata": {},
   "outputs": [],
   "source": [
    "os.getcwd()"
   ]
  },
  {
   "cell_type": "code",
   "execution_count": null,
   "metadata": {},
   "outputs": [],
   "source": [
    "os.chdir(filepath)"
   ]
  },
  {
   "cell_type": "code",
   "execution_count": null,
   "metadata": {},
   "outputs": [],
   "source": [
    "os.getcwd()"
   ]
  },
  {
   "cell_type": "code",
   "execution_count": null,
   "metadata": {},
   "outputs": [],
   "source": [
    "os.listdir() #显示当前目录下的内容\n",
    "os.listdir(path='.')\n",
    "os.listdir(path='D:\\\\MARUJIN\\\\18-TEACH-PYTHON\\\\ch5')"
   ]
  },
  {
   "cell_type": "code",
   "execution_count": null,
   "metadata": {},
   "outputs": [],
   "source": [
    "os.mkdir(\"testnewfold1\") #创建一个文件夹，如果文件夹已经存在，则报错\n",
    "## 运行第二次就报错了"
   ]
  },
  {
   "cell_type": "code",
   "execution_count": null,
   "metadata": {},
   "outputs": [],
   "source": [
    "os.makedirs(r\".\\ch6\\testfold\")  #创建多层目录\n",
    "# 再试一次就报错"
   ]
  },
  {
   "cell_type": "code",
   "execution_count": null,
   "metadata": {},
   "outputs": [],
   "source": [
    "os.remove(\"laji.txt\")  #删除文件"
   ]
  },
  {
   "cell_type": "code",
   "execution_count": null,
   "metadata": {},
   "outputs": [],
   "source": [
    "os.rmdir(\"testnewfold\")"
   ]
  },
  {
   "cell_type": "code",
   "execution_count": null,
   "metadata": {},
   "outputs": [],
   "source": [
    "os.removedirs(r\".\\ch6\\testfold\")  "
   ]
  },
  {
   "cell_type": "code",
   "execution_count": null,
   "metadata": {},
   "outputs": [],
   "source": [
    "os.listdir()\n",
    "os.rename(\"sala.txt\",\"salary.txt\")#改名字"
   ]
  },
  {
   "cell_type": "code",
   "execution_count": null,
   "metadata": {},
   "outputs": [],
   "source": [
    "os.listdir()"
   ]
  },
  {
   "cell_type": "code",
   "execution_count": null,
   "metadata": {},
   "outputs": [],
   "source": [
    "os.system(\"calc\") #气动系统自带小程序"
   ]
  },
  {
   "cell_type": "code",
   "execution_count": null,
   "metadata": {},
   "outputs": [],
   "source": [
    "os.system(\"notepad.exe\")"
   ]
  },
  {
   "cell_type": "code",
   "execution_count": null,
   "metadata": {},
   "outputs": [],
   "source": [
    "## walk()函数，便利指定路径下的所有子目录\n",
    "## 返回一个三元组（路径、包含目录、包含文件\n",
    "for i in os.walk(\"images\"):\n",
    "    print(i)"
   ]
  },
  {
   "cell_type": "markdown",
   "metadata": {},
   "source": [
    "[返回目录](#mulu)"
   ]
  },
  {
   "cell_type": "code",
   "execution_count": null,
   "metadata": {},
   "outputs": [],
   "source": [
    "####四平第8周这里开始"
   ]
  },
  {
   "cell_type": "code",
   "execution_count": null,
   "metadata": {},
   "outputs": [],
   "source": []
  },
  {
   "cell_type": "code",
   "execution_count": null,
   "metadata": {},
   "outputs": [],
   "source": []
  },
  {
   "cell_type": "code",
   "execution_count": null,
   "metadata": {},
   "outputs": [],
   "source": []
  },
  {
   "cell_type": "markdown",
   "metadata": {},
   "source": [
    "## <font size=5><span id=\"6.2.2\"> 6.2.2 os.pth模块</span></font>"
   ]
  },
  {
   "cell_type": "markdown",
   "metadata": {},
   "source": [
    "| 函数名               | 使用方法                                                 |\n",
    "| :-----------------------------------:: | ------------------------------------------------------------ |\n",
    "| os.path.abspath(path)               | 返回绝对路径                                                 |\n",
    "| os.path.basename(path)              | 返回文件名                                                   |\n",
    "| os.path.commonprefix(list)          | 返回list(多个路径)中，所有path共有的最长的路径。             |\n",
    "| os.path.dirname(path)               | 返回文件路径                                                 |\n",
    "| os.path.exists(path)                | 路径存在则返回True,路径损坏返回False                         |\n",
    "| os.path.lexists                     | 路径存在则返回True,路径损坏也返回True                        |\n",
    "| os.path.expanduser(path)            | 把path中包含的\"~\"和\"~user\"转换成用户目录                     |\n",
    "| os.path.expandvars(path)            | 根据环境变量的值替换path中包含的”name”和”name”和”{name}”     |\n",
    "| os.path.getatime(path)              | 返回最后一次进入此path的时间。                               |\n",
    "| os.path.getmtime(path)              | 返回在此path下最后一次修改的时间。                           |\n",
    "| os.path.getctime(path)              | 返回path的大小                                               |\n",
    "| os.path.getsize(path)               | 返回文件大小，如果文件不存在就返回错误                       |\n",
    "| os.path.isabs(path)                 | 判断是否为绝对路径                                           |\n",
    "| os.path.isfile(path)                | 判断路径是否为文件                                           |\n",
    "| os.path.isdir(path)                 | 判断路径是否为目录                                           |\n",
    "| os.path.islink(path)                | 判断路径是否为链接                                           |\n",
    "| os.path.ismount(path)               | 判断路径是否为挂载点（）                                     |\n",
    "| os.path.join(path1[, path2[, ...]]) | 把目录和文件名合成一个路径                                   |\n",
    "| os.path.normcase(path)              | 转换path的大小写和斜杠                                       |\n",
    "| os.path.normpath(path)              | 规范path字符串形式                                           |\n",
    "| os.path.realpath(path)              | 返回path的真实路径                                           |\n",
    "| os.path.relpath(path[, start])      | 从start开始计算相对路径                                      |\n",
    "| os.path.samefile(path1, path2)      | 判断目录或文件是否相同                                       |\n",
    "| os.path.sameopenfile(fp1, fp2)      | 判断fp1和fp2是否指向同一文件                                 |\n",
    "| os.path.samestat(stat1, stat2)      | 判断stat tuple stat1和stat2是否指向同一个文件                |\n",
    "| os.path.split(path)                 | 把路径分割成dirname和basename，返回一个元组                  |\n",
    "| os.path.splitdrive(path)            | 一般用在windows下，返回驱动器名和路径组成的元组              |\n",
    "| os.path.splitext(path)              | 分割路径，返回路径名和文件扩展名的元组                       |\n",
    "| os.path.splitunc(path)              | 把路径分割为加载点与文件                                     |\n",
    "| os.path.walk(path, visit, arg)      | 遍历path，进入每个目录都调用visit函数，visit函数必须有3个参数(arg, dirname,   names)，dirname表示当前目录的目录名，names代表当前目录下的所有文件名，args则为walk的第三个参数 |\n",
    "| os.path.supports_unicode_filename   | 设置是否支持unicode路径名                                    |"
   ]
  },
  {
   "cell_type": "markdown",
   "metadata": {},
   "source": [
    "### 介绍几个常用的函数"
   ]
  },
  {
   "cell_type": "code",
   "execution_count": null,
   "metadata": {},
   "outputs": [],
   "source": [
    "# basename  dirname分别为文件名和路径名"
   ]
  },
  {
   "cell_type": "code",
   "execution_count": null,
   "metadata": {},
   "outputs": [],
   "source": [
    "filepath = os.path.dirname(r\"D:\\MARUJIN\\18-TEACH-PYTHON\\images\\chapter01\\anaconda.jpg\")"
   ]
  },
  {
   "cell_type": "code",
   "execution_count": null,
   "metadata": {},
   "outputs": [],
   "source": [
    "filename = os.path.basename(r\"D:\\MARUJIN\\18-TEACH-PYTHON\\images\\chapter01\\anaconda.jpg\")"
   ]
  },
  {
   "cell_type": "code",
   "execution_count": null,
   "metadata": {},
   "outputs": [],
   "source": [
    "# join 将路径名与文件名合成一个完整的路径\n",
    "filefullpath = os.path.join(filepath,filename)"
   ]
  },
  {
   "cell_type": "code",
   "execution_count": null,
   "metadata": {},
   "outputs": [],
   "source": [
    "# split(path)  splitext(path) 分割路径\n",
    "# split分割路径和文件名，但不会判断文件是否存在\n",
    "# splitext分割文件名与扩展名\n",
    "os.path.split(filefullpath)"
   ]
  },
  {
   "cell_type": "code",
   "execution_count": null,
   "metadata": {},
   "outputs": [],
   "source": [
    "os.path.splitext(filefullpath)"
   ]
  },
  {
   "cell_type": "code",
   "execution_count": null,
   "metadata": {},
   "outputs": [],
   "source": [
    "#getsize(file)获取文件大小，返回值为字节数\n",
    "os.path.getsize(filefullpath)"
   ]
  },
  {
   "cell_type": "code",
   "execution_count": null,
   "metadata": {},
   "outputs": [],
   "source": [
    "  filefullpath = 'D:\\\\MARUJIN\\\\18-TEACH-PYTHON\\\\testt.md'"
   ]
  },
  {
   "cell_type": "code",
   "execution_count": null,
   "metadata": {},
   "outputs": [],
   "source": [
    "# getatime(file)  / getctime(file)  / getmtime(file)\n",
    "# 最近访问时间，创建时间，修改时间\n",
    "import time\n",
    "temp = time.localtime(os.path.getatime(filefullpath))\n",
    "print(\"最近被访问的时间是：\",time.strftime(\"%d %b %Y %H:%M:%S\", temp))"
   ]
  },
  {
   "cell_type": "code",
   "execution_count": null,
   "metadata": {},
   "outputs": [],
   "source": [
    "temp = time.localtime(os.path.getctime(filefullpath))\n",
    "print(\"最近被创建的时间是：\",time.strftime(\"%d %b %Y %H:%M:%S\", temp))"
   ]
  },
  {
   "cell_type": "code",
   "execution_count": null,
   "metadata": {},
   "outputs": [],
   "source": [
    "temp = time.localtime(os.path.getmtime(filefullpath))\n",
    "print(\"最近被修改的时间是：\",time.strftime(\"%d %b %Y %H:%M:%S\", temp))"
   ]
  },
  {
   "cell_type": "markdown",
   "metadata": {},
   "source": [
    "[返回目录](#mulu)"
   ]
  },
  {
   "cell_type": "markdown",
   "metadata": {},
   "source": [
    "# <font size=6><span id=\"6.3\"> 6.3 pickle</span></font>"
   ]
  },
  {
   "cell_type": "markdown",
   "metadata": {},
   "source": [
    "### 读文件read()或者readline()返回的都是字符串\n",
    "### 大多数情况，我们需要的是数值\n",
    "### ‘1.23’ 是字符， 1.23是数值，有区别\n",
    "### pickle模块"
   ]
  },
  {
   "cell_type": "code",
   "execution_count": null,
   "metadata": {},
   "outputs": [],
   "source": [
    "import pickle\n",
    "my_list = {\"姓名\":\"x\", \"性别\":\"男\", \"本科毕业学校\":\"x\"}\n",
    "my_list"
   ]
  },
  {
   "cell_type": "code",
   "execution_count": null,
   "metadata": {},
   "outputs": [],
   "source": [
    "pickle_file = open(\"my_list.pkl\",'wb')\n",
    "pickle.dump(my_list, pickle_file)\n",
    "pickle_file.close()\n",
    "# 看看生成的文件"
   ]
  },
  {
   "cell_type": "code",
   "execution_count": null,
   "metadata": {},
   "outputs": [],
   "source": [
    "import pickle\n",
    "pickle_file = open(\"my_list.pkl\",'rb')\n",
    "my_list = pickle.load(pickle_file)\n",
    "print(my_list)\n",
    "pickle_file.close()"
   ]
  },
  {
   "cell_type": "code",
   "execution_count": null,
   "metadata": {},
   "outputs": [],
   "source": [
    "!dir"
   ]
  },
  {
   "cell_type": "markdown",
   "metadata": {},
   "source": [
    "[返回目录](#mulu)"
   ]
  },
  {
   "cell_type": "markdown",
   "metadata": {},
   "source": [
    "# =====================END==========================="
   ]
  }
 ],
 "metadata": {
  "celltoolbar": "Raw Cell Format",
  "kernelspec": {
   "display_name": "Python 3",
   "language": "python",
   "name": "python3"
  },
  "language_info": {
   "codemirror_mode": {
    "name": "ipython",
    "version": 3
   },
   "file_extension": ".py",
   "mimetype": "text/x-python",
   "name": "python",
   "nbconvert_exporter": "python",
   "pygments_lexer": "ipython3",
   "version": "3.6.5"
  }
 },
 "nbformat": 4,
 "nbformat_minor": 2
}
